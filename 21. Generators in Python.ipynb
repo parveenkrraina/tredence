{
 "cells": [
  {
   "cell_type": "markdown",
   "id": "0cf00d11",
   "metadata": {},
   "source": [
    "# **Python Tutorial**"
   ]
  },
  {
   "cell_type": "markdown",
   "id": "13aa5da3",
   "metadata": {},
   "source": [
    "## **21. Generators in Python**\n",
    "\n",
    "* Python generators are the functions that return tha traversal object and a simple way of creating iterators. \n",
    "* It traverses the entire items at once.\n",
    "* The generator can alos be an expression in which syntax is smilar to the list comprehension in python.\n",
    "* There is a lot of complexity in creating iteration in Python, it is required to implement __iter__() and __next__() methods to keep track of internal states. \n",
    "* It is a lenghty process to create iterators.\n",
    "* That is why the generator plays a significant role in simplfying this process.\n",
    "* If there is no value found in iteration, it raises **StopIteration** exception.\n",
    "* it is quite simple to create a generator in Python. \n",
    "* It is similar to the normal function defined by the **def** keyword and employs a **yield** keyword instead of **return.** \n",
    "* If the body of any function includes a **yield** statement, it automatically becomes a **generator function**. \n",
    "* The **yield** keyword is responsibel to control the flow of the generator function.\n",
    "* It pauses the function execution by saving all states and yielded to the caller.\n",
    "* Later it resumes execution when a successive function is called.\n",
    "* The **return** keyword returns a value and terminates the whole function and only one return statement can be employed in the function."
   ]
  },
  {
   "cell_type": "markdown",
   "id": "ea2e7d29",
   "metadata": {},
   "source": [
    "<img src='https://www.codingem.com/wp-content/uploads/2021/11/1_iBgdO1ukASeyaLtSv3Jpnw.png' width='600' alt='generators' />"
   ]
  },
  {
   "cell_type": "code",
   "execution_count": 22,
   "id": "9b947231",
   "metadata": {},
   "outputs": [
    {
     "name": "stdout",
     "output_type": "stream",
     "text": [
      "[0, 2, 4, 6, 8]\n"
     ]
    }
   ],
   "source": [
    "def function():\n",
    "    for i in range(10):\n",
    "        if i%2==0:\n",
    "            yield i\n",
    "            \n",
    "nlis = []\n",
    "for i in function():\n",
    "    nlis.append(i)\n",
    "print(nlis)"
   ]
  },
  {
   "cell_type": "code",
   "execution_count": 26,
   "id": "ae1ae889",
   "metadata": {},
   "outputs": [
    {
     "name": "stdout",
     "output_type": "stream",
     "text": [
      "[0, 4, 8, 12, 16, 20, 24]\n"
     ]
    }
   ],
   "source": [
    "def func():\n",
    "    for i in range(25):\n",
    "        if i%4==0:\n",
    "            yield i\n",
    "\n",
    "num_lis = []\n",
    "for i in func():\n",
    "    num_lis.append(i)\n",
    "print(num_lis)"
   ]
  },
  {
   "cell_type": "code",
   "execution_count": 2,
   "id": "8fbf1ff4",
   "metadata": {},
   "outputs": [
    {
     "name": "stdout",
     "output_type": "stream",
     "text": [
      "Hello, World!\n",
      "Hi, Python!\n",
      "Python is the most popular programming language.\n"
     ]
    }
   ],
   "source": [
    "def message():\n",
    "    msg_one = 'Hello, World!'\n",
    "    yield msg_one\n",
    "\n",
    "    msg_two = 'Hi, Python!'\n",
    "    yield msg_two\n",
    "\n",
    "    msg_three = 'Python is the most popular programming language.'\n",
    "    yield msg_three\n",
    "\n",
    "result = message()\n",
    "print(next(result))\n",
    "print(next(result))\n",
    "print(next(result))"
   ]
  },
  {
   "cell_type": "code",
   "execution_count": 4,
   "id": "4132bb7e",
   "metadata": {},
   "outputs": [
    {
     "name": "stdout",
     "output_type": "stream",
     "text": [
      "[1.7309999999999999, 4.854, 8.154, 9.42, 18, 111, 5187]\n",
      "<generator object <genexpr> at 0x000002572F0E1230>\n"
     ]
    }
   ],
   "source": [
    "\"\"\"\n",
    "In the following example, the list comprehension will return the list of cube of elements.\n",
    "Whereas the generator expression will return the reference of the calculated value.\n",
    "Rather than this application, the ^function 'next()' can be used on the generator object.\n",
    "\"\"\"\n",
    "special_nums = [0.577, 1.618, 2.718, 3.14, 6, 37, 1729]\n",
    "\n",
    "list_comp = [i*3 for i in special_nums]     # This is a list comprehension.\n",
    "generator_exp = (i*3 for i in special_nums) # This is a generator expression.\n",
    "\n",
    "print(list_comp)\n",
    "print(generator_exp)"
   ]
  },
  {
   "cell_type": "code",
   "execution_count": 8,
   "id": "098b9b89",
   "metadata": {},
   "outputs": [
    {
     "name": "stdout",
     "output_type": "stream",
     "text": [
      "[1.7309999999999999, 4.854, 8.154, 9.42, 18, 111, 5187]\n"
     ]
    }
   ],
   "source": [
    "special_nums = [0.577, 1.618, 2.718, 3.14, 6, 37, 1729]\n",
    "\n",
    "generator_exp = (i*3 for i in special_nums) # This is a generator expression.\n",
    "\n",
    "nums_list = []\n",
    "nums_list.append(next(generator_exp))\n",
    "nums_list.append(next(generator_exp))\n",
    "nums_list.append(next(generator_exp))\n",
    "nums_list.append(next(generator_exp))\n",
    "nums_list.append(next(generator_exp))\n",
    "nums_list.append(next(generator_exp))\n",
    "nums_list.append(next(generator_exp))\n",
    "print(nums_list)"
   ]
  },
  {
   "cell_type": "code",
   "execution_count": 12,
   "id": "7b0cf332",
   "metadata": {},
   "outputs": [
    {
     "name": "stdout",
     "output_type": "stream",
     "text": [
      "[0, 20, 40, 60, 80, 100, 120, 140, 160, 180, 200]\n"
     ]
    }
   ],
   "source": [
    "def mult_table(n):\n",
    "    for i in range(0, 11):\n",
    "        yield n*i\n",
    "        i+=1\n",
    "\n",
    "mult_table_list = []\n",
    "for i in mult_table(20):\n",
    "    mult_table_list.append(i)\n",
    "print(mult_table_list)"
   ]
  },
  {
   "cell_type": "code",
   "execution_count": 17,
   "id": "d1877179",
   "metadata": {},
   "outputs": [
    {
     "name": "stdout",
     "output_type": "stream",
     "text": [
      "Memory in bytes with list comprehension is 12728.\n",
      "Memory in bytes with generator expression is 104.\n"
     ]
    }
   ],
   "source": [
    "import sys\n",
    "\n",
    "# List comprehension\n",
    "cubic_nums_lc = [i**3 for i in range(1500)]\n",
    "print(f'Memory in bytes with list comprehension is {sys.getsizeof(cubic_nums_lc)}.')\n",
    "\n",
    "# Generator expression of the same conditions\n",
    "cubic_nums_gc = (i**3 for i in range(1500))\n",
    "print(f'Memory in bytes with generator expression is {sys.getsizeof(cubic_nums_gc)}.')"
   ]
  },
  {
   "cell_type": "markdown",
   "id": "3f752536",
   "metadata": {},
   "source": [
    "* You can find more information by executing the following command\n",
    "* **help(sys)**"
   ]
  },
  {
   "cell_type": "markdown",
   "id": "7db8fd59",
   "metadata": {},
   "source": [
    "The follwing generator produces infinite numbers."
   ]
  },
  {
   "cell_type": "code",
   "execution_count": null,
   "id": "80813eb5",
   "metadata": {},
   "outputs": [],
   "source": [
    "def infinite():\n",
    "    count = 0\n",
    "    while True:\n",
    "        yield count\n",
    "        count = count + 1\n",
    "\n",
    "for i in infinite():\n",
    "    print(i)"
   ]
  },
  {
   "cell_type": "code",
   "execution_count": 29,
   "id": "ef4708c9",
   "metadata": {},
   "outputs": [
    {
     "name": "stdout",
     "output_type": "stream",
     "text": [
      "0\n",
      "1\n",
      "2\n",
      "3\n",
      "4\n",
      "5\n"
     ]
    },
    {
     "ename": "StopIteration",
     "evalue": "",
     "output_type": "error",
     "traceback": [
      "\u001b[1;31m---------------------------------------------------------------------------\u001b[0m",
      "\u001b[1;31mStopIteration\u001b[0m                             Traceback (most recent call last)",
      "\u001b[1;32m~\\AppData\\Local\\Temp/ipykernel_20708/3124683773.py\u001b[0m in \u001b[0;36m<module>\u001b[1;34m\u001b[0m\n\u001b[0;32m     10\u001b[0m \u001b[0mprint\u001b[0m\u001b[1;33m(\u001b[0m\u001b[0mnext\u001b[0m\u001b[1;33m(\u001b[0m\u001b[0mgen\u001b[0m\u001b[1;33m)\u001b[0m\u001b[1;33m)\u001b[0m\u001b[1;33m\u001b[0m\u001b[1;33m\u001b[0m\u001b[0m\n\u001b[0;32m     11\u001b[0m \u001b[0mprint\u001b[0m\u001b[1;33m(\u001b[0m\u001b[0mnext\u001b[0m\u001b[1;33m(\u001b[0m\u001b[0mgen\u001b[0m\u001b[1;33m)\u001b[0m\u001b[1;33m)\u001b[0m\u001b[1;33m\u001b[0m\u001b[1;33m\u001b[0m\u001b[0m\n\u001b[1;32m---> 12\u001b[1;33m \u001b[0mprint\u001b[0m\u001b[1;33m(\u001b[0m\u001b[0mnext\u001b[0m\u001b[1;33m(\u001b[0m\u001b[0mgen\u001b[0m\u001b[1;33m)\u001b[0m\u001b[1;33m)\u001b[0m\u001b[1;33m\u001b[0m\u001b[1;33m\u001b[0m\u001b[0m\n\u001b[0m",
      "\u001b[1;31mStopIteration\u001b[0m: "
     ]
    }
   ],
   "source": [
    "def generator(a):\n",
    "    for i in range(a):\n",
    "        yield i\n",
    "\n",
    "gen = generator(6)\n",
    "print(next(gen))\n",
    "print(next(gen))\n",
    "print(next(gen))\n",
    "print(next(gen))\n",
    "print(next(gen))\n",
    "print(next(gen))\n",
    "print(next(gen))"
   ]
  },
  {
   "cell_type": "code",
   "execution_count": 41,
   "id": "d7677ade",
   "metadata": {},
   "outputs": [
    {
     "name": "stdout",
     "output_type": "stream",
     "text": [
      "The number using while loop is 1.\n",
      "The number using while loop is 1.\n",
      "The number using while loop is 4.\n",
      "The number using while loop is 27.\n",
      "The number using while loop is 256.\n",
      "The number using while loop is 3125.\n",
      "The numbers using for loop are [1, 1, 4, 27, 256, 3125].\n",
      "The numbers using generator comprehension are [1, 1, 4, 27, 256, 3125].\n"
     ]
    }
   ],
   "source": [
    "def square_number(num):\n",
    "    for i in range(num):\n",
    "        yield i**i\n",
    "\n",
    "generator = square_number(6)\n",
    "\n",
    "# Using 'while' loop\n",
    "while True:\n",
    "    try:\n",
    "        print(f'The number using while loop is {next(generator)}.')\n",
    "    except StopIteration:\n",
    "        break\n",
    "\n",
    "# Using 'for' loop\n",
    "nlis = []\n",
    "for square in square_number(6):\n",
    "    nlis.append(square)\n",
    "print(f'The numbers using for loop are {nlis}.')\n",
    "\n",
    "# Using generator comprehension\n",
    "square = (i**i for i in range(6))\n",
    "square_list = []\n",
    "square_list.append(next(square))\n",
    "square_list.append(next(square))\n",
    "square_list.append(next(square))\n",
    "square_list.append(next(square))\n",
    "square_list.append(next(square))\n",
    "square_list.append(next(square))\n",
    "print(f'The numbers using generator comprehension are {square_list}.')"
   ]
  },
  {
   "cell_type": "code",
   "execution_count": 42,
   "id": "50576e97",
   "metadata": {},
   "outputs": [
    {
     "data": {
      "text/plain": [
       "3414"
      ]
     },
     "execution_count": 42,
     "metadata": {},
     "output_type": "execute_result"
    }
   ],
   "source": [
    "import math\n",
    "sum(i**i for i in range(6))"
   ]
  },
  {
   "cell_type": "code",
   "execution_count": 46,
   "id": "326f5221",
   "metadata": {},
   "outputs": [
    {
     "name": "stdout",
     "output_type": "stream",
     "text": [
      "9107509825\n"
     ]
    }
   ],
   "source": [
    "def fibonacci(numbers):\n",
    "    a, b = 0, 1\n",
    "    for _ in range(numbers):\n",
    "        a, b = b, a+b\n",
    "        yield a\n",
    "\n",
    "def square(numbers):\n",
    "    for i in numbers:\n",
    "        yield i**2\n",
    "\n",
    "print(sum(square(fibonacci(25))))"
   ]
  }
 ],
 "metadata": {
  "kernelspec": {
   "display_name": "Python 3 (ipykernel)",
   "language": "python",
   "name": "python3"
  },
  "language_info": {
   "codemirror_mode": {
    "name": "ipython",
    "version": 3
   },
   "file_extension": ".py",
   "mimetype": "text/x-python",
   "name": "python",
   "nbconvert_exporter": "python",
   "pygments_lexer": "ipython3",
   "version": "3.9.7"
  },
  "vscode": {
   "interpreter": {
    "hash": "b7377f19eab4b8c2e19b4d5b732c435591579d0f123dd21b146d33dfd161e508"
   }
  }
 },
 "nbformat": 4,
 "nbformat_minor": 5
}
