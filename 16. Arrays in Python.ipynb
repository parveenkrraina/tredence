{
 "cells": [
  {
   "cell_type": "markdown",
   "id": "d1edf301",
   "metadata": {},
   "source": [
    "# **Python Tutorial**"
   ]
  },
  {
   "cell_type": "markdown",
   "id": "3b056e10",
   "metadata": {},
   "source": [
    "## **16. Arrays in Python**\n",
    "\n",
    "* Array is a container which can hold a fix number of items and these items should be of the same type. \n",
    "* Most of the data structures make use of arrays to implement their algorithms.\n",
    "* Lists can be used to form arrays.\n",
    "* Following are the important terms to understand the concept of Array. \n",
    "<ul>\n",
    "<li><b>Element:</b> Each item stored in an array is called an element.</li>\n",
    "<li><b>Index:</b> Each location of an element in an array has a numerical index, which is used to identify the element.</li>\n",
    "</ul>\n",
    "\n",
    "<img src=\"https://favtutor.com/resources/images/uploads/mceu_61653743011611745415316.jpg\" width ='600' alt='python_arrays' />\n",
    "\n",
    "* Array index begins with 0.\n",
    "* Each element in the array can be accessed with its index number.\n",
    "* The length of the array describes the capacity to store the elements.\n",
    "* Basic array operations are **Traverse, Insertion, Deletion, Search, and Update.**"
   ]
  },
  {
   "cell_type": "markdown",
   "id": "958bc1b9",
   "metadata": {},
   "source": [
    "### **Creating an array**\n",
    "You should import the module name **'array'** as follows:\n",
    "* **import array** or **from array import (*)**.\n",
    "* **(*)** means that it covers all features of the array."
   ]
  },
  {
   "cell_type": "code",
   "execution_count": 4,
   "id": "6bea5f1c",
   "metadata": {},
   "outputs": [],
   "source": [
    "# Import the module\n",
    "import array as arr\n",
    "from array import *"
   ]
  },
  {
   "cell_type": "code",
   "execution_count": 5,
   "id": "f0f0b467",
   "metadata": {
    "scrolled": true
   },
   "outputs": [
    {
     "name": "stdout",
     "output_type": "stream",
     "text": [
      "Help on built-in module array:\n",
      "\n",
      "NAME\n",
      "    array\n",
      "\n",
      "DESCRIPTION\n",
      "    This module defines an object type which can efficiently represent\n",
      "    an array of basic values: characters, integers, floating point\n",
      "    numbers.  Arrays are sequence types and behave very much like lists,\n",
      "    except that the type of objects stored in them is constrained.\n",
      "\n",
      "CLASSES\n",
      "    builtins.object\n",
      "        array\n",
      "    \n",
      "    ArrayType = class array(builtins.object)\n",
      "     |  array(typecode [, initializer]) -> array\n",
      "     |  \n",
      "     |  Return a new array whose items are restricted by typecode, and\n",
      "     |  initialized from the optional initializer value, which must be a list,\n",
      "     |  string or iterable over elements of the appropriate type.\n",
      "     |  \n",
      "     |  Arrays represent basic values and behave very much like lists, except\n",
      "     |  the type of objects stored in them is constrained. The type is specified\n",
      "     |  at object creation time by using a type code, which is a single character.\n",
      "     |  The following type codes are defined:\n",
      "     |  \n",
      "     |      Type code   C Type             Minimum size in bytes\n",
      "     |      'b'         signed integer     1\n",
      "     |      'B'         unsigned integer   1\n",
      "     |      'u'         Unicode character  2 (see note)\n",
      "     |      'h'         signed integer     2\n",
      "     |      'H'         unsigned integer   2\n",
      "     |      'i'         signed integer     2\n",
      "     |      'I'         unsigned integer   2\n",
      "     |      'l'         signed integer     4\n",
      "     |      'L'         unsigned integer   4\n",
      "     |      'q'         signed integer     8 (see note)\n",
      "     |      'Q'         unsigned integer   8 (see note)\n",
      "     |      'f'         floating point     4\n",
      "     |      'd'         floating point     8\n",
      "     |  \n",
      "     |  NOTE: The 'u' typecode corresponds to Python's unicode character. On\n",
      "     |  narrow builds this is 2-bytes on wide builds this is 4-bytes.\n",
      "     |  \n",
      "     |  NOTE: The 'q' and 'Q' type codes are only available if the platform\n",
      "     |  C compiler used to build Python supports 'long long', or, on Windows,\n",
      "     |  '__int64'.\n",
      "     |  \n",
      "     |  Methods:\n",
      "     |  \n",
      "     |  append() -- append a new item to the end of the array\n",
      "     |  buffer_info() -- return information giving the current memory info\n",
      "     |  byteswap() -- byteswap all the items of the array\n",
      "     |  count() -- return number of occurrences of an object\n",
      "     |  extend() -- extend array by appending multiple elements from an iterable\n",
      "     |  fromfile() -- read items from a file object\n",
      "     |  fromlist() -- append items from the list\n",
      "     |  frombytes() -- append items from the string\n",
      "     |  index() -- return index of first occurrence of an object\n",
      "     |  insert() -- insert a new item into the array at a provided position\n",
      "     |  pop() -- remove and return item (default last)\n",
      "     |  remove() -- remove first occurrence of an object\n",
      "     |  reverse() -- reverse the order of the items in the array\n",
      "     |  tofile() -- write all items to a file object\n",
      "     |  tolist() -- return the array converted to an ordinary list\n",
      "     |  tobytes() -- return the array converted to a string\n",
      "     |  \n",
      "     |  Attributes:\n",
      "     |  \n",
      "     |  typecode -- the typecode character used to create the array\n",
      "     |  itemsize -- the length in bytes of one array item\n",
      "     |  \n",
      "     |  Methods defined here:\n",
      "     |  \n",
      "     |  __add__(self, value, /)\n",
      "     |      Return self+value.\n",
      "     |  \n",
      "     |  __contains__(self, key, /)\n",
      "     |      Return key in self.\n",
      "     |  \n",
      "     |  __copy__(self, /)\n",
      "     |      Return a copy of the array.\n",
      "     |  \n",
      "     |  __deepcopy__(self, unused, /)\n",
      "     |      Return a copy of the array.\n",
      "     |  \n",
      "     |  __delitem__(self, key, /)\n",
      "     |      Delete self[key].\n",
      "     |  \n",
      "     |  __eq__(self, value, /)\n",
      "     |      Return self==value.\n",
      "     |  \n",
      "     |  __ge__(self, value, /)\n",
      "     |      Return self>=value.\n",
      "     |  \n",
      "     |  __getattribute__(self, name, /)\n",
      "     |      Return getattr(self, name).\n",
      "     |  \n",
      "     |  __getitem__(self, key, /)\n",
      "     |      Return self[key].\n",
      "     |  \n",
      "     |  __gt__(self, value, /)\n",
      "     |      Return self>value.\n",
      "     |  \n",
      "     |  __iadd__(self, value, /)\n",
      "     |      Implement self+=value.\n",
      "     |  \n",
      "     |  __imul__(self, value, /)\n",
      "     |      Implement self*=value.\n",
      "     |  \n",
      "     |  __iter__(self, /)\n",
      "     |      Implement iter(self).\n",
      "     |  \n",
      "     |  __le__(self, value, /)\n",
      "     |      Return self<=value.\n",
      "     |  \n",
      "     |  __len__(self, /)\n",
      "     |      Return len(self).\n",
      "     |  \n",
      "     |  __lt__(self, value, /)\n",
      "     |      Return self<value.\n",
      "     |  \n",
      "     |  __mul__(self, value, /)\n",
      "     |      Return self*value.\n",
      "     |  \n",
      "     |  __ne__(self, value, /)\n",
      "     |      Return self!=value.\n",
      "     |  \n",
      "     |  __reduce_ex__(self, value, /)\n",
      "     |      Return state information for pickling.\n",
      "     |  \n",
      "     |  __repr__(self, /)\n",
      "     |      Return repr(self).\n",
      "     |  \n",
      "     |  __rmul__(self, value, /)\n",
      "     |      Return value*self.\n",
      "     |  \n",
      "     |  __setitem__(self, key, value, /)\n",
      "     |      Set self[key] to value.\n",
      "     |  \n",
      "     |  __sizeof__(self, /)\n",
      "     |      Size of the array in memory, in bytes.\n",
      "     |  \n",
      "     |  append(self, v, /)\n",
      "     |      Append new value v to the end of the array.\n",
      "     |  \n",
      "     |  buffer_info(self, /)\n",
      "     |      Return a tuple (address, length) giving the current memory address and the length in items of the buffer used to hold array's contents.\n",
      "     |      \n",
      "     |      The length should be multiplied by the itemsize attribute to calculate\n",
      "     |      the buffer length in bytes.\n",
      "     |  \n",
      "     |  byteswap(self, /)\n",
      "     |      Byteswap all items of the array.\n",
      "     |      \n",
      "     |      If the items in the array are not 1, 2, 4, or 8 bytes in size, RuntimeError is\n",
      "     |      raised.\n",
      "     |  \n",
      "     |  count(self, v, /)\n",
      "     |      Return number of occurrences of v in the array.\n",
      "     |  \n",
      "     |  extend(self, bb, /)\n",
      "     |      Append items to the end of the array.\n",
      "     |  \n",
      "     |  frombytes(self, buffer, /)\n",
      "     |      Appends items from the string, interpreting it as an array of machine values, as if it had been read from a file using the fromfile() method.\n",
      "     |  \n",
      "     |  fromfile(self, f, n, /)\n",
      "     |      Read n objects from the file object f and append them to the end of the array.\n",
      "     |  \n",
      "     |  fromlist(self, list, /)\n",
      "     |      Append items to array from list.\n",
      "     |  \n",
      "     |  fromunicode(self, ustr, /)\n",
      "     |      Extends this array with data from the unicode string ustr.\n",
      "     |      \n",
      "     |      The array must be a unicode type array; otherwise a ValueError is raised.\n",
      "     |      Use array.frombytes(ustr.encode(...)) to append Unicode data to an array of\n",
      "     |      some other type.\n",
      "     |  \n",
      "     |  index(self, v, start=0, stop=9223372036854775807, /)\n",
      "     |      Return index of first occurrence of v in the array.\n",
      "     |      \n",
      "     |      Raise ValueError if the value is not present.\n",
      "     |  \n",
      "     |  insert(self, i, v, /)\n",
      "     |      Insert a new item v into the array before position i.\n",
      "     |  \n",
      "     |  pop(self, i=-1, /)\n",
      "     |      Return the i-th element and delete it from the array.\n",
      "     |      \n",
      "     |      i defaults to -1.\n",
      "     |  \n",
      "     |  remove(self, v, /)\n",
      "     |      Remove the first occurrence of v in the array.\n",
      "     |  \n",
      "     |  reverse(self, /)\n",
      "     |      Reverse the order of the items in the array.\n",
      "     |  \n",
      "     |  tobytes(self, /)\n",
      "     |      Convert the array to an array of machine values and return the bytes representation.\n",
      "     |  \n",
      "     |  tofile(self, f, /)\n",
      "     |      Write all items (as machine values) to the file object f.\n",
      "     |  \n",
      "     |  tolist(self, /)\n",
      "     |      Convert array to an ordinary list with the same items.\n",
      "     |  \n",
      "     |  tounicode(self, /)\n",
      "     |      Extends this array with data from the unicode string ustr.\n",
      "     |      \n",
      "     |      Convert the array to a unicode string.  The array must be a unicode type array;\n",
      "     |      otherwise a ValueError is raised.  Use array.tobytes().decode() to obtain a\n",
      "     |      unicode string from an array of some other type.\n",
      "     |  \n",
      "     |  ----------------------------------------------------------------------\n",
      "     |  Static methods defined here:\n",
      "     |  \n",
      "     |  __new__(*args, **kwargs) from builtins.type\n",
      "     |      Create and return a new object.  See help(type) for accurate signature.\n",
      "     |  \n",
      "     |  ----------------------------------------------------------------------\n",
      "     |  Data descriptors defined here:\n",
      "     |  \n",
      "     |  itemsize\n",
      "     |      the size, in bytes, of one array item\n",
      "     |  \n",
      "     |  typecode\n",
      "     |      the typecode character used to create the array\n",
      "     |  \n",
      "     |  ----------------------------------------------------------------------\n",
      "     |  Data and other attributes defined here:\n",
      "     |  \n",
      "     |  __hash__ = None\n",
      "    \n",
      "    class array(builtins.object)\n",
      "     |  array(typecode [, initializer]) -> array\n",
      "     |  \n",
      "     |  Return a new array whose items are restricted by typecode, and\n",
      "     |  initialized from the optional initializer value, which must be a list,\n",
      "     |  string or iterable over elements of the appropriate type.\n",
      "     |  \n",
      "     |  Arrays represent basic values and behave very much like lists, except\n",
      "     |  the type of objects stored in them is constrained. The type is specified\n",
      "     |  at object creation time by using a type code, which is a single character.\n",
      "     |  The following type codes are defined:\n",
      "     |  \n",
      "     |      Type code   C Type             Minimum size in bytes\n",
      "     |      'b'         signed integer     1\n",
      "     |      'B'         unsigned integer   1\n",
      "     |      'u'         Unicode character  2 (see note)\n",
      "     |      'h'         signed integer     2\n",
      "     |      'H'         unsigned integer   2\n",
      "     |      'i'         signed integer     2\n",
      "     |      'I'         unsigned integer   2\n",
      "     |      'l'         signed integer     4\n",
      "     |      'L'         unsigned integer   4\n",
      "     |      'q'         signed integer     8 (see note)\n",
      "     |      'Q'         unsigned integer   8 (see note)\n",
      "     |      'f'         floating point     4\n",
      "     |      'd'         floating point     8\n",
      "     |  \n",
      "     |  NOTE: The 'u' typecode corresponds to Python's unicode character. On\n",
      "     |  narrow builds this is 2-bytes on wide builds this is 4-bytes.\n",
      "     |  \n",
      "     |  NOTE: The 'q' and 'Q' type codes are only available if the platform\n",
      "     |  C compiler used to build Python supports 'long long', or, on Windows,\n",
      "     |  '__int64'.\n",
      "     |  \n",
      "     |  Methods:\n",
      "     |  \n",
      "     |  append() -- append a new item to the end of the array\n",
      "     |  buffer_info() -- return information giving the current memory info\n",
      "     |  byteswap() -- byteswap all the items of the array\n",
      "     |  count() -- return number of occurrences of an object\n",
      "     |  extend() -- extend array by appending multiple elements from an iterable\n",
      "     |  fromfile() -- read items from a file object\n",
      "     |  fromlist() -- append items from the list\n",
      "     |  frombytes() -- append items from the string\n",
      "     |  index() -- return index of first occurrence of an object\n",
      "     |  insert() -- insert a new item into the array at a provided position\n",
      "     |  pop() -- remove and return item (default last)\n",
      "     |  remove() -- remove first occurrence of an object\n",
      "     |  reverse() -- reverse the order of the items in the array\n",
      "     |  tofile() -- write all items to a file object\n",
      "     |  tolist() -- return the array converted to an ordinary list\n",
      "     |  tobytes() -- return the array converted to a string\n",
      "     |  \n",
      "     |  Attributes:\n",
      "     |  \n",
      "     |  typecode -- the typecode character used to create the array\n",
      "     |  itemsize -- the length in bytes of one array item\n",
      "     |  \n",
      "     |  Methods defined here:\n",
      "     |  \n",
      "     |  __add__(self, value, /)\n",
      "     |      Return self+value.\n",
      "     |  \n",
      "     |  __contains__(self, key, /)\n",
      "     |      Return key in self.\n",
      "     |  \n",
      "     |  __copy__(self, /)\n",
      "     |      Return a copy of the array.\n",
      "     |  \n",
      "     |  __deepcopy__(self, unused, /)\n",
      "     |      Return a copy of the array.\n",
      "     |  \n",
      "     |  __delitem__(self, key, /)\n",
      "     |      Delete self[key].\n",
      "     |  \n",
      "     |  __eq__(self, value, /)\n",
      "     |      Return self==value.\n",
      "     |  \n",
      "     |  __ge__(self, value, /)\n",
      "     |      Return self>=value.\n",
      "     |  \n",
      "     |  __getattribute__(self, name, /)\n",
      "     |      Return getattr(self, name).\n",
      "     |  \n",
      "     |  __getitem__(self, key, /)\n",
      "     |      Return self[key].\n",
      "     |  \n",
      "     |  __gt__(self, value, /)\n",
      "     |      Return self>value.\n",
      "     |  \n",
      "     |  __iadd__(self, value, /)\n",
      "     |      Implement self+=value.\n",
      "     |  \n",
      "     |  __imul__(self, value, /)\n",
      "     |      Implement self*=value.\n",
      "     |  \n",
      "     |  __iter__(self, /)\n",
      "     |      Implement iter(self).\n",
      "     |  \n",
      "     |  __le__(self, value, /)\n",
      "     |      Return self<=value.\n",
      "     |  \n",
      "     |  __len__(self, /)\n",
      "     |      Return len(self).\n",
      "     |  \n",
      "     |  __lt__(self, value, /)\n",
      "     |      Return self<value.\n",
      "     |  \n",
      "     |  __mul__(self, value, /)\n",
      "     |      Return self*value.\n",
      "     |  \n",
      "     |  __ne__(self, value, /)\n",
      "     |      Return self!=value.\n",
      "     |  \n",
      "     |  __reduce_ex__(self, value, /)\n",
      "     |      Return state information for pickling.\n",
      "     |  \n",
      "     |  __repr__(self, /)\n",
      "     |      Return repr(self).\n",
      "     |  \n",
      "     |  __rmul__(self, value, /)\n",
      "     |      Return value*self.\n",
      "     |  \n",
      "     |  __setitem__(self, key, value, /)\n",
      "     |      Set self[key] to value.\n",
      "     |  \n",
      "     |  __sizeof__(self, /)\n",
      "     |      Size of the array in memory, in bytes.\n",
      "     |  \n",
      "     |  append(self, v, /)\n",
      "     |      Append new value v to the end of the array.\n",
      "     |  \n",
      "     |  buffer_info(self, /)\n",
      "     |      Return a tuple (address, length) giving the current memory address and the length in items of the buffer used to hold array's contents.\n",
      "     |      \n",
      "     |      The length should be multiplied by the itemsize attribute to calculate\n",
      "     |      the buffer length in bytes.\n",
      "     |  \n",
      "     |  byteswap(self, /)\n",
      "     |      Byteswap all items of the array.\n",
      "     |      \n",
      "     |      If the items in the array are not 1, 2, 4, or 8 bytes in size, RuntimeError is\n",
      "     |      raised.\n",
      "     |  \n",
      "     |  count(self, v, /)\n",
      "     |      Return number of occurrences of v in the array.\n",
      "     |  \n",
      "     |  extend(self, bb, /)\n",
      "     |      Append items to the end of the array.\n",
      "     |  \n",
      "     |  frombytes(self, buffer, /)\n",
      "     |      Appends items from the string, interpreting it as an array of machine values, as if it had been read from a file using the fromfile() method.\n",
      "     |  \n",
      "     |  fromfile(self, f, n, /)\n",
      "     |      Read n objects from the file object f and append them to the end of the array.\n",
      "     |  \n",
      "     |  fromlist(self, list, /)\n",
      "     |      Append items to array from list.\n",
      "     |  \n",
      "     |  fromunicode(self, ustr, /)\n",
      "     |      Extends this array with data from the unicode string ustr.\n",
      "     |      \n",
      "     |      The array must be a unicode type array; otherwise a ValueError is raised.\n",
      "     |      Use array.frombytes(ustr.encode(...)) to append Unicode data to an array of\n",
      "     |      some other type.\n",
      "     |  \n",
      "     |  index(self, v, start=0, stop=9223372036854775807, /)\n",
      "     |      Return index of first occurrence of v in the array.\n",
      "     |      \n",
      "     |      Raise ValueError if the value is not present.\n",
      "     |  \n",
      "     |  insert(self, i, v, /)\n",
      "     |      Insert a new item v into the array before position i.\n",
      "     |  \n",
      "     |  pop(self, i=-1, /)\n",
      "     |      Return the i-th element and delete it from the array.\n",
      "     |      \n",
      "     |      i defaults to -1.\n",
      "     |  \n",
      "     |  remove(self, v, /)\n",
      "     |      Remove the first occurrence of v in the array.\n",
      "     |  \n",
      "     |  reverse(self, /)\n",
      "     |      Reverse the order of the items in the array.\n",
      "     |  \n",
      "     |  tobytes(self, /)\n",
      "     |      Convert the array to an array of machine values and return the bytes representation.\n",
      "     |  \n",
      "     |  tofile(self, f, /)\n",
      "     |      Write all items (as machine values) to the file object f.\n",
      "     |  \n",
      "     |  tolist(self, /)\n",
      "     |      Convert array to an ordinary list with the same items.\n",
      "     |  \n",
      "     |  tounicode(self, /)\n",
      "     |      Extends this array with data from the unicode string ustr.\n",
      "     |      \n",
      "     |      Convert the array to a unicode string.  The array must be a unicode type array;\n",
      "     |      otherwise a ValueError is raised.  Use array.tobytes().decode() to obtain a\n",
      "     |      unicode string from an array of some other type.\n",
      "     |  \n",
      "     |  ----------------------------------------------------------------------\n",
      "     |  Static methods defined here:\n",
      "     |  \n",
      "     |  __new__(*args, **kwargs) from builtins.type\n",
      "     |      Create and return a new object.  See help(type) for accurate signature.\n",
      "     |  \n",
      "     |  ----------------------------------------------------------------------\n",
      "     |  Data descriptors defined here:\n",
      "     |  \n",
      "     |  itemsize\n",
      "     |      the size, in bytes, of one array item\n",
      "     |  \n",
      "     |  typecode\n",
      "     |      the typecode character used to create the array\n",
      "     |  \n",
      "     |  ----------------------------------------------------------------------\n",
      "     |  Data and other attributes defined here:\n",
      "     |  \n",
      "     |  __hash__ = None\n",
      "\n",
      "DATA\n",
      "    typecodes = 'bBuhHiIlLqQfd'\n",
      "\n",
      "FILE\n",
      "    (built-in)\n",
      "\n",
      "\n"
     ]
    }
   ],
   "source": [
    "# To access more information regarding array, you can execute the following commands\n",
    "help(arr)"
   ]
  },
  {
   "cell_type": "markdown",
   "id": "e8c8c534",
   "metadata": {},
   "source": [
    "### **Type code**\n",
    "- Arrays represent basic values and behave very much like lists, except the type of objects stored in them is constrained. \n",
    "- The type is specified at object creation time by using a type code, which is a single character.\n",
    "- The following type codes are defined:"
   ]
  },
  {
   "cell_type": "markdown",
   "id": "01165b70",
   "metadata": {},
   "source": [
    "<img src='https://www.askpython.com/wp-content/uploads/2019/09/python-array-supported-type-code-1024x624.png' width = '600' alt='type_code'>"
   ]
  },
  {
   "cell_type": "code",
   "execution_count": 6,
   "id": "b83f89ea",
   "metadata": {},
   "outputs": [
    {
     "name": "stdout",
     "output_type": "stream",
     "text": [
      "0.577\n",
      "1.618\n",
      "2.718\n",
      "3.14\n",
      "6.0\n",
      "37.0\n",
      "1729.0\n"
     ]
    }
   ],
   "source": [
    "special_nums = arr.array('d', [0.577, 1.618, 2.718, 3.14, 6, 37, 1729])\n",
    "for i in special_nums:\n",
    "    print(i)"
   ]
  },
  {
   "cell_type": "markdown",
   "id": "1d0cf9c1",
   "metadata": {},
   "source": [
    "### **Accessing**"
   ]
  },
  {
   "cell_type": "code",
   "execution_count": 7,
   "id": "b02e51f9",
   "metadata": {},
   "outputs": [
    {
     "name": "stdout",
     "output_type": "stream",
     "text": [
      "First element of numbers is 0.577, called euler constant.\n",
      "Second element of numbers is 1.618, called golden_ratio.\n",
      "Last element of numbers is 1729.0, called Ramanujan-Hardy number.\n"
     ]
    }
   ],
   "source": [
    "special_nums = arr.array('d', [0.577, 1.618, 2.718, 3.14, 6, 37, 1729])\n",
    "print(f'First element of numbers is {special_nums[0]}, called euler constant.')\n",
    "print(f'Second element of numbers is {special_nums[1]}, called golden_ratio.')\n",
    "print(f'Last element of numbers is {special_nums[-1]}, called Ramanujan-Hardy number.')"
   ]
  },
  {
   "cell_type": "markdown",
   "id": "8631e8e2",
   "metadata": {},
   "source": [
    "### **Changing or Updating**"
   ]
  },
  {
   "cell_type": "code",
   "execution_count": 8,
   "id": "7ff4478a",
   "metadata": {},
   "outputs": [
    {
     "name": "stdout",
     "output_type": "stream",
     "text": [
      "array('i', [55, 1, 1, 2, 3, 5, 8, 13, 21, 34])\n",
      "array('i', [55, 89, 144, 233, 377, 3, 5, 8, 13, 21, 34])\n"
     ]
    }
   ],
   "source": [
    "nums = arr.array('i', [0, 1, 1, 2, 3, 5, 8, 13, 21, 34])\n",
    "\n",
    "# Changing the first element of the array\n",
    "nums[0] = 55\n",
    "print(nums)\n",
    "\n",
    "# Changing 2nd to 4th elements of the array\n",
    "nums[1:4] =arr.array('i', [89, 144, 233, 377])\n",
    "print(nums)"
   ]
  },
  {
   "cell_type": "markdown",
   "id": "6d79cee0",
   "metadata": {},
   "source": [
    "### **Deleting**"
   ]
  },
  {
   "cell_type": "code",
   "execution_count": 9,
   "id": "c8d70762",
   "metadata": {},
   "outputs": [
    {
     "name": "stdout",
     "output_type": "stream",
     "text": [
      "array('i', [1, 1, 2, 3, 5, 8, 13, 21, 34])\n",
      "array('i', [1, 5, 8, 13, 21, 34])\n"
     ]
    }
   ],
   "source": [
    "nums = arr.array('i', [0, 1, 1, 2, 3, 5, 8, 13, 21, 34])\n",
    "\n",
    "# Deleting the first element of the array\n",
    "del nums[0]\n",
    "print(nums)\n",
    "\n",
    "# Deleting the 2nd to 4th elements of the array\n",
    "del nums[1:4]\n",
    "print(nums)"
   ]
  },
  {
   "cell_type": "markdown",
   "id": "73e22d05",
   "metadata": {},
   "source": [
    "### **Lenght of the array**"
   ]
  },
  {
   "cell_type": "code",
   "execution_count": 10,
   "id": "99dddbff",
   "metadata": {},
   "outputs": [
    {
     "name": "stdout",
     "output_type": "stream",
     "text": [
      "The length of the array is 7.\n"
     ]
    }
   ],
   "source": [
    "special_nums = arr.array('d', [0.577, 1.618, 2.718, 3.14, 6, 37, 1729])\n",
    "print(f'The length of the array is {len(special_nums)}.')"
   ]
  },
  {
   "cell_type": "markdown",
   "id": "9c0b2475",
   "metadata": {},
   "source": [
    "### **Concatenation**"
   ]
  },
  {
   "cell_type": "code",
   "execution_count": 11,
   "id": "94e22e86",
   "metadata": {},
   "outputs": [
    {
     "name": "stdout",
     "output_type": "stream",
     "text": [
      "The new array called special_fibonacci_nums is array('d', [0.577, 1.618, 2.718, 3.14, 6.0, 37.0, 1729.0, 1.0, 1.0, 2.0, 3.0, 5.0, 8.0, 13.0, 21.0, 34.0]).\n"
     ]
    }
   ],
   "source": [
    "special_nums = arr.array('d', [0.577, 1.618, 2.718, 3.14, 6, 37, 1729])\n",
    "fibonacci_nums = arr.array('d', [1, 1, 2, 3, 5, 8, 13, 21, 34])\n",
    "special_fibonacci_nums = arr.array('d')\n",
    "special_fibonacci_nums = special_nums + fibonacci_nums\n",
    "print(f'The new array called special_fibonacci_nums is {special_fibonacci_nums}.')"
   ]
  },
  {
   "cell_type": "markdown",
   "id": "689b7c47",
   "metadata": {},
   "source": [
    "### **Creating ID arrays**"
   ]
  },
  {
   "cell_type": "code",
   "execution_count": 12,
   "id": "40402d2f",
   "metadata": {},
   "outputs": [
    {
     "name": "stdout",
     "output_type": "stream",
     "text": [
      "[1, 1, 1, 1, 1, 1, 1, 1, 1, 1]\n"
     ]
    }
   ],
   "source": [
    "mult = 10\n",
    "one_array = [1]*mult\n",
    "print(one_array)"
   ]
  },
  {
   "cell_type": "code",
   "execution_count": 13,
   "id": "9450bbba",
   "metadata": {},
   "outputs": [
    {
     "name": "stdout",
     "output_type": "stream",
     "text": [
      "[0, 1, 2, 3, 4, 5, 6, 7, 8, 9]\n"
     ]
    }
   ],
   "source": [
    "mult = 10\n",
    "nums_array = [i for i in range(mult)]\n",
    "print(nums_array)"
   ]
  },
  {
   "cell_type": "markdown",
   "id": "a2f0b4a0",
   "metadata": {},
   "source": [
    "### **Addition with the functions insert() and append()**"
   ]
  },
  {
   "cell_type": "code",
   "execution_count": 14,
   "id": "c2599dbc",
   "metadata": {},
   "outputs": [
    {
     "name": "stdout",
     "output_type": "stream",
     "text": [
      "Before any additon into fibonacci numbers\n",
      "1 1 2 3 5 8 13 21 34 \n",
      "After an element additon into fibonacci numbers\n",
      "1 1 2 3 5 8 13 21 34 55 \n",
      "After an element additon into fibonacci numbers\n",
      "1 1 2 3 5 8 13 21 34 55 89 "
     ]
    }
   ],
   "source": [
    "# Using the function 'insert()'\n",
    "fibonacci_nums = arr.array('i', [1, 1, 2, 3, 5, 8, 13, 21, 34])\n",
    "print('Before any additon into fibonacci numbers')\n",
    "for i in fibonacci_nums:\n",
    "    print(i, end = ' ')\n",
    "print()\n",
    "print('After an element additon into fibonacci numbers')\n",
    "added_num = fibonacci_nums[-1] + fibonacci_nums[-2]\n",
    "fibonacci_nums.insert(9, added_num)\n",
    "for i in fibonacci_nums:    \n",
    "    print(i, end = ' ')\n",
    "print()\n",
    "print('After an element additon into fibonacci numbers')\n",
    "added_num = fibonacci_nums[-1] + fibonacci_nums[-2]\n",
    "fibonacci_nums.insert(10, added_num)\n",
    "for i in fibonacci_nums:    \n",
    "    print(i, end = ' ')"
   ]
  },
  {
   "cell_type": "code",
   "execution_count": 15,
   "id": "e4678446",
   "metadata": {},
   "outputs": [
    {
     "name": "stdout",
     "output_type": "stream",
     "text": [
      "Before any additon into fibonacci numbers\n",
      "1 1 2 3 5 8 13 21 34 \n",
      "After an element additon into fibonacci numbers\n",
      "1 1 2 3 5 8 13 21 34 55 \n",
      "After an element additon into fibonacci numbers\n",
      "1 1 2 3 5 8 13 21 34 55 89 "
     ]
    }
   ],
   "source": [
    "# Using the function 'append()'\n",
    "fibonacci_nums = arr.array('i', [1, 1, 2, 3, 5, 8, 13, 21, 34])\n",
    "print('Before any additon into fibonacci numbers')\n",
    "for i in fibonacci_nums:\n",
    "    print(i, end = ' ')\n",
    "print()\n",
    "print('After an element additon into fibonacci numbers')\n",
    "added_num = fibonacci_nums[-1] + fibonacci_nums[-2]\n",
    "fibonacci_nums.append(added_num)\n",
    "for i in fibonacci_nums:    \n",
    "    print(i, end = ' ')\n",
    "print()\n",
    "print('After an element additon into fibonacci numbers')\n",
    "added_num = fibonacci_nums[-1] + fibonacci_nums[-2]\n",
    "fibonacci_nums.append(added_num)\n",
    "for i in fibonacci_nums:    \n",
    "    print(i, end = ' ')"
   ]
  },
  {
   "cell_type": "markdown",
   "id": "90a4ef5d",
   "metadata": {},
   "source": [
    "### **Removing with the function remove() and pop()**"
   ]
  },
  {
   "cell_type": "code",
   "execution_count": 16,
   "id": "37f09434",
   "metadata": {},
   "outputs": [
    {
     "name": "stdout",
     "output_type": "stream",
     "text": [
      "Before removing an element from the array\n",
      "0.577 1.618 2.718 3.14 6.0 37.0 1729.0 \n",
      "After removing an element from the array\n",
      "1.618 2.718 3.14 6.0 37.0 1729.0 \n",
      "After removing one more element from the array\n",
      "2.718 3.14 6.0 37.0 1729.0 "
     ]
    }
   ],
   "source": [
    "# Using the function 'remove()'\n",
    "special_nums = arr.array('d', [0.577, 1.618, 2.718, 3.14, 6, 37, 1729])\n",
    "print('Before removing an element from the array')\n",
    "for i in special_nums:\n",
    "    print(i, end = ' ')\n",
    "print()\n",
    "print('After removing an element from the array')\n",
    "special_nums.remove(0.577)\n",
    "for i in special_nums:\n",
    "    print(i, end=' ')\n",
    "print()\n",
    "print('After removing one more element from the array')\n",
    "special_nums.remove(special_nums[0])      # We can make this using indexing\n",
    "for i in special_nums:\n",
    "    print(i, end=' ')"
   ]
  },
  {
   "cell_type": "code",
   "execution_count": 17,
   "id": "f4c6690e",
   "metadata": {},
   "outputs": [
    {
     "name": "stdout",
     "output_type": "stream",
     "text": [
      "Before removing an element from the array\n",
      "0.577 1.618 2.718 3.14 6.0 37.0 1729.0 \n",
      "After removing last element from the array\n",
      "0.577 1.618 2.718 3.14 6.0 37.0 \n",
      "After removing one more last element from the array\n",
      "0.577 1.618 2.718 3.14 6.0 \n",
      "After removing one more element using index from the array\n",
      "0.577 1.618 2.718 6.0 \n"
     ]
    }
   ],
   "source": [
    "# Using the function 'pop()'\n",
    "# The function pop() removes the last element from the array\n",
    "special_nums = arr.array('d', [0.577, 1.618, 2.718, 3.14, 6, 37, 1729])\n",
    "print('Before removing an element from the array')\n",
    "for i in special_nums:\n",
    "    print(i, end = ' ')\n",
    "print()\n",
    "print('After removing last element from the array')\n",
    "special_nums.pop()\n",
    "for i in special_nums:\n",
    "    print(i, end=' ')\n",
    "print()\n",
    "print('After removing one more last element from the array')\n",
    "special_nums.pop()\n",
    "for i in special_nums:\n",
    "    print(i, end=' ')\n",
    "print()\n",
    "print('After removing one more element using index from the array')\n",
    "special_nums.pop(3)         # It deleted the pi number\n",
    "for i in special_nums:\n",
    "    print(i, end=' ')\n",
    "print()"
   ]
  },
  {
   "cell_type": "markdown",
   "id": "e6002e6f",
   "metadata": {},
   "source": [
    "### **Slicing**"
   ]
  },
  {
   "cell_type": "code",
   "execution_count": 18,
   "id": "3ce5dbeb",
   "metadata": {},
   "outputs": [
    {
     "name": "stdout",
     "output_type": "stream",
     "text": [
      "array('d', [1.618, 2.718, 3.14, 6.0])\n",
      "1.618 2.718 3.14 6.0 "
     ]
    }
   ],
   "source": [
    "special_nums = arr.array('d', [0.577, 1.618, 2.718, 3.14, 6, 37, 1729])\n",
    "sliced_special_nums = special_nums[1:5]     # It returns between index 1 and index 4, not index 5. \n",
    "print(sliced_special_nums)\n",
    "# or using for loop\n",
    "for i in sliced_special_nums:\n",
    "    print(i, end = \" \")"
   ]
  },
  {
   "cell_type": "code",
   "execution_count": 19,
   "id": "7c596671",
   "metadata": {},
   "outputs": [
    {
     "name": "stdout",
     "output_type": "stream",
     "text": [
      "array('d', [3.14, 6.0, 37.0, 1729.0])\n"
     ]
    }
   ],
   "source": [
    "special_nums = arr.array('d', [0.577, 1.618, 2.718, 3.14, 6, 37, 1729])\n",
    "sliced_special_nums = special_nums[3:]          # It returns index 3 and later. \n",
    "print(sliced_special_nums)"
   ]
  },
  {
   "cell_type": "code",
   "execution_count": 20,
   "id": "92e16096",
   "metadata": {},
   "outputs": [
    {
     "name": "stdout",
     "output_type": "stream",
     "text": [
      "array('d', [0.577, 1.618, 2.718])\n"
     ]
    }
   ],
   "source": [
    "special_nums = arr.array('d', [0.577, 1.618, 2.718, 3.14, 6, 37, 1729])\n",
    "sliced_special_nums = special_nums[:3]          # It returns until index 2, not index 3. \n",
    "print(sliced_special_nums)"
   ]
  },
  {
   "cell_type": "code",
   "execution_count": 21,
   "id": "46bfd9ec",
   "metadata": {},
   "outputs": [
    {
     "name": "stdout",
     "output_type": "stream",
     "text": [
      "array('d', [0.577, 1.618, 2.718, 3.14, 6.0, 37.0, 1729.0])\n"
     ]
    }
   ],
   "source": [
    "special_nums = arr.array('d', [0.577, 1.618, 2.718, 3.14, 6, 37, 1729])\n",
    "sliced_special_nums = special_nums[:]       # It returns all elements in the array\n",
    "print(sliced_special_nums)"
   ]
  },
  {
   "cell_type": "code",
   "execution_count": 22,
   "id": "6bcdcdc8",
   "metadata": {},
   "outputs": [
    {
     "name": "stdout",
     "output_type": "stream",
     "text": [
      "array('d', [1729.0, 37.0, 6.0, 3.14, 2.718, 1.618, 0.577])\n"
     ]
    }
   ],
   "source": [
    "special_nums = arr.array('d', [0.577, 1.618, 2.718, 3.14, 6, 37, 1729])\n",
    "sliced_special_nums = special_nums[::-1]        # It reverses the array. \n",
    "print(sliced_special_nums)"
   ]
  },
  {
   "cell_type": "markdown",
   "id": "f1f1abfb",
   "metadata": {},
   "source": [
    "### **Searching**"
   ]
  },
  {
   "cell_type": "code",
   "execution_count": 23,
   "id": "08f65ddb",
   "metadata": {},
   "outputs": [
    {
     "name": "stdout",
     "output_type": "stream",
     "text": [
      "The searched item euler number 2.718 is present at index 2.\n",
      "The searched item euler number 2.718 is present at index 2.\n"
     ]
    }
   ],
   "source": [
    "# To make a search in an array, use the function index()\n",
    "special_nums = arr.array('d', [0.577, 1.618, 2.718, 3.14, 6, 37, 1729])\n",
    "searched_item = special_nums.index(2.718)\n",
    "print(f'The searched item euler number 2.718 is present at index {searched_item}.')\n",
    "# printing with format\n",
    "print('The searched item euler number {} is present at index {}.'.format(2.718, searched_item))"
   ]
  },
  {
   "cell_type": "markdown",
   "id": "2451bf85",
   "metadata": {},
   "source": [
    "### **Copying**"
   ]
  },
  {
   "cell_type": "markdown",
   "id": "35fe9c2e",
   "metadata": {},
   "source": [
    "#### Copying using assignment\n",
    "This process gives the same ID number."
   ]
  },
  {
   "cell_type": "code",
   "execution_count": 24,
   "id": "6cb869aa",
   "metadata": {},
   "outputs": [
    {
     "name": "stdout",
     "output_type": "stream",
     "text": [
      "array('d', [0.577, 1.618, 2.718, 3.14, 6.0, 37.0, 1729.0]) with the ID number 2668250199472\n",
      "array('d', [0.577, 1.618, 2.718, 3.14, 6.0, 37.0, 1729.0]) with the ID number 2668250199472\n",
      "0.577 1.618 2.718 3.14 6.0 37.0 1729.0 \n",
      "The ID number of the array special_nums is 2668250199472.\n",
      "0.577 1.618 2.718 3.14 6.0 37.0 1729.0 \n",
      "The ID number of the array copied_special_nums is 2668250199472.\n"
     ]
    }
   ],
   "source": [
    "special_nums = arr.array('d', [0.577, 1.618, 2.718, 3.14, 6, 37, 1729])\n",
    "copied_special_nums = special_nums\n",
    "print(special_nums, 'with the ID number', id(special_nums))\n",
    "print(copied_special_nums, 'with the ID number', id(copied_special_nums))\n",
    "\n",
    "# Using for loop\n",
    "for i in special_nums:\n",
    "    print(i, end= ' ')\n",
    "print()\n",
    "print(f'The ID number of the array special_nums is {id(special_nums)}.')\n",
    "for i in copied_special_nums:\n",
    "    print(i, end= ' ')\n",
    "print()\n",
    "print(f'The ID number of the array copied_special_nums is {id(copied_special_nums)}.')"
   ]
  },
  {
   "cell_type": "markdown",
   "id": "3a5a246a",
   "metadata": {},
   "source": [
    "#### Copying using view()\n",
    "This process gives the different ID number."
   ]
  },
  {
   "cell_type": "code",
   "execution_count": 25,
   "id": "0bbe5207",
   "metadata": {},
   "outputs": [
    {
     "name": "stdout",
     "output_type": "stream",
     "text": [
      "[5.770e-01 1.618e+00 2.718e+00 3.140e+00 6.000e+00 3.700e+01 1.729e+03] with the ID number 2668248532144\n",
      "[5.770e-01 1.618e+00 2.718e+00 3.140e+00 6.000e+00 3.700e+01 1.729e+03] with the ID number 2668254732400\n",
      "0.577 1.618 2.718 3.14 6.0 37.0 1729.0 \n",
      "0.577 1.618 2.718 3.14 6.0 37.0 1729.0 "
     ]
    }
   ],
   "source": [
    "# import numpy library\n",
    "import numpy as np\n",
    "\n",
    "# Copying the array\n",
    "special_nums = np.array( [0.577, 1.618, 2.718, 3.14, 6, 37, 1729])\n",
    "copied_special_nums = special_nums.view()\n",
    "print(special_nums, 'with the ID number', id(special_nums))\n",
    "print(copied_special_nums, 'with the ID number', id(copied_special_nums))\n",
    "\n",
    "#Using for loop\n",
    "for i in special_nums:\n",
    "    print(i, end = ' ')\n",
    "print()\n",
    "for i in copied_special_nums:\n",
    "    print(i, end = ' ')\n"
   ]
  },
  {
   "cell_type": "markdown",
   "id": "7fd291e1",
   "metadata": {},
   "source": [
    "#### Copying using copy()\n",
    "This process gives the different ID number."
   ]
  },
  {
   "cell_type": "code",
   "execution_count": 26,
   "id": "b7b86e77",
   "metadata": {},
   "outputs": [
    {
     "name": "stdout",
     "output_type": "stream",
     "text": [
      "[5.770e-01 1.618e+00 2.718e+00 3.140e+00 6.000e+00 3.700e+01 1.729e+03] with the ID number 2668254735376\n",
      "[5.770e-01 1.618e+00 2.718e+00 3.140e+00 6.000e+00 3.700e+01 1.729e+03] with the ID number 2668254736144\n",
      "0.577 1.618 2.718 3.14 6.0 37.0 1729.0 \n",
      "0.577 1.618 2.718 3.14 6.0 37.0 1729.0 "
     ]
    }
   ],
   "source": [
    "# import numpy library\n",
    "import numpy as np\n",
    "\n",
    "# Copying the array\n",
    "special_nums = np.array( [0.577, 1.618, 2.718, 3.14, 6, 37, 1729])\n",
    "copied_special_nums = special_nums.copy()\n",
    "print(special_nums, 'with the ID number', id(special_nums))\n",
    "print(copied_special_nums, 'with the ID number', id(copied_special_nums))\n",
    "\n",
    "#Using for loop\n",
    "for i in special_nums:\n",
    "    print(i, end = ' ')\n",
    "print()\n",
    "for i in copied_special_nums:\n",
    "    print(i, end = ' ')\n"
   ]
  }
 ],
 "metadata": {
  "kernelspec": {
   "display_name": "Python 3 (ipykernel)",
   "language": "python",
   "name": "python3"
  },
  "language_info": {
   "codemirror_mode": {
    "name": "ipython",
    "version": 3
   },
   "file_extension": ".py",
   "mimetype": "text/x-python",
   "name": "python",
   "nbconvert_exporter": "python",
   "pygments_lexer": "ipython3",
   "version": "3.9.7"
  },
  "vscode": {
   "interpreter": {
    "hash": "b7377f19eab4b8c2e19b4d5b732c435591579d0f123dd21b146d33dfd161e508"
   }
  }
 },
 "nbformat": 4,
 "nbformat_minor": 5
}
