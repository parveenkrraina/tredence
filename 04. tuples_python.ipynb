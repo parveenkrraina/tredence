{
 "cells": [
  {
   "cell_type": "markdown",
   "metadata": {},
   "source": [
    "# Python Tutorial"
   ]
  },
  {
   "cell_type": "markdown",
   "metadata": {},
   "source": [
    "## 4. Tuples in Python\n",
    "\n",
    "Tuples are immutable lists and cannot be changed in any way once it is created.\n",
    "\n",
    "* Tuples are defined in the same way as lists.\n",
    "* They are enclosed within parenthesis and not within square braces.\n",
    "* Tuples are ordered, indexed collections of data. \n",
    "* Similar to string indices, the first value in the tuple will have the index [0], the second value [1]\n",
    "* Negative indices are counted from the end of the tuple, just like lists.\n",
    "* Tuple also has the same structure where commas separate the values.\n",
    "* Tuples can store duplicate values.\n",
    "* Tuples allow you to store several data items including string, integer, float in one variable."
   ]
  },
  {
   "cell_type": "markdown",
   "metadata": {},
   "source": [
    "<img src=\"https://files.realpython.com/media/Clean-Up-Your-Python-Code-With-namedtuple_Watermarked.04fbdec07d99.jpg\" width=\"500\" alt=\"tuples\"  />"
   ]
  },
  {
   "cell_type": "code",
   "execution_count": 9,
   "metadata": {},
   "outputs": [
    {
     "data": {
      "text/plain": [
       "('Hello',\n",
       " 'Python',\n",
       " 3.14,\n",
       " 1.618,\n",
       " True,\n",
       " False,\n",
       " 32,\n",
       " [1, 2, 3],\n",
       " {1, 2, 3},\n",
       " {'A': 3, 'B': 8},\n",
       " (0, 1))"
      ]
     },
     "execution_count": 9,
     "metadata": {},
     "output_type": "execute_result"
    }
   ],
   "source": [
    "# Take a tuple\n",
    "tuple_1 = ('Hello', 'Python', 3.14, 1.618, True, False, 32, [1,2,3], {1,2,3}, {'A': 3, 'B': 8}, (0, 1))\n",
    "tuple_1"
   ]
  },
  {
   "cell_type": "code",
   "execution_count": 10,
   "metadata": {},
   "outputs": [
    {
     "name": "stdout",
     "output_type": "stream",
     "text": [
      "<class 'tuple'>\n",
      "11\n"
     ]
    }
   ],
   "source": [
    "print(type(tuple_1))\n",
    "print(len(tuple_1))"
   ]
  },
  {
   "cell_type": "markdown",
   "metadata": {},
   "source": [
    "#### Indexing"
   ]
  },
  {
   "cell_type": "code",
   "execution_count": 12,
   "metadata": {},
   "outputs": [
    {
     "name": "stdout",
     "output_type": "stream",
     "text": [
      "Hello\n",
      "Python\n",
      "3.14\n",
      "(0, 1)\n",
      "{'A': 3, 'B': 8}\n",
      "{1, 2, 3}\n"
     ]
    }
   ],
   "source": [
    "# Printing the each value in a tuple using both positive and negative indexing\n",
    "tuple_1 = ('Hello', 'Python', 3.14, 1.618, True, False, 32, [1,2,3], {1,2,3}, {'A': 3, 'B': 8}, (0, 1))\n",
    "print(tuple_1[0])\n",
    "print(tuple_1[1])\n",
    "print(tuple_1[2])\n",
    "print(tuple_1[-1])\n",
    "print(tuple_1[-2])\n",
    "print(tuple_1[-3])"
   ]
  },
  {
   "cell_type": "code",
   "execution_count": 11,
   "metadata": {},
   "outputs": [
    {
     "name": "stdout",
     "output_type": "stream",
     "text": [
      "<class 'str'>\n",
      "<class 'float'>\n",
      "<class 'bool'>\n",
      "<class 'int'>\n",
      "<class 'list'>\n",
      "<class 'set'>\n",
      "<class 'dict'>\n",
      "<class 'tuple'>\n"
     ]
    }
   ],
   "source": [
    "# Printing the type of each value in the tuple\n",
    "tuple_1 = ('Hello', 'Python', 3.14, 1.618, True, False, 32, [1,2,3], {1,2,3}, {'A': 3, 'B': 8}, (0, 1))\n",
    "print(type(tuple_1[0]))\n",
    "print(type(tuple_1[2]))\n",
    "print(type(tuple_1[4]))\n",
    "print(type(tuple_1[6]))\n",
    "print(type(tuple_1[7]))\n",
    "print(type(tuple_1[8]))\n",
    "print(type(tuple_1[9]))\n",
    "print(type(tuple_1[10]))"
   ]
  },
  {
   "cell_type": "markdown",
   "metadata": {},
   "source": [
    "#### Concatenation of tuples\n",
    "\n",
    "To concatenate tuples, **+** sign is used"
   ]
  },
  {
   "cell_type": "code",
   "execution_count": 13,
   "metadata": {},
   "outputs": [
    {
     "data": {
      "text/plain": [
       "('Hello',\n",
       " 'Python',\n",
       " 3.14,\n",
       " 1.618,\n",
       " True,\n",
       " False,\n",
       " 32,\n",
       " [1, 2, 3],\n",
       " {1, 2, 3},\n",
       " {'A': 3, 'B': 8},\n",
       " (0, 1),\n",
       " 'Hello World!',\n",
       " 2022)"
      ]
     },
     "execution_count": 13,
     "metadata": {},
     "output_type": "execute_result"
    }
   ],
   "source": [
    "tuple_2 = tuple_1 + ('Hello World!', 2022)\n",
    "tuple_2"
   ]
  },
  {
   "cell_type": "markdown",
   "metadata": {},
   "source": [
    "#### Repetition of a tuple"
   ]
  },
  {
   "cell_type": "code",
   "execution_count": 48,
   "metadata": {},
   "outputs": [
    {
     "data": {
      "text/plain": [
       "(1, 2, 3, 4, 1, 2, 3, 4)"
      ]
     },
     "execution_count": 48,
     "metadata": {},
     "output_type": "execute_result"
    }
   ],
   "source": [
    "rep_tup = (1,2,3,4)\n",
    "rep_tup*2"
   ]
  },
  {
   "cell_type": "markdown",
   "metadata": {},
   "source": [
    "#### Membership"
   ]
  },
  {
   "cell_type": "code",
   "execution_count": 49,
   "metadata": {},
   "outputs": [
    {
     "name": "stdout",
     "output_type": "stream",
     "text": [
      "True\n",
      "False\n",
      "False\n",
      "True\n"
     ]
    }
   ],
   "source": [
    "rep_tup = (1,2,3,4)\n",
    "print(2 in rep_tup)\n",
    "print(2 not in rep_tup)\n",
    "print(5 in rep_tup)\n",
    "print(5 not in rep_tup)\n"
   ]
  },
  {
   "cell_type": "markdown",
   "metadata": {},
   "source": [
    "#### Iteration"
   ]
  },
  {
   "cell_type": "code",
   "execution_count": 50,
   "metadata": {},
   "outputs": [
    {
     "name": "stdout",
     "output_type": "stream",
     "text": [
      "1\n",
      "2\n",
      "3\n",
      "4\n"
     ]
    }
   ],
   "source": [
    "rep_tup = (1,2,3,4)\n",
    "for i in rep_tup:\n",
    "    print(i)"
   ]
  },
  {
   "cell_type": "markdown",
   "metadata": {},
   "source": [
    "#### **cmp()** function\n",
    "\n",
    "It is to compare two tuples and returs *True* or *False*"
   ]
  },
  {
   "cell_type": "code",
   "execution_count": 55,
   "metadata": {},
   "outputs": [
    {
     "name": "stdout",
     "output_type": "stream",
     "text": [
      "-1\n",
      "1\n",
      "0\n"
     ]
    }
   ],
   "source": [
    "def cmp(t1, t2): \n",
    "     return bool(t1 > t2) - bool(t1 < t2)\n",
    "def cmp(t31, t4): \n",
    "     return bool(t3 > t4) - bool(t3 < t4)\n",
    "def cmp(t5, t6): \n",
    "     return bool(t5 > t6) - bool(t5 < t6)\n",
    "t1 = (1,3,5)            # Here t1 is lower than t2, since the output is -1\n",
    "t2 = (2,4,6)\n",
    "\n",
    "t3 = (5,)               # Here t3 is higher than t4 since the output is 1\n",
    "t4 = (4,)\n",
    "\n",
    "t5 = (3.14,)           # Here t5 is equal to t6 since the output is 0\n",
    "t6 = (3.14,)\n",
    "\n",
    "print(cmp(t1, t2))\n",
    "print(cmp(t3, t4))\n",
    "print(cmp(t5, t6))"
   ]
  },
  {
   "cell_type": "markdown",
   "metadata": {},
   "source": [
    "#### **min()** function"
   ]
  },
  {
   "cell_type": "code",
   "execution_count": 56,
   "metadata": {},
   "outputs": [
    {
     "data": {
      "text/plain": [
       "1"
      ]
     },
     "execution_count": 56,
     "metadata": {},
     "output_type": "execute_result"
    }
   ],
   "source": [
    "rep_tup = (1,2,3,4)\n",
    "min(rep_tup)"
   ]
  },
  {
   "cell_type": "markdown",
   "metadata": {},
   "source": [
    "#### **max()** function"
   ]
  },
  {
   "cell_type": "code",
   "execution_count": 58,
   "metadata": {},
   "outputs": [
    {
     "data": {
      "text/plain": [
       "4"
      ]
     },
     "execution_count": 58,
     "metadata": {},
     "output_type": "execute_result"
    }
   ],
   "source": [
    "rep_tup = (1,2,3,4)\n",
    "max(rep_tup)"
   ]
  },
  {
   "cell_type": "markdown",
   "metadata": {},
   "source": [
    "#### **tup(seq)** function\n",
    "\n",
    "It converts a specific sequence to a tuple"
   ]
  },
  {
   "cell_type": "code",
   "execution_count": 60,
   "metadata": {},
   "outputs": [
    {
     "data": {
      "text/plain": [
       "('A', 'T', 'G', 'C', 'G', 'T', 'A', 'T', 'T', 'G', 'C', 'C', 'A', 'T')"
      ]
     },
     "execution_count": 60,
     "metadata": {},
     "output_type": "execute_result"
    }
   ],
   "source": [
    "seq = 'ATGCGTATTGCCAT'\n",
    "tuple(seq)"
   ]
  },
  {
   "cell_type": "markdown",
   "metadata": {},
   "source": [
    "#### Slicing\n",
    "\n",
    "To obtain a new tuple from the current tuple, the slicing method is used."
   ]
  },
  {
   "cell_type": "code",
   "execution_count": 14,
   "metadata": {},
   "outputs": [
    {
     "data": {
      "text/plain": [
       "(3.14, 1.618, True, False, 32)"
      ]
     },
     "execution_count": 14,
     "metadata": {},
     "output_type": "execute_result"
    }
   ],
   "source": [
    "# Obtaining a new tuple from the index 2 to index 6\n",
    "\n",
    "tuple_1 = ('Hello', 'Python', 3.14, 1.618, True, False, 32, [1,2,3], {1,2,3}, {'A': 3, 'B': 8}, (0, 1))\n",
    "tuple_1[2:7]"
   ]
  },
  {
   "cell_type": "code",
   "execution_count": 18,
   "metadata": {},
   "outputs": [
    {
     "data": {
      "text/plain": [
       "([1, 2, 3], {1, 2, 3}, {'A': 3, 'B': 8})"
      ]
     },
     "execution_count": 18,
     "metadata": {},
     "output_type": "execute_result"
    }
   ],
   "source": [
    "# Obtaining tuple using negative indexing\n",
    "tuple_1 = ('Hello', 'Python', 3.14, 1.618, True, False, 32, [1,2,3], {1,2,3}, {'A': 3, 'B': 8}, (0, 1))\n",
    "tuple_1[-4:-1]"
   ]
  },
  {
   "cell_type": "markdown",
   "metadata": {},
   "source": [
    "#### **len()** function\n",
    "\n",
    "To obtain how many elements there are in the tuple, use len() function."
   ]
  },
  {
   "cell_type": "code",
   "execution_count": 19,
   "metadata": {},
   "outputs": [
    {
     "data": {
      "text/plain": [
       "11"
      ]
     },
     "execution_count": 19,
     "metadata": {},
     "output_type": "execute_result"
    }
   ],
   "source": [
    "tuple_1 = ('Hello', 'Python', 3.14, 1.618, True, False, 32, [1,2,3], {1,2,3}, {'A': 3, 'B': 8}, (0, 1))\n",
    "len(tuple_1)"
   ]
  },
  {
   "cell_type": "markdown",
   "metadata": {},
   "source": [
    "#### Sorting tuple"
   ]
  },
  {
   "cell_type": "code",
   "execution_count": 22,
   "metadata": {},
   "outputs": [
    {
     "data": {
      "text/plain": [
       "[0, 1, 2, 3, 4, 6, 7, 8, 9, 9]"
      ]
     },
     "execution_count": 22,
     "metadata": {},
     "output_type": "execute_result"
    }
   ],
   "source": [
    "# Tuples can be sorted and save as a new tuple.\n",
    "\n",
    "tuple_3 = (0,9,7,4,6,2,9,8,3,1)\n",
    "sorted_tuple_3 = sorted(tuple_3)\n",
    "sorted_tuple_3"
   ]
  },
  {
   "cell_type": "markdown",
   "metadata": {},
   "source": [
    "#### Nested tuple\n",
    "\n",
    "In Python, a tuple written inside another tuple is known as a nested tuple."
   ]
  },
  {
   "cell_type": "code",
   "execution_count": 25,
   "metadata": {},
   "outputs": [
    {
     "data": {
      "text/plain": [
       "('biotechnology',\n",
       " (0, 5),\n",
       " ('fermentation', 'ethanol'),\n",
       " (3.14, 'pi', (1.618, 'golden ratio')))"
      ]
     },
     "execution_count": 25,
     "metadata": {},
     "output_type": "execute_result"
    }
   ],
   "source": [
    "# Take  a nested tuple\n",
    "nested_tuple =('biotechnology', (0, 5), ('fermentation', 'ethanol'), (3.14, 'pi', (1.618, 'golden ratio')) )\n",
    "nested_tuple"
   ]
  },
  {
   "cell_type": "code",
   "execution_count": 26,
   "metadata": {},
   "outputs": [
    {
     "name": "stdout",
     "output_type": "stream",
     "text": [
      "Element 0 of nested tuple is biotechnology\n",
      "Element 1 of nested tuple is (0, 5)\n",
      "Element 2 of nested tuple is ('fermentation', 'ethanol')\n",
      "Element 3 of nested tuple is (3.14, 'pi', (1.618, 'golden ratio'))\n"
     ]
    }
   ],
   "source": [
    "# Now printing the each element of the nested tuple\n",
    "print('Item 0 of nested tuple is', nested_tuple[0])\n",
    "print('Item 1 of nested tuple is', nested_tuple[1])\n",
    "print('Item 2 of nested tuple is', nested_tuple[2])\n",
    "print('Item 3 of nested tuple is', nested_tuple[3])"
   ]
  },
  {
   "cell_type": "code",
   "execution_count": 33,
   "metadata": {},
   "outputs": [
    {
     "name": "stdout",
     "output_type": "stream",
     "text": [
      "Item 1, 0 of the nested tuple is 0\n",
      "Item 1, 1 of the nested tuple is 5\n",
      "Item 2, 0 of the nested tuple is fermentation\n",
      "Item 2, 1 of the nested tuple is ethanol\n",
      "Item 3, 0 of the nested tuple is 3.14\n",
      "Item 3, 1 of the nested tuple is pi\n",
      "Item 3, 2 of the nested tuple is (1.618, 'golden ratio')\n",
      "Item 3, 2, 0 of the nested tuple is 1.618\n",
      "Item 3, 2, 1 of the nested tuple is golden ratio\n"
     ]
    }
   ],
   "source": [
    "# Using second index to access other tuples in the nested tuple\n",
    "print('Item 1, 0 of the nested tuple is', nested_tuple[1][0])\n",
    "print('Item 1, 1 of the nested tuple is', nested_tuple[1][1])\n",
    "print('Item 2, 0 of the nested tuple is', nested_tuple[2][0])\n",
    "print('Item 2, 1 of the nested tuple is', nested_tuple[2][1])\n",
    "print('Item 3, 0 of the nested tuple is', nested_tuple[3][0])\n",
    "print('Item 3, 1 of the nested tuple is', nested_tuple[3][1])\n",
    "print('Item 3, 2 of the nested tuple is', nested_tuple[3][2])\n",
    "\n",
    "# Accesing to the items in the second nested tuples using a third index\n",
    "print('Item 3, 2, 0 of the nested tuple is', nested_tuple[3][2][0])\n",
    "print('Item 3, 2, 1 of the nested tuple is', nested_tuple[3][2][1])"
   ]
  },
  {
   "cell_type": "markdown",
   "metadata": {},
   "source": [
    "#### Tuples are immutable"
   ]
  },
  {
   "cell_type": "code",
   "execution_count": 35,
   "metadata": {},
   "outputs": [
    {
     "ename": "TypeError",
     "evalue": "'tuple' object does not support item assignment",
     "output_type": "error",
     "traceback": [
      "\u001b[1;31m---------------------------------------------------------------------------\u001b[0m",
      "\u001b[1;31mTypeError\u001b[0m                                 Traceback (most recent call last)",
      "\u001b[1;32m~\\AppData\\Local\\Temp/ipykernel_17624/4165256041.py\u001b[0m in \u001b[0;36m<module>\u001b[1;34m\u001b[0m\n\u001b[0;32m      1\u001b[0m \u001b[1;31m# Take a tuple\u001b[0m\u001b[1;33m\u001b[0m\u001b[1;33m\u001b[0m\u001b[0m\n\u001b[0;32m      2\u001b[0m \u001b[0mtuple_4\u001b[0m \u001b[1;33m=\u001b[0m \u001b[1;33m(\u001b[0m\u001b[1;36m1\u001b[0m\u001b[1;33m,\u001b[0m\u001b[1;36m3\u001b[0m\u001b[1;33m,\u001b[0m\u001b[1;36m5\u001b[0m\u001b[1;33m,\u001b[0m\u001b[1;36m7\u001b[0m\u001b[1;33m,\u001b[0m\u001b[1;36m8\u001b[0m\u001b[1;33m)\u001b[0m\u001b[1;33m\u001b[0m\u001b[1;33m\u001b[0m\u001b[0m\n\u001b[1;32m----> 3\u001b[1;33m \u001b[0mtuple_4\u001b[0m\u001b[1;33m[\u001b[0m\u001b[1;36m0\u001b[0m\u001b[1;33m]\u001b[0m \u001b[1;33m=\u001b[0m \u001b[1;36m9\u001b[0m\u001b[1;33m\u001b[0m\u001b[1;33m\u001b[0m\u001b[0m\n\u001b[0m\u001b[0;32m      4\u001b[0m \u001b[0mprint\u001b[0m\u001b[1;33m(\u001b[0m\u001b[0mtuple_4\u001b[0m\u001b[1;33m)\u001b[0m\u001b[1;33m\u001b[0m\u001b[1;33m\u001b[0m\u001b[0m\n\u001b[0;32m      5\u001b[0m \u001b[1;33m\u001b[0m\u001b[0m\n",
      "\u001b[1;31mTypeError\u001b[0m: 'tuple' object does not support item assignment"
     ]
    }
   ],
   "source": [
    "# Take a tuple\n",
    "tuple_4 = (1,3,5,7,8)\n",
    "tuple_4[0] = 9 \n",
    "print(tuple_4)\n",
    "\n",
    "# The output shows the tuple is immutable"
   ]
  },
  {
   "cell_type": "markdown",
   "metadata": {},
   "source": [
    "#### Delete a tuple\n",
    "\n",
    "* An element in a tuple can not be deleted since it is immutable.\n",
    "* But a whole tuple can be deleted"
   ]
  },
  {
   "cell_type": "code",
   "execution_count": 36,
   "metadata": {},
   "outputs": [
    {
     "name": "stdout",
     "output_type": "stream",
     "text": [
      "Before deleting: (1, 3, 5, 7, 8)\n"
     ]
    },
    {
     "ename": "NameError",
     "evalue": "name 'tuple_4' is not defined",
     "output_type": "error",
     "traceback": [
      "\u001b[1;31m---------------------------------------------------------------------------\u001b[0m",
      "\u001b[1;31mNameError\u001b[0m                                 Traceback (most recent call last)",
      "\u001b[1;32m~\\AppData\\Local\\Temp/ipykernel_17624/736020228.py\u001b[0m in \u001b[0;36m<module>\u001b[1;34m\u001b[0m\n\u001b[0;32m      2\u001b[0m \u001b[0mprint\u001b[0m\u001b[1;33m(\u001b[0m\u001b[1;34m'Before deleting:'\u001b[0m\u001b[1;33m,\u001b[0m \u001b[0mtuple_4\u001b[0m\u001b[1;33m)\u001b[0m\u001b[1;33m\u001b[0m\u001b[1;33m\u001b[0m\u001b[0m\n\u001b[0;32m      3\u001b[0m \u001b[1;32mdel\u001b[0m \u001b[0mtuple_4\u001b[0m\u001b[1;33m\u001b[0m\u001b[1;33m\u001b[0m\u001b[0m\n\u001b[1;32m----> 4\u001b[1;33m \u001b[0mprint\u001b[0m\u001b[1;33m(\u001b[0m\u001b[1;34m'After deleting:'\u001b[0m\u001b[1;33m,\u001b[0m \u001b[0mtuple_4\u001b[0m\u001b[1;33m)\u001b[0m\u001b[1;33m\u001b[0m\u001b[1;33m\u001b[0m\u001b[0m\n\u001b[0m",
      "\u001b[1;31mNameError\u001b[0m: name 'tuple_4' is not defined"
     ]
    }
   ],
   "source": [
    "tuple_4 = (1,3,5,7,8)\n",
    "print('Before deleting:', tuple_4)\n",
    "del tuple_4\n",
    "print('After deleting:', tuple_4)"
   ]
  },
  {
   "cell_type": "markdown",
   "metadata": {},
   "source": [
    "#### **count()** method\n",
    "\n",
    "This method returns the number of time an item occurs in a tuple."
   ]
  },
  {
   "cell_type": "code",
   "execution_count": 39,
   "metadata": {},
   "outputs": [
    {
     "data": {
      "text/plain": [
       "4"
      ]
     },
     "execution_count": 39,
     "metadata": {},
     "output_type": "execute_result"
    }
   ],
   "source": [
    "tuple_5 = (1,1,3,3,5,5,5,5,6,6,7,8,9)\n",
    "tuple_5.count(5)"
   ]
  },
  {
   "cell_type": "markdown",
   "metadata": {},
   "source": [
    "#### **index()** method\n",
    "\n",
    "It returns the index of the first occurrence of the specified value in a tuple"
   ]
  },
  {
   "cell_type": "code",
   "execution_count": 42,
   "metadata": {},
   "outputs": [
    {
     "name": "stdout",
     "output_type": "stream",
     "text": [
      "4\n",
      "0\n",
      "12\n"
     ]
    }
   ],
   "source": [
    "tuple_5 = (1,1,3,3,5,5,5,5,6,6,7,8,9)\n",
    "print(tuple_5.index(5))\n",
    "print(tuple_5.index(1))\n",
    "print(tuple_5.index(9))"
   ]
  },
  {
   "cell_type": "markdown",
   "metadata": {},
   "source": [
    "#### One element tuple\n",
    "\n",
    "if a tuple includes only one element, you should put a comma after the element. Otherwise, it is not considered as a tuple."
   ]
  },
  {
   "cell_type": "code",
   "execution_count": 45,
   "metadata": {},
   "outputs": [
    {
     "name": "stdout",
     "output_type": "stream",
     "text": [
      "0\n",
      "<class 'int'>\n"
     ]
    }
   ],
   "source": [
    "tuple_6 = (0)\n",
    "print(tuple_6)\n",
    "print(type(tuple_6))\n",
    "\n",
    "# Here, you see that the output is an integer"
   ]
  },
  {
   "cell_type": "code",
   "execution_count": 47,
   "metadata": {},
   "outputs": [
    {
     "name": "stdout",
     "output_type": "stream",
     "text": [
      "(0,)\n",
      "<class 'tuple'>\n"
     ]
    }
   ],
   "source": [
    "tuple_7 = (0,)\n",
    "print(tuple_7)\n",
    "print(type(tuple_7))\n",
    "\n",
    "# You see that the output is a tuple"
   ]
  }
 ],
 "metadata": {
  "interpreter": {
   "hash": "b7377f19eab4b8c2e19b4d5b732c435591579d0f123dd21b146d33dfd161e508"
  },
  "kernelspec": {
   "display_name": "Python 3 (ipykernel)",
   "language": "python",
   "name": "python3"
  },
  "language_info": {
   "codemirror_mode": {
    "name": "ipython",
    "version": 3
   },
   "file_extension": ".py",
   "mimetype": "text/x-python",
   "name": "python",
   "nbconvert_exporter": "python",
   "pygments_lexer": "ipython3",
   "version": "3.9.7"
  }
 },
 "nbformat": 4,
 "nbformat_minor": 2
}
