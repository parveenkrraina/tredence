{
 "cells": [
  {
   "cell_type": "markdown",
   "metadata": {},
   "source": [
    "# **Python Tutorial**"
   ]
  },
  {
   "cell_type": "markdown",
   "metadata": {},
   "source": [
    "## **11. Built-in Functions in Python**\n",
    "\n",
    "Python has several functions that are readily available for use. These functions are called built-in functions. You can find more information about built-in functions from this <a href='https://www.w3schools.com/python/python_ref_functions.asp'>Link.</a>"
   ]
  },
  {
   "cell_type": "markdown",
   "metadata": {},
   "source": [
    "<img src='https://res.cloudinary.com/lwgatsby/f_auto/www/uploads/2021/01/python.functions.012021.png' width='600' alt='built-in functions'/>"
   ]
  },
  {
   "cell_type": "markdown",
   "metadata": {},
   "source": [
    "### **abs()**\n",
    "Returns the absolute value of a number"
   ]
  },
  {
   "cell_type": "code",
   "execution_count": 3,
   "metadata": {},
   "outputs": [
    {
     "name": "stdout",
     "output_type": "stream",
     "text": [
      "The entered number is -6\n",
      "The entered number is -37.0\n",
      "The absolute value of the first number is 6\n",
      "The absolute number of the second number is 37.0\n",
      "The difference between the two numbers is 31.0\n"
     ]
    }
   ],
   "source": [
    "num1 = int(input('Enter a number: '))\n",
    "print('The entered number is', num1)\n",
    "num2 = float(input('Enter a number: '))\n",
    "print('The entered number is', num2)\n",
    "print('The absolute value of the first number is', abs(num1))\n",
    "print('The absolute number of the second number is', abs(num2))\n",
    "print('The difference between the two numbers is', abs(num1-num2))"
   ]
  },
  {
   "cell_type": "markdown",
   "metadata": {},
   "source": [
    "### **all()**\n",
    "Retturns *True* if all elements in passes iterable are true. When the iterable object is empty, it returns *True*. Here, 0 and False return *False* in this function. "
   ]
  },
  {
   "cell_type": "code",
   "execution_count": 10,
   "metadata": {},
   "outputs": [
    {
     "name": "stdout",
     "output_type": "stream",
     "text": [
      "True\n",
      "[0.577, 1.618, 2.718, 3.14, 6, 28, 37, 1729, 0]\n",
      "False\n",
      "[0.577, 1.618, 2.718, 3.14, 6, 28, 37, 1729, 0, False]\n",
      "False\n",
      "[]\n",
      "True\n"
     ]
    }
   ],
   "source": [
    "nlis1 = [0.577, 1.618, 2.718, 3.14, 6, 28, 37, 1729]\n",
    "print(all(nlis1))\n",
    "nlis1.append(0)     # Add '0' to the end of the list\n",
    "print(nlis1)\n",
    "print(all(nlis1))\n",
    "nlis1.append(False)     # Adds 'False' to the end of the list\n",
    "print(nlis1)\n",
    "print(all(nlis1))\n",
    "nlis1.clear()       # It returns an emtpy list\n",
    "print(nlis1)\n",
    "print(all(nlis1))"
   ]
  },
  {
   "cell_type": "markdown",
   "metadata": {},
   "source": [
    "### **bin()** \n",
    "Returns the binary representation of a specificied integer"
   ]
  },
  {
   "cell_type": "code",
   "execution_count": 14,
   "metadata": {},
   "outputs": [
    {
     "name": "stdout",
     "output_type": "stream",
     "text": [
      "The entered number is 37.\n",
      "The binary representation of 37 is 0b100101.\n"
     ]
    }
   ],
   "source": [
    "num = int(input('Enter a number: '))\n",
    "print(f'The entered number is {num}.')\n",
    "print(f'The binary representation of {num} is {bin(num)}.')"
   ]
  },
  {
   "cell_type": "markdown",
   "metadata": {},
   "source": [
    "### **bool()**\n",
    "Converts a value to *boolean*, namely *True* and *False*"
   ]
  },
  {
   "cell_type": "code",
   "execution_count": 25,
   "metadata": {},
   "outputs": [
    {
     "name": "stdout",
     "output_type": "stream",
     "text": [
      "False False False\n",
      "True True True\n",
      "True True True\n",
      "False True True\n",
      "False\n",
      "True\n"
     ]
    }
   ],
   "source": [
    "lis, dict, tuple = [], {}, ()\n",
    "print(bool(lis), bool(dict), bool(tuple))\n",
    "lis, dict, tuple = [0], {'a': 1}, (1,)\n",
    "print(bool(lis), bool(dict), bool(tuple))\n",
    "lis, dict, tuple = [0.0], {'a': 1.0}, (1.0,)\n",
    "print(bool(lis), bool(dict), bool(tuple))\n",
    "a, b, c = 0, 3.14, 'Hello, Python!'\n",
    "print(bool(a), bool(b), bool(c))\n",
    "statement = None\n",
    "print(bool(None))\n",
    "true = True\n",
    "print(bool(true))"
   ]
  },
  {
   "cell_type": "markdown",
   "metadata": {},
   "source": [
    "### **bytes()**\n",
    "Returns a *btyes* object"
   ]
  },
  {
   "cell_type": "code",
   "execution_count": 26,
   "metadata": {},
   "outputs": [
    {
     "name": "stdout",
     "output_type": "stream",
     "text": [
      "b'Hello, Python!'\n"
     ]
    }
   ],
   "source": [
    "msg = 'Hello, Python!'\n",
    "new_msg = bytes(msg, 'utf-8')\n",
    "print(new_msg)"
   ]
  },
  {
   "cell_type": "markdown",
   "metadata": {},
   "source": [
    "### **callable()**\n",
    "Checks and returns *True* if the object passed appears to be *callable*"
   ]
  },
  {
   "cell_type": "code",
   "execution_count": 31,
   "metadata": {},
   "outputs": [
    {
     "name": "stdout",
     "output_type": "stream",
     "text": [
      "False\n",
      "True\n"
     ]
    }
   ],
   "source": [
    "var = 3.14\n",
    "print(callable(var))        # since the object does not appear callable, it returns False\n",
    "\n",
    "def function():                 # since the object appears callable, it returns True\n",
    "    print('Hi, Python!')\n",
    "msg = function\n",
    "print(callable(msg))"
   ]
  },
  {
   "cell_type": "markdown",
   "metadata": {},
   "source": [
    "### **chr()**\n",
    "It returns a character from the specified Unicode code."
   ]
  },
  {
   "cell_type": "code",
   "execution_count": 134,
   "metadata": {},
   "outputs": [
    {
     "name": "stdout",
     "output_type": "stream",
     "text": [
      "B\n",
      "Y\n",
      "\n",
      "ל\n",
      "\u0003\n"
     ]
    },
    {
     "ename": "ValueError",
     "evalue": "chr() arg not in range(0x110000)",
     "output_type": "error",
     "traceback": [
      "\u001b[1;31m---------------------------------------------------------------------------\u001b[0m",
      "\u001b[1;31mValueError\u001b[0m                                Traceback (most recent call last)",
      "\u001b[1;32m~\\AppData\\Local\\Temp/ipykernel_16192/1238010354.py\u001b[0m in \u001b[0;36m<module>\u001b[1;34m\u001b[0m\n\u001b[0;32m      4\u001b[0m \u001b[0mprint\u001b[0m\u001b[1;33m(\u001b[0m\u001b[0mchr\u001b[0m\u001b[1;33m(\u001b[0m\u001b[1;36m1500\u001b[0m\u001b[1;33m)\u001b[0m\u001b[1;33m)\u001b[0m\u001b[1;33m\u001b[0m\u001b[1;33m\u001b[0m\u001b[0m\n\u001b[0;32m      5\u001b[0m \u001b[0mprint\u001b[0m\u001b[1;33m(\u001b[0m\u001b[0mchr\u001b[0m\u001b[1;33m(\u001b[0m\u001b[1;36m3\u001b[0m\u001b[1;33m)\u001b[0m\u001b[1;33m)\u001b[0m\u001b[1;33m\u001b[0m\u001b[1;33m\u001b[0m\u001b[0m\n\u001b[1;32m----> 6\u001b[1;33m \u001b[0mprint\u001b[0m\u001b[1;33m(\u001b[0m\u001b[0mchr\u001b[0m\u001b[1;33m(\u001b[0m\u001b[1;33m-\u001b[0m\u001b[1;36m500\u001b[0m\u001b[1;33m)\u001b[0m\u001b[1;33m)\u001b[0m        \u001b[1;31m# The argument must be inside of the range.\u001b[0m\u001b[1;33m\u001b[0m\u001b[1;33m\u001b[0m\u001b[0m\n\u001b[0m",
      "\u001b[1;31mValueError\u001b[0m: chr() arg not in range(0x110000)"
     ]
    }
   ],
   "source": [
    "print(chr(66))\n",
    "print(chr(89))\n",
    "print(chr(132))\n",
    "print(chr(1500))\n",
    "print(chr(3))\n",
    "print(chr(-500))        # The argument must be inside of the range. "
   ]
  },
  {
   "cell_type": "code",
   "execution_count": 135,
   "metadata": {},
   "outputs": [
    {
     "ename": "TypeError",
     "evalue": "'str' object cannot be interpreted as an integer",
     "output_type": "error",
     "traceback": [
      "\u001b[1;31m---------------------------------------------------------------------------\u001b[0m",
      "\u001b[1;31mTypeError\u001b[0m                                 Traceback (most recent call last)",
      "\u001b[1;32m~\\AppData\\Local\\Temp/ipykernel_16192/213842990.py\u001b[0m in \u001b[0;36m<module>\u001b[1;34m\u001b[0m\n\u001b[1;32m----> 1\u001b[1;33m \u001b[0mprint\u001b[0m\u001b[1;33m(\u001b[0m\u001b[0mchr\u001b[0m\u001b[1;33m(\u001b[0m\u001b[1;34m'Python'\u001b[0m\u001b[1;33m)\u001b[0m\u001b[1;33m)\u001b[0m        \u001b[1;31m# The argument maut be integer.\u001b[0m\u001b[1;33m\u001b[0m\u001b[1;33m\u001b[0m\u001b[0m\n\u001b[0m",
      "\u001b[1;31mTypeError\u001b[0m: 'str' object cannot be interpreted as an integer"
     ]
    }
   ],
   "source": [
    "print(chr('Python'))        # The argument maut be integer."
   ]
  },
  {
   "cell_type": "markdown",
   "metadata": {},
   "source": [
    "### **compile()**\n",
    "Returns a code object that can subsequently be executed by *exec()* function"
   ]
  },
  {
   "cell_type": "code",
   "execution_count": 35,
   "metadata": {},
   "outputs": [
    {
     "name": "stdout",
     "output_type": "stream",
     "text": [
      "<class 'code'>\n",
      "Result = 19.87\n"
     ]
    }
   ],
   "source": [
    "code_line = 'x=3.14\\ny=2.718\\nprint(\"Result =\", 2*x+5*y)'\n",
    "code = compile(code_line, 'Result.py', 'exec')\n",
    "print(type(code))\n",
    "exec(code)"
   ]
  },
  {
   "cell_type": "markdown",
   "metadata": {},
   "source": [
    "### **exec()**\n",
    "Executes the specified code or object"
   ]
  },
  {
   "cell_type": "code",
   "execution_count": 39,
   "metadata": {},
   "outputs": [
    {
     "name": "stdout",
     "output_type": "stream",
     "text": [
      "True\n",
      "False\n",
      "5.8580000000000005\n"
     ]
    }
   ],
   "source": [
    "var = 3.14\n",
    "exec('print(var==3.14)')\n",
    "exec('print(var!=3.14)')\n",
    "exec('print(var+2.718)')"
   ]
  },
  {
   "cell_type": "markdown",
   "metadata": {},
   "source": [
    "### **getattr()**\n",
    "It returns the value of the specified attribute (property or method). If it is not found, it returns the default value."
   ]
  },
  {
   "cell_type": "code",
   "execution_count": 42,
   "metadata": {},
   "outputs": [
    {
     "name": "stdout",
     "output_type": "stream",
     "text": [
      "The euler number is 2.718\n",
      "The golden ratio is 1.618\n"
     ]
    }
   ],
   "source": [
    "class SpecialNumbers:\n",
    "    euler_constant = 0.577\n",
    "    euler_number = 2.718\n",
    "    pi = 3.14\n",
    "    golden_ratio = 1.618\n",
    "    msg = 'These numbers are special.'\n",
    "\n",
    "special_numbers = SpecialNumbers()\n",
    "print('The euler number is', getattr(special_numbers, 'euler_number'))\n",
    "print('The golden ratio is', special_numbers.golden_ratio)"
   ]
  },
  {
   "cell_type": "markdown",
   "metadata": {},
   "source": [
    "### **delattr()**\n",
    "It deletes the specified attribute (property or method) from the specified object."
   ]
  },
  {
   "cell_type": "code",
   "execution_count": 143,
   "metadata": {},
   "outputs": [
    {
     "name": "stdout",
     "output_type": "stream",
     "text": [
      "0.577 2.718 3.14 1.618 These numbers are special.\n"
     ]
    },
    {
     "ename": "AttributeError",
     "evalue": "'SpecialNumbers' object has no attribute 'msg'",
     "output_type": "error",
     "traceback": [
      "\u001b[1;31m---------------------------------------------------------------------------\u001b[0m",
      "\u001b[1;31mAttributeError\u001b[0m                            Traceback (most recent call last)",
      "\u001b[1;32m~\\AppData\\Local\\Temp/ipykernel_16192/3892590851.py\u001b[0m in \u001b[0;36m<module>\u001b[1;34m\u001b[0m\n\u001b[0;32m     12\u001b[0m \u001b[0mspecial_numbers\u001b[0m\u001b[1;33m.\u001b[0m\u001b[0mparameter\u001b[0m\u001b[1;33m(\u001b[0m\u001b[1;33m)\u001b[0m\u001b[1;33m\u001b[0m\u001b[1;33m\u001b[0m\u001b[0m\n\u001b[0;32m     13\u001b[0m \u001b[0mdelattr\u001b[0m\u001b[1;33m(\u001b[0m\u001b[0mSpecialNumbers\u001b[0m\u001b[1;33m,\u001b[0m \u001b[1;34m'msg'\u001b[0m\u001b[1;33m)\u001b[0m\u001b[1;33m\u001b[0m\u001b[1;33m\u001b[0m\u001b[0m\n\u001b[1;32m---> 14\u001b[1;33m \u001b[0mspecial_numbers\u001b[0m\u001b[1;33m.\u001b[0m\u001b[0mparameter\u001b[0m\u001b[1;33m(\u001b[0m\u001b[1;33m)\u001b[0m\u001b[1;33m\u001b[0m\u001b[1;33m\u001b[0m\u001b[0m\n\u001b[0m",
      "\u001b[1;32m~\\AppData\\Local\\Temp/ipykernel_16192/3892590851.py\u001b[0m in \u001b[0;36mparameter\u001b[1;34m(self)\u001b[0m\n\u001b[0;32m      7\u001b[0m \u001b[1;33m\u001b[0m\u001b[0m\n\u001b[0;32m      8\u001b[0m     \u001b[1;32mdef\u001b[0m \u001b[0mparameter\u001b[0m\u001b[1;33m(\u001b[0m\u001b[0mself\u001b[0m\u001b[1;33m)\u001b[0m\u001b[1;33m:\u001b[0m\u001b[1;33m\u001b[0m\u001b[1;33m\u001b[0m\u001b[0m\n\u001b[1;32m----> 9\u001b[1;33m         \u001b[0mprint\u001b[0m\u001b[1;33m(\u001b[0m\u001b[0mself\u001b[0m\u001b[1;33m.\u001b[0m\u001b[0meuler_constant\u001b[0m\u001b[1;33m,\u001b[0m \u001b[0mself\u001b[0m\u001b[1;33m.\u001b[0m\u001b[0meuler_number\u001b[0m\u001b[1;33m,\u001b[0m \u001b[0mself\u001b[0m\u001b[1;33m.\u001b[0m\u001b[0mpi\u001b[0m\u001b[1;33m,\u001b[0m \u001b[0mself\u001b[0m\u001b[1;33m.\u001b[0m\u001b[0mgolden_ratio\u001b[0m\u001b[1;33m,\u001b[0m \u001b[0mself\u001b[0m\u001b[1;33m.\u001b[0m\u001b[0mmsg\u001b[0m\u001b[1;33m)\u001b[0m\u001b[1;33m\u001b[0m\u001b[1;33m\u001b[0m\u001b[0m\n\u001b[0m\u001b[0;32m     10\u001b[0m \u001b[1;33m\u001b[0m\u001b[0m\n\u001b[0;32m     11\u001b[0m \u001b[0mspecial_numbers\u001b[0m \u001b[1;33m=\u001b[0m \u001b[0mSpecialNumbers\u001b[0m\u001b[1;33m(\u001b[0m\u001b[1;33m)\u001b[0m\u001b[1;33m\u001b[0m\u001b[1;33m\u001b[0m\u001b[0m\n",
      "\u001b[1;31mAttributeError\u001b[0m: 'SpecialNumbers' object has no attribute 'msg'"
     ]
    }
   ],
   "source": [
    "class SpecialNumbers:\n",
    "    euler_constant = 0.577\n",
    "    euler_number = 2.718\n",
    "    pi = 3.14\n",
    "    golden_ratio = 1.618\n",
    "    msg = 'These numbers are special.'\n",
    "    \n",
    "    def parameter(self):\n",
    "        print(self.euler_constant, self.euler_number, self.pi, self.golden_ratio, self.msg)\n",
    "\n",
    "special_numbers = SpecialNumbers()\n",
    "special_numbers.parameter()\n",
    "delattr(SpecialNumbers, 'msg')      # The code deleted the 'msg'.\n",
    "special_numbers.parameter()         # Since the code deleted the 'msg', it returns an AttributeError."
   ]
  },
  {
   "cell_type": "markdown",
   "metadata": {},
   "source": [
    "### **dict()**\n",
    "It returns a dictionary (Array)."
   ]
  },
  {
   "cell_type": "code",
   "execution_count": 158,
   "metadata": {},
   "outputs": [
    {
     "name": "stdout",
     "output_type": "stream",
     "text": [
      "{}\n",
      "{'euler_constant': 0.577, 'euler_number': 2.718, 'golden_ratio': 1.618}\n"
     ]
    }
   ],
   "source": [
    "name = dict()\n",
    "print(name)\n",
    "\n",
    "dictionary = dict(euler_constant = 0.577, euler_number=2.718, golden_ratio=1.618)\n",
    "print(dictionary)"
   ]
  },
  {
   "cell_type": "markdown",
   "metadata": {},
   "source": [
    "### **enumerate()**\n",
    "It takes a collection (e.g. a tuple) and returns it as an enumerate object."
   ]
  },
  {
   "cell_type": "code",
   "execution_count": 156,
   "metadata": {},
   "outputs": [
    {
     "name": "stdout",
     "output_type": "stream",
     "text": [
      "0 Hello Python!\n",
      "1 Hello, World!\n"
     ]
    }
   ],
   "source": [
    "str_list = ['Hello Python!','Hello, World!']\n",
    "for i, str_list in enumerate(str_list):\n",
    "    print(i, str_list)"
   ]
  },
  {
   "cell_type": "code",
   "execution_count": 155,
   "metadata": {},
   "outputs": [
    {
     "name": "stdout",
     "output_type": "stream",
     "text": [
      "[(0, 'Hello Python!'), (1, 'Hello, World!')]\n"
     ]
    }
   ],
   "source": [
    "str_list = ['Hello Python!','Hello, World!']\n",
    "enumerate_list = enumerate(str_list)\n",
    "print(list(enumerate_list))"
   ]
  },
  {
   "cell_type": "markdown",
   "metadata": {},
   "source": [
    "### **filter()**\n",
    "It excludes items in an iterable object."
   ]
  },
  {
   "cell_type": "code",
   "execution_count": 159,
   "metadata": {},
   "outputs": [
    {
     "name": "stdout",
     "output_type": "stream",
     "text": [
      "[37, 1729]\n"
     ]
    }
   ],
   "source": [
    "def filtering(data):\n",
    "    if data > 30:\n",
    "        return data\n",
    "\n",
    "data = [0.577, 1.618, 2.718, 3.14, 6, 28, 37, 1729]\n",
    "result = filter(filtering, data)\n",
    "print(list(result))"
   ]
  },
  {
   "cell_type": "markdown",
   "metadata": {},
   "source": [
    "### **globals()**\n",
    "It returns the current global symbol table as a dictionary."
   ]
  },
  {
   "cell_type": "code",
   "execution_count": 39,
   "metadata": {
    "scrolled": true
   },
   "outputs": [
    {
     "data": {
      "text/plain": [
       "{'__name__': '__main__',\n",
       " '__doc__': 'Automatically created module for IPython interactive environment',\n",
       " '__package__': None,\n",
       " '__loader__': None,\n",
       " '__spec__': None,\n",
       " '__builtin__': <module 'builtins' (built-in)>,\n",
       " '__builtins__': <module 'builtins' (built-in)>,\n",
       " '_ih': ['',\n",
       "  'nlis = [0.577, 1.618, 2.718, 3.14, 6, 28, 37, 1729]\\nprint(any(nlis))',\n",
       "  'nlis = [0.577, 1.618, 2.718, 3.14, 6, 28, 37, 1729]\\nprint(any(nlis))\\nnlis.clear()\\nprint(nlis)\\nprint(any(nlis))',\n",
       "  'nlis = [0.577, 1.618, 2.718, 3.14, 6, 28, 37, 1729]\\nprint(nlis)\\nprint(any(nlis))\\nnlis.clear()\\nprint(nlis)\\nprint(any(nlis))',\n",
       "  \"nlis = [0.577, 1.618, 2.718, 3.14, 6, 28, 37, 1729]\\nprint(nlis)\\nprint(any(nlis))\\nnlis.clear()\\nprint(nlis)\\nprint(any(nlis))\\nnlis.append(0, 'False')\\nprint(nlis)\",\n",
       "  'nlis = [0.577, 1.618, 2.718, 3.14, 6, 28, 37, 1729]\\nprint(nlis)\\nprint(any(nlis))\\nnlis.clear()\\nprint(nlis)\\nprint(any(nlis))\\nnlis.append(0, False)\\nprint(nlis)',\n",
       "  'nlis = [0.577, 1.618, 2.718, 3.14, 6, 28, 37, 1729]\\nprint(nlis)\\nprint(any(nlis))\\nnlis.clear()\\nprint(nlis)\\nprint(any(nlis))\\nnlis.append(0)\\nprint(nlis)',\n",
       "  'nlis = [0.577, 1.618, 2.718, 3.14, 6, 28, 37, 1729]\\nprint(nlis)\\nprint(any(nlis))\\nnlis.clear()\\nprint(nlis)\\nprint(any(nlis))\\nnlis.append(0)\\nprint(nlis)\\nprint(any(nlis))',\n",
       "  'nlis = [0.577, 1.618, 2.718, 3.14, 6, 28, 37, 1729]\\nprint(nlis)\\nprint(any(nlis))\\nnlis.clear()\\nprint(nlis)\\nprint(any(nlis))\\nnlis.append(0)\\nprint(nlis)\\nprint(any(nlis))\\nnlis.append(False)\\nprint(nlis)\\nprint(any(nlis))',\n",
       "  'nlis = [0.577, 1.618, 2.718, 3.14, 6, 28, 37, 1729]\\nprint(nlis)\\nprint(any(nlis))\\nnlis.clear()\\nprint(nlis)\\nprint(any(nlis))\\nnlis.append(0)\\nprint(nlis)\\nprint(any(nlis))\\nnlis.append(False)\\nprint(nlis)\\nprint(any(nlis))\\nnlis.append(True)\\nprint(nlis)\\nprint(any(nlis))',\n",
       "  'nlis = [0.577, 1.618, 2.718, 3.14, 6, 28, 37, 1729]\\nprint(nlis)\\nprint(any(nlis))\\nnlis.clear()\\nprint(nlis)\\nprint(any(nlis))        # An emptly list returns False\\nnlis.append(0)\\nprint(nlis)\\nprint(any(nlis))        # 0 in a list returns False\\nnlis.append(False)\\nprint(nlis)\\nprint(any(nlis))        # False in a list returns False\\nnlis.append(True)\\nprint(nlis)\\nprint(any(nlis))        # True in a list returns True\\nnlis.append(1)\\nprint(nlis)\\nprint(any(nlis))    # 1 in a list returns True\\nnlis.clear()\\nnlis.append(None)\\nprint(nlis)\\nprint(any(nlis))  #',\n",
       "  \"txt = 'Hello, Python!'\\nprint(ascii(txt))\",\n",
       "  \"txt = 'Hello, Python!'\\nprint(ascii(txt))\\ntext = 'Hello, Pythän'\\nprint(ascii(text))\",\n",
       "  \"txt = 'Hello, Python!'\\nprint(ascii(txt))\\ntext = 'Hello, Pythän'\\nprint(ascii(text))\\nprint('Hello, Pyth\\\\xe4n')\",\n",
       "  \"txt = 'Hello, Python!'\\nprint(ascii(txt))\\ntext = 'Hello, Pythän!'\\nprint(ascii(text))\\nprint('Hello, Pyth\\\\xe4n!')\",\n",
       "  \"txt = 'Hello, Python!'\\nprint(ascii(txt))\\ntext = 'Hello, Pythän!'\\nprint(ascii(text))\\nprint('Hello, Pyth\\\\xe4n!')\\nmsg = 'Hellü, World!'\\nprint(ascii(msg))\",\n",
       "  \"txt = 'Hello, Python!'\\nprint(ascii(txt))\\ntext = 'Hello, Pythän!'\\nprint(ascii(text))\\nprint('Hello, Pyth\\\\xe4n!')\\nmsg = 'Hellü, World!'\\nprint(ascii(msg))\\nprint('Hellü, World!')\",\n",
       "  \"txt = 'Hello, Python!'\\nprint(ascii(txt))\\ntext = 'Hello, Pythän!'\\nprint(ascii(text))\\nprint('Hello, Pyth\\\\xe4n!')\\nmsg = 'Hellü, World!'\\nprint(ascii(msg))\\nprint('Hell\\\\xfc, World!')\",\n",
       "  \"txt = 'Hello, Python!'\\nprint(bytearray(txt, 'utf-8'))\",\n",
       "  \"txt = 'Hello, Python!'\\nprint(bytearray(txt, 'utf-8'))\\nint_num = 37\\nprint(bytearray(int_num, 'utf-8'))\",\n",
       "  \"txt = 'Hello, Python!'\\nprint(bytearray(txt, 'utf-8'))\\nint_num = 37\\nprint(bytearray(int_num))\",\n",
       "  \"txt = 'Hello, Python!'\\nprint(bytearray(txt, 'utf-8'))\\nint_num = 37\\nprint(bytearray(int_num))\\nfloat_num = 3.14\\nprint(bytearray(float_num))\",\n",
       "  \"txt = 'Hello, Python!'\\nprint(bytearray(txt, 'utf-8'))\\nint_num = 37\\nprint(bytearray(int_num))\\nnlis = [0.577, 1.618, 2.718, 3.14, 6, 28, 37, 1729]\\nprint(bytearray(nlis))\\nfloat_num = 3.14\\nprint(bytearray(float_num))\",\n",
       "  \"txt = 'Hello, Python!'\\nprint(bytearray(txt, 'utf-8'))\\nint_num = 37\\nprint(bytearray(int_num))\\nnlis = [0, 1, 1, 2, 3, 5, 8, 13, 21, 34]\\nprint(bytearray(nlis))\\nfloat_num = 3.14\\nprint(bytearray(float_num))\",\n",
       "  \"num = 37\\nprint(eval('num**num'))\",\n",
       "  \"num = 37\\nprint(eval('num*num'))\",\n",
       "  \"num = int(input('Enter a number: '))\\nprint(f'The entered number is {num}.')\\nprint(eval('num*num'))\",\n",
       "  \"int_num = 37\\nprint(float(int_num))\\nfloat_num = 3.14\\nprint(float(float_num))\\ntxt = '2.718'\\nprint(float(txt))\\nmsg = 'Hello, Python!'\\nprint(float(msg))\",\n",
       "  \"int_num = 37\\nprint(float(int_num))\\nfloat_num = 3.14\\nprint(float(float_num))\\ntxt = '2.718'\\nprint(float(txt))\\nmsg = 'Hello, Python!'         # It resturns a ValueError\\nprint(float(msg))\",\n",
       "  \"# integer format\\nnum = 37\\nprint(num, 'd')\",\n",
       "  \"# integer format\\nnum = 37\\nprint(format(num, 'd'))\",\n",
       "  \"# integer format\\nint_num = 37\\nprint(format(num, 'd'))\\n# float numbers\\nfloat_num = 2.718\\nprint(format(float_num, 'f'))\",\n",
       "  \"# integer format\\nint_num = 37\\nprint(format(num, 'd'))\\n# float numbers\\nfloat_num = 2.7182818284\\nprint(format(float_num, 'f'))\",\n",
       "  \"# integer format\\nint_num = 37\\nprint(format(num, 'd'))\\n# float numbers\\nfloat_num = 2.7182818284\\nprint(format(float_num, 'f'))\\n# binary format\\nnum = 1729\\nprint(format(num, 'b'))\",\n",
       "  'nlis = [0.577, 1.618, 2.718, 3.14, 6, 28, 37, 1729]\\nfrozen_nlis = frozenset(nlis)\\nprint(frozen_nlis)',\n",
       "  \"nlis = [0.577, 1.618, 2.718, 3.14, 6, 28, 37, 1729]\\nfrozen_nlis = frozenset(nlis)\\nprint('Frozen set is, ', frozen_nlis)\",\n",
       "  \"nlis = [0.577, 1.618, 2.718, 3.14, 6, 28, 37, 1729]\\nfrozen_nlis = frozenset(nlis)\\nprint('Frozen set is', frozen_nlis)\",\n",
       "  \"class SpecialNumbers:\\n    euler_constant = 0.577\\n    euler_number = 2.718\\n    pi = 3.14\\n    golden_ratio = 1.618\\n    msg = 'These numbers are special.'\\n\\nspecial_numbers = SpecialNumbers()\\nprint('The euler number is', getattr(special_numbers, 'euler_number'))\",\n",
       "  \"class SpecialNumbers:\\n    euler_constant = 0.577\\n    euler_number = 2.718\\n    pi = 3.14\\n    golden_ratio = 1.618\\n    msg = 'These numbers are special.'\\n\\nspecial_numbers = SpecialNumbers()\\nprint('The euler number is', getattr(special_numbers, 'euler_number'))\\nprint('The golden ratio is', special_numbers.golden_ratio)\",\n",
       "  'globals()'],\n",
       " '_oh': {},\n",
       " '_dh': ['c:\\\\Users\\\\test\\\\Desktop\\\\PROGRAMMING_WEB DEVELOPMENT\\\\PYTHON_TUTORIAL\\\\01. python_files_for_sharing\\\\jupyter_notebook_files'],\n",
       " 'In': ['',\n",
       "  'nlis = [0.577, 1.618, 2.718, 3.14, 6, 28, 37, 1729]\\nprint(any(nlis))',\n",
       "  'nlis = [0.577, 1.618, 2.718, 3.14, 6, 28, 37, 1729]\\nprint(any(nlis))\\nnlis.clear()\\nprint(nlis)\\nprint(any(nlis))',\n",
       "  'nlis = [0.577, 1.618, 2.718, 3.14, 6, 28, 37, 1729]\\nprint(nlis)\\nprint(any(nlis))\\nnlis.clear()\\nprint(nlis)\\nprint(any(nlis))',\n",
       "  \"nlis = [0.577, 1.618, 2.718, 3.14, 6, 28, 37, 1729]\\nprint(nlis)\\nprint(any(nlis))\\nnlis.clear()\\nprint(nlis)\\nprint(any(nlis))\\nnlis.append(0, 'False')\\nprint(nlis)\",\n",
       "  'nlis = [0.577, 1.618, 2.718, 3.14, 6, 28, 37, 1729]\\nprint(nlis)\\nprint(any(nlis))\\nnlis.clear()\\nprint(nlis)\\nprint(any(nlis))\\nnlis.append(0, False)\\nprint(nlis)',\n",
       "  'nlis = [0.577, 1.618, 2.718, 3.14, 6, 28, 37, 1729]\\nprint(nlis)\\nprint(any(nlis))\\nnlis.clear()\\nprint(nlis)\\nprint(any(nlis))\\nnlis.append(0)\\nprint(nlis)',\n",
       "  'nlis = [0.577, 1.618, 2.718, 3.14, 6, 28, 37, 1729]\\nprint(nlis)\\nprint(any(nlis))\\nnlis.clear()\\nprint(nlis)\\nprint(any(nlis))\\nnlis.append(0)\\nprint(nlis)\\nprint(any(nlis))',\n",
       "  'nlis = [0.577, 1.618, 2.718, 3.14, 6, 28, 37, 1729]\\nprint(nlis)\\nprint(any(nlis))\\nnlis.clear()\\nprint(nlis)\\nprint(any(nlis))\\nnlis.append(0)\\nprint(nlis)\\nprint(any(nlis))\\nnlis.append(False)\\nprint(nlis)\\nprint(any(nlis))',\n",
       "  'nlis = [0.577, 1.618, 2.718, 3.14, 6, 28, 37, 1729]\\nprint(nlis)\\nprint(any(nlis))\\nnlis.clear()\\nprint(nlis)\\nprint(any(nlis))\\nnlis.append(0)\\nprint(nlis)\\nprint(any(nlis))\\nnlis.append(False)\\nprint(nlis)\\nprint(any(nlis))\\nnlis.append(True)\\nprint(nlis)\\nprint(any(nlis))',\n",
       "  'nlis = [0.577, 1.618, 2.718, 3.14, 6, 28, 37, 1729]\\nprint(nlis)\\nprint(any(nlis))\\nnlis.clear()\\nprint(nlis)\\nprint(any(nlis))        # An emptly list returns False\\nnlis.append(0)\\nprint(nlis)\\nprint(any(nlis))        # 0 in a list returns False\\nnlis.append(False)\\nprint(nlis)\\nprint(any(nlis))        # False in a list returns False\\nnlis.append(True)\\nprint(nlis)\\nprint(any(nlis))        # True in a list returns True\\nnlis.append(1)\\nprint(nlis)\\nprint(any(nlis))    # 1 in a list returns True\\nnlis.clear()\\nnlis.append(None)\\nprint(nlis)\\nprint(any(nlis))  #',\n",
       "  \"txt = 'Hello, Python!'\\nprint(ascii(txt))\",\n",
       "  \"txt = 'Hello, Python!'\\nprint(ascii(txt))\\ntext = 'Hello, Pythän'\\nprint(ascii(text))\",\n",
       "  \"txt = 'Hello, Python!'\\nprint(ascii(txt))\\ntext = 'Hello, Pythän'\\nprint(ascii(text))\\nprint('Hello, Pyth\\\\xe4n')\",\n",
       "  \"txt = 'Hello, Python!'\\nprint(ascii(txt))\\ntext = 'Hello, Pythän!'\\nprint(ascii(text))\\nprint('Hello, Pyth\\\\xe4n!')\",\n",
       "  \"txt = 'Hello, Python!'\\nprint(ascii(txt))\\ntext = 'Hello, Pythän!'\\nprint(ascii(text))\\nprint('Hello, Pyth\\\\xe4n!')\\nmsg = 'Hellü, World!'\\nprint(ascii(msg))\",\n",
       "  \"txt = 'Hello, Python!'\\nprint(ascii(txt))\\ntext = 'Hello, Pythän!'\\nprint(ascii(text))\\nprint('Hello, Pyth\\\\xe4n!')\\nmsg = 'Hellü, World!'\\nprint(ascii(msg))\\nprint('Hellü, World!')\",\n",
       "  \"txt = 'Hello, Python!'\\nprint(ascii(txt))\\ntext = 'Hello, Pythän!'\\nprint(ascii(text))\\nprint('Hello, Pyth\\\\xe4n!')\\nmsg = 'Hellü, World!'\\nprint(ascii(msg))\\nprint('Hell\\\\xfc, World!')\",\n",
       "  \"txt = 'Hello, Python!'\\nprint(bytearray(txt, 'utf-8'))\",\n",
       "  \"txt = 'Hello, Python!'\\nprint(bytearray(txt, 'utf-8'))\\nint_num = 37\\nprint(bytearray(int_num, 'utf-8'))\",\n",
       "  \"txt = 'Hello, Python!'\\nprint(bytearray(txt, 'utf-8'))\\nint_num = 37\\nprint(bytearray(int_num))\",\n",
       "  \"txt = 'Hello, Python!'\\nprint(bytearray(txt, 'utf-8'))\\nint_num = 37\\nprint(bytearray(int_num))\\nfloat_num = 3.14\\nprint(bytearray(float_num))\",\n",
       "  \"txt = 'Hello, Python!'\\nprint(bytearray(txt, 'utf-8'))\\nint_num = 37\\nprint(bytearray(int_num))\\nnlis = [0.577, 1.618, 2.718, 3.14, 6, 28, 37, 1729]\\nprint(bytearray(nlis))\\nfloat_num = 3.14\\nprint(bytearray(float_num))\",\n",
       "  \"txt = 'Hello, Python!'\\nprint(bytearray(txt, 'utf-8'))\\nint_num = 37\\nprint(bytearray(int_num))\\nnlis = [0, 1, 1, 2, 3, 5, 8, 13, 21, 34]\\nprint(bytearray(nlis))\\nfloat_num = 3.14\\nprint(bytearray(float_num))\",\n",
       "  \"num = 37\\nprint(eval('num**num'))\",\n",
       "  \"num = 37\\nprint(eval('num*num'))\",\n",
       "  \"num = int(input('Enter a number: '))\\nprint(f'The entered number is {num}.')\\nprint(eval('num*num'))\",\n",
       "  \"int_num = 37\\nprint(float(int_num))\\nfloat_num = 3.14\\nprint(float(float_num))\\ntxt = '2.718'\\nprint(float(txt))\\nmsg = 'Hello, Python!'\\nprint(float(msg))\",\n",
       "  \"int_num = 37\\nprint(float(int_num))\\nfloat_num = 3.14\\nprint(float(float_num))\\ntxt = '2.718'\\nprint(float(txt))\\nmsg = 'Hello, Python!'         # It resturns a ValueError\\nprint(float(msg))\",\n",
       "  \"# integer format\\nnum = 37\\nprint(num, 'd')\",\n",
       "  \"# integer format\\nnum = 37\\nprint(format(num, 'd'))\",\n",
       "  \"# integer format\\nint_num = 37\\nprint(format(num, 'd'))\\n# float numbers\\nfloat_num = 2.718\\nprint(format(float_num, 'f'))\",\n",
       "  \"# integer format\\nint_num = 37\\nprint(format(num, 'd'))\\n# float numbers\\nfloat_num = 2.7182818284\\nprint(format(float_num, 'f'))\",\n",
       "  \"# integer format\\nint_num = 37\\nprint(format(num, 'd'))\\n# float numbers\\nfloat_num = 2.7182818284\\nprint(format(float_num, 'f'))\\n# binary format\\nnum = 1729\\nprint(format(num, 'b'))\",\n",
       "  'nlis = [0.577, 1.618, 2.718, 3.14, 6, 28, 37, 1729]\\nfrozen_nlis = frozenset(nlis)\\nprint(frozen_nlis)',\n",
       "  \"nlis = [0.577, 1.618, 2.718, 3.14, 6, 28, 37, 1729]\\nfrozen_nlis = frozenset(nlis)\\nprint('Frozen set is, ', frozen_nlis)\",\n",
       "  \"nlis = [0.577, 1.618, 2.718, 3.14, 6, 28, 37, 1729]\\nfrozen_nlis = frozenset(nlis)\\nprint('Frozen set is', frozen_nlis)\",\n",
       "  \"class SpecialNumbers:\\n    euler_constant = 0.577\\n    euler_number = 2.718\\n    pi = 3.14\\n    golden_ratio = 1.618\\n    msg = 'These numbers are special.'\\n\\nspecial_numbers = SpecialNumbers()\\nprint('The euler number is', getattr(special_numbers, 'euler_number'))\",\n",
       "  \"class SpecialNumbers:\\n    euler_constant = 0.577\\n    euler_number = 2.718\\n    pi = 3.14\\n    golden_ratio = 1.618\\n    msg = 'These numbers are special.'\\n\\nspecial_numbers = SpecialNumbers()\\nprint('The euler number is', getattr(special_numbers, 'euler_number'))\\nprint('The golden ratio is', special_numbers.golden_ratio)\",\n",
       "  'globals()'],\n",
       " 'Out': {},\n",
       " 'get_ipython': <bound method InteractiveShell.get_ipython of <ipykernel.zmqshell.ZMQInteractiveShell object at 0x0000018BB16B7CD0>>,\n",
       " 'exit': <IPython.core.autocall.ZMQExitAutocall at 0x18bb17745e0>,\n",
       " 'quit': <IPython.core.autocall.ZMQExitAutocall at 0x18bb17745e0>,\n",
       " '_': '',\n",
       " '__': '',\n",
       " '___': '',\n",
       " 'os': <module 'os' from 'c:\\\\Users\\\\test\\\\AppData\\\\Local\\\\Programs\\\\Python\\\\Python310\\\\lib\\\\os.py'>,\n",
       " 'sys': <module 'sys' (built-in)>,\n",
       " '__vsc_ipynb_file__': 'c:\\\\Users\\\\test\\\\Desktop\\\\PROGRAMMING_WEB DEVELOPMENT\\\\PYTHON_TUTORIAL\\\\01. python_files_for_sharing\\\\jupyter_notebook_files\\\\11. built_in_functions_python.ipynb',\n",
       " '_i': \"class SpecialNumbers:\\n    euler_constant = 0.577\\n    euler_number = 2.718\\n    pi = 3.14\\n    golden_ratio = 1.618\\n    msg = 'These numbers are special.'\\n\\nspecial_numbers = SpecialNumbers()\\nprint('The euler number is', getattr(special_numbers, 'euler_number'))\\nprint('The golden ratio is', special_numbers.golden_ratio)\",\n",
       " '_ii': \"class SpecialNumbers:\\n    euler_constant = 0.577\\n    euler_number = 2.718\\n    pi = 3.14\\n    golden_ratio = 1.618\\n    msg = 'These numbers are special.'\\n\\nspecial_numbers = SpecialNumbers()\\nprint('The euler number is', getattr(special_numbers, 'euler_number'))\",\n",
       " '_iii': \"nlis = [0.577, 1.618, 2.718, 3.14, 6, 28, 37, 1729]\\nfrozen_nlis = frozenset(nlis)\\nprint('Frozen set is', frozen_nlis)\",\n",
       " '_i1': 'nlis = [0.577, 1.618, 2.718, 3.14, 6, 28, 37, 1729]\\nprint(any(nlis))',\n",
       " 'nlis': [0.577, 1.618, 2.718, 3.14, 6, 28, 37, 1729],\n",
       " '_i2': 'nlis = [0.577, 1.618, 2.718, 3.14, 6, 28, 37, 1729]\\nprint(any(nlis))\\nnlis.clear()\\nprint(nlis)\\nprint(any(nlis))',\n",
       " '_i3': 'nlis = [0.577, 1.618, 2.718, 3.14, 6, 28, 37, 1729]\\nprint(nlis)\\nprint(any(nlis))\\nnlis.clear()\\nprint(nlis)\\nprint(any(nlis))',\n",
       " '_i4': \"nlis = [0.577, 1.618, 2.718, 3.14, 6, 28, 37, 1729]\\nprint(nlis)\\nprint(any(nlis))\\nnlis.clear()\\nprint(nlis)\\nprint(any(nlis))\\nnlis.append(0, 'False')\\nprint(nlis)\",\n",
       " '_i5': 'nlis = [0.577, 1.618, 2.718, 3.14, 6, 28, 37, 1729]\\nprint(nlis)\\nprint(any(nlis))\\nnlis.clear()\\nprint(nlis)\\nprint(any(nlis))\\nnlis.append(0, False)\\nprint(nlis)',\n",
       " '_i6': 'nlis = [0.577, 1.618, 2.718, 3.14, 6, 28, 37, 1729]\\nprint(nlis)\\nprint(any(nlis))\\nnlis.clear()\\nprint(nlis)\\nprint(any(nlis))\\nnlis.append(0)\\nprint(nlis)',\n",
       " '_i7': 'nlis = [0.577, 1.618, 2.718, 3.14, 6, 28, 37, 1729]\\nprint(nlis)\\nprint(any(nlis))\\nnlis.clear()\\nprint(nlis)\\nprint(any(nlis))\\nnlis.append(0)\\nprint(nlis)\\nprint(any(nlis))',\n",
       " '_i8': 'nlis = [0.577, 1.618, 2.718, 3.14, 6, 28, 37, 1729]\\nprint(nlis)\\nprint(any(nlis))\\nnlis.clear()\\nprint(nlis)\\nprint(any(nlis))\\nnlis.append(0)\\nprint(nlis)\\nprint(any(nlis))\\nnlis.append(False)\\nprint(nlis)\\nprint(any(nlis))',\n",
       " '_i9': 'nlis = [0.577, 1.618, 2.718, 3.14, 6, 28, 37, 1729]\\nprint(nlis)\\nprint(any(nlis))\\nnlis.clear()\\nprint(nlis)\\nprint(any(nlis))\\nnlis.append(0)\\nprint(nlis)\\nprint(any(nlis))\\nnlis.append(False)\\nprint(nlis)\\nprint(any(nlis))\\nnlis.append(True)\\nprint(nlis)\\nprint(any(nlis))',\n",
       " '_i10': 'nlis = [0.577, 1.618, 2.718, 3.14, 6, 28, 37, 1729]\\nprint(nlis)\\nprint(any(nlis))\\nnlis.clear()\\nprint(nlis)\\nprint(any(nlis))        # An emptly list returns False\\nnlis.append(0)\\nprint(nlis)\\nprint(any(nlis))        # 0 in a list returns False\\nnlis.append(False)\\nprint(nlis)\\nprint(any(nlis))        # False in a list returns False\\nnlis.append(True)\\nprint(nlis)\\nprint(any(nlis))        # True in a list returns True\\nnlis.append(1)\\nprint(nlis)\\nprint(any(nlis))    # 1 in a list returns True\\nnlis.clear()\\nnlis.append(None)\\nprint(nlis)\\nprint(any(nlis))  #',\n",
       " '_i11': \"txt = 'Hello, Python!'\\nprint(ascii(txt))\",\n",
       " 'txt': '2.718',\n",
       " '_i12': \"txt = 'Hello, Python!'\\nprint(ascii(txt))\\ntext = 'Hello, Pythän'\\nprint(ascii(text))\",\n",
       " 'text': 'Hello, Pythän!',\n",
       " '_i13': \"txt = 'Hello, Python!'\\nprint(ascii(txt))\\ntext = 'Hello, Pythän'\\nprint(ascii(text))\\nprint('Hello, Pyth\\\\xe4n')\",\n",
       " '_i14': \"txt = 'Hello, Python!'\\nprint(ascii(txt))\\ntext = 'Hello, Pythän!'\\nprint(ascii(text))\\nprint('Hello, Pyth\\\\xe4n!')\",\n",
       " '_i15': \"txt = 'Hello, Python!'\\nprint(ascii(txt))\\ntext = 'Hello, Pythän!'\\nprint(ascii(text))\\nprint('Hello, Pyth\\\\xe4n!')\\nmsg = 'Hellü, World!'\\nprint(ascii(msg))\",\n",
       " 'msg': 'Hello, Python!',\n",
       " '_i16': \"txt = 'Hello, Python!'\\nprint(ascii(txt))\\ntext = 'Hello, Pythän!'\\nprint(ascii(text))\\nprint('Hello, Pyth\\\\xe4n!')\\nmsg = 'Hellü, World!'\\nprint(ascii(msg))\\nprint('Hellü, World!')\",\n",
       " '_i17': \"txt = 'Hello, Python!'\\nprint(ascii(txt))\\ntext = 'Hello, Pythän!'\\nprint(ascii(text))\\nprint('Hello, Pyth\\\\xe4n!')\\nmsg = 'Hellü, World!'\\nprint(ascii(msg))\\nprint('Hell\\\\xfc, World!')\",\n",
       " '_i18': \"txt = 'Hello, Python!'\\nprint(bytearray(txt, 'utf-8'))\",\n",
       " '_i19': \"txt = 'Hello, Python!'\\nprint(bytearray(txt, 'utf-8'))\\nint_num = 37\\nprint(bytearray(int_num, 'utf-8'))\",\n",
       " 'int_num': 37,\n",
       " '_i20': \"txt = 'Hello, Python!'\\nprint(bytearray(txt, 'utf-8'))\\nint_num = 37\\nprint(bytearray(int_num))\",\n",
       " '_i21': \"txt = 'Hello, Python!'\\nprint(bytearray(txt, 'utf-8'))\\nint_num = 37\\nprint(bytearray(int_num))\\nfloat_num = 3.14\\nprint(bytearray(float_num))\",\n",
       " 'float_num': 2.7182818284,\n",
       " '_i22': \"txt = 'Hello, Python!'\\nprint(bytearray(txt, 'utf-8'))\\nint_num = 37\\nprint(bytearray(int_num))\\nnlis = [0.577, 1.618, 2.718, 3.14, 6, 28, 37, 1729]\\nprint(bytearray(nlis))\\nfloat_num = 3.14\\nprint(bytearray(float_num))\",\n",
       " '_i23': \"txt = 'Hello, Python!'\\nprint(bytearray(txt, 'utf-8'))\\nint_num = 37\\nprint(bytearray(int_num))\\nnlis = [0, 1, 1, 2, 3, 5, 8, 13, 21, 34]\\nprint(bytearray(nlis))\\nfloat_num = 3.14\\nprint(bytearray(float_num))\",\n",
       " '_i24': \"num = 37\\nprint(eval('num**num'))\",\n",
       " 'num': 1729,\n",
       " '_i25': \"num = 37\\nprint(eval('num*num'))\",\n",
       " '_i26': \"num = int(input('Enter a number: '))\\nprint(f'The entered number is {num}.')\\nprint(eval('num*num'))\",\n",
       " '_i27': \"int_num = 37\\nprint(float(int_num))\\nfloat_num = 3.14\\nprint(float(float_num))\\ntxt = '2.718'\\nprint(float(txt))\\nmsg = 'Hello, Python!'\\nprint(float(msg))\",\n",
       " '_i28': \"int_num = 37\\nprint(float(int_num))\\nfloat_num = 3.14\\nprint(float(float_num))\\ntxt = '2.718'\\nprint(float(txt))\\nmsg = 'Hello, Python!'         # It resturns a ValueError\\nprint(float(msg))\",\n",
       " '_i29': \"# integer format\\nnum = 37\\nprint(num, 'd')\",\n",
       " '_i30': \"# integer format\\nnum = 37\\nprint(format(num, 'd'))\",\n",
       " '_i31': \"# integer format\\nint_num = 37\\nprint(format(num, 'd'))\\n# float numbers\\nfloat_num = 2.718\\nprint(format(float_num, 'f'))\",\n",
       " '_i32': \"# integer format\\nint_num = 37\\nprint(format(num, 'd'))\\n# float numbers\\nfloat_num = 2.7182818284\\nprint(format(float_num, 'f'))\",\n",
       " '_i33': \"# integer format\\nint_num = 37\\nprint(format(num, 'd'))\\n# float numbers\\nfloat_num = 2.7182818284\\nprint(format(float_num, 'f'))\\n# binary format\\nnum = 1729\\nprint(format(num, 'b'))\",\n",
       " '_i34': 'nlis = [0.577, 1.618, 2.718, 3.14, 6, 28, 37, 1729]\\nfrozen_nlis = frozenset(nlis)\\nprint(frozen_nlis)',\n",
       " 'frozen_nlis': frozenset({0.577, 1.618, 2.718, 3.14, 6, 28, 37, 1729}),\n",
       " '_i35': \"nlis = [0.577, 1.618, 2.718, 3.14, 6, 28, 37, 1729]\\nfrozen_nlis = frozenset(nlis)\\nprint('Frozen set is, ', frozen_nlis)\",\n",
       " '_i36': \"nlis = [0.577, 1.618, 2.718, 3.14, 6, 28, 37, 1729]\\nfrozen_nlis = frozenset(nlis)\\nprint('Frozen set is', frozen_nlis)\",\n",
       " '_i37': \"class SpecialNumbers:\\n    euler_constant = 0.577\\n    euler_number = 2.718\\n    pi = 3.14\\n    golden_ratio = 1.618\\n    msg = 'These numbers are special.'\\n\\nspecial_numbers = SpecialNumbers()\\nprint('The euler number is', getattr(special_numbers, 'euler_number'))\",\n",
       " 'SpecialNumbers': __main__.SpecialNumbers,\n",
       " 'special_numbers': <__main__.SpecialNumbers at 0x18bb17baec0>,\n",
       " '_i38': \"class SpecialNumbers:\\n    euler_constant = 0.577\\n    euler_number = 2.718\\n    pi = 3.14\\n    golden_ratio = 1.618\\n    msg = 'These numbers are special.'\\n\\nspecial_numbers = SpecialNumbers()\\nprint('The euler number is', getattr(special_numbers, 'euler_number'))\\nprint('The golden ratio is', special_numbers.golden_ratio)\",\n",
       " '_i39': 'globals()'}"
      ]
     },
     "execution_count": 39,
     "metadata": {},
     "output_type": "execute_result"
    }
   ],
   "source": [
    "globals()"
   ]
  },
  {
   "cell_type": "code",
   "execution_count": 41,
   "metadata": {},
   "outputs": [
    {
     "name": "stdout",
     "output_type": "stream",
     "text": [
      "The number is 3.14.\n"
     ]
    }
   ],
   "source": [
    "num = 37\n",
    "globals()['num'] = 3.14\n",
    "print(f'The number is {num}.')"
   ]
  },
  {
   "cell_type": "markdown",
   "metadata": {},
   "source": [
    "### **frozen()**\n",
    "It returns a frozenset object"
   ]
  },
  {
   "cell_type": "code",
   "execution_count": 36,
   "metadata": {},
   "outputs": [
    {
     "name": "stdout",
     "output_type": "stream",
     "text": [
      "Frozen set is frozenset({0.577, 1.618, 2.718, 3.14, 1729, 37, 6, 28})\n"
     ]
    }
   ],
   "source": [
    "nlis = [0.577, 1.618, 2.718, 3.14, 6, 28, 37, 1729]\n",
    "frozen_nlis = frozenset(nlis)\n",
    "print('Frozen set is', frozen_nlis)"
   ]
  },
  {
   "cell_type": "markdown",
   "metadata": {},
   "source": [
    "### **any()**\n",
    "It returns *True* if any iterable is *True*."
   ]
  },
  {
   "cell_type": "code",
   "execution_count": 10,
   "metadata": {},
   "outputs": [
    {
     "name": "stdout",
     "output_type": "stream",
     "text": [
      "[0.577, 1.618, 2.718, 3.14, 6, 28, 37, 1729]\n",
      "True\n",
      "[]\n",
      "False\n",
      "[0]\n",
      "False\n",
      "[0, False]\n",
      "False\n",
      "[0, False, True]\n",
      "True\n",
      "[0, False, True, 1]\n",
      "True\n",
      "[None]\n",
      "False\n"
     ]
    }
   ],
   "source": [
    "nlis = [0.577, 1.618, 2.718, 3.14, 6, 28, 37, 1729]\n",
    "print(nlis)\n",
    "print(any(nlis))\n",
    "nlis.clear()\n",
    "print(nlis)\n",
    "print(any(nlis))        # An emptly list returns False\n",
    "nlis.append(0)\n",
    "print(nlis)\n",
    "print(any(nlis))        # 0 in a list returns False\n",
    "nlis.append(False)\n",
    "print(nlis)\n",
    "print(any(nlis))        # False in a list returns False\n",
    "nlis.append(True)\n",
    "print(nlis)\n",
    "print(any(nlis))        # True in a list returns True\n",
    "nlis.append(1)\n",
    "print(nlis)\n",
    "print(any(nlis))    # 1 in a list returns True\n",
    "nlis.clear()\n",
    "nlis.append(None)\n",
    "print(nlis)\n",
    "print(any(nlis))        # None in a list returns False"
   ]
  },
  {
   "cell_type": "markdown",
   "metadata": {},
   "source": [
    "### **ascii()**\n",
    "It returns a string including a printable representation of an object and escapes non-ASCII characters in the string employing **\\u, \\x or \\U** escapes"
   ]
  },
  {
   "cell_type": "code",
   "execution_count": 17,
   "metadata": {},
   "outputs": [
    {
     "name": "stdout",
     "output_type": "stream",
     "text": [
      "'Hello, Python!'\n",
      "'Hello, Pyth\\xe4n!'\n",
      "Hello, Pythän!\n",
      "'Hell\\xfc, World!'\n",
      "Hellü, World!\n"
     ]
    }
   ],
   "source": [
    "txt = 'Hello, Python!'\n",
    "print(ascii(txt))\n",
    "text = 'Hello, Pythän!'\n",
    "print(ascii(text))\n",
    "print('Hello, Pyth\\xe4n!')\n",
    "msg = 'Hellü, World!'\n",
    "print(ascii(msg))\n",
    "print('Hell\\xfc, World!')"
   ]
  },
  {
   "cell_type": "markdown",
   "metadata": {},
   "source": [
    "### **bytearray()**\n",
    "It returns a new array of bytes."
   ]
  },
  {
   "cell_type": "code",
   "execution_count": 23,
   "metadata": {},
   "outputs": [
    {
     "name": "stdout",
     "output_type": "stream",
     "text": [
      "bytearray(b'Hello, Python!')\n",
      "bytearray(b'\\x00\\x00\\x00\\x00\\x00\\x00\\x00\\x00\\x00\\x00\\x00\\x00\\x00\\x00\\x00\\x00\\x00\\x00\\x00\\x00\\x00\\x00\\x00\\x00\\x00\\x00\\x00\\x00\\x00\\x00\\x00\\x00\\x00\\x00\\x00\\x00\\x00')\n",
      "bytearray(b'\\x00\\x01\\x01\\x02\\x03\\x05\\x08\\r\\x15\"')\n"
     ]
    },
    {
     "ename": "TypeError",
     "evalue": "cannot convert 'float' object to bytearray",
     "output_type": "error",
     "traceback": [
      "\u001b[1;31m---------------------------------------------------------------------------\u001b[0m",
      "\u001b[1;31mTypeError\u001b[0m                                 Traceback (most recent call last)",
      "\u001b[1;32m~\\AppData\\Local\\Temp/ipykernel_16192/391563769.py\u001b[0m in \u001b[0;36m<module>\u001b[1;34m\u001b[0m\n\u001b[0;32m      6\u001b[0m \u001b[0mprint\u001b[0m\u001b[1;33m(\u001b[0m\u001b[0mbytearray\u001b[0m\u001b[1;33m(\u001b[0m\u001b[0mnlis\u001b[0m\u001b[1;33m)\u001b[0m\u001b[1;33m)\u001b[0m\u001b[1;33m\u001b[0m\u001b[1;33m\u001b[0m\u001b[0m\n\u001b[0;32m      7\u001b[0m \u001b[0mfloat_num\u001b[0m \u001b[1;33m=\u001b[0m \u001b[1;36m3.14\u001b[0m\u001b[1;33m\u001b[0m\u001b[1;33m\u001b[0m\u001b[0m\n\u001b[1;32m----> 8\u001b[1;33m \u001b[0mprint\u001b[0m\u001b[1;33m(\u001b[0m\u001b[0mbytearray\u001b[0m\u001b[1;33m(\u001b[0m\u001b[0mfloat_num\u001b[0m\u001b[1;33m)\u001b[0m\u001b[1;33m)\u001b[0m\u001b[1;33m\u001b[0m\u001b[1;33m\u001b[0m\u001b[0m\n\u001b[0m",
      "\u001b[1;31mTypeError\u001b[0m: cannot convert 'float' object to bytearray"
     ]
    }
   ],
   "source": [
    "txt = 'Hello, Python!'\n",
    "print(bytearray(txt, 'utf-8'))      # String with encoding 'UTF-8'\n",
    "int_num = 37\n",
    "print(bytearray(int_num))\n",
    "nlis = [0, 1, 1, 2, 3, 5, 8, 13, 21, 34]        # Fibonacci numbers\n",
    "print(bytearray(nlis))\n",
    "float_num = 3.14\n",
    "print(bytearray(float_num))         # It returns TypeError"
   ]
  },
  {
   "cell_type": "markdown",
   "metadata": {},
   "source": [
    "### **hasattr()**\n",
    "It returns *True* if the specified object has the specified attribute (property/method)."
   ]
  },
  {
   "cell_type": "code",
   "execution_count": 47,
   "metadata": {},
   "outputs": [
    {
     "name": "stdout",
     "output_type": "stream",
     "text": [
      "The euler number is True\n",
      "The golden ratio is True\n",
      "The golden ratio is False\n"
     ]
    }
   ],
   "source": [
    "class SpecialNumbers:\n",
    "    euler_constant = 0.577\n",
    "    euler_number = 2.718\n",
    "    pi = 3.14\n",
    "    golden_ratio = 1.618\n",
    "    msg = 'These numbers are special.'\n",
    "\n",
    "special_numbers = SpecialNumbers()\n",
    "print('The euler number is', hasattr(special_numbers, 'euler_number'))\n",
    "print('The golden ratio is', hasattr(special_numbers, 'golden_ratio'))\n",
    "print('The golden ratio is', hasattr(special_numbers, 'prime_number'))      # Since there is no prime number, the output is False "
   ]
  },
  {
   "cell_type": "markdown",
   "metadata": {},
   "source": [
    "### **hash()**\n",
    "It returns the hash value of a specified object."
   ]
  },
  {
   "cell_type": "code",
   "execution_count": 166,
   "metadata": {},
   "outputs": [
    {
     "name": "stdout",
     "output_type": "stream",
     "text": [
      "322818021289917443\n",
      "1330471416316301312\n",
      "-7855314544920281827\n",
      "1729\n",
      "-6529577050584256413\n"
     ]
    }
   ],
   "source": [
    "print(hash(3.14))\n",
    "print(hash(0.577))\n",
    "print(hash('Hello, Python!'))\n",
    "print(hash(1729))\n",
    "n_tuple = (0.577, 1.618, 2.718, 3.14, 6, 28, 37, 1729)\n",
    "print(hash(n_tuple))"
   ]
  },
  {
   "cell_type": "markdown",
   "metadata": {},
   "source": [
    "### **help()**\n",
    "Executes the built-in help system"
   ]
  },
  {
   "cell_type": "code",
   "execution_count": 167,
   "metadata": {},
   "outputs": [
    {
     "name": "stdout",
     "output_type": "stream",
     "text": [
      "\n",
      "Welcome to Python 3.10's help utility!\n",
      "\n",
      "If this is your first time using Python, you should definitely check out\n",
      "the tutorial on the internet at https://docs.python.org/3.10/tutorial/.\n",
      "\n",
      "Enter the name of any module, keyword, or topic to get help on writing\n",
      "Python programs and using Python modules.  To quit this help utility and\n",
      "return to the interpreter, just type \"quit\".\n",
      "\n",
      "To get a list of available modules, keywords, symbols, or topics, type\n",
      "\"modules\", \"keywords\", \"symbols\", or \"topics\".  Each module also comes\n",
      "with a one-line summary of what it does; to list the modules whose name\n",
      "or summary contain a given string such as \"spam\", type \"modules spam\".\n",
      "\n",
      "\n",
      "You are now leaving help and returning to the Python interpreter.\n",
      "If you want to ask for help on a particular object directly from the\n",
      "interpreter, you can type \"help(object)\".  Executing \"help('string')\"\n",
      "has the same effect as typing a particular string at the help> prompt.\n"
     ]
    }
   ],
   "source": [
    "help()"
   ]
  },
  {
   "cell_type": "code",
   "execution_count": 169,
   "metadata": {},
   "outputs": [
    {
     "name": "stdout",
     "output_type": "stream",
     "text": [
      "Help on package pandas:\n",
      "\n",
      "NAME\n",
      "    pandas\n",
      "\n",
      "DESCRIPTION\n",
      "    pandas - a powerful data analysis and manipulation library for Python\n",
      "    =====================================================================\n",
      "    \n",
      "    **pandas** is a Python package providing fast, flexible, and expressive data\n",
      "    structures designed to make working with \"relational\" or \"labeled\" data both\n",
      "    easy and intuitive. It aims to be the fundamental high-level building block for\n",
      "    doing practical, **real world** data analysis in Python. Additionally, it has\n",
      "    the broader goal of becoming **the most powerful and flexible open source data\n",
      "    analysis / manipulation tool available in any language**. It is already well on\n",
      "    its way toward this goal.\n",
      "    \n",
      "    Main Features\n",
      "    -------------\n",
      "    Here are just a few of the things that pandas does well:\n",
      "    \n",
      "      - Easy handling of missing data in floating point as well as non-floating\n",
      "        point data.\n",
      "      - Size mutability: columns can be inserted and deleted from DataFrame and\n",
      "        higher dimensional objects\n",
      "      - Automatic and explicit data alignment: objects can be explicitly aligned\n",
      "        to a set of labels, or the user can simply ignore the labels and let\n",
      "        `Series`, `DataFrame`, etc. automatically align the data for you in\n",
      "        computations.\n",
      "      - Powerful, flexible group by functionality to perform split-apply-combine\n",
      "        operations on data sets, for both aggregating and transforming data.\n",
      "      - Make it easy to convert ragged, differently-indexed data in other Python\n",
      "        and NumPy data structures into DataFrame objects.\n",
      "      - Intelligent label-based slicing, fancy indexing, and subsetting of large\n",
      "        data sets.\n",
      "      - Intuitive merging and joining data sets.\n",
      "      - Flexible reshaping and pivoting of data sets.\n",
      "      - Hierarchical labeling of axes (possible to have multiple labels per tick).\n",
      "      - Robust IO tools for loading data from flat files (CSV and delimited),\n",
      "        Excel files, databases, and saving/loading data from the ultrafast HDF5\n",
      "        format.\n",
      "      - Time series-specific functionality: date range generation and frequency\n",
      "        conversion, moving window statistics, date shifting and lagging.\n",
      "\n",
      "PACKAGE CONTENTS\n",
      "    _config (package)\n",
      "    _libs (package)\n",
      "    _testing (package)\n",
      "    _typing\n",
      "    _version\n",
      "    api (package)\n",
      "    arrays (package)\n",
      "    compat (package)\n",
      "    conftest\n",
      "    core (package)\n",
      "    errors (package)\n",
      "    io (package)\n",
      "    plotting (package)\n",
      "    testing\n",
      "    tests (package)\n",
      "    tseries (package)\n",
      "    util (package)\n",
      "\n",
      "SUBMODULES\n",
      "    _hashtable\n",
      "    _lib\n",
      "    _tslib\n",
      "    offsets\n",
      "\n",
      "FUNCTIONS\n",
      "    __getattr__(name)\n",
      "        # GH 27101\n",
      "\n",
      "DATA\n",
      "    IndexSlice = <pandas.core.indexing._IndexSlice object>\n",
      "    NA = <NA>\n",
      "    NaT = NaT\n",
      "    __docformat__ = 'restructuredtext'\n",
      "    __git_version__ = '66e3805b8cabe977f40c05259cc3fcf7ead5687d'\n",
      "    describe_option = <pandas._config.config.CallableDynamicDoc object>\n",
      "        describe_option(pat, _print_desc=False)\n",
      "        \n",
      "        Prints the description for one or more registered options.\n",
      "        \n",
      "        Call with not arguments to get a listing for all registered options.\n",
      "        \n",
      "        Available options:\n",
      "        \n",
      "        - compute.[use_bottleneck, use_numba, use_numexpr]\n",
      "        - display.[chop_threshold, colheader_justify, column_space, date_dayfirst,\n",
      "          date_yearfirst, encoding, expand_frame_repr, float_format]\n",
      "        - display.html.[border, table_schema, use_mathjax]\n",
      "        - display.[large_repr]\n",
      "        - display.latex.[escape, longtable, multicolumn, multicolumn_format, multirow,\n",
      "          repr]\n",
      "        - display.[max_categories, max_columns, max_colwidth, max_info_columns,\n",
      "          max_info_rows, max_rows, max_seq_items, memory_usage, min_rows, multi_sparse,\n",
      "          notebook_repr_html, pprint_nest_depth, precision, show_dimensions]\n",
      "        - display.unicode.[ambiguous_as_wide, east_asian_width]\n",
      "        - display.[width]\n",
      "        - io.excel.ods.[reader, writer]\n",
      "        - io.excel.xls.[reader, writer]\n",
      "        - io.excel.xlsb.[reader]\n",
      "        - io.excel.xlsm.[reader, writer]\n",
      "        - io.excel.xlsx.[reader, writer]\n",
      "        - io.hdf.[default_format, dropna_table]\n",
      "        - io.parquet.[engine]\n",
      "        - io.sql.[engine]\n",
      "        - mode.[chained_assignment, data_manager, sim_interactive, string_storage,\n",
      "          use_inf_as_na, use_inf_as_null]\n",
      "        - plotting.[backend]\n",
      "        - plotting.matplotlib.[register_converters]\n",
      "        - styler.render.[max_elements]\n",
      "        - styler.sparse.[columns, index]\n",
      "        \n",
      "        Parameters\n",
      "        ----------\n",
      "        pat : str\n",
      "            Regexp pattern. All matching keys will have their description displayed.\n",
      "        _print_desc : bool, default True\n",
      "            If True (default) the description(s) will be printed to stdout.\n",
      "            Otherwise, the description(s) will be returned as a unicode string\n",
      "            (for testing).\n",
      "        \n",
      "        Returns\n",
      "        -------\n",
      "        None by default, the description(s) as a unicode string if _print_desc\n",
      "        is False\n",
      "        \n",
      "        Notes\n",
      "        -----\n",
      "        The available options with its descriptions:\n",
      "        \n",
      "        compute.use_bottleneck : bool\n",
      "            Use the bottleneck library to accelerate if it is installed,\n",
      "            the default is True\n",
      "            Valid values: False,True\n",
      "            [default: True] [currently: True]\n",
      "        compute.use_numba : bool\n",
      "            Use the numba engine option for select operations if it is installed,\n",
      "            the default is False\n",
      "            Valid values: False,True\n",
      "            [default: False] [currently: False]\n",
      "        compute.use_numexpr : bool\n",
      "            Use the numexpr library to accelerate computation if it is installed,\n",
      "            the default is True\n",
      "            Valid values: False,True\n",
      "            [default: True] [currently: True]\n",
      "        display.chop_threshold : float or None\n",
      "            if set to a float value, all float values smaller then the given threshold\n",
      "            will be displayed as exactly 0 by repr and friends.\n",
      "            [default: None] [currently: None]\n",
      "        display.colheader_justify : 'left'/'right'\n",
      "            Controls the justification of column headers. used by DataFrameFormatter.\n",
      "            [default: right] [currently: right]\n",
      "        display.column_space No description available.\n",
      "            [default: 12] [currently: 12]\n",
      "        display.date_dayfirst : boolean\n",
      "            When True, prints and parses dates with the day first, eg 20/01/2005\n",
      "            [default: False] [currently: False]\n",
      "        display.date_yearfirst : boolean\n",
      "            When True, prints and parses dates with the year first, eg 2005/01/20\n",
      "            [default: False] [currently: False]\n",
      "        display.encoding : str/unicode\n",
      "            Defaults to the detected encoding of the console.\n",
      "            Specifies the encoding to be used for strings returned by to_string,\n",
      "            these are generally strings meant to be displayed on the console.\n",
      "            [default: UTF-8] [currently: UTF-8]\n",
      "        display.expand_frame_repr : boolean\n",
      "            Whether to print out the full DataFrame repr for wide DataFrames across\n",
      "            multiple lines, `max_columns` is still respected, but the output will\n",
      "            wrap-around across multiple \"pages\" if its width exceeds `display.width`.\n",
      "            [default: True] [currently: True]\n",
      "        display.float_format : callable\n",
      "            The callable should accept a floating point number and return\n",
      "            a string with the desired format of the number. This is used\n",
      "            in some places like SeriesFormatter.\n",
      "            See formats.format.EngFormatter for an example.\n",
      "            [default: None] [currently: None]\n",
      "        display.html.border : int\n",
      "            A ``border=value`` attribute is inserted in the ``<table>`` tag\n",
      "            for the DataFrame HTML repr.\n",
      "            [default: 1] [currently: 1]\n",
      "        display.html.table_schema : boolean\n",
      "            Whether to publish a Table Schema representation for frontends\n",
      "            that support it.\n",
      "            (default: False)\n",
      "            [default: False] [currently: False]\n",
      "        display.html.use_mathjax : boolean\n",
      "            When True, Jupyter notebook will process table contents using MathJax,\n",
      "            rendering mathematical expressions enclosed by the dollar symbol.\n",
      "            (default: True)\n",
      "            [default: True] [currently: True]\n",
      "        display.large_repr : 'truncate'/'info'\n",
      "            For DataFrames exceeding max_rows/max_cols, the repr (and HTML repr) can\n",
      "            show a truncated table (the default from 0.13), or switch to the view from\n",
      "            df.info() (the behaviour in earlier versions of pandas).\n",
      "            [default: truncate] [currently: truncate]\n",
      "        display.latex.escape : bool\n",
      "            This specifies if the to_latex method of a Dataframe uses escapes special\n",
      "            characters.\n",
      "            Valid values: False,True\n",
      "            [default: True] [currently: True]\n",
      "        display.latex.longtable :bool\n",
      "            This specifies if the to_latex method of a Dataframe uses the longtable\n",
      "            format.\n",
      "            Valid values: False,True\n",
      "            [default: False] [currently: False]\n",
      "        display.latex.multicolumn : bool\n",
      "            This specifies if the to_latex method of a Dataframe uses multicolumns\n",
      "            to pretty-print MultiIndex columns.\n",
      "            Valid values: False,True\n",
      "            [default: True] [currently: True]\n",
      "        display.latex.multicolumn_format : bool\n",
      "            This specifies if the to_latex method of a Dataframe uses multicolumns\n",
      "            to pretty-print MultiIndex columns.\n",
      "            Valid values: False,True\n",
      "            [default: l] [currently: l]\n",
      "        display.latex.multirow : bool\n",
      "            This specifies if the to_latex method of a Dataframe uses multirows\n",
      "            to pretty-print MultiIndex rows.\n",
      "            Valid values: False,True\n",
      "            [default: False] [currently: False]\n",
      "        display.latex.repr : boolean\n",
      "            Whether to produce a latex DataFrame representation for jupyter\n",
      "            environments that support it.\n",
      "            (default: False)\n",
      "            [default: False] [currently: False]\n",
      "        display.max_categories : int\n",
      "            This sets the maximum number of categories pandas should output when\n",
      "            printing out a `Categorical` or a Series of dtype \"category\".\n",
      "            [default: 8] [currently: 8]\n",
      "        display.max_columns : int\n",
      "            If max_cols is exceeded, switch to truncate view. Depending on\n",
      "            `large_repr`, objects are either centrally truncated or printed as\n",
      "            a summary view. 'None' value means unlimited.\n",
      "        \n",
      "            In case python/IPython is running in a terminal and `large_repr`\n",
      "            equals 'truncate' this can be set to 0 and pandas will auto-detect\n",
      "            the width of the terminal and print a truncated object which fits\n",
      "            the screen width. The IPython notebook, IPython qtconsole, or IDLE\n",
      "            do not run in a terminal and hence it is not possible to do\n",
      "            correct auto-detection.\n",
      "            [default: 20] [currently: 20]\n",
      "        display.max_colwidth : int or None\n",
      "            The maximum width in characters of a column in the repr of\n",
      "            a pandas data structure. When the column overflows, a \"...\"\n",
      "            placeholder is embedded in the output. A 'None' value means unlimited.\n",
      "            [default: 50] [currently: 50]\n",
      "        display.max_info_columns : int\n",
      "            max_info_columns is used in DataFrame.info method to decide if\n",
      "            per column information will be printed.\n",
      "            [default: 100] [currently: 100]\n",
      "        display.max_info_rows : int or None\n",
      "            df.info() will usually show null-counts for each column.\n",
      "            For large frames this can be quite slow. max_info_rows and max_info_cols\n",
      "            limit this null check only to frames with smaller dimensions than\n",
      "            specified.\n",
      "            [default: 1690785] [currently: 1690785]\n",
      "        display.max_rows : int\n",
      "            If max_rows is exceeded, switch to truncate view. Depending on\n",
      "            `large_repr`, objects are either centrally truncated or printed as\n",
      "            a summary view. 'None' value means unlimited.\n",
      "        \n",
      "            In case python/IPython is running in a terminal and `large_repr`\n",
      "            equals 'truncate' this can be set to 0 and pandas will auto-detect\n",
      "            the height of the terminal and print a truncated object which fits\n",
      "            the screen height. The IPython notebook, IPython qtconsole, or\n",
      "            IDLE do not run in a terminal and hence it is not possible to do\n",
      "            correct auto-detection.\n",
      "            [default: 60] [currently: 60]\n",
      "        display.max_seq_items : int or None\n",
      "            When pretty-printing a long sequence, no more then `max_seq_items`\n",
      "            will be printed. If items are omitted, they will be denoted by the\n",
      "            addition of \"...\" to the resulting string.\n",
      "        \n",
      "            If set to None, the number of items to be printed is unlimited.\n",
      "            [default: 100] [currently: 100]\n",
      "        display.memory_usage : bool, string or None\n",
      "            This specifies if the memory usage of a DataFrame should be displayed when\n",
      "            df.info() is called. Valid values True,False,'deep'\n",
      "            [default: True] [currently: True]\n",
      "        display.min_rows : int\n",
      "            The numbers of rows to show in a truncated view (when `max_rows` is\n",
      "            exceeded). Ignored when `max_rows` is set to None or 0. When set to\n",
      "            None, follows the value of `max_rows`.\n",
      "            [default: 10] [currently: 10]\n",
      "        display.multi_sparse : boolean\n",
      "            \"sparsify\" MultiIndex display (don't display repeated\n",
      "            elements in outer levels within groups)\n",
      "            [default: True] [currently: True]\n",
      "        display.notebook_repr_html : boolean\n",
      "            When True, IPython notebook will use html representation for\n",
      "            pandas objects (if it is available).\n",
      "            [default: True] [currently: True]\n",
      "        display.pprint_nest_depth : int\n",
      "            Controls the number of nested levels to process when pretty-printing\n",
      "            [default: 3] [currently: 3]\n",
      "        display.precision : int\n",
      "            Floating point output precision in terms of number of places after the\n",
      "            decimal, for regular formatting as well as scientific notation. Similar\n",
      "            to ``precision`` in :meth:`numpy.set_printoptions`.\n",
      "            [default: 6] [currently: 6]\n",
      "        display.show_dimensions : boolean or 'truncate'\n",
      "            Whether to print out dimensions at the end of DataFrame repr.\n",
      "            If 'truncate' is specified, only print out the dimensions if the\n",
      "            frame is truncated (e.g. not display all rows and/or columns)\n",
      "            [default: truncate] [currently: truncate]\n",
      "        display.unicode.ambiguous_as_wide : boolean\n",
      "            Whether to use the Unicode East Asian Width to calculate the display text\n",
      "            width.\n",
      "            Enabling this may affect to the performance (default: False)\n",
      "            [default: False] [currently: False]\n",
      "        display.unicode.east_asian_width : boolean\n",
      "            Whether to use the Unicode East Asian Width to calculate the display text\n",
      "            width.\n",
      "            Enabling this may affect to the performance (default: False)\n",
      "            [default: False] [currently: False]\n",
      "        display.width : int\n",
      "            Width of the display in characters. In case python/IPython is running in\n",
      "            a terminal this can be set to None and pandas will correctly auto-detect\n",
      "            the width.\n",
      "            Note that the IPython notebook, IPython qtconsole, or IDLE do not run in a\n",
      "            terminal and hence it is not possible to correctly detect the width.\n",
      "            [default: 80] [currently: 80]\n",
      "        io.excel.ods.reader : string\n",
      "            The default Excel reader engine for 'ods' files. Available options:\n",
      "            auto, odf.\n",
      "            [default: auto] [currently: auto]\n",
      "        io.excel.ods.writer : string\n",
      "            The default Excel writer engine for 'ods' files. Available options:\n",
      "            auto, odf.\n",
      "            [default: auto] [currently: auto]\n",
      "        io.excel.xls.reader : string\n",
      "            The default Excel reader engine for 'xls' files. Available options:\n",
      "            auto, xlrd.\n",
      "            [default: auto] [currently: auto]\n",
      "        io.excel.xls.writer : string\n",
      "            The default Excel writer engine for 'xls' files. Available options:\n",
      "            auto, xlwt.\n",
      "            [default: auto] [currently: auto]\n",
      "            (Deprecated, use `` instead.)\n",
      "        io.excel.xlsb.reader : string\n",
      "            The default Excel reader engine for 'xlsb' files. Available options:\n",
      "            auto, pyxlsb.\n",
      "            [default: auto] [currently: auto]\n",
      "        io.excel.xlsm.reader : string\n",
      "            The default Excel reader engine for 'xlsm' files. Available options:\n",
      "            auto, xlrd, openpyxl.\n",
      "            [default: auto] [currently: auto]\n",
      "        io.excel.xlsm.writer : string\n",
      "            The default Excel writer engine for 'xlsm' files. Available options:\n",
      "            auto, openpyxl.\n",
      "            [default: auto] [currently: auto]\n",
      "        io.excel.xlsx.reader : string\n",
      "            The default Excel reader engine for 'xlsx' files. Available options:\n",
      "            auto, xlrd, openpyxl.\n",
      "            [default: auto] [currently: auto]\n",
      "        io.excel.xlsx.writer : string\n",
      "            The default Excel writer engine for 'xlsx' files. Available options:\n",
      "            auto, openpyxl, xlsxwriter.\n",
      "            [default: auto] [currently: auto]\n",
      "        io.hdf.default_format : format\n",
      "            default format writing format, if None, then\n",
      "            put will default to 'fixed' and append will default to 'table'\n",
      "            [default: None] [currently: None]\n",
      "        io.hdf.dropna_table : boolean\n",
      "            drop ALL nan rows when appending to a table\n",
      "            [default: False] [currently: False]\n",
      "        io.parquet.engine : string\n",
      "            The default parquet reader/writer engine. Available options:\n",
      "            'auto', 'pyarrow', 'fastparquet', the default is 'auto'\n",
      "            [default: auto] [currently: auto]\n",
      "        io.sql.engine : string\n",
      "            The default sql reader/writer engine. Available options:\n",
      "            'auto', 'sqlalchemy', the default is 'auto'\n",
      "            [default: auto] [currently: auto]\n",
      "        mode.chained_assignment : string\n",
      "            Raise an exception, warn, or no action if trying to use chained assignment,\n",
      "            The default is warn\n",
      "            [default: warn] [currently: warn]\n",
      "        mode.data_manager : string\n",
      "            Internal data manager type; can be \"block\" or \"array\". Defaults to \"block\",\n",
      "            unless overridden by the 'PANDAS_DATA_MANAGER' environment variable (needs\n",
      "            to be set before pandas is imported).\n",
      "            [default: block] [currently: block]\n",
      "        mode.sim_interactive : boolean\n",
      "            Whether to simulate interactive mode for purposes of testing\n",
      "            [default: False] [currently: False]\n",
      "        mode.string_storage : string\n",
      "            The default storage for StringDtype.\n",
      "            [default: python] [currently: python]\n",
      "        mode.use_inf_as_na : boolean\n",
      "            True means treat None, NaN, INF, -INF as NA (old way),\n",
      "            False means None and NaN are null, but INF, -INF are not NA\n",
      "            (new way).\n",
      "            [default: False] [currently: False]\n",
      "        mode.use_inf_as_null : boolean\n",
      "            use_inf_as_null had been deprecated and will be removed in a future\n",
      "            version. Use `use_inf_as_na` instead.\n",
      "            [default: False] [currently: False]\n",
      "            (Deprecated, use `mode.use_inf_as_na` instead.)\n",
      "        plotting.backend : str\n",
      "            The plotting backend to use. The default value is \"matplotlib\", the\n",
      "            backend provided with pandas. Other backends can be specified by\n",
      "            providing the name of the module that implements the backend.\n",
      "            [default: matplotlib] [currently: matplotlib]\n",
      "        plotting.matplotlib.register_converters : bool or 'auto'.\n",
      "            Whether to register converters with matplotlib's units registry for\n",
      "            dates, times, datetimes, and Periods. Toggling to False will remove\n",
      "            the converters, restoring any converters that pandas overwrote.\n",
      "            [default: auto] [currently: auto]\n",
      "        styler.render.max_elements : int\n",
      "            The maximum number of data-cell (<td>) elements that will be rendered before\n",
      "            trimming will occur over columns, rows or both if needed.\n",
      "            [default: 262144] [currently: 262144]\n",
      "        styler.sparse.columns : bool\n",
      "            Whether to sparsify the display of hierarchical columns. Setting to False will\n",
      "            display each explicit level element in a hierarchical key for each column.\n",
      "            [default: True] [currently: True]\n",
      "        styler.sparse.index : bool\n",
      "            Whether to sparsify the display of a hierarchical index. Setting to False will\n",
      "            display each explicit level element in a hierarchical key for each row.\n",
      "            [default: True] [currently: True]\n",
      "    \n",
      "    get_option = <pandas._config.config.CallableDynamicDoc object>\n",
      "        get_option(pat)\n",
      "        \n",
      "        Retrieves the value of the specified option.\n",
      "        \n",
      "        Available options:\n",
      "        \n",
      "        - compute.[use_bottleneck, use_numba, use_numexpr]\n",
      "        - display.[chop_threshold, colheader_justify, column_space, date_dayfirst,\n",
      "          date_yearfirst, encoding, expand_frame_repr, float_format]\n",
      "        - display.html.[border, table_schema, use_mathjax]\n",
      "        - display.[large_repr]\n",
      "        - display.latex.[escape, longtable, multicolumn, multicolumn_format, multirow,\n",
      "          repr]\n",
      "        - display.[max_categories, max_columns, max_colwidth, max_info_columns,\n",
      "          max_info_rows, max_rows, max_seq_items, memory_usage, min_rows, multi_sparse,\n",
      "          notebook_repr_html, pprint_nest_depth, precision, show_dimensions]\n",
      "        - display.unicode.[ambiguous_as_wide, east_asian_width]\n",
      "        - display.[width]\n",
      "        - io.excel.ods.[reader, writer]\n",
      "        - io.excel.xls.[reader, writer]\n",
      "        - io.excel.xlsb.[reader]\n",
      "        - io.excel.xlsm.[reader, writer]\n",
      "        - io.excel.xlsx.[reader, writer]\n",
      "        - io.hdf.[default_format, dropna_table]\n",
      "        - io.parquet.[engine]\n",
      "        - io.sql.[engine]\n",
      "        - mode.[chained_assignment, data_manager, sim_interactive, string_storage,\n",
      "          use_inf_as_na, use_inf_as_null]\n",
      "        - plotting.[backend]\n",
      "        - plotting.matplotlib.[register_converters]\n",
      "        - styler.render.[max_elements]\n",
      "        - styler.sparse.[columns, index]\n",
      "        \n",
      "        Parameters\n",
      "        ----------\n",
      "        pat : str\n",
      "            Regexp which should match a single option.\n",
      "            Note: partial matches are supported for convenience, but unless you use the\n",
      "            full option name (e.g. x.y.z.option_name), your code may break in future\n",
      "            versions if new options with similar names are introduced.\n",
      "        \n",
      "        Returns\n",
      "        -------\n",
      "        result : the value of the option\n",
      "        \n",
      "        Raises\n",
      "        ------\n",
      "        OptionError : if no such option exists\n",
      "        \n",
      "        Notes\n",
      "        -----\n",
      "        The available options with its descriptions:\n",
      "        \n",
      "        compute.use_bottleneck : bool\n",
      "            Use the bottleneck library to accelerate if it is installed,\n",
      "            the default is True\n",
      "            Valid values: False,True\n",
      "            [default: True] [currently: True]\n",
      "        compute.use_numba : bool\n",
      "            Use the numba engine option for select operations if it is installed,\n",
      "            the default is False\n",
      "            Valid values: False,True\n",
      "            [default: False] [currently: False]\n",
      "        compute.use_numexpr : bool\n",
      "            Use the numexpr library to accelerate computation if it is installed,\n",
      "            the default is True\n",
      "            Valid values: False,True\n",
      "            [default: True] [currently: True]\n",
      "        display.chop_threshold : float or None\n",
      "            if set to a float value, all float values smaller then the given threshold\n",
      "            will be displayed as exactly 0 by repr and friends.\n",
      "            [default: None] [currently: None]\n",
      "        display.colheader_justify : 'left'/'right'\n",
      "            Controls the justification of column headers. used by DataFrameFormatter.\n",
      "            [default: right] [currently: right]\n",
      "        display.column_space No description available.\n",
      "            [default: 12] [currently: 12]\n",
      "        display.date_dayfirst : boolean\n",
      "            When True, prints and parses dates with the day first, eg 20/01/2005\n",
      "            [default: False] [currently: False]\n",
      "        display.date_yearfirst : boolean\n",
      "            When True, prints and parses dates with the year first, eg 2005/01/20\n",
      "            [default: False] [currently: False]\n",
      "        display.encoding : str/unicode\n",
      "            Defaults to the detected encoding of the console.\n",
      "            Specifies the encoding to be used for strings returned by to_string,\n",
      "            these are generally strings meant to be displayed on the console.\n",
      "            [default: UTF-8] [currently: UTF-8]\n",
      "        display.expand_frame_repr : boolean\n",
      "            Whether to print out the full DataFrame repr for wide DataFrames across\n",
      "            multiple lines, `max_columns` is still respected, but the output will\n",
      "            wrap-around across multiple \"pages\" if its width exceeds `display.width`.\n",
      "            [default: True] [currently: True]\n",
      "        display.float_format : callable\n",
      "            The callable should accept a floating point number and return\n",
      "            a string with the desired format of the number. This is used\n",
      "            in some places like SeriesFormatter.\n",
      "            See formats.format.EngFormatter for an example.\n",
      "            [default: None] [currently: None]\n",
      "        display.html.border : int\n",
      "            A ``border=value`` attribute is inserted in the ``<table>`` tag\n",
      "            for the DataFrame HTML repr.\n",
      "            [default: 1] [currently: 1]\n",
      "        display.html.table_schema : boolean\n",
      "            Whether to publish a Table Schema representation for frontends\n",
      "            that support it.\n",
      "            (default: False)\n",
      "            [default: False] [currently: False]\n",
      "        display.html.use_mathjax : boolean\n",
      "            When True, Jupyter notebook will process table contents using MathJax,\n",
      "            rendering mathematical expressions enclosed by the dollar symbol.\n",
      "            (default: True)\n",
      "            [default: True] [currently: True]\n",
      "        display.large_repr : 'truncate'/'info'\n",
      "            For DataFrames exceeding max_rows/max_cols, the repr (and HTML repr) can\n",
      "            show a truncated table (the default from 0.13), or switch to the view from\n",
      "            df.info() (the behaviour in earlier versions of pandas).\n",
      "            [default: truncate] [currently: truncate]\n",
      "        display.latex.escape : bool\n",
      "            This specifies if the to_latex method of a Dataframe uses escapes special\n",
      "            characters.\n",
      "            Valid values: False,True\n",
      "            [default: True] [currently: True]\n",
      "        display.latex.longtable :bool\n",
      "            This specifies if the to_latex method of a Dataframe uses the longtable\n",
      "            format.\n",
      "            Valid values: False,True\n",
      "            [default: False] [currently: False]\n",
      "        display.latex.multicolumn : bool\n",
      "            This specifies if the to_latex method of a Dataframe uses multicolumns\n",
      "            to pretty-print MultiIndex columns.\n",
      "            Valid values: False,True\n",
      "            [default: True] [currently: True]\n",
      "        display.latex.multicolumn_format : bool\n",
      "            This specifies if the to_latex method of a Dataframe uses multicolumns\n",
      "            to pretty-print MultiIndex columns.\n",
      "            Valid values: False,True\n",
      "            [default: l] [currently: l]\n",
      "        display.latex.multirow : bool\n",
      "            This specifies if the to_latex method of a Dataframe uses multirows\n",
      "            to pretty-print MultiIndex rows.\n",
      "            Valid values: False,True\n",
      "            [default: False] [currently: False]\n",
      "        display.latex.repr : boolean\n",
      "            Whether to produce a latex DataFrame representation for jupyter\n",
      "            environments that support it.\n",
      "            (default: False)\n",
      "            [default: False] [currently: False]\n",
      "        display.max_categories : int\n",
      "            This sets the maximum number of categories pandas should output when\n",
      "            printing out a `Categorical` or a Series of dtype \"category\".\n",
      "            [default: 8] [currently: 8]\n",
      "        display.max_columns : int\n",
      "            If max_cols is exceeded, switch to truncate view. Depending on\n",
      "            `large_repr`, objects are either centrally truncated or printed as\n",
      "            a summary view. 'None' value means unlimited.\n",
      "        \n",
      "            In case python/IPython is running in a terminal and `large_repr`\n",
      "            equals 'truncate' this can be set to 0 and pandas will auto-detect\n",
      "            the width of the terminal and print a truncated object which fits\n",
      "            the screen width. The IPython notebook, IPython qtconsole, or IDLE\n",
      "            do not run in a terminal and hence it is not possible to do\n",
      "            correct auto-detection.\n",
      "            [default: 20] [currently: 20]\n",
      "        display.max_colwidth : int or None\n",
      "            The maximum width in characters of a column in the repr of\n",
      "            a pandas data structure. When the column overflows, a \"...\"\n",
      "            placeholder is embedded in the output. A 'None' value means unlimited.\n",
      "            [default: 50] [currently: 50]\n",
      "        display.max_info_columns : int\n",
      "            max_info_columns is used in DataFrame.info method to decide if\n",
      "            per column information will be printed.\n",
      "            [default: 100] [currently: 100]\n",
      "        display.max_info_rows : int or None\n",
      "            df.info() will usually show null-counts for each column.\n",
      "            For large frames this can be quite slow. max_info_rows and max_info_cols\n",
      "            limit this null check only to frames with smaller dimensions than\n",
      "            specified.\n",
      "            [default: 1690785] [currently: 1690785]\n",
      "        display.max_rows : int\n",
      "            If max_rows is exceeded, switch to truncate view. Depending on\n",
      "            `large_repr`, objects are either centrally truncated or printed as\n",
      "            a summary view. 'None' value means unlimited.\n",
      "        \n",
      "            In case python/IPython is running in a terminal and `large_repr`\n",
      "            equals 'truncate' this can be set to 0 and pandas will auto-detect\n",
      "            the height of the terminal and print a truncated object which fits\n",
      "            the screen height. The IPython notebook, IPython qtconsole, or\n",
      "            IDLE do not run in a terminal and hence it is not possible to do\n",
      "            correct auto-detection.\n",
      "            [default: 60] [currently: 60]\n",
      "        display.max_seq_items : int or None\n",
      "            When pretty-printing a long sequence, no more then `max_seq_items`\n",
      "            will be printed. If items are omitted, they will be denoted by the\n",
      "            addition of \"...\" to the resulting string.\n",
      "        \n",
      "            If set to None, the number of items to be printed is unlimited.\n",
      "            [default: 100] [currently: 100]\n",
      "        display.memory_usage : bool, string or None\n",
      "            This specifies if the memory usage of a DataFrame should be displayed when\n",
      "            df.info() is called. Valid values True,False,'deep'\n",
      "            [default: True] [currently: True]\n",
      "        display.min_rows : int\n",
      "            The numbers of rows to show in a truncated view (when `max_rows` is\n",
      "            exceeded). Ignored when `max_rows` is set to None or 0. When set to\n",
      "            None, follows the value of `max_rows`.\n",
      "            [default: 10] [currently: 10]\n",
      "        display.multi_sparse : boolean\n",
      "            \"sparsify\" MultiIndex display (don't display repeated\n",
      "            elements in outer levels within groups)\n",
      "            [default: True] [currently: True]\n",
      "        display.notebook_repr_html : boolean\n",
      "            When True, IPython notebook will use html representation for\n",
      "            pandas objects (if it is available).\n",
      "            [default: True] [currently: True]\n",
      "        display.pprint_nest_depth : int\n",
      "            Controls the number of nested levels to process when pretty-printing\n",
      "            [default: 3] [currently: 3]\n",
      "        display.precision : int\n",
      "            Floating point output precision in terms of number of places after the\n",
      "            decimal, for regular formatting as well as scientific notation. Similar\n",
      "            to ``precision`` in :meth:`numpy.set_printoptions`.\n",
      "            [default: 6] [currently: 6]\n",
      "        display.show_dimensions : boolean or 'truncate'\n",
      "            Whether to print out dimensions at the end of DataFrame repr.\n",
      "            If 'truncate' is specified, only print out the dimensions if the\n",
      "            frame is truncated (e.g. not display all rows and/or columns)\n",
      "            [default: truncate] [currently: truncate]\n",
      "        display.unicode.ambiguous_as_wide : boolean\n",
      "            Whether to use the Unicode East Asian Width to calculate the display text\n",
      "            width.\n",
      "            Enabling this may affect to the performance (default: False)\n",
      "            [default: False] [currently: False]\n",
      "        display.unicode.east_asian_width : boolean\n",
      "            Whether to use the Unicode East Asian Width to calculate the display text\n",
      "            width.\n",
      "            Enabling this may affect to the performance (default: False)\n",
      "            [default: False] [currently: False]\n",
      "        display.width : int\n",
      "            Width of the display in characters. In case python/IPython is running in\n",
      "            a terminal this can be set to None and pandas will correctly auto-detect\n",
      "            the width.\n",
      "            Note that the IPython notebook, IPython qtconsole, or IDLE do not run in a\n",
      "            terminal and hence it is not possible to correctly detect the width.\n",
      "            [default: 80] [currently: 80]\n",
      "        io.excel.ods.reader : string\n",
      "            The default Excel reader engine for 'ods' files. Available options:\n",
      "            auto, odf.\n",
      "            [default: auto] [currently: auto]\n",
      "        io.excel.ods.writer : string\n",
      "            The default Excel writer engine for 'ods' files. Available options:\n",
      "            auto, odf.\n",
      "            [default: auto] [currently: auto]\n",
      "        io.excel.xls.reader : string\n",
      "            The default Excel reader engine for 'xls' files. Available options:\n",
      "            auto, xlrd.\n",
      "            [default: auto] [currently: auto]\n",
      "        io.excel.xls.writer : string\n",
      "            The default Excel writer engine for 'xls' files. Available options:\n",
      "            auto, xlwt.\n",
      "            [default: auto] [currently: auto]\n",
      "            (Deprecated, use `` instead.)\n",
      "        io.excel.xlsb.reader : string\n",
      "            The default Excel reader engine for 'xlsb' files. Available options:\n",
      "            auto, pyxlsb.\n",
      "            [default: auto] [currently: auto]\n",
      "        io.excel.xlsm.reader : string\n",
      "            The default Excel reader engine for 'xlsm' files. Available options:\n",
      "            auto, xlrd, openpyxl.\n",
      "            [default: auto] [currently: auto]\n",
      "        io.excel.xlsm.writer : string\n",
      "            The default Excel writer engine for 'xlsm' files. Available options:\n",
      "            auto, openpyxl.\n",
      "            [default: auto] [currently: auto]\n",
      "        io.excel.xlsx.reader : string\n",
      "            The default Excel reader engine for 'xlsx' files. Available options:\n",
      "            auto, xlrd, openpyxl.\n",
      "            [default: auto] [currently: auto]\n",
      "        io.excel.xlsx.writer : string\n",
      "            The default Excel writer engine for 'xlsx' files. Available options:\n",
      "            auto, openpyxl, xlsxwriter.\n",
      "            [default: auto] [currently: auto]\n",
      "        io.hdf.default_format : format\n",
      "            default format writing format, if None, then\n",
      "            put will default to 'fixed' and append will default to 'table'\n",
      "            [default: None] [currently: None]\n",
      "        io.hdf.dropna_table : boolean\n",
      "            drop ALL nan rows when appending to a table\n",
      "            [default: False] [currently: False]\n",
      "        io.parquet.engine : string\n",
      "            The default parquet reader/writer engine. Available options:\n",
      "            'auto', 'pyarrow', 'fastparquet', the default is 'auto'\n",
      "            [default: auto] [currently: auto]\n",
      "        io.sql.engine : string\n",
      "            The default sql reader/writer engine. Available options:\n",
      "            'auto', 'sqlalchemy', the default is 'auto'\n",
      "            [default: auto] [currently: auto]\n",
      "        mode.chained_assignment : string\n",
      "            Raise an exception, warn, or no action if trying to use chained assignment,\n",
      "            The default is warn\n",
      "            [default: warn] [currently: warn]\n",
      "        mode.data_manager : string\n",
      "            Internal data manager type; can be \"block\" or \"array\". Defaults to \"block\",\n",
      "            unless overridden by the 'PANDAS_DATA_MANAGER' environment variable (needs\n",
      "            to be set before pandas is imported).\n",
      "            [default: block] [currently: block]\n",
      "        mode.sim_interactive : boolean\n",
      "            Whether to simulate interactive mode for purposes of testing\n",
      "            [default: False] [currently: False]\n",
      "        mode.string_storage : string\n",
      "            The default storage for StringDtype.\n",
      "            [default: python] [currently: python]\n",
      "        mode.use_inf_as_na : boolean\n",
      "            True means treat None, NaN, INF, -INF as NA (old way),\n",
      "            False means None and NaN are null, but INF, -INF are not NA\n",
      "            (new way).\n",
      "            [default: False] [currently: False]\n",
      "        mode.use_inf_as_null : boolean\n",
      "            use_inf_as_null had been deprecated and will be removed in a future\n",
      "            version. Use `use_inf_as_na` instead.\n",
      "            [default: False] [currently: False]\n",
      "            (Deprecated, use `mode.use_inf_as_na` instead.)\n",
      "        plotting.backend : str\n",
      "            The plotting backend to use. The default value is \"matplotlib\", the\n",
      "            backend provided with pandas. Other backends can be specified by\n",
      "            providing the name of the module that implements the backend.\n",
      "            [default: matplotlib] [currently: matplotlib]\n",
      "        plotting.matplotlib.register_converters : bool or 'auto'.\n",
      "            Whether to register converters with matplotlib's units registry for\n",
      "            dates, times, datetimes, and Periods. Toggling to False will remove\n",
      "            the converters, restoring any converters that pandas overwrote.\n",
      "            [default: auto] [currently: auto]\n",
      "        styler.render.max_elements : int\n",
      "            The maximum number of data-cell (<td>) elements that will be rendered before\n",
      "            trimming will occur over columns, rows or both if needed.\n",
      "            [default: 262144] [currently: 262144]\n",
      "        styler.sparse.columns : bool\n",
      "            Whether to sparsify the display of hierarchical columns. Setting to False will\n",
      "            display each explicit level element in a hierarchical key for each column.\n",
      "            [default: True] [currently: True]\n",
      "        styler.sparse.index : bool\n",
      "            Whether to sparsify the display of a hierarchical index. Setting to False will\n",
      "            display each explicit level element in a hierarchical key for each row.\n",
      "            [default: True] [currently: True]\n",
      "    \n",
      "    options = <pandas._config.config.DictWrapper object>\n",
      "    reset_option = <pandas._config.config.CallableDynamicDoc object>\n",
      "        reset_option(pat)\n",
      "        \n",
      "        Reset one or more options to their default value.\n",
      "        \n",
      "        Pass \"all\" as argument to reset all options.\n",
      "        \n",
      "        Available options:\n",
      "        \n",
      "        - compute.[use_bottleneck, use_numba, use_numexpr]\n",
      "        - display.[chop_threshold, colheader_justify, column_space, date_dayfirst,\n",
      "          date_yearfirst, encoding, expand_frame_repr, float_format]\n",
      "        - display.html.[border, table_schema, use_mathjax]\n",
      "        - display.[large_repr]\n",
      "        - display.latex.[escape, longtable, multicolumn, multicolumn_format, multirow,\n",
      "          repr]\n",
      "        - display.[max_categories, max_columns, max_colwidth, max_info_columns,\n",
      "          max_info_rows, max_rows, max_seq_items, memory_usage, min_rows, multi_sparse,\n",
      "          notebook_repr_html, pprint_nest_depth, precision, show_dimensions]\n",
      "        - display.unicode.[ambiguous_as_wide, east_asian_width]\n",
      "        - display.[width]\n",
      "        - io.excel.ods.[reader, writer]\n",
      "        - io.excel.xls.[reader, writer]\n",
      "        - io.excel.xlsb.[reader]\n",
      "        - io.excel.xlsm.[reader, writer]\n",
      "        - io.excel.xlsx.[reader, writer]\n",
      "        - io.hdf.[default_format, dropna_table]\n",
      "        - io.parquet.[engine]\n",
      "        - io.sql.[engine]\n",
      "        - mode.[chained_assignment, data_manager, sim_interactive, string_storage,\n",
      "          use_inf_as_na, use_inf_as_null]\n",
      "        - plotting.[backend]\n",
      "        - plotting.matplotlib.[register_converters]\n",
      "        - styler.render.[max_elements]\n",
      "        - styler.sparse.[columns, index]\n",
      "        \n",
      "        Parameters\n",
      "        ----------\n",
      "        pat : str/regex\n",
      "            If specified only options matching `prefix*` will be reset.\n",
      "            Note: partial matches are supported for convenience, but unless you\n",
      "            use the full option name (e.g. x.y.z.option_name), your code may break\n",
      "            in future versions if new options with similar names are introduced.\n",
      "        \n",
      "        Returns\n",
      "        -------\n",
      "        None\n",
      "        \n",
      "        Notes\n",
      "        -----\n",
      "        The available options with its descriptions:\n",
      "        \n",
      "        compute.use_bottleneck : bool\n",
      "            Use the bottleneck library to accelerate if it is installed,\n",
      "            the default is True\n",
      "            Valid values: False,True\n",
      "            [default: True] [currently: True]\n",
      "        compute.use_numba : bool\n",
      "            Use the numba engine option for select operations if it is installed,\n",
      "            the default is False\n",
      "            Valid values: False,True\n",
      "            [default: False] [currently: False]\n",
      "        compute.use_numexpr : bool\n",
      "            Use the numexpr library to accelerate computation if it is installed,\n",
      "            the default is True\n",
      "            Valid values: False,True\n",
      "            [default: True] [currently: True]\n",
      "        display.chop_threshold : float or None\n",
      "            if set to a float value, all float values smaller then the given threshold\n",
      "            will be displayed as exactly 0 by repr and friends.\n",
      "            [default: None] [currently: None]\n",
      "        display.colheader_justify : 'left'/'right'\n",
      "            Controls the justification of column headers. used by DataFrameFormatter.\n",
      "            [default: right] [currently: right]\n",
      "        display.column_space No description available.\n",
      "            [default: 12] [currently: 12]\n",
      "        display.date_dayfirst : boolean\n",
      "            When True, prints and parses dates with the day first, eg 20/01/2005\n",
      "            [default: False] [currently: False]\n",
      "        display.date_yearfirst : boolean\n",
      "            When True, prints and parses dates with the year first, eg 2005/01/20\n",
      "            [default: False] [currently: False]\n",
      "        display.encoding : str/unicode\n",
      "            Defaults to the detected encoding of the console.\n",
      "            Specifies the encoding to be used for strings returned by to_string,\n",
      "            these are generally strings meant to be displayed on the console.\n",
      "            [default: UTF-8] [currently: UTF-8]\n",
      "        display.expand_frame_repr : boolean\n",
      "            Whether to print out the full DataFrame repr for wide DataFrames across\n",
      "            multiple lines, `max_columns` is still respected, but the output will\n",
      "            wrap-around across multiple \"pages\" if its width exceeds `display.width`.\n",
      "            [default: True] [currently: True]\n",
      "        display.float_format : callable\n",
      "            The callable should accept a floating point number and return\n",
      "            a string with the desired format of the number. This is used\n",
      "            in some places like SeriesFormatter.\n",
      "            See formats.format.EngFormatter for an example.\n",
      "            [default: None] [currently: None]\n",
      "        display.html.border : int\n",
      "            A ``border=value`` attribute is inserted in the ``<table>`` tag\n",
      "            for the DataFrame HTML repr.\n",
      "            [default: 1] [currently: 1]\n",
      "        display.html.table_schema : boolean\n",
      "            Whether to publish a Table Schema representation for frontends\n",
      "            that support it.\n",
      "            (default: False)\n",
      "            [default: False] [currently: False]\n",
      "        display.html.use_mathjax : boolean\n",
      "            When True, Jupyter notebook will process table contents using MathJax,\n",
      "            rendering mathematical expressions enclosed by the dollar symbol.\n",
      "            (default: True)\n",
      "            [default: True] [currently: True]\n",
      "        display.large_repr : 'truncate'/'info'\n",
      "            For DataFrames exceeding max_rows/max_cols, the repr (and HTML repr) can\n",
      "            show a truncated table (the default from 0.13), or switch to the view from\n",
      "            df.info() (the behaviour in earlier versions of pandas).\n",
      "            [default: truncate] [currently: truncate]\n",
      "        display.latex.escape : bool\n",
      "            This specifies if the to_latex method of a Dataframe uses escapes special\n",
      "            characters.\n",
      "            Valid values: False,True\n",
      "            [default: True] [currently: True]\n",
      "        display.latex.longtable :bool\n",
      "            This specifies if the to_latex method of a Dataframe uses the longtable\n",
      "            format.\n",
      "            Valid values: False,True\n",
      "            [default: False] [currently: False]\n",
      "        display.latex.multicolumn : bool\n",
      "            This specifies if the to_latex method of a Dataframe uses multicolumns\n",
      "            to pretty-print MultiIndex columns.\n",
      "            Valid values: False,True\n",
      "            [default: True] [currently: True]\n",
      "        display.latex.multicolumn_format : bool\n",
      "            This specifies if the to_latex method of a Dataframe uses multicolumns\n",
      "            to pretty-print MultiIndex columns.\n",
      "            Valid values: False,True\n",
      "            [default: l] [currently: l]\n",
      "        display.latex.multirow : bool\n",
      "            This specifies if the to_latex method of a Dataframe uses multirows\n",
      "            to pretty-print MultiIndex rows.\n",
      "            Valid values: False,True\n",
      "            [default: False] [currently: False]\n",
      "        display.latex.repr : boolean\n",
      "            Whether to produce a latex DataFrame representation for jupyter\n",
      "            environments that support it.\n",
      "            (default: False)\n",
      "            [default: False] [currently: False]\n",
      "        display.max_categories : int\n",
      "            This sets the maximum number of categories pandas should output when\n",
      "            printing out a `Categorical` or a Series of dtype \"category\".\n",
      "            [default: 8] [currently: 8]\n",
      "        display.max_columns : int\n",
      "            If max_cols is exceeded, switch to truncate view. Depending on\n",
      "            `large_repr`, objects are either centrally truncated or printed as\n",
      "            a summary view. 'None' value means unlimited.\n",
      "        \n",
      "            In case python/IPython is running in a terminal and `large_repr`\n",
      "            equals 'truncate' this can be set to 0 and pandas will auto-detect\n",
      "            the width of the terminal and print a truncated object which fits\n",
      "            the screen width. The IPython notebook, IPython qtconsole, or IDLE\n",
      "            do not run in a terminal and hence it is not possible to do\n",
      "            correct auto-detection.\n",
      "            [default: 20] [currently: 20]\n",
      "        display.max_colwidth : int or None\n",
      "            The maximum width in characters of a column in the repr of\n",
      "            a pandas data structure. When the column overflows, a \"...\"\n",
      "            placeholder is embedded in the output. A 'None' value means unlimited.\n",
      "            [default: 50] [currently: 50]\n",
      "        display.max_info_columns : int\n",
      "            max_info_columns is used in DataFrame.info method to decide if\n",
      "            per column information will be printed.\n",
      "            [default: 100] [currently: 100]\n",
      "        display.max_info_rows : int or None\n",
      "            df.info() will usually show null-counts for each column.\n",
      "            For large frames this can be quite slow. max_info_rows and max_info_cols\n",
      "            limit this null check only to frames with smaller dimensions than\n",
      "            specified.\n",
      "            [default: 1690785] [currently: 1690785]\n",
      "        display.max_rows : int\n",
      "            If max_rows is exceeded, switch to truncate view. Depending on\n",
      "            `large_repr`, objects are either centrally truncated or printed as\n",
      "            a summary view. 'None' value means unlimited.\n",
      "        \n",
      "            In case python/IPython is running in a terminal and `large_repr`\n",
      "            equals 'truncate' this can be set to 0 and pandas will auto-detect\n",
      "            the height of the terminal and print a truncated object which fits\n",
      "            the screen height. The IPython notebook, IPython qtconsole, or\n",
      "            IDLE do not run in a terminal and hence it is not possible to do\n",
      "            correct auto-detection.\n",
      "            [default: 60] [currently: 60]\n",
      "        display.max_seq_items : int or None\n",
      "            When pretty-printing a long sequence, no more then `max_seq_items`\n",
      "            will be printed. If items are omitted, they will be denoted by the\n",
      "            addition of \"...\" to the resulting string.\n",
      "        \n",
      "            If set to None, the number of items to be printed is unlimited.\n",
      "            [default: 100] [currently: 100]\n",
      "        display.memory_usage : bool, string or None\n",
      "            This specifies if the memory usage of a DataFrame should be displayed when\n",
      "            df.info() is called. Valid values True,False,'deep'\n",
      "            [default: True] [currently: True]\n",
      "        display.min_rows : int\n",
      "            The numbers of rows to show in a truncated view (when `max_rows` is\n",
      "            exceeded). Ignored when `max_rows` is set to None or 0. When set to\n",
      "            None, follows the value of `max_rows`.\n",
      "            [default: 10] [currently: 10]\n",
      "        display.multi_sparse : boolean\n",
      "            \"sparsify\" MultiIndex display (don't display repeated\n",
      "            elements in outer levels within groups)\n",
      "            [default: True] [currently: True]\n",
      "        display.notebook_repr_html : boolean\n",
      "            When True, IPython notebook will use html representation for\n",
      "            pandas objects (if it is available).\n",
      "            [default: True] [currently: True]\n",
      "        display.pprint_nest_depth : int\n",
      "            Controls the number of nested levels to process when pretty-printing\n",
      "            [default: 3] [currently: 3]\n",
      "        display.precision : int\n",
      "            Floating point output precision in terms of number of places after the\n",
      "            decimal, for regular formatting as well as scientific notation. Similar\n",
      "            to ``precision`` in :meth:`numpy.set_printoptions`.\n",
      "            [default: 6] [currently: 6]\n",
      "        display.show_dimensions : boolean or 'truncate'\n",
      "            Whether to print out dimensions at the end of DataFrame repr.\n",
      "            If 'truncate' is specified, only print out the dimensions if the\n",
      "            frame is truncated (e.g. not display all rows and/or columns)\n",
      "            [default: truncate] [currently: truncate]\n",
      "        display.unicode.ambiguous_as_wide : boolean\n",
      "            Whether to use the Unicode East Asian Width to calculate the display text\n",
      "            width.\n",
      "            Enabling this may affect to the performance (default: False)\n",
      "            [default: False] [currently: False]\n",
      "        display.unicode.east_asian_width : boolean\n",
      "            Whether to use the Unicode East Asian Width to calculate the display text\n",
      "            width.\n",
      "            Enabling this may affect to the performance (default: False)\n",
      "            [default: False] [currently: False]\n",
      "        display.width : int\n",
      "            Width of the display in characters. In case python/IPython is running in\n",
      "            a terminal this can be set to None and pandas will correctly auto-detect\n",
      "            the width.\n",
      "            Note that the IPython notebook, IPython qtconsole, or IDLE do not run in a\n",
      "            terminal and hence it is not possible to correctly detect the width.\n",
      "            [default: 80] [currently: 80]\n",
      "        io.excel.ods.reader : string\n",
      "            The default Excel reader engine for 'ods' files. Available options:\n",
      "            auto, odf.\n",
      "            [default: auto] [currently: auto]\n",
      "        io.excel.ods.writer : string\n",
      "            The default Excel writer engine for 'ods' files. Available options:\n",
      "            auto, odf.\n",
      "            [default: auto] [currently: auto]\n",
      "        io.excel.xls.reader : string\n",
      "            The default Excel reader engine for 'xls' files. Available options:\n",
      "            auto, xlrd.\n",
      "            [default: auto] [currently: auto]\n",
      "        io.excel.xls.writer : string\n",
      "            The default Excel writer engine for 'xls' files. Available options:\n",
      "            auto, xlwt.\n",
      "            [default: auto] [currently: auto]\n",
      "            (Deprecated, use `` instead.)\n",
      "        io.excel.xlsb.reader : string\n",
      "            The default Excel reader engine for 'xlsb' files. Available options:\n",
      "            auto, pyxlsb.\n",
      "            [default: auto] [currently: auto]\n",
      "        io.excel.xlsm.reader : string\n",
      "            The default Excel reader engine for 'xlsm' files. Available options:\n",
      "            auto, xlrd, openpyxl.\n",
      "            [default: auto] [currently: auto]\n",
      "        io.excel.xlsm.writer : string\n",
      "            The default Excel writer engine for 'xlsm' files. Available options:\n",
      "            auto, openpyxl.\n",
      "            [default: auto] [currently: auto]\n",
      "        io.excel.xlsx.reader : string\n",
      "            The default Excel reader engine for 'xlsx' files. Available options:\n",
      "            auto, xlrd, openpyxl.\n",
      "            [default: auto] [currently: auto]\n",
      "        io.excel.xlsx.writer : string\n",
      "            The default Excel writer engine for 'xlsx' files. Available options:\n",
      "            auto, openpyxl, xlsxwriter.\n",
      "            [default: auto] [currently: auto]\n",
      "        io.hdf.default_format : format\n",
      "            default format writing format, if None, then\n",
      "            put will default to 'fixed' and append will default to 'table'\n",
      "            [default: None] [currently: None]\n",
      "        io.hdf.dropna_table : boolean\n",
      "            drop ALL nan rows when appending to a table\n",
      "            [default: False] [currently: False]\n",
      "        io.parquet.engine : string\n",
      "            The default parquet reader/writer engine. Available options:\n",
      "            'auto', 'pyarrow', 'fastparquet', the default is 'auto'\n",
      "            [default: auto] [currently: auto]\n",
      "        io.sql.engine : string\n",
      "            The default sql reader/writer engine. Available options:\n",
      "            'auto', 'sqlalchemy', the default is 'auto'\n",
      "            [default: auto] [currently: auto]\n",
      "        mode.chained_assignment : string\n",
      "            Raise an exception, warn, or no action if trying to use chained assignment,\n",
      "            The default is warn\n",
      "            [default: warn] [currently: warn]\n",
      "        mode.data_manager : string\n",
      "            Internal data manager type; can be \"block\" or \"array\". Defaults to \"block\",\n",
      "            unless overridden by the 'PANDAS_DATA_MANAGER' environment variable (needs\n",
      "            to be set before pandas is imported).\n",
      "            [default: block] [currently: block]\n",
      "        mode.sim_interactive : boolean\n",
      "            Whether to simulate interactive mode for purposes of testing\n",
      "            [default: False] [currently: False]\n",
      "        mode.string_storage : string\n",
      "            The default storage for StringDtype.\n",
      "            [default: python] [currently: python]\n",
      "        mode.use_inf_as_na : boolean\n",
      "            True means treat None, NaN, INF, -INF as NA (old way),\n",
      "            False means None and NaN are null, but INF, -INF are not NA\n",
      "            (new way).\n",
      "            [default: False] [currently: False]\n",
      "        mode.use_inf_as_null : boolean\n",
      "            use_inf_as_null had been deprecated and will be removed in a future\n",
      "            version. Use `use_inf_as_na` instead.\n",
      "            [default: False] [currently: False]\n",
      "            (Deprecated, use `mode.use_inf_as_na` instead.)\n",
      "        plotting.backend : str\n",
      "            The plotting backend to use. The default value is \"matplotlib\", the\n",
      "            backend provided with pandas. Other backends can be specified by\n",
      "            providing the name of the module that implements the backend.\n",
      "            [default: matplotlib] [currently: matplotlib]\n",
      "        plotting.matplotlib.register_converters : bool or 'auto'.\n",
      "            Whether to register converters with matplotlib's units registry for\n",
      "            dates, times, datetimes, and Periods. Toggling to False will remove\n",
      "            the converters, restoring any converters that pandas overwrote.\n",
      "            [default: auto] [currently: auto]\n",
      "        styler.render.max_elements : int\n",
      "            The maximum number of data-cell (<td>) elements that will be rendered before\n",
      "            trimming will occur over columns, rows or both if needed.\n",
      "            [default: 262144] [currently: 262144]\n",
      "        styler.sparse.columns : bool\n",
      "            Whether to sparsify the display of hierarchical columns. Setting to False will\n",
      "            display each explicit level element in a hierarchical key for each column.\n",
      "            [default: True] [currently: True]\n",
      "        styler.sparse.index : bool\n",
      "            Whether to sparsify the display of a hierarchical index. Setting to False will\n",
      "            display each explicit level element in a hierarchical key for each row.\n",
      "            [default: True] [currently: True]\n",
      "    \n",
      "    set_option = <pandas._config.config.CallableDynamicDoc object>\n",
      "        set_option(pat, value)\n",
      "        \n",
      "        Sets the value of the specified option.\n",
      "        \n",
      "        Available options:\n",
      "        \n",
      "        - compute.[use_bottleneck, use_numba, use_numexpr]\n",
      "        - display.[chop_threshold, colheader_justify, column_space, date_dayfirst,\n",
      "          date_yearfirst, encoding, expand_frame_repr, float_format]\n",
      "        - display.html.[border, table_schema, use_mathjax]\n",
      "        - display.[large_repr]\n",
      "        - display.latex.[escape, longtable, multicolumn, multicolumn_format, multirow,\n",
      "          repr]\n",
      "        - display.[max_categories, max_columns, max_colwidth, max_info_columns,\n",
      "          max_info_rows, max_rows, max_seq_items, memory_usage, min_rows, multi_sparse,\n",
      "          notebook_repr_html, pprint_nest_depth, precision, show_dimensions]\n",
      "        - display.unicode.[ambiguous_as_wide, east_asian_width]\n",
      "        - display.[width]\n",
      "        - io.excel.ods.[reader, writer]\n",
      "        - io.excel.xls.[reader, writer]\n",
      "        - io.excel.xlsb.[reader]\n",
      "        - io.excel.xlsm.[reader, writer]\n",
      "        - io.excel.xlsx.[reader, writer]\n",
      "        - io.hdf.[default_format, dropna_table]\n",
      "        - io.parquet.[engine]\n",
      "        - io.sql.[engine]\n",
      "        - mode.[chained_assignment, data_manager, sim_interactive, string_storage,\n",
      "          use_inf_as_na, use_inf_as_null]\n",
      "        - plotting.[backend]\n",
      "        - plotting.matplotlib.[register_converters]\n",
      "        - styler.render.[max_elements]\n",
      "        - styler.sparse.[columns, index]\n",
      "        \n",
      "        Parameters\n",
      "        ----------\n",
      "        pat : str\n",
      "            Regexp which should match a single option.\n",
      "            Note: partial matches are supported for convenience, but unless you use the\n",
      "            full option name (e.g. x.y.z.option_name), your code may break in future\n",
      "            versions if new options with similar names are introduced.\n",
      "        value : object\n",
      "            New value of option.\n",
      "        \n",
      "        Returns\n",
      "        -------\n",
      "        None\n",
      "        \n",
      "        Raises\n",
      "        ------\n",
      "        OptionError if no such option exists\n",
      "        \n",
      "        Notes\n",
      "        -----\n",
      "        The available options with its descriptions:\n",
      "        \n",
      "        compute.use_bottleneck : bool\n",
      "            Use the bottleneck library to accelerate if it is installed,\n",
      "            the default is True\n",
      "            Valid values: False,True\n",
      "            [default: True] [currently: True]\n",
      "        compute.use_numba : bool\n",
      "            Use the numba engine option for select operations if it is installed,\n",
      "            the default is False\n",
      "            Valid values: False,True\n",
      "            [default: False] [currently: False]\n",
      "        compute.use_numexpr : bool\n",
      "            Use the numexpr library to accelerate computation if it is installed,\n",
      "            the default is True\n",
      "            Valid values: False,True\n",
      "            [default: True] [currently: True]\n",
      "        display.chop_threshold : float or None\n",
      "            if set to a float value, all float values smaller then the given threshold\n",
      "            will be displayed as exactly 0 by repr and friends.\n",
      "            [default: None] [currently: None]\n",
      "        display.colheader_justify : 'left'/'right'\n",
      "            Controls the justification of column headers. used by DataFrameFormatter.\n",
      "            [default: right] [currently: right]\n",
      "        display.column_space No description available.\n",
      "            [default: 12] [currently: 12]\n",
      "        display.date_dayfirst : boolean\n",
      "            When True, prints and parses dates with the day first, eg 20/01/2005\n",
      "            [default: False] [currently: False]\n",
      "        display.date_yearfirst : boolean\n",
      "            When True, prints and parses dates with the year first, eg 2005/01/20\n",
      "            [default: False] [currently: False]\n",
      "        display.encoding : str/unicode\n",
      "            Defaults to the detected encoding of the console.\n",
      "            Specifies the encoding to be used for strings returned by to_string,\n",
      "            these are generally strings meant to be displayed on the console.\n",
      "            [default: UTF-8] [currently: UTF-8]\n",
      "        display.expand_frame_repr : boolean\n",
      "            Whether to print out the full DataFrame repr for wide DataFrames across\n",
      "            multiple lines, `max_columns` is still respected, but the output will\n",
      "            wrap-around across multiple \"pages\" if its width exceeds `display.width`.\n",
      "            [default: True] [currently: True]\n",
      "        display.float_format : callable\n",
      "            The callable should accept a floating point number and return\n",
      "            a string with the desired format of the number. This is used\n",
      "            in some places like SeriesFormatter.\n",
      "            See formats.format.EngFormatter for an example.\n",
      "            [default: None] [currently: None]\n",
      "        display.html.border : int\n",
      "            A ``border=value`` attribute is inserted in the ``<table>`` tag\n",
      "            for the DataFrame HTML repr.\n",
      "            [default: 1] [currently: 1]\n",
      "        display.html.table_schema : boolean\n",
      "            Whether to publish a Table Schema representation for frontends\n",
      "            that support it.\n",
      "            (default: False)\n",
      "            [default: False] [currently: False]\n",
      "        display.html.use_mathjax : boolean\n",
      "            When True, Jupyter notebook will process table contents using MathJax,\n",
      "            rendering mathematical expressions enclosed by the dollar symbol.\n",
      "            (default: True)\n",
      "            [default: True] [currently: True]\n",
      "        display.large_repr : 'truncate'/'info'\n",
      "            For DataFrames exceeding max_rows/max_cols, the repr (and HTML repr) can\n",
      "            show a truncated table (the default from 0.13), or switch to the view from\n",
      "            df.info() (the behaviour in earlier versions of pandas).\n",
      "            [default: truncate] [currently: truncate]\n",
      "        display.latex.escape : bool\n",
      "            This specifies if the to_latex method of a Dataframe uses escapes special\n",
      "            characters.\n",
      "            Valid values: False,True\n",
      "            [default: True] [currently: True]\n",
      "        display.latex.longtable :bool\n",
      "            This specifies if the to_latex method of a Dataframe uses the longtable\n",
      "            format.\n",
      "            Valid values: False,True\n",
      "            [default: False] [currently: False]\n",
      "        display.latex.multicolumn : bool\n",
      "            This specifies if the to_latex method of a Dataframe uses multicolumns\n",
      "            to pretty-print MultiIndex columns.\n",
      "            Valid values: False,True\n",
      "            [default: True] [currently: True]\n",
      "        display.latex.multicolumn_format : bool\n",
      "            This specifies if the to_latex method of a Dataframe uses multicolumns\n",
      "            to pretty-print MultiIndex columns.\n",
      "            Valid values: False,True\n",
      "            [default: l] [currently: l]\n",
      "        display.latex.multirow : bool\n",
      "            This specifies if the to_latex method of a Dataframe uses multirows\n",
      "            to pretty-print MultiIndex rows.\n",
      "            Valid values: False,True\n",
      "            [default: False] [currently: False]\n",
      "        display.latex.repr : boolean\n",
      "            Whether to produce a latex DataFrame representation for jupyter\n",
      "            environments that support it.\n",
      "            (default: False)\n",
      "            [default: False] [currently: False]\n",
      "        display.max_categories : int\n",
      "            This sets the maximum number of categories pandas should output when\n",
      "            printing out a `Categorical` or a Series of dtype \"category\".\n",
      "            [default: 8] [currently: 8]\n",
      "        display.max_columns : int\n",
      "            If max_cols is exceeded, switch to truncate view. Depending on\n",
      "            `large_repr`, objects are either centrally truncated or printed as\n",
      "            a summary view. 'None' value means unlimited.\n",
      "        \n",
      "            In case python/IPython is running in a terminal and `large_repr`\n",
      "            equals 'truncate' this can be set to 0 and pandas will auto-detect\n",
      "            the width of the terminal and print a truncated object which fits\n",
      "            the screen width. The IPython notebook, IPython qtconsole, or IDLE\n",
      "            do not run in a terminal and hence it is not possible to do\n",
      "            correct auto-detection.\n",
      "            [default: 20] [currently: 20]\n",
      "        display.max_colwidth : int or None\n",
      "            The maximum width in characters of a column in the repr of\n",
      "            a pandas data structure. When the column overflows, a \"...\"\n",
      "            placeholder is embedded in the output. A 'None' value means unlimited.\n",
      "            [default: 50] [currently: 50]\n",
      "        display.max_info_columns : int\n",
      "            max_info_columns is used in DataFrame.info method to decide if\n",
      "            per column information will be printed.\n",
      "            [default: 100] [currently: 100]\n",
      "        display.max_info_rows : int or None\n",
      "            df.info() will usually show null-counts for each column.\n",
      "            For large frames this can be quite slow. max_info_rows and max_info_cols\n",
      "            limit this null check only to frames with smaller dimensions than\n",
      "            specified.\n",
      "            [default: 1690785] [currently: 1690785]\n",
      "        display.max_rows : int\n",
      "            If max_rows is exceeded, switch to truncate view. Depending on\n",
      "            `large_repr`, objects are either centrally truncated or printed as\n",
      "            a summary view. 'None' value means unlimited.\n",
      "        \n",
      "            In case python/IPython is running in a terminal and `large_repr`\n",
      "            equals 'truncate' this can be set to 0 and pandas will auto-detect\n",
      "            the height of the terminal and print a truncated object which fits\n",
      "            the screen height. The IPython notebook, IPython qtconsole, or\n",
      "            IDLE do not run in a terminal and hence it is not possible to do\n",
      "            correct auto-detection.\n",
      "            [default: 60] [currently: 60]\n",
      "        display.max_seq_items : int or None\n",
      "            When pretty-printing a long sequence, no more then `max_seq_items`\n",
      "            will be printed. If items are omitted, they will be denoted by the\n",
      "            addition of \"...\" to the resulting string.\n",
      "        \n",
      "            If set to None, the number of items to be printed is unlimited.\n",
      "            [default: 100] [currently: 100]\n",
      "        display.memory_usage : bool, string or None\n",
      "            This specifies if the memory usage of a DataFrame should be displayed when\n",
      "            df.info() is called. Valid values True,False,'deep'\n",
      "            [default: True] [currently: True]\n",
      "        display.min_rows : int\n",
      "            The numbers of rows to show in a truncated view (when `max_rows` is\n",
      "            exceeded). Ignored when `max_rows` is set to None or 0. When set to\n",
      "            None, follows the value of `max_rows`.\n",
      "            [default: 10] [currently: 10]\n",
      "        display.multi_sparse : boolean\n",
      "            \"sparsify\" MultiIndex display (don't display repeated\n",
      "            elements in outer levels within groups)\n",
      "            [default: True] [currently: True]\n",
      "        display.notebook_repr_html : boolean\n",
      "            When True, IPython notebook will use html representation for\n",
      "            pandas objects (if it is available).\n",
      "            [default: True] [currently: True]\n",
      "        display.pprint_nest_depth : int\n",
      "            Controls the number of nested levels to process when pretty-printing\n",
      "            [default: 3] [currently: 3]\n",
      "        display.precision : int\n",
      "            Floating point output precision in terms of number of places after the\n",
      "            decimal, for regular formatting as well as scientific notation. Similar\n",
      "            to ``precision`` in :meth:`numpy.set_printoptions`.\n",
      "            [default: 6] [currently: 6]\n",
      "        display.show_dimensions : boolean or 'truncate'\n",
      "            Whether to print out dimensions at the end of DataFrame repr.\n",
      "            If 'truncate' is specified, only print out the dimensions if the\n",
      "            frame is truncated (e.g. not display all rows and/or columns)\n",
      "            [default: truncate] [currently: truncate]\n",
      "        display.unicode.ambiguous_as_wide : boolean\n",
      "            Whether to use the Unicode East Asian Width to calculate the display text\n",
      "            width.\n",
      "            Enabling this may affect to the performance (default: False)\n",
      "            [default: False] [currently: False]\n",
      "        display.unicode.east_asian_width : boolean\n",
      "            Whether to use the Unicode East Asian Width to calculate the display text\n",
      "            width.\n",
      "            Enabling this may affect to the performance (default: False)\n",
      "            [default: False] [currently: False]\n",
      "        display.width : int\n",
      "            Width of the display in characters. In case python/IPython is running in\n",
      "            a terminal this can be set to None and pandas will correctly auto-detect\n",
      "            the width.\n",
      "            Note that the IPython notebook, IPython qtconsole, or IDLE do not run in a\n",
      "            terminal and hence it is not possible to correctly detect the width.\n",
      "            [default: 80] [currently: 80]\n",
      "        io.excel.ods.reader : string\n",
      "            The default Excel reader engine for 'ods' files. Available options:\n",
      "            auto, odf.\n",
      "            [default: auto] [currently: auto]\n",
      "        io.excel.ods.writer : string\n",
      "            The default Excel writer engine for 'ods' files. Available options:\n",
      "            auto, odf.\n",
      "            [default: auto] [currently: auto]\n",
      "        io.excel.xls.reader : string\n",
      "            The default Excel reader engine for 'xls' files. Available options:\n",
      "            auto, xlrd.\n",
      "            [default: auto] [currently: auto]\n",
      "        io.excel.xls.writer : string\n",
      "            The default Excel writer engine for 'xls' files. Available options:\n",
      "            auto, xlwt.\n",
      "            [default: auto] [currently: auto]\n",
      "            (Deprecated, use `` instead.)\n",
      "        io.excel.xlsb.reader : string\n",
      "            The default Excel reader engine for 'xlsb' files. Available options:\n",
      "            auto, pyxlsb.\n",
      "            [default: auto] [currently: auto]\n",
      "        io.excel.xlsm.reader : string\n",
      "            The default Excel reader engine for 'xlsm' files. Available options:\n",
      "            auto, xlrd, openpyxl.\n",
      "            [default: auto] [currently: auto]\n",
      "        io.excel.xlsm.writer : string\n",
      "            The default Excel writer engine for 'xlsm' files. Available options:\n",
      "            auto, openpyxl.\n",
      "            [default: auto] [currently: auto]\n",
      "        io.excel.xlsx.reader : string\n",
      "            The default Excel reader engine for 'xlsx' files. Available options:\n",
      "            auto, xlrd, openpyxl.\n",
      "            [default: auto] [currently: auto]\n",
      "        io.excel.xlsx.writer : string\n",
      "            The default Excel writer engine for 'xlsx' files. Available options:\n",
      "            auto, openpyxl, xlsxwriter.\n",
      "            [default: auto] [currently: auto]\n",
      "        io.hdf.default_format : format\n",
      "            default format writing format, if None, then\n",
      "            put will default to 'fixed' and append will default to 'table'\n",
      "            [default: None] [currently: None]\n",
      "        io.hdf.dropna_table : boolean\n",
      "            drop ALL nan rows when appending to a table\n",
      "            [default: False] [currently: False]\n",
      "        io.parquet.engine : string\n",
      "            The default parquet reader/writer engine. Available options:\n",
      "            'auto', 'pyarrow', 'fastparquet', the default is 'auto'\n",
      "            [default: auto] [currently: auto]\n",
      "        io.sql.engine : string\n",
      "            The default sql reader/writer engine. Available options:\n",
      "            'auto', 'sqlalchemy', the default is 'auto'\n",
      "            [default: auto] [currently: auto]\n",
      "        mode.chained_assignment : string\n",
      "            Raise an exception, warn, or no action if trying to use chained assignment,\n",
      "            The default is warn\n",
      "            [default: warn] [currently: warn]\n",
      "        mode.data_manager : string\n",
      "            Internal data manager type; can be \"block\" or \"array\". Defaults to \"block\",\n",
      "            unless overridden by the 'PANDAS_DATA_MANAGER' environment variable (needs\n",
      "            to be set before pandas is imported).\n",
      "            [default: block] [currently: block]\n",
      "        mode.sim_interactive : boolean\n",
      "            Whether to simulate interactive mode for purposes of testing\n",
      "            [default: False] [currently: False]\n",
      "        mode.string_storage : string\n",
      "            The default storage for StringDtype.\n",
      "            [default: python] [currently: python]\n",
      "        mode.use_inf_as_na : boolean\n",
      "            True means treat None, NaN, INF, -INF as NA (old way),\n",
      "            False means None and NaN are null, but INF, -INF are not NA\n",
      "            (new way).\n",
      "            [default: False] [currently: False]\n",
      "        mode.use_inf_as_null : boolean\n",
      "            use_inf_as_null had been deprecated and will be removed in a future\n",
      "            version. Use `use_inf_as_na` instead.\n",
      "            [default: False] [currently: False]\n",
      "            (Deprecated, use `mode.use_inf_as_na` instead.)\n",
      "        plotting.backend : str\n",
      "            The plotting backend to use. The default value is \"matplotlib\", the\n",
      "            backend provided with pandas. Other backends can be specified by\n",
      "            providing the name of the module that implements the backend.\n",
      "            [default: matplotlib] [currently: matplotlib]\n",
      "        plotting.matplotlib.register_converters : bool or 'auto'.\n",
      "            Whether to register converters with matplotlib's units registry for\n",
      "            dates, times, datetimes, and Periods. Toggling to False will remove\n",
      "            the converters, restoring any converters that pandas overwrote.\n",
      "            [default: auto] [currently: auto]\n",
      "        styler.render.max_elements : int\n",
      "            The maximum number of data-cell (<td>) elements that will be rendered before\n",
      "            trimming will occur over columns, rows or both if needed.\n",
      "            [default: 262144] [currently: 262144]\n",
      "        styler.sparse.columns : bool\n",
      "            Whether to sparsify the display of hierarchical columns. Setting to False will\n",
      "            display each explicit level element in a hierarchical key for each column.\n",
      "            [default: True] [currently: True]\n",
      "        styler.sparse.index : bool\n",
      "            Whether to sparsify the display of a hierarchical index. Setting to False will\n",
      "            display each explicit level element in a hierarchical key for each row.\n",
      "            [default: True] [currently: True]\n",
      "\n",
      "VERSION\n",
      "    1.3.5\n",
      "\n",
      "FILE\n",
      "    c:\\users\\test\\appdata\\local\\programs\\python\\python310\\lib\\site-packages\\pandas\\__init__.py\n",
      "\n",
      "\n"
     ]
    }
   ],
   "source": [
    "import pandas as pd\n",
    "help(pd)    # You can find more information about pandas."
   ]
  },
  {
   "cell_type": "markdown",
   "metadata": {},
   "source": [
    "### **id()**\n",
    "Returns the id of an object"
   ]
  },
  {
   "cell_type": "code",
   "execution_count": 188,
   "metadata": {},
   "outputs": [
    {
     "name": "stdout",
     "output_type": "stream",
     "text": [
      "1699639717104\n",
      "1699636902256\n",
      "1699636902896\n",
      "1699639562944\n",
      "1699639414208\n",
      "1699639822816\n",
      "1699639515264\n"
     ]
    }
   ],
   "source": [
    "print(id('Hello, Python!'))\n",
    "print(id(3.14))\n",
    "print(id(1729))\n",
    "special_nums_list = [0.577, 1.618, 2.718, 3.14, 28, 37, 1729]\n",
    "print(id(special_nums_list))\n",
    "special_nums_tuple = (0.577, 1.618, 2.718, 3.14, 28, 37, 1729)\n",
    "print(id(special_nums_tuple))\n",
    "special_nums_set = {0.577, 1.618, 2.718, 3.14, 28, 37, 1729}\n",
    "print(id(special_nums_set))\n",
    "special_nums_dict = {'Euler constant': 0.577, 'Golden ratio': 1.618, \n",
    "                                        'Euler number': 2.718, 'PI number': 3.14, \n",
    "                                        'Perfect number': 28, 'Prime number': 37, \n",
    "                                        'Ramanujan Hardy number': 1729}\n",
    "print(id(special_nums_dict))"
   ]
  },
  {
   "cell_type": "markdown",
   "metadata": {},
   "source": [
    "### **eval()**\n",
    "This function evaluates and executes an expression."
   ]
  },
  {
   "cell_type": "code",
   "execution_count": 26,
   "metadata": {},
   "outputs": [
    {
     "name": "stdout",
     "output_type": "stream",
     "text": [
      "The entered number is 37.\n",
      "1369\n"
     ]
    }
   ],
   "source": [
    "num = int(input('Enter a number: '))\n",
    "print(f'The entered number is {num}.')\n",
    "print(eval('num*num'))"
   ]
  },
  {
   "cell_type": "markdown",
   "metadata": {},
   "source": [
    "### **map()**\n",
    "It returns the specified iterator with the specified function applied to each item."
   ]
  },
  {
   "cell_type": "code",
   "execution_count": 77,
   "metadata": {},
   "outputs": [
    {
     "name": "stdout",
     "output_type": "stream",
     "text": [
      "[1.0, 1.0, 1.0, 1.0, 1.0, 1.0, 1.0]\n"
     ]
    }
   ],
   "source": [
    "special_nums = [0.577, 1.618, 2.718, 3.14, 28, 37, 1729]\n",
    "def division(number):\n",
    "    return number/number\n",
    "\n",
    "division_number_iterator = map(division, special_nums)\n",
    "divided_nums = list(division_number_iterator)\n",
    "print(divided_nums)\n",
    "\n",
    "# Similar codings can be made for other operations"
   ]
  },
  {
   "cell_type": "markdown",
   "metadata": {},
   "source": [
    "### **len()**\n",
    "It returns the length of an object"
   ]
  },
  {
   "cell_type": "code",
   "execution_count": 54,
   "metadata": {},
   "outputs": [
    {
     "name": "stdout",
     "output_type": "stream",
     "text": [
      "The length of the list is 8\n"
     ]
    }
   ],
   "source": [
    "special_nums = [0.577, 1.618, 2.718, 3.14, 6, 28, 37, 1729]\n",
    "print('The length of the list is', len(special_nums))"
   ]
  },
  {
   "cell_type": "code",
   "execution_count": 59,
   "metadata": {},
   "outputs": [
    {
     "name": "stdout",
     "output_type": "stream",
     "text": [
      "The average of the values in the list is 226.00662499999999\n"
     ]
    }
   ],
   "source": [
    "# Calculate the average of values in the following list\n",
    "special_nums = [0.577, 1.618, 2.718, 3.14, 6, 28, 37, 1729]\n",
    "count = 0\n",
    "for i in special_nums:\n",
    "    count = count + i\n",
    "print('The average of the values in the list is', count/len(special_nums))"
   ]
  },
  {
   "cell_type": "markdown",
   "metadata": {},
   "source": [
    "### **min()**\n",
    "Returns the smallest item in an iterable"
   ]
  },
  {
   "cell_type": "code",
   "execution_count": 170,
   "metadata": {},
   "outputs": [
    {
     "name": "stdout",
     "output_type": "stream",
     "text": [
      "0.577\n"
     ]
    }
   ],
   "source": [
    "special_nums = [0.577, 1.618, 2.718, 3.14, 6, 28, 37, 1729]\n",
    "print(min(special_nums))"
   ]
  },
  {
   "cell_type": "markdown",
   "metadata": {},
   "source": [
    "### **max()**\n",
    "Returns the largest item in an iterable"
   ]
  },
  {
   "cell_type": "code",
   "execution_count": 171,
   "metadata": {},
   "outputs": [
    {
     "name": "stdout",
     "output_type": "stream",
     "text": [
      "1729\n"
     ]
    }
   ],
   "source": [
    "special_nums = [0.577, 1.618, 2.718, 3.14, 6, 28, 37, 1729]\n",
    "print(max(special_nums))"
   ]
  },
  {
   "cell_type": "markdown",
   "metadata": {},
   "source": [
    "### **sum()** \n",
    "To get the sum of numbers in a list"
   ]
  },
  {
   "cell_type": "code",
   "execution_count": 172,
   "metadata": {},
   "outputs": [
    {
     "name": "stdout",
     "output_type": "stream",
     "text": [
      "1808.0529999999999\n"
     ]
    }
   ],
   "source": [
    "special_nums = [0.577, 1.618, 2.718, 3.14, 6, 28, 37, 1729]\n",
    "print(sum(special_nums))"
   ]
  },
  {
   "cell_type": "markdown",
   "metadata": {},
   "source": [
    "### **float()**\n",
    "It returns a floating point number."
   ]
  },
  {
   "cell_type": "code",
   "execution_count": 28,
   "metadata": {},
   "outputs": [
    {
     "name": "stdout",
     "output_type": "stream",
     "text": [
      "37.0\n",
      "3.14\n",
      "2.718\n"
     ]
    },
    {
     "ename": "ValueError",
     "evalue": "could not convert string to float: 'Hello, Python!'",
     "output_type": "error",
     "traceback": [
      "\u001b[1;31m---------------------------------------------------------------------------\u001b[0m",
      "\u001b[1;31mValueError\u001b[0m                                Traceback (most recent call last)",
      "\u001b[1;32m~\\AppData\\Local\\Temp/ipykernel_16192/162113112.py\u001b[0m in \u001b[0;36m<module>\u001b[1;34m\u001b[0m\n\u001b[0;32m      6\u001b[0m \u001b[0mprint\u001b[0m\u001b[1;33m(\u001b[0m\u001b[0mfloat\u001b[0m\u001b[1;33m(\u001b[0m\u001b[0mtxt\u001b[0m\u001b[1;33m)\u001b[0m\u001b[1;33m)\u001b[0m\u001b[1;33m\u001b[0m\u001b[1;33m\u001b[0m\u001b[0m\n\u001b[0;32m      7\u001b[0m \u001b[0mmsg\u001b[0m \u001b[1;33m=\u001b[0m \u001b[1;34m'Hello, Python!'\u001b[0m         \u001b[1;31m# It resturns a ValueError\u001b[0m\u001b[1;33m\u001b[0m\u001b[1;33m\u001b[0m\u001b[0m\n\u001b[1;32m----> 8\u001b[1;33m \u001b[0mprint\u001b[0m\u001b[1;33m(\u001b[0m\u001b[0mfloat\u001b[0m\u001b[1;33m(\u001b[0m\u001b[0mmsg\u001b[0m\u001b[1;33m)\u001b[0m\u001b[1;33m)\u001b[0m\u001b[1;33m\u001b[0m\u001b[1;33m\u001b[0m\u001b[0m\n\u001b[0m",
      "\u001b[1;31mValueError\u001b[0m: could not convert string to float: 'Hello, Python!'"
     ]
    }
   ],
   "source": [
    "int_num = 37\n",
    "print(float(int_num))\n",
    "float_num = 3.14\n",
    "print(float(float_num))\n",
    "txt = '2.718'\n",
    "print(float(txt))\n",
    "msg = 'Hello, Python!'         # It resturns a ValueError\n",
    "print(float(msg))"
   ]
  },
  {
   "cell_type": "markdown",
   "metadata": {},
   "source": [
    "### **locals()**\n",
    "It returns an updated dictionary of the current local symbol table."
   ]
  },
  {
   "cell_type": "code",
   "execution_count": 68,
   "metadata": {},
   "outputs": [
    {
     "data": {
      "text/plain": [
       "{'__name__': '__main__',\n",
       " '__doc__': 'Automatically created module for IPython interactive environment',\n",
       " '__package__': None,\n",
       " '__loader__': None,\n",
       " '__spec__': None,\n",
       " '__builtin__': <module 'builtins' (built-in)>,\n",
       " '__builtins__': <module 'builtins' (built-in)>,\n",
       " '_ih': ['',\n",
       "  'nlis = [0.577, 1.618, 2.718, 3.14, 6, 28, 37, 1729]\\nprint(any(nlis))',\n",
       "  'nlis = [0.577, 1.618, 2.718, 3.14, 6, 28, 37, 1729]\\nprint(any(nlis))\\nnlis.clear()\\nprint(nlis)\\nprint(any(nlis))',\n",
       "  'nlis = [0.577, 1.618, 2.718, 3.14, 6, 28, 37, 1729]\\nprint(nlis)\\nprint(any(nlis))\\nnlis.clear()\\nprint(nlis)\\nprint(any(nlis))',\n",
       "  \"nlis = [0.577, 1.618, 2.718, 3.14, 6, 28, 37, 1729]\\nprint(nlis)\\nprint(any(nlis))\\nnlis.clear()\\nprint(nlis)\\nprint(any(nlis))\\nnlis.append(0, 'False')\\nprint(nlis)\",\n",
       "  'nlis = [0.577, 1.618, 2.718, 3.14, 6, 28, 37, 1729]\\nprint(nlis)\\nprint(any(nlis))\\nnlis.clear()\\nprint(nlis)\\nprint(any(nlis))\\nnlis.append(0, False)\\nprint(nlis)',\n",
       "  'nlis = [0.577, 1.618, 2.718, 3.14, 6, 28, 37, 1729]\\nprint(nlis)\\nprint(any(nlis))\\nnlis.clear()\\nprint(nlis)\\nprint(any(nlis))\\nnlis.append(0)\\nprint(nlis)',\n",
       "  'nlis = [0.577, 1.618, 2.718, 3.14, 6, 28, 37, 1729]\\nprint(nlis)\\nprint(any(nlis))\\nnlis.clear()\\nprint(nlis)\\nprint(any(nlis))\\nnlis.append(0)\\nprint(nlis)\\nprint(any(nlis))',\n",
       "  'nlis = [0.577, 1.618, 2.718, 3.14, 6, 28, 37, 1729]\\nprint(nlis)\\nprint(any(nlis))\\nnlis.clear()\\nprint(nlis)\\nprint(any(nlis))\\nnlis.append(0)\\nprint(nlis)\\nprint(any(nlis))\\nnlis.append(False)\\nprint(nlis)\\nprint(any(nlis))',\n",
       "  'nlis = [0.577, 1.618, 2.718, 3.14, 6, 28, 37, 1729]\\nprint(nlis)\\nprint(any(nlis))\\nnlis.clear()\\nprint(nlis)\\nprint(any(nlis))\\nnlis.append(0)\\nprint(nlis)\\nprint(any(nlis))\\nnlis.append(False)\\nprint(nlis)\\nprint(any(nlis))\\nnlis.append(True)\\nprint(nlis)\\nprint(any(nlis))',\n",
       "  'nlis = [0.577, 1.618, 2.718, 3.14, 6, 28, 37, 1729]\\nprint(nlis)\\nprint(any(nlis))\\nnlis.clear()\\nprint(nlis)\\nprint(any(nlis))        # An emptly list returns False\\nnlis.append(0)\\nprint(nlis)\\nprint(any(nlis))        # 0 in a list returns False\\nnlis.append(False)\\nprint(nlis)\\nprint(any(nlis))        # False in a list returns False\\nnlis.append(True)\\nprint(nlis)\\nprint(any(nlis))        # True in a list returns True\\nnlis.append(1)\\nprint(nlis)\\nprint(any(nlis))    # 1 in a list returns True\\nnlis.clear()\\nnlis.append(None)\\nprint(nlis)\\nprint(any(nlis))  #',\n",
       "  \"txt = 'Hello, Python!'\\nprint(ascii(txt))\",\n",
       "  \"txt = 'Hello, Python!'\\nprint(ascii(txt))\\ntext = 'Hello, Pythän'\\nprint(ascii(text))\",\n",
       "  \"txt = 'Hello, Python!'\\nprint(ascii(txt))\\ntext = 'Hello, Pythän'\\nprint(ascii(text))\\nprint('Hello, Pyth\\\\xe4n')\",\n",
       "  \"txt = 'Hello, Python!'\\nprint(ascii(txt))\\ntext = 'Hello, Pythän!'\\nprint(ascii(text))\\nprint('Hello, Pyth\\\\xe4n!')\",\n",
       "  \"txt = 'Hello, Python!'\\nprint(ascii(txt))\\ntext = 'Hello, Pythän!'\\nprint(ascii(text))\\nprint('Hello, Pyth\\\\xe4n!')\\nmsg = 'Hellü, World!'\\nprint(ascii(msg))\",\n",
       "  \"txt = 'Hello, Python!'\\nprint(ascii(txt))\\ntext = 'Hello, Pythän!'\\nprint(ascii(text))\\nprint('Hello, Pyth\\\\xe4n!')\\nmsg = 'Hellü, World!'\\nprint(ascii(msg))\\nprint('Hellü, World!')\",\n",
       "  \"txt = 'Hello, Python!'\\nprint(ascii(txt))\\ntext = 'Hello, Pythän!'\\nprint(ascii(text))\\nprint('Hello, Pyth\\\\xe4n!')\\nmsg = 'Hellü, World!'\\nprint(ascii(msg))\\nprint('Hell\\\\xfc, World!')\",\n",
       "  \"txt = 'Hello, Python!'\\nprint(bytearray(txt, 'utf-8'))\",\n",
       "  \"txt = 'Hello, Python!'\\nprint(bytearray(txt, 'utf-8'))\\nint_num = 37\\nprint(bytearray(int_num, 'utf-8'))\",\n",
       "  \"txt = 'Hello, Python!'\\nprint(bytearray(txt, 'utf-8'))\\nint_num = 37\\nprint(bytearray(int_num))\",\n",
       "  \"txt = 'Hello, Python!'\\nprint(bytearray(txt, 'utf-8'))\\nint_num = 37\\nprint(bytearray(int_num))\\nfloat_num = 3.14\\nprint(bytearray(float_num))\",\n",
       "  \"txt = 'Hello, Python!'\\nprint(bytearray(txt, 'utf-8'))\\nint_num = 37\\nprint(bytearray(int_num))\\nnlis = [0.577, 1.618, 2.718, 3.14, 6, 28, 37, 1729]\\nprint(bytearray(nlis))\\nfloat_num = 3.14\\nprint(bytearray(float_num))\",\n",
       "  \"txt = 'Hello, Python!'\\nprint(bytearray(txt, 'utf-8'))\\nint_num = 37\\nprint(bytearray(int_num))\\nnlis = [0, 1, 1, 2, 3, 5, 8, 13, 21, 34]\\nprint(bytearray(nlis))\\nfloat_num = 3.14\\nprint(bytearray(float_num))\",\n",
       "  \"num = 37\\nprint(eval('num**num'))\",\n",
       "  \"num = 37\\nprint(eval('num*num'))\",\n",
       "  \"num = int(input('Enter a number: '))\\nprint(f'The entered number is {num}.')\\nprint(eval('num*num'))\",\n",
       "  \"int_num = 37\\nprint(float(int_num))\\nfloat_num = 3.14\\nprint(float(float_num))\\ntxt = '2.718'\\nprint(float(txt))\\nmsg = 'Hello, Python!'\\nprint(float(msg))\",\n",
       "  \"int_num = 37\\nprint(float(int_num))\\nfloat_num = 3.14\\nprint(float(float_num))\\ntxt = '2.718'\\nprint(float(txt))\\nmsg = 'Hello, Python!'         # It resturns a ValueError\\nprint(float(msg))\",\n",
       "  \"# integer format\\nnum = 37\\nprint(num, 'd')\",\n",
       "  \"# integer format\\nnum = 37\\nprint(format(num, 'd'))\",\n",
       "  \"# integer format\\nint_num = 37\\nprint(format(num, 'd'))\\n# float numbers\\nfloat_num = 2.718\\nprint(format(float_num, 'f'))\",\n",
       "  \"# integer format\\nint_num = 37\\nprint(format(num, 'd'))\\n# float numbers\\nfloat_num = 2.7182818284\\nprint(format(float_num, 'f'))\",\n",
       "  \"# integer format\\nint_num = 37\\nprint(format(num, 'd'))\\n# float numbers\\nfloat_num = 2.7182818284\\nprint(format(float_num, 'f'))\\n# binary format\\nnum = 1729\\nprint(format(num, 'b'))\",\n",
       "  'nlis = [0.577, 1.618, 2.718, 3.14, 6, 28, 37, 1729]\\nfrozen_nlis = frozenset(nlis)\\nprint(frozen_nlis)',\n",
       "  \"nlis = [0.577, 1.618, 2.718, 3.14, 6, 28, 37, 1729]\\nfrozen_nlis = frozenset(nlis)\\nprint('Frozen set is, ', frozen_nlis)\",\n",
       "  \"nlis = [0.577, 1.618, 2.718, 3.14, 6, 28, 37, 1729]\\nfrozen_nlis = frozenset(nlis)\\nprint('Frozen set is', frozen_nlis)\",\n",
       "  \"class SpecialNumbers:\\n    euler_constant = 0.577\\n    euler_number = 2.718\\n    pi = 3.14\\n    golden_ratio = 1.618\\n    msg = 'These numbers are special.'\\n\\nspecial_numbers = SpecialNumbers()\\nprint('The euler number is', getattr(special_numbers, 'euler_number'))\",\n",
       "  \"class SpecialNumbers:\\n    euler_constant = 0.577\\n    euler_number = 2.718\\n    pi = 3.14\\n    golden_ratio = 1.618\\n    msg = 'These numbers are special.'\\n\\nspecial_numbers = SpecialNumbers()\\nprint('The euler number is', getattr(special_numbers, 'euler_number'))\\nprint('The golden ratio is', special_numbers.golden_ratio)\",\n",
       "  'globals()',\n",
       "  \"num = 37\\nglobals()['num'] = 3.14\\nprint(f'The number is {num}')\",\n",
       "  \"num = 37\\nglobals()['num'] = 3.14\\nprint(f'The number is {num}.')\",\n",
       "  \"class SpecialNumbers:\\n    euler_constant = 0.577\\n    euler_number = 2.718\\n    pi = 3.14\\n    golden_ratio = 1.618\\n    msg = 'These numbers are special.'\\n\\nspecial_numbers = SpecialNumbers()\\nprint('The euler number is', getattr(special_numbers, 'euler_number'))\\nprint('The golden ratio is', special_numbers.golden_ratio)\",\n",
       "  \"class SpecialNumbers:\\n    euler_constant = 0.577\\n    euler_number = 2.718\\n    pi = 3.14\\n    golden_ratio = 1.618\\n    msg = 'These numbers are special.'\\n\\nspecial_numbers = SpecialNumbers()\\nprint('The euler number is', hasattr(special_numbers, 'euler_number'))\\nprint('The golden ratio is', hasattr(special_numbers, 'golden_ratio'))\",\n",
       "  \"class SpecialNumbers:\\n    euler_constant = 0.577\\n    euler_number = 2.718\\n    pi = 3.14\\n    golden_ratio = 1.618\\n    msg = 'These numbers are special.'\\n\\nspecial_numbers = SpecialNumbers()\\nprint('The euler number is', hasattr(special_numbers, 'euler_number'))\\nprint('The golden ratio is', hasattr(special_numbers, 'golden_ratio'))\\nprint('The golden ratio is', hasattr(special_numbers, 'prime_number'))\",\n",
       "  \"class SpecialNumbers:\\n    euler_constant = 0.577\\n    euler_number = 2.718\\n    pi = 3.14\\n    golden_ratio = 1.618\\n    msg = 'These numbers are special.'\\n\\nspecial_numbers = SpecialNumbers()\\nprint(f'The euller number is {hasattr(special_numbers, 'euler_number')}')\\nprint('The golden ratio is', hasattr(special_numbers, 'golden_ratio'))\\nprint('The golden ratio is', hasattr(special_numbers, 'prime_number'))\",\n",
       "  \"class SpecialNumbers:\\n    euler_constant = 0.577\\n    euler_number = 2.718\\n    pi = 3.14\\n    golden_ratio = 1.618\\n    msg = 'These numbers are special.'\\n\\nspecial_numbers = SpecialNumbers()\\nprint('The euler number is', hasattr(special_numbers, 'euler_number'))\\nprint('The golden ratio is', hasattr(special_numbers, 'golden_ratio'))\\nprint('The golden ratio is', hasattr(special_numbers, 'prime_number'))\",\n",
       "  \"class SpecialNumbers:\\n    euler_constant = 0.577\\n    euler_number = 2.718\\n    pi = 3.14\\n    golden_ratio = 1.618\\n    msg = 'These numbers are special.'\\n\\nspecial_numbers = SpecialNumbers()\\nprint('The euler number is', hasattr(special_numbers, 'euler_number'))\\nprint('The golden ratio is', hasattr(special_numbers, 'golden_ratio'))\\nprint('The golden ratio is', hasattr(special_numbers, 'prime_number'))      # Since there is no prime number, the output is False \",\n",
       "  'special_nums = [0.577, 1.618, 2.718, 3.14, 6, 28, 37, 1729]\\nspecial_nums_iter = iter(special_nums)\\nprint(next(special_nums_iter))',\n",
       "  'special_nums = [0.577, 1.618, 2.718, 3.14, 6, 28, 37, 1729]\\nspecial_nums_iter = iter(special_nums)\\nprint(next(special_nums_iter))\\nprint(next(special_nums_iter))\\nprint(next(special_nums_iter))\\nprint(next(special_nums_iter))\\nprint(next(special_nums_iter))\\nprint(next(special_nums_iter))',\n",
       "  'special_nums = [0.577, 1.618, 2.718, 3.14, 6, 28, 37, 1729]\\nspecial_nums_iter = iter(special_nums)\\nprint(next(special_nums_iter))\\nprint(next(special_nums_iter))\\nprint(next(special_nums_iter))\\nprint(next(special_nums_iter))\\nprint(next(special_nums_iter))\\nprint(next(special_nums_iter))\\nprint(next(special_nums_iter))\\nprint(next(special_nums_iter))',\n",
       "  \"special_nums = [0.577, 1.618, 2.718, 3.14, 6, 28, 37, 1729]\\nspecial_nums_iter = iter(special_nums)\\nprint('Euler constant is', next(special_nums_iter))\\nprint('The golden ratio is', next(special_nums_iter))\\nprint('Euler number is', next(special_nums_iter))\\nprint('Pi number is', next(special_nums_iter))\\nprint(next(special_nums_iter))\\nprint(next(special_nums_iter))\\nprint(next(special_nums_iter))\\nprint(next(special_nums_iter))\",\n",
       "  \"special_nums = [0.577, 1.618, 2.718, 3.14, 6, 28, 37, 1729]\\nspecial_nums_iter = iter(special_nums)\\nprint('Euler constant is', next(special_nums_iter))\\nprint('The golden ratio is', next(special_nums_iter))\\nprint('Euler number is', next(special_nums_iter))\\nprint('Pi number is', next(special_nums_iter))\\nprint(next(special_nums_iter), 'is a perfect number.')\\nprint(next(special_nums_iter), 'is a perfect number.')\\nprint(next(special_nums_iter), 'is a special and prime number.')\\nprint(next(special_nums_iter), 'is Ramanujan-Hardy number.')\",\n",
       "  'special_nums = [0.577, 1.618, 2.718, 3.14, 6, 28, 37, 1729]\\nprint(len(special_nums))',\n",
       "  \"special_nums = [0.577, 1.618, 2.718, 3.14, 6, 28, 37, 1729]\\nprint('The length of the list is', len(special_nums))\",\n",
       "  'special_nums = [0.577, 1.618, 2.718, 3.14, 6, 28, 37, 1729]\\ncount = 0\\nfor i in special_nums:\\n    count = count + i\\n    print(i)',\n",
       "  'special_nums = [0.577, 1.618, 2.718, 3.14, 6, 28, 37, 1729]\\ncount = 0\\nfor i in special_nums:\\n    count = count + i\\n    print(count)',\n",
       "  'special_nums = [0.577, 1.618, 2.718, 3.14, 6, 28, 37, 1729]\\ncount = 0\\nfor i in special_nums:\\n    count = count + i\\nprint(count)',\n",
       "  '# Calculate the average of values in the following list\\nspecial_nums = [0.577, 1.618, 2.718, 3.14, 6, 28, 37, 1729]\\ncount = 0\\nfor i in special_nums:\\n    count = count + i\\nprint(count/len(special_nums))',\n",
       "  \"# Calculate the average of values in the following list\\nspecial_nums = [0.577, 1.618, 2.718, 3.14, 6, 28, 37, 1729]\\ncount = 0\\nfor i in special_nums:\\n    count = count + i\\nprint('The average of the values in the list is', count/len(special_nums))\",\n",
       "  'print(list())',\n",
       "  \"print(list())\\ntxt = 'Hello, Python!'\\nprint(list(txt))\",\n",
       "  \"print(list())\\ntxt = 'Hello'\\nprint(list(txt))\",\n",
       "  \"print(list())\\ntxt = 'Python'\\nprint(list(txt))\",\n",
       "  \"print(list())\\ntxt = 'Python'\\nprint(list(txt))\\nspecial_nums_set = {0.577, 1.618, 2.718, 3.14, 6, 28, 37, 1729}\\nprint(list(special_nums_set))\",\n",
       "  \"print(list())\\ntxt = 'Python'\\nprint(list(txt))\\nspecial_nums_set = {0.577, 1.618, 2.718, 3.14, 6, 28, 37, 1729}\\nprint(list(special_nums_set))\\nspecial_nums_tuple = (0.577, 1.618, 2.718, 3.14, 6, 28, 37, 1729)\\nprint(list(special_nums_tuple))\",\n",
       "  \"print(list())\\ntxt = 'Python'\\nprint(list(txt))\\nspecial_nums_set = {0.577, 1.618, 2.718, 3.14, 6, 28, 37, 1729}\\nprint(list(special_nums_set))\\nspecial_nums_tuple = (0.577, 1.618, 2.718, 3.14, 6, 28, 37, 1729)\\nprint(list(special_nums_tuple))\\nspecial_nums_dict = {'Euler_constant': 0.577, \\n                                        'Golden_ratio': 1.618, \\n                                        'Euler_number': 2.718, \\n                                        'Pi number': 3.14, \\n                                        'Perfect_number': 6, \\n                                        'Prime_number': 37, \\n                                        'Ramanujan-Hardy number': 1729}\\nprint(list(special_nums_dict))\",\n",
       "  \"print(list())\\ntxt = 'Python'\\nprint(list(txt))\\nspecial_nums_set = {0.577, 1.618, 2.718, 3.14, 6, 28, 37, 1729}\\nprint(list(special_nums_set))\\nspecial_nums_tuple = (0.577, 1.618, 2.718, 3.14, 6, 28, 37, 1729)\\nprint(list(special_nums_tuple))\\nspecial_nums_dict = {'Euler constant': 0.577, \\n                                        'Golden ratio': 1.618, \\n                                        'Euler number': 2.718, \\n                                        'Pi number': 3.14, \\n                                        'Perfect number': 6, \\n                                        'Prime number': 37, \\n                                        'Ramanujan Hardy number': 1729}\\nprint(list(special_nums_dict))\",\n",
       "  'locals()'],\n",
       " '_oh': {39: {...}},\n",
       " '_dh': ['c:\\\\Users\\\\test\\\\Desktop\\\\PROGRAMMING_WEB DEVELOPMENT\\\\PYTHON_TUTORIAL\\\\01. python_files_for_sharing\\\\jupyter_notebook_files'],\n",
       " 'In': ['',\n",
       "  'nlis = [0.577, 1.618, 2.718, 3.14, 6, 28, 37, 1729]\\nprint(any(nlis))',\n",
       "  'nlis = [0.577, 1.618, 2.718, 3.14, 6, 28, 37, 1729]\\nprint(any(nlis))\\nnlis.clear()\\nprint(nlis)\\nprint(any(nlis))',\n",
       "  'nlis = [0.577, 1.618, 2.718, 3.14, 6, 28, 37, 1729]\\nprint(nlis)\\nprint(any(nlis))\\nnlis.clear()\\nprint(nlis)\\nprint(any(nlis))',\n",
       "  \"nlis = [0.577, 1.618, 2.718, 3.14, 6, 28, 37, 1729]\\nprint(nlis)\\nprint(any(nlis))\\nnlis.clear()\\nprint(nlis)\\nprint(any(nlis))\\nnlis.append(0, 'False')\\nprint(nlis)\",\n",
       "  'nlis = [0.577, 1.618, 2.718, 3.14, 6, 28, 37, 1729]\\nprint(nlis)\\nprint(any(nlis))\\nnlis.clear()\\nprint(nlis)\\nprint(any(nlis))\\nnlis.append(0, False)\\nprint(nlis)',\n",
       "  'nlis = [0.577, 1.618, 2.718, 3.14, 6, 28, 37, 1729]\\nprint(nlis)\\nprint(any(nlis))\\nnlis.clear()\\nprint(nlis)\\nprint(any(nlis))\\nnlis.append(0)\\nprint(nlis)',\n",
       "  'nlis = [0.577, 1.618, 2.718, 3.14, 6, 28, 37, 1729]\\nprint(nlis)\\nprint(any(nlis))\\nnlis.clear()\\nprint(nlis)\\nprint(any(nlis))\\nnlis.append(0)\\nprint(nlis)\\nprint(any(nlis))',\n",
       "  'nlis = [0.577, 1.618, 2.718, 3.14, 6, 28, 37, 1729]\\nprint(nlis)\\nprint(any(nlis))\\nnlis.clear()\\nprint(nlis)\\nprint(any(nlis))\\nnlis.append(0)\\nprint(nlis)\\nprint(any(nlis))\\nnlis.append(False)\\nprint(nlis)\\nprint(any(nlis))',\n",
       "  'nlis = [0.577, 1.618, 2.718, 3.14, 6, 28, 37, 1729]\\nprint(nlis)\\nprint(any(nlis))\\nnlis.clear()\\nprint(nlis)\\nprint(any(nlis))\\nnlis.append(0)\\nprint(nlis)\\nprint(any(nlis))\\nnlis.append(False)\\nprint(nlis)\\nprint(any(nlis))\\nnlis.append(True)\\nprint(nlis)\\nprint(any(nlis))',\n",
       "  'nlis = [0.577, 1.618, 2.718, 3.14, 6, 28, 37, 1729]\\nprint(nlis)\\nprint(any(nlis))\\nnlis.clear()\\nprint(nlis)\\nprint(any(nlis))        # An emptly list returns False\\nnlis.append(0)\\nprint(nlis)\\nprint(any(nlis))        # 0 in a list returns False\\nnlis.append(False)\\nprint(nlis)\\nprint(any(nlis))        # False in a list returns False\\nnlis.append(True)\\nprint(nlis)\\nprint(any(nlis))        # True in a list returns True\\nnlis.append(1)\\nprint(nlis)\\nprint(any(nlis))    # 1 in a list returns True\\nnlis.clear()\\nnlis.append(None)\\nprint(nlis)\\nprint(any(nlis))  #',\n",
       "  \"txt = 'Hello, Python!'\\nprint(ascii(txt))\",\n",
       "  \"txt = 'Hello, Python!'\\nprint(ascii(txt))\\ntext = 'Hello, Pythän'\\nprint(ascii(text))\",\n",
       "  \"txt = 'Hello, Python!'\\nprint(ascii(txt))\\ntext = 'Hello, Pythän'\\nprint(ascii(text))\\nprint('Hello, Pyth\\\\xe4n')\",\n",
       "  \"txt = 'Hello, Python!'\\nprint(ascii(txt))\\ntext = 'Hello, Pythän!'\\nprint(ascii(text))\\nprint('Hello, Pyth\\\\xe4n!')\",\n",
       "  \"txt = 'Hello, Python!'\\nprint(ascii(txt))\\ntext = 'Hello, Pythän!'\\nprint(ascii(text))\\nprint('Hello, Pyth\\\\xe4n!')\\nmsg = 'Hellü, World!'\\nprint(ascii(msg))\",\n",
       "  \"txt = 'Hello, Python!'\\nprint(ascii(txt))\\ntext = 'Hello, Pythän!'\\nprint(ascii(text))\\nprint('Hello, Pyth\\\\xe4n!')\\nmsg = 'Hellü, World!'\\nprint(ascii(msg))\\nprint('Hellü, World!')\",\n",
       "  \"txt = 'Hello, Python!'\\nprint(ascii(txt))\\ntext = 'Hello, Pythän!'\\nprint(ascii(text))\\nprint('Hello, Pyth\\\\xe4n!')\\nmsg = 'Hellü, World!'\\nprint(ascii(msg))\\nprint('Hell\\\\xfc, World!')\",\n",
       "  \"txt = 'Hello, Python!'\\nprint(bytearray(txt, 'utf-8'))\",\n",
       "  \"txt = 'Hello, Python!'\\nprint(bytearray(txt, 'utf-8'))\\nint_num = 37\\nprint(bytearray(int_num, 'utf-8'))\",\n",
       "  \"txt = 'Hello, Python!'\\nprint(bytearray(txt, 'utf-8'))\\nint_num = 37\\nprint(bytearray(int_num))\",\n",
       "  \"txt = 'Hello, Python!'\\nprint(bytearray(txt, 'utf-8'))\\nint_num = 37\\nprint(bytearray(int_num))\\nfloat_num = 3.14\\nprint(bytearray(float_num))\",\n",
       "  \"txt = 'Hello, Python!'\\nprint(bytearray(txt, 'utf-8'))\\nint_num = 37\\nprint(bytearray(int_num))\\nnlis = [0.577, 1.618, 2.718, 3.14, 6, 28, 37, 1729]\\nprint(bytearray(nlis))\\nfloat_num = 3.14\\nprint(bytearray(float_num))\",\n",
       "  \"txt = 'Hello, Python!'\\nprint(bytearray(txt, 'utf-8'))\\nint_num = 37\\nprint(bytearray(int_num))\\nnlis = [0, 1, 1, 2, 3, 5, 8, 13, 21, 34]\\nprint(bytearray(nlis))\\nfloat_num = 3.14\\nprint(bytearray(float_num))\",\n",
       "  \"num = 37\\nprint(eval('num**num'))\",\n",
       "  \"num = 37\\nprint(eval('num*num'))\",\n",
       "  \"num = int(input('Enter a number: '))\\nprint(f'The entered number is {num}.')\\nprint(eval('num*num'))\",\n",
       "  \"int_num = 37\\nprint(float(int_num))\\nfloat_num = 3.14\\nprint(float(float_num))\\ntxt = '2.718'\\nprint(float(txt))\\nmsg = 'Hello, Python!'\\nprint(float(msg))\",\n",
       "  \"int_num = 37\\nprint(float(int_num))\\nfloat_num = 3.14\\nprint(float(float_num))\\ntxt = '2.718'\\nprint(float(txt))\\nmsg = 'Hello, Python!'         # It resturns a ValueError\\nprint(float(msg))\",\n",
       "  \"# integer format\\nnum = 37\\nprint(num, 'd')\",\n",
       "  \"# integer format\\nnum = 37\\nprint(format(num, 'd'))\",\n",
       "  \"# integer format\\nint_num = 37\\nprint(format(num, 'd'))\\n# float numbers\\nfloat_num = 2.718\\nprint(format(float_num, 'f'))\",\n",
       "  \"# integer format\\nint_num = 37\\nprint(format(num, 'd'))\\n# float numbers\\nfloat_num = 2.7182818284\\nprint(format(float_num, 'f'))\",\n",
       "  \"# integer format\\nint_num = 37\\nprint(format(num, 'd'))\\n# float numbers\\nfloat_num = 2.7182818284\\nprint(format(float_num, 'f'))\\n# binary format\\nnum = 1729\\nprint(format(num, 'b'))\",\n",
       "  'nlis = [0.577, 1.618, 2.718, 3.14, 6, 28, 37, 1729]\\nfrozen_nlis = frozenset(nlis)\\nprint(frozen_nlis)',\n",
       "  \"nlis = [0.577, 1.618, 2.718, 3.14, 6, 28, 37, 1729]\\nfrozen_nlis = frozenset(nlis)\\nprint('Frozen set is, ', frozen_nlis)\",\n",
       "  \"nlis = [0.577, 1.618, 2.718, 3.14, 6, 28, 37, 1729]\\nfrozen_nlis = frozenset(nlis)\\nprint('Frozen set is', frozen_nlis)\",\n",
       "  \"class SpecialNumbers:\\n    euler_constant = 0.577\\n    euler_number = 2.718\\n    pi = 3.14\\n    golden_ratio = 1.618\\n    msg = 'These numbers are special.'\\n\\nspecial_numbers = SpecialNumbers()\\nprint('The euler number is', getattr(special_numbers, 'euler_number'))\",\n",
       "  \"class SpecialNumbers:\\n    euler_constant = 0.577\\n    euler_number = 2.718\\n    pi = 3.14\\n    golden_ratio = 1.618\\n    msg = 'These numbers are special.'\\n\\nspecial_numbers = SpecialNumbers()\\nprint('The euler number is', getattr(special_numbers, 'euler_number'))\\nprint('The golden ratio is', special_numbers.golden_ratio)\",\n",
       "  'globals()',\n",
       "  \"num = 37\\nglobals()['num'] = 3.14\\nprint(f'The number is {num}')\",\n",
       "  \"num = 37\\nglobals()['num'] = 3.14\\nprint(f'The number is {num}.')\",\n",
       "  \"class SpecialNumbers:\\n    euler_constant = 0.577\\n    euler_number = 2.718\\n    pi = 3.14\\n    golden_ratio = 1.618\\n    msg = 'These numbers are special.'\\n\\nspecial_numbers = SpecialNumbers()\\nprint('The euler number is', getattr(special_numbers, 'euler_number'))\\nprint('The golden ratio is', special_numbers.golden_ratio)\",\n",
       "  \"class SpecialNumbers:\\n    euler_constant = 0.577\\n    euler_number = 2.718\\n    pi = 3.14\\n    golden_ratio = 1.618\\n    msg = 'These numbers are special.'\\n\\nspecial_numbers = SpecialNumbers()\\nprint('The euler number is', hasattr(special_numbers, 'euler_number'))\\nprint('The golden ratio is', hasattr(special_numbers, 'golden_ratio'))\",\n",
       "  \"class SpecialNumbers:\\n    euler_constant = 0.577\\n    euler_number = 2.718\\n    pi = 3.14\\n    golden_ratio = 1.618\\n    msg = 'These numbers are special.'\\n\\nspecial_numbers = SpecialNumbers()\\nprint('The euler number is', hasattr(special_numbers, 'euler_number'))\\nprint('The golden ratio is', hasattr(special_numbers, 'golden_ratio'))\\nprint('The golden ratio is', hasattr(special_numbers, 'prime_number'))\",\n",
       "  \"class SpecialNumbers:\\n    euler_constant = 0.577\\n    euler_number = 2.718\\n    pi = 3.14\\n    golden_ratio = 1.618\\n    msg = 'These numbers are special.'\\n\\nspecial_numbers = SpecialNumbers()\\nprint(f'The euller number is {hasattr(special_numbers, 'euler_number')}')\\nprint('The golden ratio is', hasattr(special_numbers, 'golden_ratio'))\\nprint('The golden ratio is', hasattr(special_numbers, 'prime_number'))\",\n",
       "  \"class SpecialNumbers:\\n    euler_constant = 0.577\\n    euler_number = 2.718\\n    pi = 3.14\\n    golden_ratio = 1.618\\n    msg = 'These numbers are special.'\\n\\nspecial_numbers = SpecialNumbers()\\nprint('The euler number is', hasattr(special_numbers, 'euler_number'))\\nprint('The golden ratio is', hasattr(special_numbers, 'golden_ratio'))\\nprint('The golden ratio is', hasattr(special_numbers, 'prime_number'))\",\n",
       "  \"class SpecialNumbers:\\n    euler_constant = 0.577\\n    euler_number = 2.718\\n    pi = 3.14\\n    golden_ratio = 1.618\\n    msg = 'These numbers are special.'\\n\\nspecial_numbers = SpecialNumbers()\\nprint('The euler number is', hasattr(special_numbers, 'euler_number'))\\nprint('The golden ratio is', hasattr(special_numbers, 'golden_ratio'))\\nprint('The golden ratio is', hasattr(special_numbers, 'prime_number'))      # Since there is no prime number, the output is False \",\n",
       "  'special_nums = [0.577, 1.618, 2.718, 3.14, 6, 28, 37, 1729]\\nspecial_nums_iter = iter(special_nums)\\nprint(next(special_nums_iter))',\n",
       "  'special_nums = [0.577, 1.618, 2.718, 3.14, 6, 28, 37, 1729]\\nspecial_nums_iter = iter(special_nums)\\nprint(next(special_nums_iter))\\nprint(next(special_nums_iter))\\nprint(next(special_nums_iter))\\nprint(next(special_nums_iter))\\nprint(next(special_nums_iter))\\nprint(next(special_nums_iter))',\n",
       "  'special_nums = [0.577, 1.618, 2.718, 3.14, 6, 28, 37, 1729]\\nspecial_nums_iter = iter(special_nums)\\nprint(next(special_nums_iter))\\nprint(next(special_nums_iter))\\nprint(next(special_nums_iter))\\nprint(next(special_nums_iter))\\nprint(next(special_nums_iter))\\nprint(next(special_nums_iter))\\nprint(next(special_nums_iter))\\nprint(next(special_nums_iter))',\n",
       "  \"special_nums = [0.577, 1.618, 2.718, 3.14, 6, 28, 37, 1729]\\nspecial_nums_iter = iter(special_nums)\\nprint('Euler constant is', next(special_nums_iter))\\nprint('The golden ratio is', next(special_nums_iter))\\nprint('Euler number is', next(special_nums_iter))\\nprint('Pi number is', next(special_nums_iter))\\nprint(next(special_nums_iter))\\nprint(next(special_nums_iter))\\nprint(next(special_nums_iter))\\nprint(next(special_nums_iter))\",\n",
       "  \"special_nums = [0.577, 1.618, 2.718, 3.14, 6, 28, 37, 1729]\\nspecial_nums_iter = iter(special_nums)\\nprint('Euler constant is', next(special_nums_iter))\\nprint('The golden ratio is', next(special_nums_iter))\\nprint('Euler number is', next(special_nums_iter))\\nprint('Pi number is', next(special_nums_iter))\\nprint(next(special_nums_iter), 'is a perfect number.')\\nprint(next(special_nums_iter), 'is a perfect number.')\\nprint(next(special_nums_iter), 'is a special and prime number.')\\nprint(next(special_nums_iter), 'is Ramanujan-Hardy number.')\",\n",
       "  'special_nums = [0.577, 1.618, 2.718, 3.14, 6, 28, 37, 1729]\\nprint(len(special_nums))',\n",
       "  \"special_nums = [0.577, 1.618, 2.718, 3.14, 6, 28, 37, 1729]\\nprint('The length of the list is', len(special_nums))\",\n",
       "  'special_nums = [0.577, 1.618, 2.718, 3.14, 6, 28, 37, 1729]\\ncount = 0\\nfor i in special_nums:\\n    count = count + i\\n    print(i)',\n",
       "  'special_nums = [0.577, 1.618, 2.718, 3.14, 6, 28, 37, 1729]\\ncount = 0\\nfor i in special_nums:\\n    count = count + i\\n    print(count)',\n",
       "  'special_nums = [0.577, 1.618, 2.718, 3.14, 6, 28, 37, 1729]\\ncount = 0\\nfor i in special_nums:\\n    count = count + i\\nprint(count)',\n",
       "  '# Calculate the average of values in the following list\\nspecial_nums = [0.577, 1.618, 2.718, 3.14, 6, 28, 37, 1729]\\ncount = 0\\nfor i in special_nums:\\n    count = count + i\\nprint(count/len(special_nums))',\n",
       "  \"# Calculate the average of values in the following list\\nspecial_nums = [0.577, 1.618, 2.718, 3.14, 6, 28, 37, 1729]\\ncount = 0\\nfor i in special_nums:\\n    count = count + i\\nprint('The average of the values in the list is', count/len(special_nums))\",\n",
       "  'print(list())',\n",
       "  \"print(list())\\ntxt = 'Hello, Python!'\\nprint(list(txt))\",\n",
       "  \"print(list())\\ntxt = 'Hello'\\nprint(list(txt))\",\n",
       "  \"print(list())\\ntxt = 'Python'\\nprint(list(txt))\",\n",
       "  \"print(list())\\ntxt = 'Python'\\nprint(list(txt))\\nspecial_nums_set = {0.577, 1.618, 2.718, 3.14, 6, 28, 37, 1729}\\nprint(list(special_nums_set))\",\n",
       "  \"print(list())\\ntxt = 'Python'\\nprint(list(txt))\\nspecial_nums_set = {0.577, 1.618, 2.718, 3.14, 6, 28, 37, 1729}\\nprint(list(special_nums_set))\\nspecial_nums_tuple = (0.577, 1.618, 2.718, 3.14, 6, 28, 37, 1729)\\nprint(list(special_nums_tuple))\",\n",
       "  \"print(list())\\ntxt = 'Python'\\nprint(list(txt))\\nspecial_nums_set = {0.577, 1.618, 2.718, 3.14, 6, 28, 37, 1729}\\nprint(list(special_nums_set))\\nspecial_nums_tuple = (0.577, 1.618, 2.718, 3.14, 6, 28, 37, 1729)\\nprint(list(special_nums_tuple))\\nspecial_nums_dict = {'Euler_constant': 0.577, \\n                                        'Golden_ratio': 1.618, \\n                                        'Euler_number': 2.718, \\n                                        'Pi number': 3.14, \\n                                        'Perfect_number': 6, \\n                                        'Prime_number': 37, \\n                                        'Ramanujan-Hardy number': 1729}\\nprint(list(special_nums_dict))\",\n",
       "  \"print(list())\\ntxt = 'Python'\\nprint(list(txt))\\nspecial_nums_set = {0.577, 1.618, 2.718, 3.14, 6, 28, 37, 1729}\\nprint(list(special_nums_set))\\nspecial_nums_tuple = (0.577, 1.618, 2.718, 3.14, 6, 28, 37, 1729)\\nprint(list(special_nums_tuple))\\nspecial_nums_dict = {'Euler constant': 0.577, \\n                                        'Golden ratio': 1.618, \\n                                        'Euler number': 2.718, \\n                                        'Pi number': 3.14, \\n                                        'Perfect number': 6, \\n                                        'Prime number': 37, \\n                                        'Ramanujan Hardy number': 1729}\\nprint(list(special_nums_dict))\",\n",
       "  'locals()'],\n",
       " 'Out': {39: {...}},\n",
       " 'get_ipython': <bound method InteractiveShell.get_ipython of <ipykernel.zmqshell.ZMQInteractiveShell object at 0x0000018BB16B7CD0>>,\n",
       " 'exit': <IPython.core.autocall.ZMQExitAutocall at 0x18bb17745e0>,\n",
       " 'quit': <IPython.core.autocall.ZMQExitAutocall at 0x18bb17745e0>,\n",
       " '_': {...},\n",
       " '__': '',\n",
       " '___': '',\n",
       " 'os': <module 'os' from 'c:\\\\Users\\\\test\\\\AppData\\\\Local\\\\Programs\\\\Python\\\\Python310\\\\lib\\\\os.py'>,\n",
       " 'sys': <module 'sys' (built-in)>,\n",
       " '__vsc_ipynb_file__': 'c:\\\\Users\\\\test\\\\Desktop\\\\PROGRAMMING_WEB DEVELOPMENT\\\\PYTHON_TUTORIAL\\\\01. python_files_for_sharing\\\\jupyter_notebook_files\\\\11. built_in_functions_python.ipynb',\n",
       " '_i': \"print(list())\\ntxt = 'Python'\\nprint(list(txt))\\nspecial_nums_set = {0.577, 1.618, 2.718, 3.14, 6, 28, 37, 1729}\\nprint(list(special_nums_set))\\nspecial_nums_tuple = (0.577, 1.618, 2.718, 3.14, 6, 28, 37, 1729)\\nprint(list(special_nums_tuple))\\nspecial_nums_dict = {'Euler constant': 0.577, \\n                                        'Golden ratio': 1.618, \\n                                        'Euler number': 2.718, \\n                                        'Pi number': 3.14, \\n                                        'Perfect number': 6, \\n                                        'Prime number': 37, \\n                                        'Ramanujan Hardy number': 1729}\\nprint(list(special_nums_dict))\",\n",
       " '_ii': \"print(list())\\ntxt = 'Python'\\nprint(list(txt))\\nspecial_nums_set = {0.577, 1.618, 2.718, 3.14, 6, 28, 37, 1729}\\nprint(list(special_nums_set))\\nspecial_nums_tuple = (0.577, 1.618, 2.718, 3.14, 6, 28, 37, 1729)\\nprint(list(special_nums_tuple))\\nspecial_nums_dict = {'Euler_constant': 0.577, \\n                                        'Golden_ratio': 1.618, \\n                                        'Euler_number': 2.718, \\n                                        'Pi number': 3.14, \\n                                        'Perfect_number': 6, \\n                                        'Prime_number': 37, \\n                                        'Ramanujan-Hardy number': 1729}\\nprint(list(special_nums_dict))\",\n",
       " '_iii': \"print(list())\\ntxt = 'Python'\\nprint(list(txt))\\nspecial_nums_set = {0.577, 1.618, 2.718, 3.14, 6, 28, 37, 1729}\\nprint(list(special_nums_set))\\nspecial_nums_tuple = (0.577, 1.618, 2.718, 3.14, 6, 28, 37, 1729)\\nprint(list(special_nums_tuple))\",\n",
       " '_i1': 'nlis = [0.577, 1.618, 2.718, 3.14, 6, 28, 37, 1729]\\nprint(any(nlis))',\n",
       " 'nlis': [0.577, 1.618, 2.718, 3.14, 6, 28, 37, 1729],\n",
       " '_i2': 'nlis = [0.577, 1.618, 2.718, 3.14, 6, 28, 37, 1729]\\nprint(any(nlis))\\nnlis.clear()\\nprint(nlis)\\nprint(any(nlis))',\n",
       " '_i3': 'nlis = [0.577, 1.618, 2.718, 3.14, 6, 28, 37, 1729]\\nprint(nlis)\\nprint(any(nlis))\\nnlis.clear()\\nprint(nlis)\\nprint(any(nlis))',\n",
       " '_i4': \"nlis = [0.577, 1.618, 2.718, 3.14, 6, 28, 37, 1729]\\nprint(nlis)\\nprint(any(nlis))\\nnlis.clear()\\nprint(nlis)\\nprint(any(nlis))\\nnlis.append(0, 'False')\\nprint(nlis)\",\n",
       " '_i5': 'nlis = [0.577, 1.618, 2.718, 3.14, 6, 28, 37, 1729]\\nprint(nlis)\\nprint(any(nlis))\\nnlis.clear()\\nprint(nlis)\\nprint(any(nlis))\\nnlis.append(0, False)\\nprint(nlis)',\n",
       " '_i6': 'nlis = [0.577, 1.618, 2.718, 3.14, 6, 28, 37, 1729]\\nprint(nlis)\\nprint(any(nlis))\\nnlis.clear()\\nprint(nlis)\\nprint(any(nlis))\\nnlis.append(0)\\nprint(nlis)',\n",
       " '_i7': 'nlis = [0.577, 1.618, 2.718, 3.14, 6, 28, 37, 1729]\\nprint(nlis)\\nprint(any(nlis))\\nnlis.clear()\\nprint(nlis)\\nprint(any(nlis))\\nnlis.append(0)\\nprint(nlis)\\nprint(any(nlis))',\n",
       " '_i8': 'nlis = [0.577, 1.618, 2.718, 3.14, 6, 28, 37, 1729]\\nprint(nlis)\\nprint(any(nlis))\\nnlis.clear()\\nprint(nlis)\\nprint(any(nlis))\\nnlis.append(0)\\nprint(nlis)\\nprint(any(nlis))\\nnlis.append(False)\\nprint(nlis)\\nprint(any(nlis))',\n",
       " '_i9': 'nlis = [0.577, 1.618, 2.718, 3.14, 6, 28, 37, 1729]\\nprint(nlis)\\nprint(any(nlis))\\nnlis.clear()\\nprint(nlis)\\nprint(any(nlis))\\nnlis.append(0)\\nprint(nlis)\\nprint(any(nlis))\\nnlis.append(False)\\nprint(nlis)\\nprint(any(nlis))\\nnlis.append(True)\\nprint(nlis)\\nprint(any(nlis))',\n",
       " '_i10': 'nlis = [0.577, 1.618, 2.718, 3.14, 6, 28, 37, 1729]\\nprint(nlis)\\nprint(any(nlis))\\nnlis.clear()\\nprint(nlis)\\nprint(any(nlis))        # An emptly list returns False\\nnlis.append(0)\\nprint(nlis)\\nprint(any(nlis))        # 0 in a list returns False\\nnlis.append(False)\\nprint(nlis)\\nprint(any(nlis))        # False in a list returns False\\nnlis.append(True)\\nprint(nlis)\\nprint(any(nlis))        # True in a list returns True\\nnlis.append(1)\\nprint(nlis)\\nprint(any(nlis))    # 1 in a list returns True\\nnlis.clear()\\nnlis.append(None)\\nprint(nlis)\\nprint(any(nlis))  #',\n",
       " '_i11': \"txt = 'Hello, Python!'\\nprint(ascii(txt))\",\n",
       " 'txt': 'Python',\n",
       " '_i12': \"txt = 'Hello, Python!'\\nprint(ascii(txt))\\ntext = 'Hello, Pythän'\\nprint(ascii(text))\",\n",
       " 'text': 'Hello, Pythän!',\n",
       " '_i13': \"txt = 'Hello, Python!'\\nprint(ascii(txt))\\ntext = 'Hello, Pythän'\\nprint(ascii(text))\\nprint('Hello, Pyth\\\\xe4n')\",\n",
       " '_i14': \"txt = 'Hello, Python!'\\nprint(ascii(txt))\\ntext = 'Hello, Pythän!'\\nprint(ascii(text))\\nprint('Hello, Pyth\\\\xe4n!')\",\n",
       " '_i15': \"txt = 'Hello, Python!'\\nprint(ascii(txt))\\ntext = 'Hello, Pythän!'\\nprint(ascii(text))\\nprint('Hello, Pyth\\\\xe4n!')\\nmsg = 'Hellü, World!'\\nprint(ascii(msg))\",\n",
       " 'msg': 'Hello, Python!',\n",
       " '_i16': \"txt = 'Hello, Python!'\\nprint(ascii(txt))\\ntext = 'Hello, Pythän!'\\nprint(ascii(text))\\nprint('Hello, Pyth\\\\xe4n!')\\nmsg = 'Hellü, World!'\\nprint(ascii(msg))\\nprint('Hellü, World!')\",\n",
       " '_i17': \"txt = 'Hello, Python!'\\nprint(ascii(txt))\\ntext = 'Hello, Pythän!'\\nprint(ascii(text))\\nprint('Hello, Pyth\\\\xe4n!')\\nmsg = 'Hellü, World!'\\nprint(ascii(msg))\\nprint('Hell\\\\xfc, World!')\",\n",
       " '_i18': \"txt = 'Hello, Python!'\\nprint(bytearray(txt, 'utf-8'))\",\n",
       " '_i19': \"txt = 'Hello, Python!'\\nprint(bytearray(txt, 'utf-8'))\\nint_num = 37\\nprint(bytearray(int_num, 'utf-8'))\",\n",
       " 'int_num': 37,\n",
       " '_i20': \"txt = 'Hello, Python!'\\nprint(bytearray(txt, 'utf-8'))\\nint_num = 37\\nprint(bytearray(int_num))\",\n",
       " '_i21': \"txt = 'Hello, Python!'\\nprint(bytearray(txt, 'utf-8'))\\nint_num = 37\\nprint(bytearray(int_num))\\nfloat_num = 3.14\\nprint(bytearray(float_num))\",\n",
       " 'float_num': 2.7182818284,\n",
       " '_i22': \"txt = 'Hello, Python!'\\nprint(bytearray(txt, 'utf-8'))\\nint_num = 37\\nprint(bytearray(int_num))\\nnlis = [0.577, 1.618, 2.718, 3.14, 6, 28, 37, 1729]\\nprint(bytearray(nlis))\\nfloat_num = 3.14\\nprint(bytearray(float_num))\",\n",
       " '_i23': \"txt = 'Hello, Python!'\\nprint(bytearray(txt, 'utf-8'))\\nint_num = 37\\nprint(bytearray(int_num))\\nnlis = [0, 1, 1, 2, 3, 5, 8, 13, 21, 34]\\nprint(bytearray(nlis))\\nfloat_num = 3.14\\nprint(bytearray(float_num))\",\n",
       " '_i24': \"num = 37\\nprint(eval('num**num'))\",\n",
       " 'num': 3.14,\n",
       " '_i25': \"num = 37\\nprint(eval('num*num'))\",\n",
       " '_i26': \"num = int(input('Enter a number: '))\\nprint(f'The entered number is {num}.')\\nprint(eval('num*num'))\",\n",
       " '_i27': \"int_num = 37\\nprint(float(int_num))\\nfloat_num = 3.14\\nprint(float(float_num))\\ntxt = '2.718'\\nprint(float(txt))\\nmsg = 'Hello, Python!'\\nprint(float(msg))\",\n",
       " '_i28': \"int_num = 37\\nprint(float(int_num))\\nfloat_num = 3.14\\nprint(float(float_num))\\ntxt = '2.718'\\nprint(float(txt))\\nmsg = 'Hello, Python!'         # It resturns a ValueError\\nprint(float(msg))\",\n",
       " '_i29': \"# integer format\\nnum = 37\\nprint(num, 'd')\",\n",
       " '_i30': \"# integer format\\nnum = 37\\nprint(format(num, 'd'))\",\n",
       " '_i31': \"# integer format\\nint_num = 37\\nprint(format(num, 'd'))\\n# float numbers\\nfloat_num = 2.718\\nprint(format(float_num, 'f'))\",\n",
       " '_i32': \"# integer format\\nint_num = 37\\nprint(format(num, 'd'))\\n# float numbers\\nfloat_num = 2.7182818284\\nprint(format(float_num, 'f'))\",\n",
       " '_i33': \"# integer format\\nint_num = 37\\nprint(format(num, 'd'))\\n# float numbers\\nfloat_num = 2.7182818284\\nprint(format(float_num, 'f'))\\n# binary format\\nnum = 1729\\nprint(format(num, 'b'))\",\n",
       " '_i34': 'nlis = [0.577, 1.618, 2.718, 3.14, 6, 28, 37, 1729]\\nfrozen_nlis = frozenset(nlis)\\nprint(frozen_nlis)',\n",
       " 'frozen_nlis': frozenset({0.577, 1.618, 2.718, 3.14, 6, 28, 37, 1729}),\n",
       " '_i35': \"nlis = [0.577, 1.618, 2.718, 3.14, 6, 28, 37, 1729]\\nfrozen_nlis = frozenset(nlis)\\nprint('Frozen set is, ', frozen_nlis)\",\n",
       " '_i36': \"nlis = [0.577, 1.618, 2.718, 3.14, 6, 28, 37, 1729]\\nfrozen_nlis = frozenset(nlis)\\nprint('Frozen set is', frozen_nlis)\",\n",
       " '_i37': \"class SpecialNumbers:\\n    euler_constant = 0.577\\n    euler_number = 2.718\\n    pi = 3.14\\n    golden_ratio = 1.618\\n    msg = 'These numbers are special.'\\n\\nspecial_numbers = SpecialNumbers()\\nprint('The euler number is', getattr(special_numbers, 'euler_number'))\",\n",
       " 'SpecialNumbers': __main__.SpecialNumbers,\n",
       " 'special_numbers': <__main__.SpecialNumbers at 0x18bb17ba9b0>,\n",
       " '_i38': \"class SpecialNumbers:\\n    euler_constant = 0.577\\n    euler_number = 2.718\\n    pi = 3.14\\n    golden_ratio = 1.618\\n    msg = 'These numbers are special.'\\n\\nspecial_numbers = SpecialNumbers()\\nprint('The euler number is', getattr(special_numbers, 'euler_number'))\\nprint('The golden ratio is', special_numbers.golden_ratio)\",\n",
       " '_i39': 'globals()',\n",
       " '_39': {...},\n",
       " '_i40': \"num = 37\\nglobals()['num'] = 3.14\\nprint(f'The number is {num}')\",\n",
       " '_i41': \"num = 37\\nglobals()['num'] = 3.14\\nprint(f'The number is {num}.')\",\n",
       " '_i42': \"class SpecialNumbers:\\n    euler_constant = 0.577\\n    euler_number = 2.718\\n    pi = 3.14\\n    golden_ratio = 1.618\\n    msg = 'These numbers are special.'\\n\\nspecial_numbers = SpecialNumbers()\\nprint('The euler number is', getattr(special_numbers, 'euler_number'))\\nprint('The golden ratio is', special_numbers.golden_ratio)\",\n",
       " '_i43': \"class SpecialNumbers:\\n    euler_constant = 0.577\\n    euler_number = 2.718\\n    pi = 3.14\\n    golden_ratio = 1.618\\n    msg = 'These numbers are special.'\\n\\nspecial_numbers = SpecialNumbers()\\nprint('The euler number is', hasattr(special_numbers, 'euler_number'))\\nprint('The golden ratio is', hasattr(special_numbers, 'golden_ratio'))\",\n",
       " '_i44': \"class SpecialNumbers:\\n    euler_constant = 0.577\\n    euler_number = 2.718\\n    pi = 3.14\\n    golden_ratio = 1.618\\n    msg = 'These numbers are special.'\\n\\nspecial_numbers = SpecialNumbers()\\nprint('The euler number is', hasattr(special_numbers, 'euler_number'))\\nprint('The golden ratio is', hasattr(special_numbers, 'golden_ratio'))\\nprint('The golden ratio is', hasattr(special_numbers, 'prime_number'))\",\n",
       " '_i45': \"class SpecialNumbers:\\n    euler_constant = 0.577\\n    euler_number = 2.718\\n    pi = 3.14\\n    golden_ratio = 1.618\\n    msg = 'These numbers are special.'\\n\\nspecial_numbers = SpecialNumbers()\\nprint(f'The euller number is {hasattr(special_numbers, 'euler_number')}')\\nprint('The golden ratio is', hasattr(special_numbers, 'golden_ratio'))\\nprint('The golden ratio is', hasattr(special_numbers, 'prime_number'))\",\n",
       " '_i46': \"class SpecialNumbers:\\n    euler_constant = 0.577\\n    euler_number = 2.718\\n    pi = 3.14\\n    golden_ratio = 1.618\\n    msg = 'These numbers are special.'\\n\\nspecial_numbers = SpecialNumbers()\\nprint('The euler number is', hasattr(special_numbers, 'euler_number'))\\nprint('The golden ratio is', hasattr(special_numbers, 'golden_ratio'))\\nprint('The golden ratio is', hasattr(special_numbers, 'prime_number'))\",\n",
       " '_i47': \"class SpecialNumbers:\\n    euler_constant = 0.577\\n    euler_number = 2.718\\n    pi = 3.14\\n    golden_ratio = 1.618\\n    msg = 'These numbers are special.'\\n\\nspecial_numbers = SpecialNumbers()\\nprint('The euler number is', hasattr(special_numbers, 'euler_number'))\\nprint('The golden ratio is', hasattr(special_numbers, 'golden_ratio'))\\nprint('The golden ratio is', hasattr(special_numbers, 'prime_number'))      # Since there is no prime number, the output is False \",\n",
       " '_i48': 'special_nums = [0.577, 1.618, 2.718, 3.14, 6, 28, 37, 1729]\\nspecial_nums_iter = iter(special_nums)\\nprint(next(special_nums_iter))',\n",
       " 'special_nums': [0.577, 1.618, 2.718, 3.14, 6, 28, 37, 1729],\n",
       " 'special_nums_iter': <list_iterator at 0x18bb17ba560>,\n",
       " '_i49': 'special_nums = [0.577, 1.618, 2.718, 3.14, 6, 28, 37, 1729]\\nspecial_nums_iter = iter(special_nums)\\nprint(next(special_nums_iter))\\nprint(next(special_nums_iter))\\nprint(next(special_nums_iter))\\nprint(next(special_nums_iter))\\nprint(next(special_nums_iter))\\nprint(next(special_nums_iter))',\n",
       " '_i50': 'special_nums = [0.577, 1.618, 2.718, 3.14, 6, 28, 37, 1729]\\nspecial_nums_iter = iter(special_nums)\\nprint(next(special_nums_iter))\\nprint(next(special_nums_iter))\\nprint(next(special_nums_iter))\\nprint(next(special_nums_iter))\\nprint(next(special_nums_iter))\\nprint(next(special_nums_iter))\\nprint(next(special_nums_iter))\\nprint(next(special_nums_iter))',\n",
       " '_i51': \"special_nums = [0.577, 1.618, 2.718, 3.14, 6, 28, 37, 1729]\\nspecial_nums_iter = iter(special_nums)\\nprint('Euler constant is', next(special_nums_iter))\\nprint('The golden ratio is', next(special_nums_iter))\\nprint('Euler number is', next(special_nums_iter))\\nprint('Pi number is', next(special_nums_iter))\\nprint(next(special_nums_iter))\\nprint(next(special_nums_iter))\\nprint(next(special_nums_iter))\\nprint(next(special_nums_iter))\",\n",
       " '_i52': \"special_nums = [0.577, 1.618, 2.718, 3.14, 6, 28, 37, 1729]\\nspecial_nums_iter = iter(special_nums)\\nprint('Euler constant is', next(special_nums_iter))\\nprint('The golden ratio is', next(special_nums_iter))\\nprint('Euler number is', next(special_nums_iter))\\nprint('Pi number is', next(special_nums_iter))\\nprint(next(special_nums_iter), 'is a perfect number.')\\nprint(next(special_nums_iter), 'is a perfect number.')\\nprint(next(special_nums_iter), 'is a special and prime number.')\\nprint(next(special_nums_iter), 'is Ramanujan-Hardy number.')\",\n",
       " '_i53': 'special_nums = [0.577, 1.618, 2.718, 3.14, 6, 28, 37, 1729]\\nprint(len(special_nums))',\n",
       " '_i54': \"special_nums = [0.577, 1.618, 2.718, 3.14, 6, 28, 37, 1729]\\nprint('The length of the list is', len(special_nums))\",\n",
       " '_i55': 'special_nums = [0.577, 1.618, 2.718, 3.14, 6, 28, 37, 1729]\\ncount = 0\\nfor i in special_nums:\\n    count = count + i\\n    print(i)',\n",
       " 'count': 1808.0529999999999,\n",
       " 'i': 1729,\n",
       " '_i56': 'special_nums = [0.577, 1.618, 2.718, 3.14, 6, 28, 37, 1729]\\ncount = 0\\nfor i in special_nums:\\n    count = count + i\\n    print(count)',\n",
       " '_i57': 'special_nums = [0.577, 1.618, 2.718, 3.14, 6, 28, 37, 1729]\\ncount = 0\\nfor i in special_nums:\\n    count = count + i\\nprint(count)',\n",
       " '_i58': '# Calculate the average of values in the following list\\nspecial_nums = [0.577, 1.618, 2.718, 3.14, 6, 28, 37, 1729]\\ncount = 0\\nfor i in special_nums:\\n    count = count + i\\nprint(count/len(special_nums))',\n",
       " '_i59': \"# Calculate the average of values in the following list\\nspecial_nums = [0.577, 1.618, 2.718, 3.14, 6, 28, 37, 1729]\\ncount = 0\\nfor i in special_nums:\\n    count = count + i\\nprint('The average of the values in the list is', count/len(special_nums))\",\n",
       " '_i60': 'print(list())',\n",
       " '_i61': \"print(list())\\ntxt = 'Hello, Python!'\\nprint(list(txt))\",\n",
       " '_i62': \"print(list())\\ntxt = 'Hello'\\nprint(list(txt))\",\n",
       " '_i63': \"print(list())\\ntxt = 'Python'\\nprint(list(txt))\",\n",
       " '_i64': \"print(list())\\ntxt = 'Python'\\nprint(list(txt))\\nspecial_nums_set = {0.577, 1.618, 2.718, 3.14, 6, 28, 37, 1729}\\nprint(list(special_nums_set))\",\n",
       " 'special_nums_set': {0.577, 1.618, 2.718, 3.14, 6, 28, 37, 1729},\n",
       " '_i65': \"print(list())\\ntxt = 'Python'\\nprint(list(txt))\\nspecial_nums_set = {0.577, 1.618, 2.718, 3.14, 6, 28, 37, 1729}\\nprint(list(special_nums_set))\\nspecial_nums_tuple = (0.577, 1.618, 2.718, 3.14, 6, 28, 37, 1729)\\nprint(list(special_nums_tuple))\",\n",
       " 'special_nums_tuple': (0.577, 1.618, 2.718, 3.14, 6, 28, 37, 1729),\n",
       " '_i66': \"print(list())\\ntxt = 'Python'\\nprint(list(txt))\\nspecial_nums_set = {0.577, 1.618, 2.718, 3.14, 6, 28, 37, 1729}\\nprint(list(special_nums_set))\\nspecial_nums_tuple = (0.577, 1.618, 2.718, 3.14, 6, 28, 37, 1729)\\nprint(list(special_nums_tuple))\\nspecial_nums_dict = {'Euler_constant': 0.577, \\n                                        'Golden_ratio': 1.618, \\n                                        'Euler_number': 2.718, \\n                                        'Pi number': 3.14, \\n                                        'Perfect_number': 6, \\n                                        'Prime_number': 37, \\n                                        'Ramanujan-Hardy number': 1729}\\nprint(list(special_nums_dict))\",\n",
       " 'special_nums_dict': {'Euler constant': 0.577,\n",
       "  'Golden ratio': 1.618,\n",
       "  'Euler number': 2.718,\n",
       "  'Pi number': 3.14,\n",
       "  'Perfect number': 6,\n",
       "  'Prime number': 37,\n",
       "  'Ramanujan Hardy number': 1729},\n",
       " '_i67': \"print(list())\\ntxt = 'Python'\\nprint(list(txt))\\nspecial_nums_set = {0.577, 1.618, 2.718, 3.14, 6, 28, 37, 1729}\\nprint(list(special_nums_set))\\nspecial_nums_tuple = (0.577, 1.618, 2.718, 3.14, 6, 28, 37, 1729)\\nprint(list(special_nums_tuple))\\nspecial_nums_dict = {'Euler constant': 0.577, \\n                                        'Golden ratio': 1.618, \\n                                        'Euler number': 2.718, \\n                                        'Pi number': 3.14, \\n                                        'Perfect number': 6, \\n                                        'Prime number': 37, \\n                                        'Ramanujan Hardy number': 1729}\\nprint(list(special_nums_dict))\",\n",
       " '_i68': 'locals()'}"
      ]
     },
     "execution_count": 68,
     "metadata": {},
     "output_type": "execute_result"
    }
   ],
   "source": [
    "locals()"
   ]
  },
  {
   "cell_type": "code",
   "execution_count": 70,
   "metadata": {},
   "outputs": [
    {
     "name": "stdout",
     "output_type": "stream",
     "text": [
      "True\n",
      "True\n"
     ]
    }
   ],
   "source": [
    "def function():\n",
    "    variable = True\n",
    "    print(variable)\n",
    "    locals()['variable'] = False        # locals() dictionary may not change the information inside the locals table.\n",
    "    print(variable)\n",
    "\n",
    "function()"
   ]
  },
  {
   "cell_type": "code",
   "execution_count": 75,
   "metadata": {},
   "outputs": [
    {
     "name": "stdout",
     "output_type": "stream",
     "text": [
      "If there is no locals(), it returns an empty dictionary {}\n",
      "If there is locals(), it returns a dictionary {'program': 'Python'}\n"
     ]
    }
   ],
   "source": [
    "def dict_1():\n",
    "    return locals()\n",
    "\n",
    "def dict_2():\n",
    "    program = 'Python'\n",
    "    return locals()\n",
    "\n",
    "print('If there is no locals(), it returns an empty dictionary', dict_1())\n",
    "print('If there is locals(), it returns a dictionary', dict_2())"
   ]
  },
  {
   "cell_type": "markdown",
   "metadata": {},
   "source": [
    "### **format()**\n",
    "This function formats a specified value. **d, f, and b** are a type."
   ]
  },
  {
   "cell_type": "code",
   "execution_count": 33,
   "metadata": {},
   "outputs": [
    {
     "name": "stdout",
     "output_type": "stream",
     "text": [
      "37\n",
      "2.718282\n",
      "11011000001\n"
     ]
    }
   ],
   "source": [
    "# integer format\n",
    "int_num = 37\n",
    "print(format(num, 'd'))\n",
    "# float numbers\n",
    "float_num = 2.7182818284\n",
    "print(format(float_num, 'f'))\n",
    "# binary format\n",
    "num = 1729\n",
    "print(format(num, 'b'))"
   ]
  },
  {
   "cell_type": "markdown",
   "metadata": {},
   "source": [
    "### **hex()**\n",
    "Converts a number into a hexadecimal value"
   ]
  },
  {
   "cell_type": "code",
   "execution_count": 184,
   "metadata": {},
   "outputs": [
    {
     "name": "stdout",
     "output_type": "stream",
     "text": [
      "0x6\n",
      "0x25\n",
      "0x6c1\n"
     ]
    }
   ],
   "source": [
    "print(hex(6))\n",
    "print(hex(37))\n",
    "print(hex(1729))"
   ]
  },
  {
   "cell_type": "markdown",
   "metadata": {},
   "source": [
    "### **input()**\n",
    "Allowing user input"
   ]
  },
  {
   "cell_type": "code",
   "execution_count": 219,
   "metadata": {},
   "outputs": [
    {
     "name": "stdout",
     "output_type": "stream",
     "text": [
      "The entered message is Hello, Python!\n"
     ]
    }
   ],
   "source": [
    "txt = input('Enter a message: ')\n",
    "print('The entered message is', txt)"
   ]
  },
  {
   "cell_type": "markdown",
   "metadata": {},
   "source": [
    "### **int()**\n",
    "Returns an integer number"
   ]
  },
  {
   "cell_type": "code",
   "execution_count": 223,
   "metadata": {},
   "outputs": [
    {
     "name": "stdout",
     "output_type": "stream",
     "text": [
      "The numbers are 6, 3,and 28.\n"
     ]
    }
   ],
   "source": [
    "num1 = int(6)\n",
    "num2 = int(3.14)\n",
    "num3 = int('28')\n",
    "print(f'The numbers are {num1}, {num2},and {num3}.')"
   ]
  },
  {
   "cell_type": "markdown",
   "metadata": {},
   "source": [
    "### **isinstance()**\n",
    "It checks if the object (first argument) is an instance or subclass of classinfo class (second argument)."
   ]
  },
  {
   "cell_type": "code",
   "execution_count": 226,
   "metadata": {},
   "outputs": [
    {
     "name": "stdout",
     "output_type": "stream",
     "text": [
      "True\n"
     ]
    }
   ],
   "source": [
    "special_nums = [0.577, 1.618, 2.718, 3.14, 6, 28, 37, 1729]\n",
    "result = isinstance(special_nums, list)\n",
    "print(result)"
   ]
  },
  {
   "cell_type": "code",
   "execution_count": 225,
   "metadata": {},
   "outputs": [
    {
     "name": "stdout",
     "output_type": "stream",
     "text": [
      "True\n",
      "False\n"
     ]
    }
   ],
   "source": [
    "class SpecialNumbers:\n",
    "    euler_constant = 0.577\n",
    "    euler_number = 2.718\n",
    "    pi = 3.14\n",
    "    golden_ratio = 1.618\n",
    "    msg = 'These numbers are very special'\n",
    "    \n",
    "    def __init__(self, euler_constant, euler_number, pi, golden_ratio, msg):\n",
    "        self.euler_constant = euler_constant\n",
    "        self.euler_number = euler_number\n",
    "        self.pi = pi\n",
    "        self.golden_ratio = golden_ratio\n",
    "        self.msg = msg\n",
    "\n",
    "special_numbers = SpecialNumbers(0.577, 2.718, 3.14, 1.618, 'These numbers are very special.')\n",
    "nums = [0, 1, 1, 2, 3, 5, 8, 13, 21, 34]\n",
    "print(isinstance(special_numbers, SpecialNumbers))\n",
    "print(isinstance(nums, SpecialNumbers))"
   ]
  },
  {
   "cell_type": "markdown",
   "metadata": {},
   "source": [
    "### **issubclass()**\n",
    "Checks if the class argument (first argument) is a subclass of classinfo class (second argument)."
   ]
  },
  {
   "cell_type": "code",
   "execution_count": 263,
   "metadata": {},
   "outputs": [
    {
     "name": "stdout",
     "output_type": "stream",
     "text": [
      "True\n",
      "False\n",
      "True\n",
      "True\n"
     ]
    }
   ],
   "source": [
    "class Circle:\n",
    "    def __init__(circleType):\n",
    "        print('Circle is a ', circleType)\n",
    "    \n",
    "class Square(Circle):\n",
    "    def __init__(self):\n",
    "            \n",
    "        Circle.__init__('square')\n",
    "    \n",
    "print(issubclass(Square, Circle))\n",
    "print(issubclass(Square, list))\n",
    "print(issubclass(Square, (list, Circle)))\n",
    "print(issubclass(Circle, (list, Circle)))"
   ]
  },
  {
   "cell_type": "markdown",
   "metadata": {},
   "source": [
    "### **iter()**\n",
    "It returns an iterator object."
   ]
  },
  {
   "cell_type": "code",
   "execution_count": 52,
   "metadata": {},
   "outputs": [
    {
     "name": "stdout",
     "output_type": "stream",
     "text": [
      "Euler constant is 0.577\n",
      "The golden ratio is 1.618\n",
      "Euler number is 2.718\n",
      "Pi number is 3.14\n",
      "6 is a perfect number.\n",
      "28 is a perfect number.\n",
      "37 is a special and prime number.\n",
      "1729 is Ramanujan-Hardy number.\n"
     ]
    }
   ],
   "source": [
    "special_nums = [0.577, 1.618, 2.718, 3.14, 6, 28, 37, 1729]\n",
    "special_nums_iter = iter(special_nums)\n",
    "print('Euler constant is', next(special_nums_iter))\n",
    "print('The golden ratio is', next(special_nums_iter))\n",
    "print('Euler number is', next(special_nums_iter))\n",
    "print('Pi number is', next(special_nums_iter))\n",
    "print(next(special_nums_iter), 'is a perfect number.')\n",
    "print(next(special_nums_iter), 'is a perfect number.')\n",
    "print(next(special_nums_iter), 'is a special and prime number.')\n",
    "print(next(special_nums_iter), 'is Ramanujan-Hardy number.')"
   ]
  },
  {
   "cell_type": "markdown",
   "metadata": {},
   "source": [
    "### **object()**\n",
    "It returns a new object."
   ]
  },
  {
   "cell_type": "code",
   "execution_count": 97,
   "metadata": {},
   "outputs": [
    {
     "name": "stdout",
     "output_type": "stream",
     "text": [
      "<class 'object'>\n",
      "['__class__', '__delattr__', '__dir__', '__doc__', '__eq__', '__format__', '__ge__', '__getattribute__', '__gt__', '__hash__', '__init__', '__init_subclass__', '__le__', '__lt__', '__ne__', '__new__', '__reduce__', '__reduce_ex__', '__repr__', '__setattr__', '__sizeof__', '__str__', '__subclasshook__']\n"
     ]
    }
   ],
   "source": [
    "name= object()\n",
    "print(type(name))\n",
    "print(dir(name))"
   ]
  },
  {
   "cell_type": "markdown",
   "metadata": {},
   "source": [
    "### **oct()**\n",
    "It returns an octal string from the given integer number. The oct() function takes an integer number and returns its octal representation."
   ]
  },
  {
   "cell_type": "code",
   "execution_count": 232,
   "metadata": {},
   "outputs": [
    {
     "name": "stdout",
     "output_type": "stream",
     "text": [
      "The octal value of 37 us 0o45.\n"
     ]
    }
   ],
   "source": [
    "num = int(input('Enter a number:'))\n",
    "print(f'The octal value of {num} us {oct(num)}.')"
   ]
  },
  {
   "cell_type": "code",
   "execution_count": 235,
   "metadata": {},
   "outputs": [
    {
     "name": "stdout",
     "output_type": "stream",
     "text": [
      "oct(1729) is: 0o3301\n",
      "oct(0b101) is: 0o5\n",
      "oct(0XA) is: 0o12\n"
     ]
    }
   ],
   "source": [
    "# decimal to octal\n",
    "print('oct(1729) is:', oct(1729))\n",
    "\n",
    "# binary to octal\n",
    "print('oct(0b101) is:', oct(0b101))\n",
    "\n",
    "# hexadecimal to octal\n",
    "print('oct(0XA) is:', oct(0XA))"
   ]
  },
  {
   "cell_type": "markdown",
   "metadata": {},
   "source": [
    "### **list()**\n",
    "It creates a list in Python."
   ]
  },
  {
   "cell_type": "code",
   "execution_count": 67,
   "metadata": {},
   "outputs": [
    {
     "name": "stdout",
     "output_type": "stream",
     "text": [
      "[]\n",
      "['P', 'y', 't', 'h', 'o', 'n']\n",
      "[0.577, 1.618, 2.718, 3.14, 1729, 37, 6, 28]\n",
      "[0.577, 1.618, 2.718, 3.14, 6, 28, 37, 1729]\n",
      "['Euler constant', 'Golden ratio', 'Euler number', 'Pi number', 'Perfect number', 'Prime number', 'Ramanujan Hardy number']\n"
     ]
    }
   ],
   "source": [
    "print(list())\n",
    "txt = 'Python'\n",
    "print(list(txt))\n",
    "special_nums_set = {0.577, 1.618, 2.718, 3.14, 6, 28, 37, 1729}\n",
    "print(list(special_nums_set))\n",
    "special_nums_tuple = (0.577, 1.618, 2.718, 3.14, 6, 28, 37, 1729)\n",
    "print(list(special_nums_tuple))\n",
    "special_nums_dict = {'Euler constant': 0.577, \n",
    "                                        'Golden ratio': 1.618, \n",
    "                                        'Euler number': 2.718, \n",
    "                                        'Pi number': 3.14, \n",
    "                                        'Perfect number': 6, \n",
    "                                        'Prime number': 37, \n",
    "                                        'Ramanujan Hardy number': 1729}\n",
    "print(list(special_nums_dict))"
   ]
  },
  {
   "cell_type": "markdown",
   "metadata": {},
   "source": [
    "### **memoryview()**\n",
    "It returns a memory view object."
   ]
  },
  {
   "cell_type": "code",
   "execution_count": 91,
   "metadata": {},
   "outputs": [
    {
     "name": "stdout",
     "output_type": "stream",
     "text": [
      "<memory at 0x0000018BB24C5D80>\n",
      "88\n",
      "89\n",
      "90\n",
      "b'XY'\n",
      "[88, 89, 90]\n",
      "{88, 89, 90}\n",
      "(88, 89, 90)\n",
      "[88, 65, 90]\n",
      "bytearray(b'XAZ')\n"
     ]
    }
   ],
   "source": [
    "ba = bytearray('XYZ', 'utf-8')\n",
    "mv = memoryview(ba)\n",
    "print(mv)\n",
    "print(mv[0])\n",
    "print(mv[1])\n",
    "print(mv[2])\n",
    "print(bytes(mv[0:2]))\n",
    "print(list(mv[:]))\n",
    "print(set(mv[:]))\n",
    "print(tuple(mv[:]))\n",
    "mv[1] = 65                          # 'Y' was replaced with 'A'\n",
    "print(list(mv[:]))                  \n",
    "print(ba)"
   ]
  },
  {
   "cell_type": "code",
   "execution_count": null,
   "metadata": {},
   "outputs": [],
   "source": []
  },
  {
   "cell_type": "code",
   "execution_count": 218,
   "metadata": {},
   "outputs": [
    {
     "name": "stdout",
     "output_type": "stream",
     "text": [
      "0.577\n",
      "1.618\n",
      "2.718\n",
      "3.14\n",
      "6\n",
      "28\n",
      "37\n",
      "1729\n"
     ]
    }
   ],
   "source": [
    "special_nums = [0.577, 1.618, 2.718, 3.14, 6, 28, 37, 1729]\n",
    "number = iter(special_nums)         # Create an iteration\n",
    "item = next(number)         # First item\n",
    "print(item)\n",
    "item = next(number)         # Second item\n",
    "print(item)\n",
    "item = next(number)     # Third item, etc\n",
    "print(item)\n",
    "item = next(number)\n",
    "print(item)\n",
    "item = next(number)\n",
    "print(item)\n",
    "item = next(number)\n",
    "print(item)\n",
    "item = next(number)\n",
    "print(item)\n",
    "item = next(number)\n",
    "print(item)"
   ]
  },
  {
   "cell_type": "markdown",
   "metadata": {},
   "source": [
    "### **open()**\n",
    "It opens a file and returns a file object."
   ]
  },
  {
   "cell_type": "markdown",
   "metadata": {},
   "source": [
    "<img src='https://res.cloudinary.com/dyd911kmh/image/upload/f_auto,q_auto:best/v1590365454/read2_tdryms.png' width='700' alt='open_parameters'/>"
   ]
  },
  {
   "cell_type": "code",
   "execution_count": 120,
   "metadata": {},
   "outputs": [
    {
     "name": "stdout",
     "output_type": "stream",
     "text": [
      "authors.txt\n",
      "English,Charles Severance\n",
      "English,Sue Blumenberg\n",
      "English,Elloitt Hauser\n",
      "Spanish,Fernando Tardío Muñiz\n",
      "\n",
      "\n"
     ]
    }
   ],
   "source": [
    "path = \"authors.txt\"\n",
    "file = open(path,  mode = 'r', encoding='utf-8')\n",
    "print(file.name)\n",
    "print(file.read())"
   ]
  },
  {
   "cell_type": "code",
   "execution_count": 122,
   "metadata": {},
   "outputs": [
    {
     "name": "stdout",
     "output_type": "stream",
     "text": [
      "English,Charles Severance\n",
      "English,Sue Blumenberg\n",
      "English,Elloitt Hauser\n",
      "Spanish,Fernando TardÃ­o MuÃ±iz\n",
      "\n",
      "\n"
     ]
    }
   ],
   "source": [
    "# Open file using with\n",
    "path = \"authors.txt\"\n",
    "with open(path, \"r\") as file:\n",
    "    FileContent = file.read()\n",
    "    print(FileContent)"
   ]
  },
  {
   "cell_type": "markdown",
   "metadata": {},
   "source": [
    "### **complex()**\n",
    "It returns a complex number."
   ]
  },
  {
   "cell_type": "code",
   "execution_count": 138,
   "metadata": {},
   "outputs": [
    {
     "name": "stdout",
     "output_type": "stream",
     "text": [
      "(1+0j)\n",
      "(2+2j)\n",
      "(3.14+1.618j)\n"
     ]
    }
   ],
   "source": [
    "print(complex(1))\n",
    "print(complex(2, 2))\n",
    "print(complex(3.14, 1.618))"
   ]
  },
  {
   "cell_type": "markdown",
   "metadata": {},
   "source": [
    "### **dir()**\n",
    "It returns a list of the specified object's properties and methods."
   ]
  },
  {
   "cell_type": "code",
   "execution_count": 148,
   "metadata": {},
   "outputs": [
    {
     "name": "stdout",
     "output_type": "stream",
     "text": [
      "['FileContent', 'In', 'Out', 'SpecialNumbers', '_', '_103', '_105', '_107', '_109', '_113', '_114', '_116', '_118', '_119', '_144', '_39', '_68', '_92', '_98', '__', '___', '__builtin__', '__builtins__', '__doc__', '__loader__', '__name__', '__package__', '__spec__', '__vsc_ipynb_file__', '_dh', '_i', '_i1', '_i10', '_i100', '_i101', '_i102', '_i103', '_i104', '_i105', '_i106', '_i107', '_i108', '_i109', '_i11', '_i110', '_i111', '_i112', '_i113', '_i114', '_i115', '_i116', '_i117', '_i118', '_i119', '_i12', '_i120', '_i121', '_i122', '_i123', '_i124', '_i125', '_i126', '_i127', '_i128', '_i129', '_i13', '_i130', '_i131', '_i132', '_i133', '_i134', '_i135', '_i136', '_i137', '_i138', '_i139', '_i14', '_i140', '_i141', '_i142', '_i143', '_i144', '_i145', '_i146', '_i147', '_i148', '_i15', '_i16', '_i17', '_i18', '_i19', '_i2', '_i20', '_i21', '_i22', '_i23', '_i24', '_i25', '_i26', '_i27', '_i28', '_i29', '_i3', '_i30', '_i31', '_i32', '_i33', '_i34', '_i35', '_i36', '_i37', '_i38', '_i39', '_i4', '_i40', '_i41', '_i42', '_i43', '_i44', '_i45', '_i46', '_i47', '_i48', '_i49', '_i5', '_i50', '_i51', '_i52', '_i53', '_i54', '_i55', '_i56', '_i57', '_i58', '_i59', '_i6', '_i60', '_i61', '_i62', '_i63', '_i64', '_i65', '_i66', '_i67', '_i68', '_i69', '_i7', '_i70', '_i71', '_i72', '_i73', '_i74', '_i75', '_i76', '_i77', '_i78', '_i79', '_i8', '_i80', '_i81', '_i82', '_i83', '_i84', '_i85', '_i86', '_i87', '_i88', '_i89', '_i9', '_i90', '_i91', '_i92', '_i93', '_i94', '_i95', '_i96', '_i97', '_i98', '_i99', '_ih', '_ii', '_iii', '_oh', 'ba', 'count', 'dict_1', 'dict_2', 'divided_nums', 'division', 'division_number_iterator', 'exit', 'file', 'float_num', 'frozen_nlis', 'function', 'get_ipython', 'i', 'int_num', 'msg', 'mv', 'name', 'nlis', 'num', 'number', 'os', 'path', 'python', 'quit', 'special_numbers', 'special_nums', 'special_nums_dict', 'special_nums_iter', 'special_nums_set', 'special_nums_tuple', 'sys', 'text', 'txt']\n",
      "\n",
      "['__abs__', '__add__', '__bool__', '__ceil__', '__class__', '__delattr__', '__dir__', '__divmod__', '__doc__', '__eq__', '__float__', '__floor__', '__floordiv__', '__format__', '__ge__', '__getattribute__', '__getformat__', '__getnewargs__', '__gt__', '__hash__', '__init__', '__init_subclass__', '__int__', '__le__', '__lt__', '__mod__', '__mul__', '__ne__', '__neg__', '__new__', '__pos__', '__pow__', '__radd__', '__rdivmod__', '__reduce__', '__reduce_ex__', '__repr__', '__rfloordiv__', '__rmod__', '__rmul__', '__round__', '__rpow__', '__rsub__', '__rtruediv__', '__set_format__', '__setattr__', '__sizeof__', '__str__', '__sub__', '__subclasshook__', '__truediv__', '__trunc__', 'as_integer_ratio', 'conjugate', 'fromhex', 'hex', 'imag', 'is_integer', 'real']\n",
      "\n",
      "['__add__', '__class__', '__class_getitem__', '__contains__', '__delattr__', '__delitem__', '__dir__', '__doc__', '__eq__', '__format__', '__ge__', '__getattribute__', '__getitem__', '__gt__', '__hash__', '__iadd__', '__imul__', '__init__', '__init_subclass__', '__iter__', '__le__', '__len__', '__lt__', '__mul__', '__ne__', '__new__', '__reduce__', '__reduce_ex__', '__repr__', '__reversed__', '__rmul__', '__setattr__', '__setitem__', '__sizeof__', '__str__', '__subclasshook__', 'append', 'clear', 'copy', 'count', 'extend', 'index', 'insert', 'pop', 'remove', 'reverse', 'sort']\n",
      "\n",
      "['__and__', '__class__', '__class_getitem__', '__contains__', '__delattr__', '__dir__', '__doc__', '__eq__', '__format__', '__ge__', '__getattribute__', '__gt__', '__hash__', '__iand__', '__init__', '__init_subclass__', '__ior__', '__isub__', '__iter__', '__ixor__', '__le__', '__len__', '__lt__', '__ne__', '__new__', '__or__', '__rand__', '__reduce__', '__reduce_ex__', '__repr__', '__ror__', '__rsub__', '__rxor__', '__setattr__', '__sizeof__', '__str__', '__sub__', '__subclasshook__', '__xor__', 'add', 'clear', 'copy', 'difference', 'difference_update', 'discard', 'intersection', 'intersection_update', 'isdisjoint', 'issubset', 'issuperset', 'pop', 'remove', 'symmetric_difference', 'symmetric_difference_update', 'union', 'update']\n"
     ]
    }
   ],
   "source": [
    "name = dir()\n",
    "print(name)\n",
    "print()\n",
    "number = 3.14\n",
    "print(dir(number))\n",
    "print()\n",
    "nlis = [3.14]\n",
    "print(dir(nlis))\n",
    "print()\n",
    "nset = {3.14}\n",
    "print(dir(nset))"
   ]
  },
  {
   "cell_type": "markdown",
   "metadata": {},
   "source": [
    "### **divmod()**\n",
    "It returns the quotient and the remainder when argument1 is divided by argument2."
   ]
  },
  {
   "cell_type": "code",
   "execution_count": 152,
   "metadata": {},
   "outputs": [
    {
     "name": "stdout",
     "output_type": "stream",
     "text": [
      "(5.0, 0.25500000000000034)\n",
      "(3, 0)\n",
      "(2, 2)\n"
     ]
    },
    {
     "ename": "TypeError",
     "evalue": "unsupported operand type(s) for divmod(): 'str' and 'str'",
     "output_type": "error",
     "traceback": [
      "\u001b[1;31m---------------------------------------------------------------------------\u001b[0m",
      "\u001b[1;31mTypeError\u001b[0m                                 Traceback (most recent call last)",
      "\u001b[1;32m~\\AppData\\Local\\Temp/ipykernel_16192/798993378.py\u001b[0m in \u001b[0;36m<module>\u001b[1;34m\u001b[0m\n\u001b[0;32m      2\u001b[0m \u001b[0mprint\u001b[0m\u001b[1;33m(\u001b[0m\u001b[0mdivmod\u001b[0m\u001b[1;33m(\u001b[0m\u001b[1;36m9\u001b[0m\u001b[1;33m,\u001b[0m \u001b[1;36m3\u001b[0m\u001b[1;33m)\u001b[0m\u001b[1;33m)\u001b[0m\u001b[1;33m\u001b[0m\u001b[1;33m\u001b[0m\u001b[0m\n\u001b[0;32m      3\u001b[0m \u001b[0mprint\u001b[0m\u001b[1;33m(\u001b[0m\u001b[0mdivmod\u001b[0m\u001b[1;33m(\u001b[0m\u001b[1;36m12\u001b[0m\u001b[1;33m,\u001b[0m \u001b[1;36m5\u001b[0m\u001b[1;33m)\u001b[0m\u001b[1;33m)\u001b[0m\u001b[1;33m\u001b[0m\u001b[1;33m\u001b[0m\u001b[0m\n\u001b[1;32m----> 4\u001b[1;33m \u001b[0mprint\u001b[0m\u001b[1;33m(\u001b[0m\u001b[0mdivmod\u001b[0m\u001b[1;33m(\u001b[0m\u001b[1;34m'Hello'\u001b[0m\u001b[1;33m,\u001b[0m \u001b[1;34m'Python!'\u001b[0m\u001b[1;33m)\u001b[0m\u001b[1;33m)\u001b[0m\u001b[1;33m\u001b[0m\u001b[1;33m\u001b[0m\u001b[0m\n\u001b[0m",
      "\u001b[1;31mTypeError\u001b[0m: unsupported operand type(s) for divmod(): 'str' and 'str'"
     ]
    }
   ],
   "source": [
    "print(divmod(3.14, 0.577))\n",
    "print(divmod(9, 3))\n",
    "print(divmod(12, 5))\n",
    "print(divmod('Hello', 'Python!'))   # It returns TypeError."
   ]
  },
  {
   "cell_type": "markdown",
   "metadata": {},
   "source": [
    "### **set()**\n",
    "It returns a new set object."
   ]
  },
  {
   "cell_type": "code",
   "execution_count": 179,
   "metadata": {},
   "outputs": [
    {
     "name": "stdout",
     "output_type": "stream",
     "text": [
      "set()\n",
      "{'5', '1', '.', '3'}\n",
      "{' ', 'o', 't', 'e', 'n', 'y', 'P', 'h', '!', 'H', 'l'}\n",
      "{0.577, 1.618, 2.718, 3.14, 1729, 37, 6, 28}\n",
      "{2, 3, 4, 5, 6, 7, 8}\n",
      "{'Pi number', 'Euler number', 'Euler constant', 'Golden ratio', 'Perfect number'}\n"
     ]
    }
   ],
   "source": [
    "print(set())\n",
    "print(set('3.15'))\n",
    "print(set('Hello Python!'))\n",
    "special_nums = [0.577, 1.618, 2.718, 3.14, 6, 28, 37, 1729]\n",
    "print(set(special_nums))\n",
    "print(set(range(2, 9)))\n",
    "special_nums_dict = {'Euler constant': 0.577, 'Golden ratio': 1.618, 'Euler number': 2.718, 'Pi number': 3.14, 'Perfect number': 6}\n",
    "print(set(special_nums_dict))"
   ]
  },
  {
   "cell_type": "markdown",
   "metadata": {},
   "source": [
    "### **setattr()**\n",
    "Sets an attribute (property/method) of an object"
   ]
  },
  {
   "cell_type": "code",
   "execution_count": 195,
   "metadata": {},
   "outputs": [
    {
     "name": "stdout",
     "output_type": "stream",
     "text": [
      "0.577\n",
      "2.718\n",
      "3.14\n",
      "1.618\n",
      "These numbers are special.\n",
      "1729\n"
     ]
    }
   ],
   "source": [
    "class SpecialNumbers:\n",
    "    euler_constant = 0.0\n",
    "    euler_number = 0.0\n",
    "    pi = 0.0\n",
    "    golden_ratio = 0.0\n",
    "    msg = ''\n",
    "    \n",
    "    def __init__(self, euler_constant, euler_number, pi, golden_ratio, msg):\n",
    "        self.euler_constant = euler_constant\n",
    "        self.euler_number = euler_number\n",
    "        self.pi = pi\n",
    "        self.golden_ratio = golden_ratio\n",
    "        self.msg = msg\n",
    "\n",
    "special_numbers = SpecialNumbers(0.577, 2.718, 3.14, 1.618, 'These numbers are special.')\n",
    "print(special_numbers.euler_constant)\n",
    "print(special_numbers.euler_number)\n",
    "print(special_numbers.pi)\n",
    "print(special_numbers.golden_ratio)\n",
    "print(special_numbers.msg)\n",
    "setattr(special_numbers, 'Ramanujan_Hardy_number', 1729)\n",
    "print(special_numbers.Ramanujan_Hardy_number)"
   ]
  },
  {
   "cell_type": "markdown",
   "metadata": {},
   "source": [
    "### **slice()**\n",
    "Returns a slice object that is used to slice any sequence (string, tuple, list, range, or bytes)."
   ]
  },
  {
   "cell_type": "code",
   "execution_count": 210,
   "metadata": {},
   "outputs": [
    {
     "name": "stdout",
     "output_type": "stream",
     "text": [
      "slice(None, 2.718, None)\n",
      "slice(0.577, 1.618, 3.14)\n",
      "Hello\n",
      "[0.577, 1.618, 2.718, 3.14]\n",
      "[1729, 28, 3.14]\n",
      "[0.577, 1.618, 2.718, 3.14]\n",
      "[6, 28, 37]\n"
     ]
    }
   ],
   "source": [
    "print(slice(2.718))\n",
    "print(slice(0.577, 1.618, 3.14))\n",
    "msg = 'Hello, Python!'\n",
    "sliced_msg = slice(5)\n",
    "print(msg[sliced_msg])\n",
    "special_nums = [0.577, 1.618, 2.718, 3.14, 6, 28, 37, 1729]\n",
    "sliced_list = slice(4)\n",
    "print(special_nums[sliced_list])\n",
    "sliced_list = slice(-1, -6, -2)\n",
    "print(special_nums[sliced_list])\n",
    "print(special_nums[0:4])            # Slicing with indexing\n",
    "print(special_nums[-4:-1])"
   ]
  },
  {
   "cell_type": "markdown",
   "metadata": {},
   "source": [
    "### **sorted()**\n",
    "Returns a sorted list"
   ]
  },
  {
   "cell_type": "code",
   "execution_count": 213,
   "metadata": {},
   "outputs": [
    {
     "name": "stdout",
     "output_type": "stream",
     "text": [
      "[0.577, 1.618, 2.718, 3.14, 6, 28, 37, 1729]\n",
      "[' ', '!', ',', 'H', 'P', 'e', 'h', 'l', 'l', 'n', 'o', 'o', 't', 'y']\n"
     ]
    }
   ],
   "source": [
    "special_nums = [2.718, 1729, 0.577, 1.618, 28, 3.14, 6,  37]\n",
    "print(sorted(special_nums))\n",
    "txt = 'Hello, Python!'\n",
    "print(sorted(txt))"
   ]
  },
  {
   "cell_type": "markdown",
   "metadata": {},
   "source": [
    "### **ord()**\n",
    "Convert an integer representing the Unicode of the specified character"
   ]
  },
  {
   "cell_type": "markdown",
   "metadata": {},
   "source": []
  },
  {
   "cell_type": "code",
   "execution_count": 241,
   "metadata": {},
   "outputs": [
    {
     "name": "stdout",
     "output_type": "stream",
     "text": [
      "57\n",
      "88\n",
      "87\n",
      "94\n"
     ]
    }
   ],
   "source": [
    "print(ord('9'))\n",
    "print(ord('X'))\n",
    "print(ord('W'))\n",
    "print(ord('^'))"
   ]
  },
  {
   "cell_type": "markdown",
   "metadata": {},
   "source": [
    "### **pow()**\n",
    "The pow() function returns the power of a number."
   ]
  },
  {
   "cell_type": "code",
   "execution_count": 247,
   "metadata": {},
   "outputs": [
    {
     "name": "stdout",
     "output_type": "stream",
     "text": [
      "23.09634618919156\n",
      "0.0016\n",
      "4096\n",
      "36\n",
      "0.027777777777777776\n"
     ]
    }
   ],
   "source": [
    "print(pow(2.718, 3.14))\n",
    "print(pow(-25, -2))\n",
    "print(pow(16, 3))\n",
    "print(pow(-6, 2))\n",
    "print(pow(6, -2))"
   ]
  },
  {
   "cell_type": "markdown",
   "metadata": {},
   "source": [
    "### **print()**\n",
    "It prints the given object to the standard output device (screen) or to the text stream file."
   ]
  },
  {
   "cell_type": "code",
   "execution_count": 248,
   "metadata": {},
   "outputs": [
    {
     "name": "stdout",
     "output_type": "stream",
     "text": [
      "Hello, Python!\n"
     ]
    }
   ],
   "source": [
    "msg = 'Hello, Python!'\n",
    "print(msg)"
   ]
  },
  {
   "cell_type": "markdown",
   "metadata": {},
   "source": [
    "### **range()**\n",
    "Returns a sequence of numbers between the given start integer to the stop integer."
   ]
  },
  {
   "cell_type": "code",
   "execution_count": 254,
   "metadata": {},
   "outputs": [
    {
     "name": "stdout",
     "output_type": "stream",
     "text": [
      "[]\n",
      "[0, 1, 2, 3, 4, 5, 6, 7, 8]\n",
      "[2, 3, 4, 5, 6, 7, 8]\n",
      "2\n",
      "3\n",
      "4\n",
      "5\n",
      "6\n",
      "7\n",
      "8\n"
     ]
    }
   ],
   "source": [
    "print(list(range(0)))\n",
    "print(list(range(9)))\n",
    "print(list(range(2, 9)))\n",
    "for i in range(2, 9):\n",
    "    print(i)"
   ]
  },
  {
   "cell_type": "markdown",
   "metadata": {},
   "source": [
    "### **reversed()**\n",
    "Returns the reversed iterator of the given sequence."
   ]
  },
  {
   "cell_type": "code",
   "execution_count": 260,
   "metadata": {},
   "outputs": [
    {
     "name": "stdout",
     "output_type": "stream",
     "text": [
      "['n', 'o', 'h', 't', 'y', 'P']\n",
      "[37, 6, 3.14, 28, 1.618, 0.577, 1729, 2.718]\n",
      "[27, 26, 25, 24, 23, 22, 21, 20, 19, 18, 17, 16, 15, 14, 13, 12, 11, 10, 9, 8, 7, 6]\n",
      "[37, 6, 3.14, 28, 1.618, 0.577, 1729, 2.718]\n"
     ]
    }
   ],
   "source": [
    "txt = 'Python'\n",
    "print(list(reversed(txt)))\n",
    "special_nums = [2.718, 1729, 0.577, 1.618, 28, 3.14, 6,  37]\n",
    "print(list(reversed(special_nums)))\n",
    "nums = range(6, 28)\n",
    "print(list(reversed(nums)))\n",
    "special_nums_tuple = (2.718, 1729, 0.577, 1.618, 28, 3.14, 6,  37)\n",
    "print(list(reversed(special_nums_tuple)))"
   ]
  },
  {
   "cell_type": "markdown",
   "metadata": {},
   "source": [
    "### **round()**\n",
    "Returns a floating-point number rounded to the specified number of decimals."
   ]
  },
  {
   "cell_type": "code",
   "execution_count": 261,
   "metadata": {},
   "outputs": [
    {
     "name": "stdout",
     "output_type": "stream",
     "text": [
      "3\n",
      "3\n",
      "1\n",
      "2\n",
      "1729\n"
     ]
    }
   ],
   "source": [
    "print(round(3.14))\n",
    "print(round(2.718))\n",
    "print(round(0.577))\n",
    "print(round(1.618))\n",
    "print(round(1729))"
   ]
  },
  {
   "cell_type": "markdown",
   "metadata": {},
   "source": [
    "### **str()**\n",
    "Returns the string version of the given object."
   ]
  },
  {
   "cell_type": "code",
   "execution_count": 268,
   "metadata": {},
   "outputs": [
    {
     "name": "stdout",
     "output_type": "stream",
     "text": [
      "3.14\n",
      "<class 'str'>\n"
     ]
    }
   ],
   "source": [
    "num  = 3.14\n",
    "val = str(num)\n",
    "print(val)\n",
    "print(type(val))"
   ]
  },
  {
   "cell_type": "markdown",
   "metadata": {},
   "source": [
    "### **tuple()**\n",
    "The tuple() builtin can be used to create tuples in Python.\n",
    "In Python, a tuple is an immutable sequence type. One of the ways of creating tuple is by using the tuple() construct."
   ]
  },
  {
   "cell_type": "code",
   "execution_count": 271,
   "metadata": {},
   "outputs": [
    {
     "name": "stdout",
     "output_type": "stream",
     "text": [
      "(2.718, 1729, 0.577, 1.618, 28, 3.14, 6, 37)\n",
      "('H', 'e', 'l', 'l', 'o', ',', ' ', 'P', 'y', 't', 'h', 'o', 'n', '!')\n",
      "('A', 'B', 'C')\n"
     ]
    }
   ],
   "source": [
    "special_nums = [2.718, 1729, 0.577, 1.618, 28, 3.14, 6,  37]\n",
    "special_nums_tuple = tuple(special_nums)\n",
    "print(special_nums_tuple)\n",
    "\n",
    "txt = 'Hello, Python!'\n",
    "txt_tuple = tuple(txt)\n",
    "print(txt_tuple)\n",
    "\n",
    "dictionary = {'A': 0.577, 'B': 2.718, 'C': 3.14}\n",
    "dictionary_tuple = tuple(dictionary)\n",
    "print(dictionary_tuple)"
   ]
  },
  {
   "cell_type": "markdown",
   "metadata": {},
   "source": [
    "### **type()**\n",
    "It either returns the type of the object or returns a new type object based on the arguments passed."
   ]
  },
  {
   "cell_type": "code",
   "execution_count": 276,
   "metadata": {},
   "outputs": [
    {
     "name": "stdout",
     "output_type": "stream",
     "text": [
      "(2.718, 1729, 0.577, 1.618, 28, 3.14, 6, 37)\n",
      "<class 'list'>\n",
      "\n",
      "('H', 'e', 'l', 'l', 'o', ',', ' ', 'P', 'y', 't', 'h', 'o', 'n', '!')\n",
      "<class 'str'>\n",
      "\n",
      "('A', 'B', 'C')\n",
      "<class 'dict'>\n",
      "\n",
      "(0.577, 1729, 2.718, 3.14, 1.618, 37, 6, 28)\n",
      "<class 'set'>\n",
      "\n",
      "<class '__main__.SpecialNumbers'>\n"
     ]
    }
   ],
   "source": [
    "special_nums = [2.718, 1729, 0.577, 1.618, 28, 3.14, 6,  37]\n",
    "special_nums_tuple = tuple(special_nums)\n",
    "print(special_nums_tuple)\n",
    "print(type(special_nums))\n",
    "print()\n",
    "txt = 'Hello, Python!'\n",
    "txt_tuple = tuple(txt)\n",
    "print(txt_tuple)\n",
    "print(type(txt))\n",
    "print()\n",
    "dictionary = {'A': 0.577, 'B': 2.718, 'C': 3.14}\n",
    "dictionary_tuple = tuple(dictionary)\n",
    "print(dictionary_tuple)\n",
    "print(type(dictionary))\n",
    "print()\n",
    "special_nums_set = {2.718, 1729, 0.577, 1.618, 28, 3.14, 6,  37}\n",
    "special_nums_tuple = tuple(special_nums_set)\n",
    "print(special_nums_tuple)\n",
    "print(type(special_nums_set))\n",
    "print()\n",
    "class SpecialNumbers:\n",
    "    euler_constant = 0.577\n",
    "    euler_number = 2.718\n",
    "    pi = 3.14\n",
    "    golden_ratio = 1.618\n",
    "    msg = 'These numbers are very special'\n",
    "    \n",
    "    def __init__(self, euler_constant, euler_number, pi, golden_ratio, msg):\n",
    "        self.euler_constant = euler_constant\n",
    "        self.euler_number = euler_number\n",
    "        self.pi = pi\n",
    "        self.golden_ratio = golden_ratio\n",
    "        self.msg = msg\n",
    "\n",
    "special_numbers = SpecialNumbers(0.577, 2.718, 3.14, 1.618, 'These numbers are very special.')\n",
    "print(type(special_numbers))"
   ]
  },
  {
   "cell_type": "markdown",
   "metadata": {},
   "source": [
    "### **vars()**\n",
    "The vars() function returns the __dict__ attribute of the given object."
   ]
  },
  {
   "cell_type": "code",
   "execution_count": 277,
   "metadata": {},
   "outputs": [
    {
     "name": "stdout",
     "output_type": "stream",
     "text": [
      "{'euler_constant': 0.577, 'euler_number': 2.718, 'pi': 3.14, 'golden_ratio': 1.618, 'msg': 'These numbers are very special.'}\n"
     ]
    }
   ],
   "source": [
    "class SpecialNumbers:\n",
    "    euler_constant = 0.577\n",
    "    euler_number = 2.718\n",
    "    pi = 3.14\n",
    "    golden_ratio = 1.618\n",
    "    msg = 'These numbers are very special'\n",
    "    \n",
    "    def __init__(self, euler_constant, euler_number, pi, golden_ratio, msg):\n",
    "        self.euler_constant = euler_constant\n",
    "        self.euler_number = euler_number\n",
    "        self.pi = pi\n",
    "        self.golden_ratio = golden_ratio\n",
    "        self.msg = msg\n",
    "\n",
    "special_numbers = SpecialNumbers(0.577, 2.718, 3.14, 1.618, 'These numbers are very special.')\n",
    "print(vars(special_numbers))"
   ]
  },
  {
   "cell_type": "markdown",
   "metadata": {},
   "source": [
    "### **zip()**\n",
    "It takes iterables (can be zero or more), aggregates them in a tuple, and returns it."
   ]
  },
  {
   "cell_type": "code",
   "execution_count": 283,
   "metadata": {},
   "outputs": [
    {
     "name": "stdout",
     "output_type": "stream",
     "text": [
      "[]\n",
      "{('Pi number', 3.14), ('Perfect number', 28), ('Euler number', 2.718), ('Euler constant', 0.577), ('Ramanujan-Hardy number', 1729), ('Golden ratio', 1.618), ('Prime number', 37)}\n"
     ]
    }
   ],
   "source": [
    "special_nums = [2.718, 1729, 0.577, 1.618, 28, 3.14,  37]\n",
    "special_nums_name = ['Euler number', 'Ramanujan-Hardy number', 'Euler constant', 'Golden ratio', 'Perfect number', 'Pi number', 'Prime number']\n",
    "output = zip()\n",
    "output_list = list(output)\n",
    "print(output_list)\n",
    "reel_output = zip(special_nums_name, special_nums)\n",
    "reel_output_set = set(reel_output)\n",
    "print(reel_output_set)"
   ]
  },
  {
   "cell_type": "markdown",
   "metadata": {},
   "source": [
    "### **super()**\n",
    "Returns a proxy object (temporary object of the superclass) that allows us to access methods of the base class."
   ]
  },
  {
   "cell_type": "code",
   "execution_count": 292,
   "metadata": {},
   "outputs": [
    {
     "name": "stdout",
     "output_type": "stream",
     "text": [
      "6 and 28 are perfect numbers.\n",
      "These numbers are very special in mathematik.\n"
     ]
    }
   ],
   "source": [
    "class SpecialNumbers(object):\n",
    "    def __init__(self, special_numbers):\n",
    "        print('6 and 28 are', special_numbers)\n",
    "\n",
    "class PerfectNumbers(SpecialNumbers): \n",
    "    def __init__(self):\n",
    "        \n",
    "        # call superclass\n",
    "        super().__init__('perfect numbers.')\n",
    "        print('These numbers are very special in mathematik.')\n",
    "\n",
    "nums = PerfectNumbers()"
   ]
  },
  {
   "cell_type": "code",
   "execution_count": 294,
   "metadata": {},
   "outputs": [
    {
     "name": "stdout",
     "output_type": "stream",
     "text": [
      "Cow gives us milk.\n",
      "Cow lives in a farm.\n"
     ]
    }
   ],
   "source": [
    "class Animal(object):\n",
    "    def __init__(self, AnimalName):\n",
    "        print(AnimalName, 'lives in a farm.')\n",
    "    \n",
    "class Cow(Animal):\n",
    "    def __init__(self):\n",
    "        print('Cow gives us milk.')\n",
    "        super().__init__('Cow')\n",
    "    \n",
    "result = Cow()"
   ]
  },
  {
   "cell_type": "markdown",
   "metadata": {},
   "source": [
    "### **__import__()**\n",
    "It is a function that is called by the import statement."
   ]
  },
  {
   "cell_type": "code",
   "execution_count": 303,
   "metadata": {},
   "outputs": [
    {
     "name": "stdout",
     "output_type": "stream",
     "text": [
      "3.14\n",
      "2.718\n",
      "64.0\n",
      "0.006737946999085467\n",
      "0.999896315728952\n",
      "720\n"
     ]
    }
   ],
   "source": [
    "math = __import__('math', globals(), locals(), [], 0)\n",
    "print(math.fabs(3.14))\n",
    "print(math.fabs(-2.718))\n",
    "print(math.pow(4, 3))\n",
    "print(math.exp(-5))\n",
    "print(math.log(2.718))\n",
    "print(math.factorial(6))"
   ]
  },
  {
   "cell_type": "code",
   "execution_count": 304,
   "metadata": {},
   "outputs": [
    {
     "name": "stdout",
     "output_type": "stream",
     "text": [
      "3.14\n",
      "2.718\n",
      "64.0\n",
      "0.006737946999085467\n",
      "0.999896315728952\n",
      "720\n"
     ]
    }
   ],
   "source": [
    "import math\n",
    "print(math.fabs(3.14))\n",
    "print(math.fabs(-2.718))\n",
    "print(math.pow(4, 3))\n",
    "print(math.exp(-5))\n",
    "print(math.log(2.718))\n",
    "print(math.factorial(6))"
   ]
  }
 ],
 "metadata": {
  "interpreter": {
   "hash": "b7377f19eab4b8c2e19b4d5b732c435591579d0f123dd21b146d33dfd161e508"
  },
  "kernelspec": {
   "display_name": "Python 3 (ipykernel)",
   "language": "python",
   "name": "python3"
  },
  "language_info": {
   "codemirror_mode": {
    "name": "ipython",
    "version": 3
   },
   "file_extension": ".py",
   "mimetype": "text/x-python",
   "name": "python",
   "nbconvert_exporter": "python",
   "pygments_lexer": "ipython3",
   "version": "3.9.7"
  }
 },
 "nbformat": 4,
 "nbformat_minor": 2
}
