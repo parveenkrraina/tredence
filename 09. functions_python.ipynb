{
 "cells": [
  {
   "cell_type": "markdown",
   "metadata": {},
   "source": [
    "# Python Tutorial"
   ]
  },
  {
   "cell_type": "markdown",
   "metadata": {},
   "source": [
    "## 9. Functions in Python\n",
    "\n",
    "* In Python, a **function** is a group of related statements that performs a specific task.\n",
    "* **Functions** help break our program into smaller and modular chunks. * As our program grows larger and larger, **functions** make it more organized and manageable.\n",
    "* Furthermore, it avoids repetition and makes the code reusable.\n",
    "* There are two types of functions:\n",
    "<ul>\n",
    "<li>Pre-defined functions</li>\n",
    "<li>User defined functions</li>\n",
    "</ul>\n",
    "\n",
    "* In Python a **function** is defined using the **def** keyword followed by the function **name** and parentheses **()**.\n",
    "* Keyword **def** that marks the start of the function header.\n",
    "* A **function** name to uniquely identify the **function**. \n",
    "* **Function** naming follows the same rules of writing identifiers in Python.\n",
    "* Parameters (arguments) through which we pass values to a **function**. They are optional.\n",
    "* A **colon (:)** to mark the end of the **function** header.\n",
    "* Optional documentation string (docstring) to describe what the **function** does.\n",
    "* One or more valid python statements that make up the **function** body. \n",
    "* Statements must have the same indentation level (usually 4 spaces).\n",
    "* An optional return statement to return a value from the **function**."
   ]
  },
  {
   "cell_type": "markdown",
   "metadata": {},
   "source": [
    "<img src=\"https://www.learnbyexample.org/wp-content/uploads/python/Python-Function-Syntax.png\" width=\"500\" alt=\"try/except syntax\"  />"
   ]
  },
  {
   "cell_type": "code",
   "execution_count": 9,
   "metadata": {},
   "outputs": [
    {
     "name": "stdout",
     "output_type": "stream",
     "text": [
      "If you make the above operations with 5, the results will be -3, 13, 40, 0.625, 5, 0.\n"
     ]
    },
    {
     "data": {
      "text/plain": [
       "(-3, 13, 40, 0.625, 5, 0)"
      ]
     },
     "execution_count": 9,
     "metadata": {},
     "output_type": "execute_result"
    }
   ],
   "source": [
    "# Take a function sample\n",
    "# Mathematical operations in a function\n",
    "\n",
    "def process(x):\n",
    "    y1 = x-8\n",
    "    y2 = x+8\n",
    "    y3 = x*8\n",
    "    y4 = x/8\n",
    "    y5 = x%8\n",
    "    y6 = x//8\n",
    "    print(f'If you make the above operations with {x}, the results will be {y1}, {y2}, {y3}, {y4}, {y5}, {y6}.')\n",
    "    return y1, y2, y3, y4, y5, y6\n",
    "\n",
    "process(5)"
   ]
  },
  {
   "cell_type": "markdown",
   "metadata": {},
   "source": [
    "### You can request help using **help()** function"
   ]
  },
  {
   "cell_type": "code",
   "execution_count": 10,
   "metadata": {},
   "outputs": [
    {
     "name": "stdout",
     "output_type": "stream",
     "text": [
      "Help on function process in module __main__:\n",
      "\n",
      "process(x)\n",
      "\n"
     ]
    }
   ],
   "source": [
    "help(process)"
   ]
  },
  {
   "cell_type": "markdown",
   "metadata": {},
   "source": [
    "### Call the function again with the number 3.14"
   ]
  },
  {
   "cell_type": "code",
   "execution_count": 11,
   "metadata": {},
   "outputs": [
    {
     "name": "stdout",
     "output_type": "stream",
     "text": [
      "If you make the above operations with 3.14, the results will be -4.859999999999999, 11.14, 25.12, 0.3925, 3.14, 0.0.\n"
     ]
    },
    {
     "data": {
      "text/plain": [
       "(-4.859999999999999, 11.14, 25.12, 0.3925, 3.14, 0.0)"
      ]
     },
     "execution_count": 11,
     "metadata": {},
     "output_type": "execute_result"
    }
   ],
   "source": [
    "process(3.14)"
   ]
  },
  {
   "cell_type": "markdown",
   "metadata": {},
   "source": [
    "### Functions with **multiple** parameters"
   ]
  },
  {
   "cell_type": "code",
   "execution_count": 2,
   "metadata": {},
   "outputs": [
    {
     "name": "stdout",
     "output_type": "stream",
     "text": [
      "59.370000000000005\n",
      "59.370000000000005\n"
     ]
    },
    {
     "data": {
      "text/plain": [
       "59.370000000000005"
      ]
     },
     "execution_count": 2,
     "metadata": {},
     "output_type": "execute_result"
    }
   ],
   "source": [
    "# Define a function with multiple elements\n",
    "def mult(x, y):\n",
    "    z = 2*x + 5*y + 45\n",
    "    return z\n",
    "\n",
    "output = mult(3.14, 1.618)      # You can yield the output by assigning to a variable\n",
    "print(output)\n",
    "print(mult(3.14, 1.618))       # You can obtain the result directly\n",
    "mult(3.14, 1.618)                # This is also another version"
   ]
  },
  {
   "cell_type": "code",
   "execution_count": 20,
   "metadata": {},
   "outputs": [
    {
     "name": "stdout",
     "output_type": "stream",
     "text": [
      "265\n"
     ]
    }
   ],
   "source": [
    "# Call again the defined function with different arguments\n",
    "print(mult(25, 34))"
   ]
  },
  {
   "cell_type": "markdown",
   "metadata": {},
   "source": [
    "### Variables\n",
    "* The input to a function is called a **formal parameter**.\n",
    "* A **variable** that is declared inside a function is called a  **local variable**. \n",
    "* The parameter only exists within the function (i.e. the point where the function starts and stops).\n",
    "* A **variable** that is declared outside a function definition is a **global variable**, and its value is accessible and modifiable throughout the program. "
   ]
  },
  {
   "cell_type": "code",
   "execution_count": 5,
   "metadata": {},
   "outputs": [
    {
     "name": "stdout",
     "output_type": "stream",
     "text": [
      "If you make the above operations with 1.618, the results will be 9.934520000000001.\n",
      "9.934520000000001\n"
     ]
    }
   ],
   "source": [
    "# Define a function\n",
    "def function(x):\n",
    "    \n",
    "    # Take a local variable\n",
    "    y = 3.14\n",
    "    z = 3*x + 1.618*y\n",
    "    print(f'If you make the above operations with {x}, the results will be {z}.')\n",
    "    return z\n",
    "\n",
    "with_golden_ratio = function(1.618)\n",
    "print(with_golden_ratio)"
   ]
  },
  {
   "cell_type": "code",
   "execution_count": 8,
   "metadata": {},
   "outputs": [
    {
     "name": "stdout",
     "output_type": "stream",
     "text": [
      "If you make the above operations with 3.14, the results will be 14.500520000000002.\n",
      "14.500520000000002\n"
     ]
    }
   ],
   "source": [
    "# It starts the gloabal variable\n",
    "a = 3.14\n",
    "\n",
    "# call function and return function\n",
    "y = function(a)\n",
    "print(y)"
   ]
  },
  {
   "cell_type": "code",
   "execution_count": 9,
   "metadata": {},
   "outputs": [
    {
     "name": "stdout",
     "output_type": "stream",
     "text": [
      "If you make the above operations with 2.718, the results will be 13.23452.\n"
     ]
    },
    {
     "data": {
      "text/plain": [
       "13.23452"
      ]
     },
     "execution_count": 9,
     "metadata": {},
     "output_type": "execute_result"
    }
   ],
   "source": [
    "# Enter a number directly as a parameter\n",
    "function(2.718)"
   ]
  },
  {
   "cell_type": "markdown",
   "metadata": {},
   "source": [
    "#### Without **return** statement, the function returns **None**"
   ]
  },
  {
   "cell_type": "code",
   "execution_count": 10,
   "metadata": {},
   "outputs": [
    {
     "name": "stdout",
     "output_type": "stream",
     "text": [
      "Hello, Python!\n",
      "Hello, World!\n"
     ]
    }
   ],
   "source": [
    "# Define a function with and without return statement\n",
    "def msg1():\n",
    "    print('Hello, Python!')\n",
    "\n",
    "def msg2():\n",
    "    print('Hello, World!')\n",
    "    return None\n",
    "\n",
    "msg1()\n",
    "msg2()"
   ]
  },
  {
   "cell_type": "code",
   "execution_count": 15,
   "metadata": {},
   "outputs": [
    {
     "name": "stdout",
     "output_type": "stream",
     "text": [
      "Hello, Python!\n",
      "None\n",
      "Hello, World!\n",
      "None\n"
     ]
    }
   ],
   "source": [
    "# Printing the function after a call indicates a None is the default return statement.\n",
    "# See the following prontings what functions returns are.\n",
    "\n",
    "print(msg1())\n",
    "print(msg2())"
   ]
  },
  {
   "cell_type": "markdown",
   "metadata": {},
   "source": [
    "#### Concatetantion of two strings"
   ]
  },
  {
   "cell_type": "code",
   "execution_count": 18,
   "metadata": {},
   "outputs": [
    {
     "data": {
      "text/plain": [
       "'Hello Python'"
      ]
     },
     "execution_count": 18,
     "metadata": {},
     "output_type": "execute_result"
    }
   ],
   "source": [
    "# Define a function\n",
    "def  strings(x, y):\n",
    "    return x + y\n",
    "\n",
    "# Testing the function 'strings(x, y)'\n",
    "strings('Hello', ' ' 'Python')"
   ]
  },
  {
   "cell_type": "markdown",
   "metadata": {},
   "source": [
    "#### Simplicity of functions"
   ]
  },
  {
   "cell_type": "code",
   "execution_count": 26,
   "metadata": {},
   "outputs": [
    {
     "data": {
      "text/plain": [
       "37"
      ]
     },
     "execution_count": 26,
     "metadata": {},
     "output_type": "execute_result"
    }
   ],
   "source": [
    "# The following codes are not used again.\n",
    "x = 2.718\n",
    "y = 0.577\n",
    "equation = x*y + x+y - 37\n",
    "if equation>0:\n",
    "    equation = 6\n",
    "else: equation = 37\n",
    "\n",
    "equation"
   ]
  },
  {
   "cell_type": "code",
   "execution_count": 27,
   "metadata": {},
   "outputs": [
    {
     "data": {
      "text/plain": [
       "0"
      ]
     },
     "execution_count": 27,
     "metadata": {},
     "output_type": "execute_result"
    }
   ],
   "source": [
    "# The following codes are not used again.\n",
    "x = 0\n",
    "y = 0\n",
    "equation = x*y + x+y - 37\n",
    "if equation<0:\n",
    "    equation = 0\n",
    "else: equation = 37\n",
    "\n",
    "equation"
   ]
  },
  {
   "cell_type": "code",
   "execution_count": 28,
   "metadata": {},
   "outputs": [
    {
     "data": {
      "text/plain": [
       "37"
      ]
     },
     "execution_count": 28,
     "metadata": {},
     "output_type": "execute_result"
    }
   ],
   "source": [
    "# The following codes can be write as a function.\n",
    "def function(x, y):\n",
    "    equation = x*y + x+y - 37\n",
    "    if equation>0:\n",
    "         equation = 6\n",
    "    else: equation = 37\n",
    "    return equation\n",
    "\n",
    "x = 2.718\n",
    "y = 0.577\n",
    "function(x, y)"
   ]
  },
  {
   "cell_type": "code",
   "execution_count": 29,
   "metadata": {},
   "outputs": [
    {
     "data": {
      "text/plain": [
       "6"
      ]
     },
     "execution_count": 29,
     "metadata": {},
     "output_type": "execute_result"
    }
   ],
   "source": [
    "# The following codes can be write as a function.\n",
    "def function(x, y):\n",
    "    equation = x*y + x+y - 37\n",
    "    if equation<0:\n",
    "         equation = 6\n",
    "    else: equation = 37\n",
    "    return equation\n",
    "\n",
    "x = 0\n",
    "y = 0\n",
    "function(x, y)"
   ]
  },
  {
   "cell_type": "markdown",
   "metadata": {},
   "source": [
    "#### Predefined functions like **print(), sum(), len(), min(), max(), input()**"
   ]
  },
  {
   "cell_type": "code",
   "execution_count": 31,
   "metadata": {},
   "outputs": [
    {
     "name": "stdout",
     "output_type": "stream",
     "text": [
      "[0.577, 2.718, 3.14, 1.618, 1729, 6, 28, 37]\n"
     ]
    }
   ],
   "source": [
    "# print() is a built-in function \n",
    "special_numbers = [0.577, 2.718, 3.14, 1.618, 1729, 6, 28, 37]\n",
    "print(special_numbers)"
   ]
  },
  {
   "cell_type": "code",
   "execution_count": 32,
   "metadata": {},
   "outputs": [
    {
     "data": {
      "text/plain": [
       "1808.053"
      ]
     },
     "execution_count": 32,
     "metadata": {},
     "output_type": "execute_result"
    }
   ],
   "source": [
    "# The function sum() add all elements in a list or a tuple\n",
    "sum(special_numbers)"
   ]
  },
  {
   "cell_type": "code",
   "execution_count": 33,
   "metadata": {},
   "outputs": [
    {
     "data": {
      "text/plain": [
       "8"
      ]
     },
     "execution_count": 33,
     "metadata": {},
     "output_type": "execute_result"
    }
   ],
   "source": [
    "# The function len() gives us the length of the list or tuple\n",
    "len(special_numbers)"
   ]
  },
  {
   "cell_type": "markdown",
   "metadata": {},
   "source": [
    "#### Using conditions and loops in functions"
   ]
  },
  {
   "cell_type": "code",
   "execution_count": 44,
   "metadata": {},
   "outputs": [
    {
     "name": "stdout",
     "output_type": "stream",
     "text": [
      "Aspergillus niger molasses inulinase 1800\n",
      "The fermentation process was successful with the inulinase activity of 1800 U/mL from molasses using Aspergillus niger.\n",
      "\n",
      "Aspergillus niger molasses inulinase 785\n",
      "The fermentation process was unsuccessful with the inulinase activity of 785 U/mL from molasses using Aspergillus niger. You should repeat the fermentation process.\n"
     ]
    }
   ],
   "source": [
    "# Define a function including conditions if/else\n",
    "\n",
    "def fermentation(microorganism, substrate, product, activity):\n",
    "    print(microorganism, substrate, product, activity)\n",
    "    if activity < 1000:\n",
    "        return f'The fermentation process was unsuccessful with the {product} activity of {activity} U/mL from {substrate} using {microorganism}. You should repeat the fermentation process.'\n",
    "    else:\n",
    "        return f'The fermentation process was successful with the {product} activity of {activity} U/mL from {substrate} using {microorganism}.'\n",
    "\n",
    "result1 = fermentation('Aspergillus niger', 'molasses', 'inulinase', 1800)\n",
    "print(result1)\n",
    "print()\n",
    "result2 = fermentation('Aspergillus niger', 'molasses', 'inulinase', 785)\n",
    "print(result2)\n"
   ]
  },
  {
   "cell_type": "code",
   "execution_count": 50,
   "metadata": {},
   "outputs": [
    {
     "name": "stdout",
     "output_type": "stream",
     "text": [
      "Stirred-tank bioreactor\n",
      "30°C temperature\n",
      "200 rpm agitation speed\n",
      "1 vvm aeration\n",
      "1% (v/v) inoculum ratio\n",
      "pH control at 5.0\n"
     ]
    }
   ],
   "source": [
    "# Define a function using the loop 'for'\n",
    "\n",
    "def fermentation(content):\n",
    "    for parameters in content:\n",
    "        print(parameters)\n",
    "\n",
    "content = ['Stirred-tank bioreactor' ,'30°C temperature', '200 rpm agitation speed', '1 vvm aeration', '1% (v/v) inoculum ratio', 'pH control at 5.0', ]\n",
    "fermentation(content)"
   ]
  },
  {
   "cell_type": "markdown",
   "metadata": {},
   "source": [
    "#### Adjustiing default values of independent variables in functions"
   ]
  },
  {
   "cell_type": "code",
   "execution_count": 53,
   "metadata": {},
   "outputs": [
    {
     "name": "stdout",
     "output_type": "stream",
     "text": [
      "You should not watch this film with the rating value of 5.5\n",
      "You should watch this film with the rating value of 8.6\n"
     ]
    }
   ],
   "source": [
    "# Define a function adjusting the default value of the variable\n",
    "\n",
    "def rating_value(rating = 5.5):\n",
    "    if rating < 8:\n",
    "        return f'You should not watch this film with the rating value of {rating}'\n",
    "    else:\n",
    "        return f'You should watch this film with the rating value of {rating}'\n",
    "\n",
    "print(rating_value())\n",
    "print(rating_value(8.6))"
   ]
  },
  {
   "cell_type": "markdown",
   "metadata": {},
   "source": [
    "#### Global variables\n",
    "\n",
    "* Variables that are created outside of a function (as in all of the examples above) are known as global variables. \n",
    "* Global variables can be used by everyone, both inside of functions and outside."
   ]
  },
  {
   "cell_type": "code",
   "execution_count": 56,
   "metadata": {},
   "outputs": [
    {
     "name": "stdout",
     "output_type": "stream",
     "text": [
      "Python is a program language.\n"
     ]
    },
    {
     "ename": "NameError",
     "evalue": "name 'global_var' is not defined",
     "output_type": "error",
     "traceback": [
      "\u001b[1;31m---------------------------------------------------------------------------\u001b[0m",
      "\u001b[1;31mNameError\u001b[0m                                 Traceback (most recent call last)",
      "\u001b[1;32m~\\AppData\\Local\\Temp/ipykernel_21468/4270999454.py\u001b[0m in \u001b[0;36m<module>\u001b[1;34m\u001b[0m\n\u001b[0;32m      7\u001b[0m \u001b[1;33m\u001b[0m\u001b[0m\n\u001b[0;32m      8\u001b[0m \u001b[0mlang\u001b[0m\u001b[1;33m(\u001b[0m\u001b[0mlanguage\u001b[0m\u001b[1;33m)\u001b[0m\u001b[1;33m\u001b[0m\u001b[1;33m\u001b[0m\u001b[0m\n\u001b[1;32m----> 9\u001b[1;33m \u001b[0mlang\u001b[0m\u001b[1;33m(\u001b[0m\u001b[0mglobal_var\u001b[0m\u001b[1;33m)\u001b[0m\u001b[1;33m\u001b[0m\u001b[1;33m\u001b[0m\u001b[0m\n\u001b[0m",
      "\u001b[1;31mNameError\u001b[0m: name 'global_var' is not defined"
     ]
    }
   ],
   "source": [
    "# Define a function for a global variable\n",
    "language = 'Python'\n",
    "\n",
    "def lang(language):\n",
    "    global_var = language\n",
    "    print(f'{language} is a program language.')\n",
    "\n",
    "lang(language)\n",
    "lang(global_var)\n",
    "\n",
    "\"\"\"\n",
    "The output gives a NameError, since all variables in the function are local variables, \n",
    "so variable assignment is not persistent outside the function.\n",
    "\"\"\""
   ]
  },
  {
   "cell_type": "code",
   "execution_count": 58,
   "metadata": {},
   "outputs": [
    {
     "name": "stdout",
     "output_type": "stream",
     "text": [
      "JavaScript is a programing language.\n",
      "Python is a programing language.\n"
     ]
    }
   ],
   "source": [
    "# Define a function for a global variable\n",
    "language = 'JavaScript'\n",
    "\n",
    "def lang(language):\n",
    "    global global_var\n",
    "    global_var = 'Python'\n",
    "    print(f'{language} is a programing language.')\n",
    "\n",
    "lang(language)\n",
    "lang(global_var)"
   ]
  },
  {
   "cell_type": "markdown",
   "metadata": {},
   "source": [
    "#### Variables in functions\n",
    "* The scope of a variable is the part of the program to which that variable is accessible.\n",
    "* Variables declared outside of all function definitions can be accessed from anywhere in the program.\n",
    "* Consequently, such variables are said to have global scope and are known as global variables."
   ]
  },
  {
   "cell_type": "code",
   "execution_count": 76,
   "metadata": {},
   "outputs": [
    {
     "name": "stdout",
     "output_type": "stream",
     "text": [
      "The productiovity in continuous fermentation is 0.5 g/L/h.\n",
      "The productiovity in batch fermentation is 0.25 g/L/h.\n",
      "Continuous fermentation has many advantages over batch fermentation.\n",
      "My favourite process is Continuous fermentation.\n"
     ]
    }
   ],
   "source": [
    "process = 'Continuous fermentation'\n",
    "\n",
    "def fermentation(process_name):\n",
    "    if process_name == process:\n",
    "        return '0.5 g/L/h.'\n",
    "    else:\n",
    "        return '0.25 g/L/h.'\n",
    "\n",
    "print('The productiovity in continuous fermentation is', fermentation('Continuous fermentation'))\n",
    "print('The productiovity in batch fermentation is', fermentation('Batch fermentation'))\n",
    "print('Continuous fermentation has many advantages over batch fermentation.')\n",
    "print(f'My favourite process is {process}.')"
   ]
  },
  {
   "cell_type": "code",
   "execution_count": 77,
   "metadata": {},
   "outputs": [
    {
     "name": "stdout",
     "output_type": "stream",
     "text": [
      "The productiovity in continuous fermentation is 0.5 g/L/h.\n",
      "The productiovity in batch fermentation is 0.25 g/L/h.\n",
      "Continuous fermentation has many advantages over batch fermentation.\n"
     ]
    },
    {
     "ename": "NameError",
     "evalue": "name 'process' is not defined",
     "output_type": "error",
     "traceback": [
      "\u001b[1;31m---------------------------------------------------------------------------\u001b[0m",
      "\u001b[1;31mNameError\u001b[0m                                 Traceback (most recent call last)",
      "\u001b[1;32m~\\AppData\\Local\\Temp/ipykernel_21468/2006816728.py\u001b[0m in \u001b[0;36m<module>\u001b[1;34m\u001b[0m\n\u001b[0;32m     13\u001b[0m \u001b[0mprint\u001b[0m\u001b[1;33m(\u001b[0m\u001b[1;34m'The productiovity in batch fermentation is'\u001b[0m\u001b[1;33m,\u001b[0m \u001b[0mfermentation\u001b[0m\u001b[1;33m(\u001b[0m\u001b[1;34m'Batch fermentation'\u001b[0m\u001b[1;33m)\u001b[0m\u001b[1;33m)\u001b[0m\u001b[1;33m\u001b[0m\u001b[1;33m\u001b[0m\u001b[0m\n\u001b[0;32m     14\u001b[0m \u001b[0mprint\u001b[0m\u001b[1;33m(\u001b[0m\u001b[1;34m'Continuous fermentation has many advantages over batch fermentation.'\u001b[0m\u001b[1;33m)\u001b[0m\u001b[1;33m\u001b[0m\u001b[1;33m\u001b[0m\u001b[0m\n\u001b[1;32m---> 15\u001b[1;33m \u001b[0mprint\u001b[0m\u001b[1;33m(\u001b[0m\u001b[1;34mf'My favourite process is {process}.'\u001b[0m\u001b[1;33m)\u001b[0m\u001b[1;33m\u001b[0m\u001b[1;33m\u001b[0m\u001b[0m\n\u001b[0m",
      "\u001b[1;31mNameError\u001b[0m: name 'process' is not defined"
     ]
    }
   ],
   "source": [
    "# If the variable 'process' is deleted, it returns a NameError as follows\n",
    "del process\n",
    "\n",
    "# Since the variable 'process' is deleted, the following function is an example of local variable\n",
    "def fermentation(process_name):\n",
    "    process = 'Continuous fermentation'\n",
    "    if process_name == process:\n",
    "        return '0.5 g/L/h.'\n",
    "    else:\n",
    "        return '0.25 g/L/h.'\n",
    "\n",
    "print('The productiovity in continuous fermentation is', fermentation('Continuous fermentation'))\n",
    "print('The productiovity in batch fermentation is', fermentation('Batch fermentation'))\n",
    "print('Continuous fermentation has many advantages over batch fermentation.')\n",
    "print(f'My favourite process is {process}.')"
   ]
  },
  {
   "cell_type": "code",
   "execution_count": 81,
   "metadata": {},
   "outputs": [
    {
     "name": "stdout",
     "output_type": "stream",
     "text": [
      "The productiovity in continuous fermentation is 0.25 g/L/h.\n",
      "The productiovity in batch fermentation is 0.5 g/L/h.\n",
      "My favourite process is Continuous fermentation.\n"
     ]
    }
   ],
   "source": [
    "# When the global variable and local variable have the same name:\n",
    "\n",
    "process = 'Continuous fermentation'\n",
    "\n",
    "def fermentation(process_name):\n",
    "    process = 'Batch fermentation'\n",
    "    if process_name == process:\n",
    "        return '0.5 g/L/h.'\n",
    "    else:\n",
    "        return '0.25 g/L/h.'\n",
    "\n",
    "print('The productiovity in continuous fermentation is', fermentation('Continuous fermentation'))\n",
    "print('The productiovity in batch fermentation is', fermentation('Batch fermentation'))\n",
    "print(f'My favourite process is {process}.')"
   ]
  },
  {
   "cell_type": "markdown",
   "metadata": {},
   "source": [
    "#### (*args) and/or (**args)  and Functions\n",
    "\n",
    "When the number of arguments are unkknown for a function, then the arguments can be packet into a tuple or a dictionary"
   ]
  },
  {
   "cell_type": "code",
   "execution_count": 84,
   "metadata": {},
   "outputs": [
    {
     "name": "stdout",
     "output_type": "stream",
     "text": [
      "Number of elements is 4\n",
      "Aspergillus niger\n",
      "inulinase\n",
      "batch\n",
      "1800 U/mL activity\n",
      "\n",
      "Number of elements is 5\n",
      "Saccharomyces cerevisia\n",
      "ethanol\n",
      "continuous\n",
      "45% yield\n",
      "carob\n"
     ]
    }
   ],
   "source": [
    "# Define a function regarding a tuple example\n",
    "def function(*args):\n",
    "    print('Number of elements is', len(args))\n",
    "    for element in args:\n",
    "        print(element)\n",
    "\n",
    "function('Aspergillus niger', 'inulinase', 'batch', '1800 U/mL activity')\n",
    "print()\n",
    "function('Saccharomyces cerevisia', 'ethanol', 'continuous', '45% yield', 'carob')\n"
   ]
  },
  {
   "cell_type": "code",
   "execution_count": 98,
   "metadata": {},
   "outputs": [
    {
     "name": "stdout",
     "output_type": "stream",
     "text": [
      "The total of the numbers is 1780.053\n"
     ]
    }
   ],
   "source": [
    "# Another example regarding 'args'\n",
    "def total(*args):\n",
    "    total = 0\n",
    "    for i in args:\n",
    "        total += i\n",
    "    return total\n",
    "\n",
    "print('The total of the numbers is', total(0.577, 2.718, 3.14, 1.618, 1729, 6, 37))"
   ]
  },
  {
   "cell_type": "code",
   "execution_count": 88,
   "metadata": {},
   "outputs": [
    {
     "name": "stdout",
     "output_type": "stream",
     "text": [
      "Micoorganism : Aspergillus niger\n",
      "Substrate : Molasses\n",
      "Product : Inulinase\n",
      "Fermentation_mode : Batch\n",
      "Activity : 1800 U/mL\n"
     ]
    }
   ],
   "source": [
    "# Define a function regarding a dictionary example\n",
    "def function(**args):\n",
    "    for key in args:\n",
    "        print(key, ':', args[key])\n",
    "\n",
    "function(Micoorganism='Aspergillus niger', Substrate='Molasses', Product='Inulinase', Fermentation_mode='Batch', Activity='1800 U/mL')"
   ]
  },
  {
   "cell_type": "code",
   "execution_count": 96,
   "metadata": {},
   "outputs": [
    {
     "name": "stdout",
     "output_type": "stream",
     "text": [
      "[0.577, 2.718, 3.14, 1.618, 1729, 6, 37]\n",
      "1780.053\n",
      "0.577\n",
      "1729\n",
      "7\n"
     ]
    }
   ],
   "source": [
    "# Define a function regarding the addition of elements into a list\n",
    "def addition(nlist):\n",
    "    nlist.append(3.14)\n",
    "    nlist.append(1.618)\n",
    "    nlist.append(1729)\n",
    "    nlist.append(6)\n",
    "    nlist.append(37)\n",
    "\n",
    "my_list= [0.577, 2.718]\n",
    "addition(my_list)\n",
    "print(my_list)\n",
    "print(sum(my_list))\n",
    "print(min(my_list))\n",
    "print(max(my_list))\n",
    "print(len(my_list))"
   ]
  },
  {
   "cell_type": "markdown",
   "metadata": {},
   "source": [
    "#### Doctsting in Functions"
   ]
  },
  {
   "cell_type": "code",
   "execution_count": 97,
   "metadata": {},
   "outputs": [
    {
     "name": "stdout",
     "output_type": "stream",
     "text": [
      "The following function returns the sum of two parameters.\n",
      "5.8580000000000005\n"
     ]
    }
   ],
   "source": [
    "# Define a function\n",
    "def addition(x, y):\n",
    "    \"\"\"The following function returns the sum of two parameters.\"\"\"\n",
    "    z = x+y\n",
    "    return z\n",
    "\n",
    "print(addition.__doc__)\n",
    "print(addition(3.14, 2.718))"
   ]
  },
  {
   "cell_type": "markdown",
   "metadata": {},
   "source": [
    "#### Recursive functions"
   ]
  },
  {
   "cell_type": "code",
   "execution_count": 103,
   "metadata": {},
   "outputs": [
    {
     "name": "stdout",
     "output_type": "stream",
     "text": [
      "The value is 720\n"
     ]
    }
   ],
   "source": [
    "# Calculating the factorial of a certain number.\n",
    "\n",
    "def factorial(number):\n",
    "    if number == 0:\n",
    "        return 1\n",
    "    else:\n",
    "        return number*factorial(number-1)\n",
    "\n",
    "print('The value is', factorial(6))"
   ]
  },
  {
   "cell_type": "code",
   "execution_count": 107,
   "metadata": {},
   "outputs": [
    {
     "name": "stdout",
     "output_type": "stream",
     "text": [
      "The total of first ten numbers is 55\n"
     ]
    }
   ],
   "source": [
    "# Define a function that gives the total of the first ten numbers\n",
    "def total_numbers(number, sum):\n",
    "    if number == 11:\n",
    "        return sum\n",
    "    else:\n",
    "        return total_numbers(number+1, sum+number)\n",
    "\n",
    "print('The total of first ten numbers is', total_numbers(1, 0))"
   ]
  },
  {
   "cell_type": "markdown",
   "metadata": {},
   "source": [
    "#### Nested functions\n"
   ]
  },
  {
   "cell_type": "code",
   "execution_count": 111,
   "metadata": {},
   "outputs": [
    {
     "name": "stdout",
     "output_type": "stream",
     "text": [
      "25 ------->> 26\n"
     ]
    }
   ],
   "source": [
    "# Define a function that add a number to another number \n",
    "def added_num(num1):\n",
    "    def incremented_num(num1):\n",
    "        num1 = num1 + 1\n",
    "        return num1\n",
    "    num2 = incremented_num(num1)\n",
    "    print(num1, '------->>', num2)\n",
    "\n",
    "added_num(25)"
   ]
  },
  {
   "cell_type": "markdown",
   "metadata": {},
   "source": [
    "#### **nonlocal** function"
   ]
  },
  {
   "cell_type": "code",
   "execution_count": 112,
   "metadata": {},
   "outputs": [
    {
     "name": "stdout",
     "output_type": "stream",
     "text": [
      "Current year is 2022\n"
     ]
    }
   ],
   "source": [
    "# Define a function regarding 'nonlocal' function\n",
    "def print_year():\n",
    "    year = 1990\n",
    "    def print_current_year():\n",
    "        nonlocal year\n",
    "        year += 32\n",
    "        print('Current year is', year)\n",
    "    print_current_year()\n",
    "print_year()"
   ]
  },
  {
   "cell_type": "code",
   "execution_count": 117,
   "metadata": {},
   "outputs": [
    {
     "name": "stdout",
     "output_type": "stream",
     "text": [
      "Hi Mustafa\n"
     ]
    }
   ],
   "source": [
    "# Define a function giving a message\n",
    "def function(name):\n",
    "    msg = 'Hi ' + name\n",
    "    return msg\n",
    "\n",
    "name = input('Enter a name: ')\n",
    "print(function(name))"
   ]
  }
 ],
 "metadata": {
  "interpreter": {
   "hash": "b7377f19eab4b8c2e19b4d5b732c435591579d0f123dd21b146d33dfd161e508"
  },
  "kernelspec": {
   "display_name": "Python 3 (ipykernel)",
   "language": "python",
   "name": "python3"
  },
  "language_info": {
   "codemirror_mode": {
    "name": "ipython",
    "version": 3
   },
   "file_extension": ".py",
   "mimetype": "text/x-python",
   "name": "python",
   "nbconvert_exporter": "python",
   "pygments_lexer": "ipython3",
   "version": "3.10.0"
  }
 },
 "nbformat": 4,
 "nbformat_minor": 2
}
