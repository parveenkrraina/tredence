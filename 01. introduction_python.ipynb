{
 "cells": [
  {
   "cell_type": "markdown",
   "metadata": {},
   "source": [
    "# Python Tutorial"
   ]
  },
  {
   "cell_type": "markdown",
   "metadata": {},
   "source": [
    "## 1. Introduction to Python"
   ]
  },
  {
   "cell_type": "markdown",
   "metadata": {},
   "source": [
    "#### First code\n",
    "\n",
    "Each `print` function outputs the string provided to it and moves to the next line. This is a simple example of how Python can display text to the console."
   ]
  },
  {
   "cell_type": "code",
   "execution_count": null,
   "metadata": {},
   "outputs": [],
   "source": [
    "# First python output with 'Print' functions\n",
    "print('Hello World!')\n",
    "print('Hi, Python!')"
   ]
  },
  {
   "cell_type": "markdown",
   "metadata": {},
   "source": [
    "#### Version control\n",
    "**`sys.version`**:\n",
    "\n",
    "-   This will output a string that includes the version number of Python, the build number, and the compiler used.\n",
    "\n",
    "**`sys.winver`**:\n",
    "\n",
    "-   This will output the version number of the Python DLL on Windows platforms. On non-Windows platforms, this line will raise an `AttributeError` because `sys.winver` is specific to Windows.\n",
    "\n",
    "**`sys.gettrace`**:\n",
    "\n",
    "-   This will output the current debug trace function, if any. If no trace function is set, it will return `None`.\n",
    "\n",
    "**`sys.argv`**:\n",
    "\n",
    "-   This will output a list where the first element is the name of the script, and subsequent elements are the arguments passed to the script when it was run. If no arguments were passed, it will just show the script name.\n"
   ]
  },
  {
   "cell_type": "code",
   "execution_count": null,
   "metadata": {},
   "outputs": [],
   "source": [
    "# Python version check\n",
    "import sys\n",
    "print(sys.version)      # version control\n",
    "print(sys.winver)       # [Windows only] version number of the Python DLL\n",
    "print(sys.gettrace)     # get the global debug tracing function\n",
    "print(sys.argv)             # keeps the parameters used while running the program we wrote in a list.\n"
   ]
  },
  {
   "cell_type": "markdown",
   "metadata": {},
   "source": [
    "#### help() function\n",
    "The `help()` function in Python is a built-in function that provides the documentation for various Python objects, including modules, functions, classes, keywords, etc. When you use `help(sys)`, it will display the documentation for the sys module.\n",
    "\n",
    "\n",
    "### What to Expect\n",
    "\n",
    "When you run this code, Python will display a detailed description of the `sys` module. This includes information on:\n",
    "\n",
    "-   **Module Overview**: An introduction to what the `sys` module does.\n",
    "-   **Functions and Attributes**: A list of all functions and attributes within the `sys` module, with explanations.\n",
    "-   **Constants**: Any constants defined within the `sys` module.\n",
    "-   **Usage Examples**: Examples of how to use various functions or attributes within the `sys` module.\n",
    "\n",
    "The output will be quite long, covering everything the `sys` module offers. Here’s a brief snippet of what you might see:"
   ]
  },
  {
   "cell_type": "code",
   "execution_count": null,
   "metadata": {},
   "outputs": [],
   "source": [
    "# The Python help function is used to display the documentation of modules, functions, classes, keywords, etc.\n",
    "help(sys)       # here the module name is 'sys'"
   ]
  },
  {
   "cell_type": "markdown",
   "metadata": {},
   "source": [
    "#### Comment\n",
    "In Python, comments are used to add notes or explanations within your code, and they are ignored during the execution of the program. To write a comment, you use the # symbol. Everything following this symbol on the same line is considered a comment.\n",
    "\n",
    "\n",
    "### Explanation:\n",
    "\n",
    "1.  **`# This is a comment, and to write a comment, '#' symbol is used.`**:\n",
    "    \n",
    "    -   This is a comment. It is not executed and serves only as a note or explanation in the code.\n",
    "2.  **`print('Hello World!') # This line prints a string.`**:\n",
    "    \n",
    "    -   This line prints the string `'Hello World!'` to the console. The comment after it explains what the line does.\n",
    "3.  **`# Print 'Hello'`**:\n",
    "    \n",
    "    -   Another comment that describes the next line of code.\n",
    "4.  **`print('Hello')`**:\n",
    "    \n",
    "    -   This line prints the string `'Hello'` to the console."
   ]
  },
  {
   "cell_type": "code",
   "execution_count": null,
   "metadata": {},
   "outputs": [],
   "source": [
    "# This is a comment, and to write a comment, '#' symbol is used.\n",
    "print('Hello World!')       # This line prints a string.\n",
    "\n",
    "# Print 'Hello'\n",
    "print('Hello')"
   ]
  },
  {
   "cell_type": "markdown",
   "metadata": {},
   "source": [
    "#### Errors\n",
    "\n",
    "In Python, if you attempt to run a line of code with a typo, such as `frint('Hello, World!')` instead of `print('Hello, World!')`, Python will raise a `NameError` because `frint` is not recognized as a defined function or variable.\n",
    "\n",
    "### Expected Output:\n",
    "\n",
    "When you run this code, Python will produce an error message like this:\n",
    "\n",
    "`NameError: name 'frint' is not defined` \n",
    "\n",
    "This error occurs because Python is trying to execute a function called `frint`, but since no such function exists, it raises a `NameError`. This type of error occurs when you try to use a variable or function name that Python doesn't recognize.\n",
    "\n",
    "To fix the error, simply correct the typo:\n",
    "\n",
    "`print('Hello, World!')` \n",
    "\n",
    "Now the code will run correctly, and the output will be:\n",
    "`Hello, World!`"
   ]
  },
  {
   "cell_type": "code",
   "execution_count": null,
   "metadata": {},
   "outputs": [],
   "source": [
    "# Print string as error message\n",
    "frint('Hello, World!')"
   ]
  },
  {
   "cell_type": "markdown",
   "metadata": {},
   "source": [
    "\n",
    "In Python, if you have a syntax error in your code, such as a missing closing quotation mark or parenthesis, Python will raise a `SyntaxError`. Let's take a look at the example you've provided:\n",
    "\n",
    "`print('Hello, World!)` \n",
    "\n",
    "### What Happens:\n",
    "\n",
    "In this code, the closing quotation mark is missing before the closing parenthesis. Python expects a complete string, so it will raise a `SyntaxError`.\n",
    "\n",
    "### Expected Output:\n",
    "\n",
    "When you run this code, Python will produce an error message similar to the following:\n",
    "\n",
    "`SyntaxError: EOL while scanning string literal` \n",
    "\n",
    "### Explanation:\n",
    "\n",
    "-   **`SyntaxError`**: This indicates that there is an error in the syntax of your code. The code structure is not correct, so Python can't execute it.\n",
    "-   **`EOL while scanning string literal`**: This means \"End Of Line\" was reached while Python was still expecting the rest of the string. Python expected the closing quotation mark to finish the string, but it reached the end of the line instead.\n",
    "\n",
    "### Corrected Code:\n",
    "\n",
    "To fix the error, ensure that both quotation marks are included:\n",
    "\n",
    "`print('Hello, World!')` \n",
    "\n",
    "Now the code will run successfully, and the output will be:\n",
    "\n",
    "`Hello, World!` \n",
    "\n",
    "It's essential to match your quotation marks and parentheses correctly to avoid such syntax errors."
   ]
  },
  {
   "cell_type": "code",
   "execution_count": null,
   "metadata": {},
   "outputs": [],
   "source": [
    "# Built-in error message\n",
    "print('Hello, World!)"
   ]
  },
  {
   "cell_type": "markdown",
   "metadata": {},
   "source": [
    "\n",
    "When you run the code with both a valid `print` statement and an error, Python will execute the code line by line until it encounters the error. Once an error occurs, Python will stop executing the remaining lines of code. Here's how it will behave with your example:\n",
    "\n",
    "`print('This string is printed')\n",
    "frint('This gives an error message')\n",
    "print('This string will not be printed')` \n",
    "\n",
    "### Expected Output:\n",
    "\n",
    "1.  **`print('This string is printed')`**:\n",
    "    \n",
    "    -   This line is executed successfully, and it prints:\n",
    "        \n",
    "        `This string is printed` \n",
    "        \n",
    "2.  **`frint('This gives an error message')`**:\n",
    "    \n",
    "    -   This line contains a typo (`frint` instead of `print`), so Python raises a `NameError` because `frint` is not defined. The execution stops here, and Python will output something like:\n",
    "        \n",
    "        `NameError: name 'frint' is not defined` \n",
    "        \n",
    "3.  **`print('This string will not be printed')`**:\n",
    "    \n",
    "    -   This line is never reached because the program stops execution as soon as it encounters the `NameError` on the previous line. Therefore, this string will not be printed."
   ]
  },
  {
   "cell_type": "code",
   "execution_count": null,
   "metadata": {},
   "outputs": [],
   "source": [
    "# Print both string and error to see the running order\n",
    "print('This string is printed')\n",
    "frint('This gives an error message')\n",
    "print('This string will not be printed')"
   ]
  },
  {
   "cell_type": "markdown",
   "metadata": {},
   "source": [
    "#### Basic data types in Python"
   ]
  },
  {
   "cell_type": "markdown",
   "metadata": {},
   "source": [
    "<a align='center'>\n",
    "    <img src='https://files.realpython.com/media/Basic-Data-Types-in-Python_Watermarked.49e17138407b.jpg' width='600'>\n",
    "</a>"
   ]
  },
  {
   "cell_type": "code",
   "execution_count": null,
   "metadata": {},
   "outputs": [],
   "source": [
    "# String\n",
    "print(\"Hello, World!\")\n",
    "# Integer\n",
    "print(12)\n",
    "# Float\n",
    "print(3.14)\n",
    "# Boolean\n",
    "print(True)\n",
    "print(False)\n",
    "print(bool(1))      # Output = True\n",
    "print(bool(0))      # Output = False\n"
   ]
  },
  {
   "cell_type": "markdown",
   "metadata": {},
   "source": [
    "\n",
    "### Explanation and Expected Output:\n",
    "\n",
    "1.  **String**:\n",
    "      \n",
    "    `print(\"Hello, World!\")` \n",
    "    \n",
    "    -   This prints the string `\"Hello, World!\"`.\n",
    "    -   **Output**:       \n",
    "        `Hello, World!` \n",
    "        \n",
    "2.  **Integer**:\n",
    "\n",
    "    `print(12)` \n",
    "    \n",
    "    -   This prints the integer `12`.\n",
    "    -   **Output**:        \n",
    "        `12` \n",
    "        \n",
    "3.  **Float**:\n",
    "     \n",
    "    `print(3.14)` \n",
    "    \n",
    "    -   This prints the float `3.14`.\n",
    "    -   **Output**:\n",
    "        `3.14` \n",
    "        \n",
    "4.  **Boolean**:\n",
    "    \n",
    "    `print(True)`\n",
    "    `print(False)` \n",
    "    \n",
    "    -   These lines print the boolean values `True` and `False`.\n",
    "    -   **Output**:\n",
    "  \n",
    "        `True`\n",
    "        `False` \n",
    "        \n",
    "5.  **Boolean Conversion**:\n",
    "    \n",
    "    `print(bool(1))      # Output = True`\n",
    "    `print(bool(0))      # Output = False` \n",
    "    \n",
    "    -   `bool(1)` converts the integer `1` to `True` because any non-zero integer is considered `True` in Python.\n",
    "    -   `bool(0)` converts the integer `0` to `False` because zero is considered `False`.\n",
    "    -   **Output**:\n",
    "        \n",
    "    `True`\n",
    "    `False` \n",
    "        \n",
    "\n",
    "### Summary:\n",
    "\n",
    "When you run this code, the complete output will be:\n",
    "\n",
    "`Hello, World!`\n",
    "`12`\n",
    "`3.14`\n",
    "`True`\n",
    "`False`\n",
    "`True`\n",
    "`False` \n",
    "\n",
    "This demonstrates how Python handles different data types and how you can convert integers to booleans using the `bool()` function."
   ]
  },
  {
   "cell_type": "markdown",
   "metadata": {},
   "source": [
    "#### type() function\n",
    "\n",
    "Using the `type()` function to check and display the data types of various values in Python. The `type()` function returns the type of the object passed to it, allowing you to verify whether a value is a string, integer, float, or boolean."
   ]
  },
  {
   "cell_type": "code",
   "execution_count": null,
   "metadata": {},
   "outputs": [],
   "source": [
    "# String\n",
    "print(type('Hello, World!'))\n",
    "\n",
    "# Integer\n",
    "print(type(15))\n",
    "print(type(-24))\n",
    "print(type(0))\n",
    "print(type(1))\n",
    "\n",
    "# Float\n",
    "print(type(3.14))\n",
    "print(type(0.5))\n",
    "print(type(1.0))\n",
    "print(type(-5.0))\n",
    "\n",
    "# Boolean\n",
    "print(type(True))\n",
    "print(type(False))"
   ]
  },
  {
   "cell_type": "markdown",
   "metadata": {},
   "source": [
    "### Explanation and Expected Output:\n",
    "\n",
    "1.  **String**:\n",
    "    \n",
    "    `print(type('Hello, World!'))` \n",
    "    \n",
    "    -   This checks the type of the string `'Hello, World!'`.\n",
    "    -   **Output**:\n",
    "        \n",
    "        `<class 'str'>` \n",
    "        \n",
    "2.  **Integer**:\n",
    "    \n",
    "    `print(type(15))`\n",
    "   `print(type(-24))`\n",
    "`print(type(0))`\n",
    "`print(type(1))` \n",
    "    \n",
    "    -   These lines check the types of various integers (`15`, `-24`, `0`, `1`).\n",
    "    -   **Output**:\n",
    "           \n",
    "        `<class 'int'>`\n",
    "        `<class 'int'>`\n",
    "        `<class 'int'>`\n",
    "        `<class 'int'>` \n",
    "        \n",
    "3.  **Float**:\n",
    "    \n",
    "    `print(type(3.14))\n",
    "    print(type(0.5))\n",
    "    print(type(1.0))\n",
    "    print(type(-5.0))` \n",
    "    \n",
    "    -   These lines check the types of various floats (`3.14`, `0.5`, `1.0`, `-5.0`).\n",
    "    -   **Output**:\n",
    "        \n",
    "        `<class 'float'>`\n",
    "        `<class 'float'>`\n",
    "        `<class 'float'>`\n",
    "        `<class 'float'>` \n",
    "        \n",
    "4.  **Boolean**:\n",
    "   \n",
    "    `print(type(True))`\n",
    "   `print(type(False))` \n",
    "    \n",
    "    -   These lines check the types of boolean values `True` and `False`.\n",
    "    -   **Output**:\n",
    "\n",
    "        `<class 'bool'>`\n",
    "        `<class 'bool'>` \n",
    "        \n",
    "\n",
    "### Summary:\n",
    "\n",
    "When you run this code, the complete output will be:\n",
    "\n",
    "`<class 'str'>`\n",
    "`<class 'int'>`\n",
    "`<class 'int'>`\n",
    "`<class 'int'>`\n",
    "`<class 'int'>`\n",
    "`<class 'float'>`\n",
    "`<class 'float'>`\n",
    "`<class 'float'>`\n",
    "`<class 'float'>`\n",
    "`<class 'bool'>`\n",
    "`<class 'bool'>` \n",
    "\n",
    "This output confirms that the types of the values you tested are strings, integers, floats, and booleans, respectively. The `type()` function is a useful tool for checking the data type of any value in Python."
   ]
  },
  {
   "cell_type": "markdown",
   "metadata": {},
   "source": [
    "\n",
    "### sys\n",
    "The `sys.int_info` and `sys.float_info` attributes in Python provide detailed information about how integers and floating-point numbers are handled in the system. These attributes are part of the `sys` module, so you need to import `sys` before using them.\n"
   ]
  },
  {
   "cell_type": "code",
   "execution_count": null,
   "metadata": {},
   "outputs": [],
   "source": [
    "# to obtain the information about 'interger' and 'float'\n",
    "print(sys.int_info)\n",
    "print()                         # to add a space between two outputs, use 'print()' function\n",
    "print(sys.float_info)"
   ]
  },
  {
   "cell_type": "markdown",
   "metadata": {},
   "source": [
    "### Explanation and Expected Output:\n",
    "\n",
    "1.  **`sys.int_info`**:\n",
    "    \n",
    "    -   This attribute provides information about the integer implementation. It typically includes:\n",
    "        \n",
    "        -   `bits_per_digit`: The number of bits used to represent each digit of the integer.\n",
    "        -   `sizeof_digit`: The size (in bytes) of the C type used to represent each digit.\n",
    "    -   **Example Output** (Note: This output may vary depending on your Python version and platform):\n",
    "        \n",
    "        `sys.int_info(bits_per_digit=30, sizeof_digit=4)` \n",
    "        \n",
    "2.  **`print()`**:\n",
    "    \n",
    "    -   An empty `print()` function is used to add a blank line between the two outputs, improving readability.\n",
    "3.  **`sys.float_info`**:\n",
    "    \n",
    "    -   This attribute provides detailed information about the floating-point implementation. It includes values like:\n",
    "        \n",
    "        -   `max`: Maximum representable positive finite float.\n",
    "        -   `max_exp`: Maximum integer e such that radix**(e-1) is representable.\n",
    "        -   `min`: Minimum positive normalized float.\n",
    "        -   `min_exp`: Minimum integer e such that radix**(e-1) is a normalized float.\n",
    "        -   `epsilon`: Difference between 1 and the least value greater than 1 that is representable."
   ]
  },
  {
   "cell_type": "markdown",
   "metadata": {},
   "source": [
    "#### Converting an abject type to another object type"
   ]
  },
  {
   "cell_type": "code",
   "execution_count": null,
   "metadata": {},
   "outputs": [],
   "source": [
    "# Let's convert the integer number 6 to a string and a float\n",
    "\n",
    "number = 6\n",
    "\n",
    "print(str(number))\n",
    "print(float(number))\n",
    "print(type(number))\n",
    "print(type(str(number)))\n",
    "print(type(float(number)))\n",
    "str(number)"
   ]
  },
  {
   "cell_type": "markdown",
   "metadata": {},
   "source": [
    "\n",
    "### Explanation and Expected Output:\n",
    "\n",
    "1.  **Convert the integer to a string**:\n",
    "    \n",
    "    `print(str(number))` \n",
    "    \n",
    "    -   This converts the integer `6` to a string `'6'`.\n",
    "    -   **Output**:\n",
    "        \n",
    "        `6` \n",
    "        \n",
    "2.  **Convert the integer to a float**:\n",
    "    \n",
    "    `print(float(number))` \n",
    "    \n",
    "    -   This converts the integer `6` to a float `6.0`.\n",
    "    -   **Output**:\n",
    "        \n",
    "        `6.0` \n",
    "        \n",
    "3.  **Print the type of the original integer**:\n",
    "    \n",
    "    `print(type(number))` \n",
    "    \n",
    "    -   This prints the type of the variable `number`, which is an integer.\n",
    "    -   **Output**:\n",
    "        \n",
    "        `<class 'int'>` \n",
    "        \n",
    "4.  **Print the type after converting the integer to a string**:\n",
    "\n",
    "    `print(type(str(number)))` \n",
    "    \n",
    "    -   This prints the type of the converted string, which is `<class 'str'>`.\n",
    "    -   **Output**:\n",
    "        \n",
    "        `<class 'str'>` \n",
    "        \n",
    "5.  **Print the type after converting the integer to a float**:\n",
    "    \n",
    "    `print(type(float(number)))` \n",
    "    \n",
    "    -   This prints the type of the converted float, which is `<class 'float'>`.\n",
    "    -   **Output**:\n",
    "        \n",
    "        `<class 'float'>` \n",
    "        \n",
    "6.  **Convert the integer to a string** (without printing):\n",
    "    \n",
    "    `str(number)` \n",
    "    \n",
    "    -   This line converts the integer to a string, but since there's no `print` function, nothing is displayed. The conversion happens, but the result is not shown."
   ]
  },
  {
   "cell_type": "code",
   "execution_count": null,
   "metadata": {},
   "outputs": [],
   "source": [
    "# Let's conver the float number 3.14 to a string and an integer\n",
    "\n",
    "number = 3.14\n",
    "\n",
    "print(str(number))\n",
    "print(int(number))\n",
    "print(type(number))\n",
    "print(type(str(number)))\n",
    "print(type(int(number)))\n",
    "str(number)"
   ]
  },
  {
   "cell_type": "code",
   "execution_count": null,
   "metadata": {},
   "outputs": [],
   "source": [
    "# Let's convert the booleans to an integer,  a float, and a string\n",
    "\n",
    "bool_1 = True\n",
    "bool_2 = False\n",
    "\n",
    "print(int(bool_1))\n",
    "print(int(bool_2))\n",
    "print(float(bool_1))\n",
    "print(float(bool_2))\n",
    "print(str(bool_1))\n",
    "print(str(bool_2))\n",
    "print(bool(1))\n",
    "print(bool(0))"
   ]
  },
  {
   "cell_type": "markdown",
   "metadata": {},
   "source": [
    "\n",
    "**Regular Division (`9/3`)**:\n",
    "\n",
    "-   The expression `9/3` performs regular division, which always returns a float, even if the result is a whole number.\n",
    " \n",
    "**Floor Division (`9//4`)**:\n",
    "\n",
    "-   The expression `9//4` performs floor division, which divides the number and then rounds down to the nearest integer."
   ]
  },
  {
   "cell_type": "code",
   "execution_count": null,
   "metadata": {},
   "outputs": [],
   "source": [
    "# Let's find the data types of 9/3 and 9//4\n",
    "\n",
    "print(9/3)\n",
    "print(9//4)\n",
    "print(type(9/3))\n",
    "print(type(9//4))"
   ]
  },
  {
   "cell_type": "markdown",
   "metadata": {},
   "source": [
    "#### Experesion and variables"
   ]
  },
  {
   "cell_type": "code",
   "execution_count": null,
   "metadata": {},
   "outputs": [],
   "source": [
    "# Addition\n",
    "\n",
    "x = 56+65+89+45+78.5+98.2\n",
    "print(x)\n",
    "print(type(x))"
   ]
  },
  {
   "cell_type": "markdown",
   "metadata": {},
   "source": [
    "\n",
    "**Addition Operation**:\n",
    "\n",
    "-   The expression `56 + 65 + 89 + 45 + 78.5 + 98.2` adds together a mix of integers and floats.\n",
    "-   Since the operation involves both integers and floats, the result will be a float."
   ]
  },
  {
   "cell_type": "code",
   "execution_count": null,
   "metadata": {},
   "outputs": [],
   "source": [
    "# Substraction\n",
    "\n",
    "x = 85-52-21-8\n",
    "print(x)\n",
    "print(type(x))"
   ]
  },
  {
   "cell_type": "markdown",
   "metadata": {},
   "source": [
    "\n",
    "**Subtraction Operation**:\n",
    "\n",
    "-   The expression `85 - 52 - 21 - 8` subtracts the numbers sequentially.\n",
    "-   Since all the numbers involved are integers, the result will also be an integer."
   ]
  },
  {
   "cell_type": "code",
   "execution_count": null,
   "metadata": {},
   "outputs": [],
   "source": [
    "# Multiplication\n",
    "\n",
    "x = 8*74\n",
    "print(x)\n",
    "print(type(x))"
   ]
  },
  {
   "cell_type": "markdown",
   "metadata": {},
   "source": [
    "\n",
    "**Multiplication Operation**:\n",
    "\n",
    "-   The expression `8 * 74` multiplies the two integers.\n",
    "-   Since both numbers are integers, the result will also be an integer."
   ]
  },
  {
   "cell_type": "code",
   "execution_count": null,
   "metadata": {},
   "outputs": [],
   "source": [
    "# Division\n",
    "\n",
    "x = 125/24\n",
    "print(x)\n",
    "print(type(x))"
   ]
  },
  {
   "cell_type": "markdown",
   "metadata": {},
   "source": [
    "\n",
    "**Division Operation**:\n",
    "\n",
    "-   The expression `125 / 24` performs a regular division.\n",
    "-   In Python, the division operator `/` always returns a float, even if the result is a whole number."
   ]
  },
  {
   "cell_type": "code",
   "execution_count": null,
   "metadata": {},
   "outputs": [],
   "source": [
    "# Floor division\n",
    "\n",
    "x = 125//24\n",
    "print(x)\n",
    "print(type(x))"
   ]
  },
  {
   "cell_type": "markdown",
   "metadata": {},
   "source": [
    "\n",
    "**Floor Division Operation**:\n",
    "\n",
    "-   The expression `125 // 24` performs a floor division, which divides the two numbers and rounds the result down to the nearest integer."
   ]
  },
  {
   "cell_type": "code",
   "execution_count": null,
   "metadata": {},
   "outputs": [],
   "source": [
    "# Modulus\n",
    "\n",
    "x = 125%24\n",
    "print(x)\n",
    "print(type(x))"
   ]
  },
  {
   "cell_type": "markdown",
   "metadata": {},
   "source": [
    "\n",
    "**Modulus Operation**:\n",
    "\n",
    "-   The expression `125 % 24` calculates the remainder when `125` is divided by `24`."
   ]
  },
  {
   "cell_type": "code",
   "execution_count": null,
   "metadata": {},
   "outputs": [],
   "source": [
    "# Exponentiation\n",
    "\n",
    "x = 2**3\n",
    "print(x)\n",
    "print(type(x))"
   ]
  },
  {
   "cell_type": "markdown",
   "metadata": {},
   "source": [
    "\n",
    "**Exponentiation Operation**:\n",
    "\n",
    "-   The expression `2 ** 3` raises `2` to the power of `3`."
   ]
  },
  {
   "cell_type": "code",
   "execution_count": null,
   "metadata": {},
   "outputs": [],
   "source": [
    "# An example: Let's calculate how many minutes there are in 20 hours?\n",
    "\n",
    "one_hour = 60       # 60 minutes\n",
    "hour = 20\n",
    "minutes = one_hour *hour\n",
    "print(minutes)\n",
    "print(type(minutes))\n",
    "\n",
    "# An example: Let's calculate how many hours there are in 348 minutes?\n",
    "\n",
    "minutes = 348\n",
    "one_hour = 60\n",
    "hours = 348/60\n",
    "print(hours)\n",
    "print(type(hours))"
   ]
  },
  {
   "cell_type": "markdown",
   "metadata": {},
   "source": [
    "\n",
    "**Expression `x = 45 + 3 * 89`**:\n",
    "\n",
    "-   Python follows the order of operations (PEMDAS/BODMAS), where multiplication is performed before addition.\n",
    "**Expression `y = (45 + 3) * 89`**:\n",
    "\n",
    "-   The parentheses ensure that the addition is performed before multiplication.\n"
   ]
  },
  {
   "cell_type": "code",
   "execution_count": null,
   "metadata": {
    "scrolled": true
   },
   "outputs": [],
   "source": [
    "# Mathematical expression\n",
    "x = 45+3*89\n",
    "y = (45+3)*89\n",
    "print(x)\n",
    "print(y)\n",
    "print(x+y)\n",
    "print(x-y)\n",
    "print(x*y)\n",
    "print(x/y)\n",
    "print(x**y)\n",
    "print(x//y)\n",
    "print(x%y)"
   ]
  },
  {
   "cell_type": "markdown",
   "metadata": {},
   "source": [
    "#### Variables"
   ]
  },
  {
   "cell_type": "code",
   "execution_count": null,
   "metadata": {},
   "outputs": [],
   "source": [
    "# Store the value 89 into the variabe 'number'\n",
    "\n",
    "number = 90\n",
    "print(number)\n",
    "print(type(number))"
   ]
  },
  {
   "cell_type": "code",
   "execution_count": null,
   "metadata": {},
   "outputs": [],
   "source": [
    "x = 25\n",
    "y = 87\n",
    "z = 5*x - 2*y\n",
    "print(z)\n",
    "\n",
    "t = z/7\n",
    "print(t)\n",
    "\n",
    "z = z/14\n",
    "print(z)"
   ]
  },
  {
   "cell_type": "code",
   "execution_count": null,
   "metadata": {},
   "outputs": [],
   "source": [
    "x, y, z = 8, 4, 2  # Assign values to x, y, and z in one line\n",
    "print(x, y, z)     # Print the values of x, y, and z\n",
    "print(x)           # Print the value of x\n",
    "print(y)           # Print the value of y\n",
    "print(z)           # Print the value of z\n",
    "\n",
    "# Perform various arithmetic operations\n",
    "\n",
    "print(x/y)         # Division of x by y\n",
    "print(x/z)         # Division of x by z\n",
    "print(y/z)         # Division of y by z\n",
    "print(x+y+z)       # Sum of x, y, and z\n",
    "print(x*y*z)       # Product of x, y, and z\n",
    "print(x-y-z)       # Subtract y and z from x\n",
    "print(x/y/z)       # Division of x by y, then by z\n",
    "print(x//y//z)     # Floor division of x by y, then by z\n",
    "print(x%y%z)       # Modulus of x by y, then by z\n"
   ]
  }
 ],
 "metadata": {
  "interpreter": {
   "hash": "b7377f19eab4b8c2e19b4d5b732c435591579d0f123dd21b146d33dfd161e508"
  },
  "kernelspec": {
   "display_name": "Python 3 (ipykernel)",
   "language": "python",
   "name": "python3"
  },
  "language_info": {
   "codemirror_mode": {
    "name": "ipython",
    "version": 3
   },
   "file_extension": ".py",
   "mimetype": "text/x-python",
   "name": "python",
   "nbconvert_exporter": "python",
   "pygments_lexer": "ipython3",
   "version": "3.12.3"
  }
 },
 "nbformat": 4,
 "nbformat_minor": 4
}
