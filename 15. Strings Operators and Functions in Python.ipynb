{
 "cells": [
  {
   "cell_type": "markdown",
   "id": "edb9c131",
   "metadata": {},
   "source": [
    "# **Python Tutorial**"
   ]
  },
  {
   "cell_type": "markdown",
   "id": "151ae473",
   "metadata": {},
   "source": [
    "## **15. Strings Operators and Functions in Python**"
   ]
  },
  {
   "cell_type": "markdown",
   "id": "c7255868",
   "metadata": {},
   "source": [
    "### **Special String Operators in Python**"
   ]
  },
  {
   "cell_type": "markdown",
   "id": "90a7c906",
   "metadata": {},
   "source": [
    "<img src='https://images.slideplayer.com/18/6186845/slides/slide_13.jpg' alt='special_string_operators' >"
   ]
  },
  {
   "cell_type": "markdown",
   "id": "cbb4998a",
   "metadata": {},
   "source": [
    "### **Strings are unchangeable**"
   ]
  },
  {
   "cell_type": "code",
   "execution_count": 1,
   "id": "cd29965f",
   "metadata": {},
   "outputs": [
    {
     "name": "stdout",
     "output_type": "stream",
     "text": [
      "Hello\n",
      "Python!\n"
     ]
    }
   ],
   "source": [
    "string_hello = 'Hello'\n",
    "string_python = 'Python!'\n",
    "print(string_hello)\n",
    "print(string_python)"
   ]
  },
  {
   "cell_type": "markdown",
   "id": "c0d3723d",
   "metadata": {},
   "source": [
    "### **Deleting the items in a string is not supported since strings are immutable**\n",
    "\n",
    "It returns a TypeError. However, the whole string can be deleted. When it is, it returns a NameError."
   ]
  },
  {
   "cell_type": "code",
   "execution_count": 6,
   "id": "cea993e5",
   "metadata": {},
   "outputs": [
    {
     "name": "stdout",
     "output_type": "stream",
     "text": [
      "Python is a programming language.\n"
     ]
    },
    {
     "ename": "TypeError",
     "evalue": "'str' object doesn't support item deletion",
     "output_type": "error",
     "traceback": [
      "\u001b[1;31m---------------------------------------------------------------------------\u001b[0m",
      "\u001b[1;31mTypeError\u001b[0m                                 Traceback (most recent call last)",
      "\u001b[1;32m~\\AppData\\Local\\Temp/ipykernel_18660/4179913587.py\u001b[0m in \u001b[0;36m<module>\u001b[1;34m\u001b[0m\n\u001b[0;32m      1\u001b[0m \u001b[0mtext\u001b[0m \u001b[1;33m=\u001b[0m \u001b[1;34m'Python is a programming language.'\u001b[0m\u001b[1;33m\u001b[0m\u001b[1;33m\u001b[0m\u001b[0m\n\u001b[0;32m      2\u001b[0m \u001b[0mprint\u001b[0m\u001b[1;33m(\u001b[0m\u001b[0mtext\u001b[0m\u001b[1;33m)\u001b[0m\u001b[1;33m\u001b[0m\u001b[1;33m\u001b[0m\u001b[0m\n\u001b[1;32m----> 3\u001b[1;33m \u001b[1;32mdel\u001b[0m \u001b[0mtext\u001b[0m\u001b[1;33m[\u001b[0m\u001b[1;36m1\u001b[0m\u001b[1;33m]\u001b[0m\u001b[1;33m\u001b[0m\u001b[1;33m\u001b[0m\u001b[0m\n\u001b[0m\u001b[0;32m      4\u001b[0m \u001b[0mprint\u001b[0m\u001b[1;33m(\u001b[0m\u001b[0mtext\u001b[0m\u001b[1;33m)\u001b[0m\u001b[1;33m\u001b[0m\u001b[1;33m\u001b[0m\u001b[0m\n",
      "\u001b[1;31mTypeError\u001b[0m: 'str' object doesn't support item deletion"
     ]
    }
   ],
   "source": [
    "text = 'Python is a programming language.'\n",
    "print(text)\n",
    "del text[1]\n",
    "print(text)"
   ]
  },
  {
   "cell_type": "code",
   "execution_count": 7,
   "id": "a63f937b",
   "metadata": {},
   "outputs": [
    {
     "name": "stdout",
     "output_type": "stream",
     "text": [
      "Python is a programming language.\n"
     ]
    },
    {
     "ename": "NameError",
     "evalue": "name 'text' is not defined",
     "output_type": "error",
     "traceback": [
      "\u001b[1;31m---------------------------------------------------------------------------\u001b[0m",
      "\u001b[1;31mNameError\u001b[0m                                 Traceback (most recent call last)",
      "\u001b[1;32m~\\AppData\\Local\\Temp/ipykernel_18660/1747540232.py\u001b[0m in \u001b[0;36m<module>\u001b[1;34m\u001b[0m\n\u001b[0;32m      2\u001b[0m \u001b[0mprint\u001b[0m\u001b[1;33m(\u001b[0m\u001b[0mtext\u001b[0m\u001b[1;33m)\u001b[0m\u001b[1;33m\u001b[0m\u001b[1;33m\u001b[0m\u001b[0m\n\u001b[0;32m      3\u001b[0m \u001b[1;32mdel\u001b[0m \u001b[0mtext\u001b[0m\u001b[1;33m\u001b[0m\u001b[1;33m\u001b[0m\u001b[0m\n\u001b[1;32m----> 4\u001b[1;33m \u001b[0mprint\u001b[0m\u001b[1;33m(\u001b[0m\u001b[0mtext\u001b[0m\u001b[1;33m)\u001b[0m\u001b[1;33m\u001b[0m\u001b[1;33m\u001b[0m\u001b[0m\n\u001b[0m",
      "\u001b[1;31mNameError\u001b[0m: name 'text' is not defined"
     ]
    }
   ],
   "source": [
    "text = 'Python is a programming language.'\n",
    "print(text)\n",
    "del text\n",
    "print(text)"
   ]
  },
  {
   "cell_type": "markdown",
   "id": "c7b9e4f7",
   "metadata": {},
   "source": [
    "### **Concetanation of strings**\n",
    "It combines two or more strings using the sign '+' to form a new string."
   ]
  },
  {
   "cell_type": "code",
   "execution_count": 9,
   "id": "e7ed1ad8",
   "metadata": {},
   "outputs": [
    {
     "name": "stdout",
     "output_type": "stream",
     "text": [
      "Hello Python!\n"
     ]
    }
   ],
   "source": [
    "text1 = 'Hello '\n",
    "text2 = 'Python!'\n",
    "new_text = text1 + text2\n",
    "print(new_text)"
   ]
  },
  {
   "cell_type": "markdown",
   "id": "4bcf8017",
   "metadata": {},
   "source": [
    "### **Appending (+=) adds a new string the the end of the current string**"
   ]
  },
  {
   "cell_type": "code",
   "execution_count": 10,
   "id": "e0213582",
   "metadata": {},
   "outputs": [
    {
     "name": "stdout",
     "output_type": "stream",
     "text": [
      "Hello Python!\n"
     ]
    }
   ],
   "source": [
    "text1 = 'Hello '\n",
    "text2 = 'Python!'\n",
    "text1+=text2\n",
    "print(text1)"
   ]
  },
  {
   "cell_type": "markdown",
   "id": "29737fbd",
   "metadata": {},
   "source": [
    "### **To repeat a string, the multiplication (*) operator is used**"
   ]
  },
  {
   "cell_type": "code",
   "execution_count": 12,
   "id": "3723837b",
   "metadata": {},
   "outputs": [
    {
     "name": "stdout",
     "output_type": "stream",
     "text": [
      "Hello, Python! Hello, Python! Hello, Python! Hello, Python! \n"
     ]
    }
   ],
   "source": [
    "text = 'Hello, Python! '\n",
    "print(text*4)"
   ]
  },
  {
   "cell_type": "markdown",
   "id": "eee400a7",
   "metadata": {},
   "source": [
    "### **Accessing the item by indexing**"
   ]
  },
  {
   "cell_type": "code",
   "execution_count": 21,
   "id": "b166630d",
   "metadata": {},
   "outputs": [
    {
     "name": "stdout",
     "output_type": "stream",
     "text": [
      "Hello\n",
      "o\n",
      "Python!\n",
      "Python\n"
     ]
    }
   ],
   "source": [
    "text = 'Hello, Python!'\n",
    "print(text[0:5])        # Pozitive indexing\n",
    "print(text[4])\n",
    "print(text[-7:])        # Negative indexing\n",
    "print(text[-7:-1])"
   ]
  },
  {
   "cell_type": "markdown",
   "id": "5e3019dd",
   "metadata": {},
   "source": [
    "### **Striding in slicing**\n",
    "\n",
    "The third parameter specifies the stride, which refers to how many characters to move forward after the first character is retrieved from the string. "
   ]
  },
  {
   "cell_type": "code",
   "execution_count": 29,
   "id": "02111ee1",
   "metadata": {},
   "outputs": [
    {
     "name": "stdout",
     "output_type": "stream",
     "text": [
      "14\n",
      "Hello, Python!\n",
      "Hlo yhn\n",
      "Hl tn\n"
     ]
    }
   ],
   "source": [
    "text = 'Hello, Python!'\n",
    "print(len(text))\n",
    "print(text[:14])        # Default stride value is 1.\n",
    "print(text[0:14:2])\n",
    "print(text[::3])"
   ]
  },
  {
   "cell_type": "markdown",
   "id": "e2f6d2cd",
   "metadata": {},
   "source": [
    "### **Reverse string**\n",
    "The stride value is equal to -1 if a reverse string is wanted to obtain"
   ]
  },
  {
   "cell_type": "code",
   "execution_count": 30,
   "id": "e592ec5a",
   "metadata": {},
   "outputs": [
    {
     "name": "stdout",
     "output_type": "stream",
     "text": [
      "!nohtyP ,olleH\n"
     ]
    }
   ],
   "source": [
    "text = 'Hello, Python!'\n",
    "print(text[::-1])"
   ]
  },
  {
   "cell_type": "markdown",
   "id": "69e72977",
   "metadata": {},
   "source": [
    "### **in** and **not in**\n",
    "* **in** returns *True* when the character or word is in the given string, otherwise *False*.\n",
    "* **not in** returns *False* when the character or word is in the given string, otherwise *True*."
   ]
  },
  {
   "cell_type": "code",
   "execution_count": 130,
   "id": "0072424f",
   "metadata": {},
   "outputs": [
    {
     "name": "stdout",
     "output_type": "stream",
     "text": [
      "True\n",
      "False\n",
      "True\n",
      "False\n"
     ]
    }
   ],
   "source": [
    "text = 'Hello, Python!'\n",
    "print('H' in text)\n",
    "print('H' not in text)\n",
    "print('c' not in text)\n",
    "print('c' in text)"
   ]
  },
  {
   "cell_type": "markdown",
   "id": "eb2f8769",
   "metadata": {},
   "source": [
    "### **String Functions in Python**\n",
    "\n",
    "You can find some useful functions from the below table."
   ]
  },
  {
   "cell_type": "markdown",
   "id": "820e4c11",
   "metadata": {},
   "source": [
    "<img src='https://www.webcodegeeks.com/wp-content/uploads/2015/01/8.36.49-pm.png' alt='string_functions'>"
   ]
  },
  {
   "cell_type": "markdown",
   "id": "ae5d4768",
   "metadata": {},
   "source": [
    "### **capitalize() function**\n",
    "It converts the first character of the string into uppercase."
   ]
  },
  {
   "cell_type": "code",
   "execution_count": 31,
   "id": "b604fa7d",
   "metadata": {},
   "outputs": [
    {
     "name": "stdout",
     "output_type": "stream",
     "text": [
      "Before capitalizing: hello, python!\n",
      "After capitalizing: Hello, python!\n"
     ]
    }
   ],
   "source": [
    "text = 'hello, python!'\n",
    "print(f'Before capitalizing: {text}')\n",
    "text = text.capitalize()\n",
    "print(f'After capitalizing: {text}')"
   ]
  },
  {
   "cell_type": "markdown",
   "id": "f3ab6cef",
   "metadata": {},
   "source": [
    "### **casefold() function**\n",
    "It converts the characters in the certain string into lowercase."
   ]
  },
  {
   "cell_type": "code",
   "execution_count": 32,
   "id": "a324ffc0",
   "metadata": {},
   "outputs": [
    {
     "name": "stdout",
     "output_type": "stream",
     "text": [
      "Before casefold: Hello, Python!\n",
      "After casefold: hello, python!\n"
     ]
    }
   ],
   "source": [
    "text = 'Hello, Python!'\n",
    "print(f'Before casefold: {text}')\n",
    "text = text.casefold()\n",
    "print(f'After casefold: {text}')"
   ]
  },
  {
   "cell_type": "markdown",
   "id": "d5ce094e",
   "metadata": {},
   "source": [
    "### **center() function**\n",
    "It will center align the string, using a specified character (space is default) as the fill character."
   ]
  },
  {
   "cell_type": "code",
   "execution_count": 43,
   "id": "91294b32",
   "metadata": {},
   "outputs": [
    {
     "name": "stdout",
     "output_type": "stream",
     "text": [
      "Before center() function: Hello, Python!\n",
      "After center() function:                   Hello, Python!                  \n",
      "After center() function: -------------------Hi, Python!--------------------\n"
     ]
    }
   ],
   "source": [
    "text = 'Hello, Python!'\n",
    "print(f'Before center() function: {text}')\n",
    "text = text.center(50)\n",
    "print(f'After center() function: {text}')\n",
    "new_text = 'Hi, Python!'\n",
    "new_text = new_text.center(50, '-')\n",
    "print(f'After center() function: {new_text}')"
   ]
  },
  {
   "cell_type": "markdown",
   "id": "3e3f87ec",
   "metadata": {},
   "source": [
    "### **count() function**\n",
    "It returns the number of a certain characters in a string."
   ]
  },
  {
   "cell_type": "code",
   "execution_count": 45,
   "id": "4a998d25",
   "metadata": {},
   "outputs": [
    {
     "name": "stdout",
     "output_type": "stream",
     "text": [
      "The number of the character 'o' in the string is 2.\n"
     ]
    }
   ],
   "source": [
    "text = 'Hello, Python!'\n",
    "print(f\"The number of the character 'o' in the string is {text.count('o')}.\")"
   ]
  },
  {
   "cell_type": "markdown",
   "id": "498584b2",
   "metadata": {},
   "source": [
    "### **endswith() function**\n",
    "It returns *True* if the strings ends with a certain value."
   ]
  },
  {
   "cell_type": "code",
   "execution_count": 49,
   "id": "b8efd321",
   "metadata": {},
   "outputs": [
    {
     "name": "stdout",
     "output_type": "stream",
     "text": [
      "True\n",
      "False\n"
     ]
    }
   ],
   "source": [
    "text = 'Hello, Python!'\n",
    "text = text.endswith('Python!')\n",
    "print(text)\n",
    "new_text = 'Hi, Python!'\n",
    "new_text = new_text.endswith('World!')\n",
    "print(new_text)"
   ]
  },
  {
   "cell_type": "markdown",
   "id": "a0ef6662",
   "metadata": {},
   "source": [
    "### **find() function**\n",
    "It investigates the string for a certain value and returns the position of where it was found."
   ]
  },
  {
   "cell_type": "code",
   "execution_count": 62,
   "id": "101bf13e",
   "metadata": {},
   "outputs": [
    {
     "name": "stdout",
     "output_type": "stream",
     "text": [
      "7\n",
      "-1\n"
     ]
    }
   ],
   "source": [
    "text = 'Hello, Python!'\n",
    "print(text.find('Python'))\n",
    "print(text.find('World', 0, 14))       # It returns -1 if the value is not found."
   ]
  },
  {
   "cell_type": "markdown",
   "id": "8100c30e",
   "metadata": {},
   "source": [
    "### **format() function**\n",
    "* It formats the specified value(s) and insert them inside the string's placeholder. \n",
    "* The placeholder is defined using curly brackets: **{}**.\n"
   ]
  },
  {
   "cell_type": "code",
   "execution_count": 66,
   "id": "352321fb",
   "metadata": {},
   "outputs": [
    {
     "name": "stdout",
     "output_type": "stream",
     "text": [
      "Hello World! and Hi Python!\n",
      "Hello World! and Hi Python!\n",
      "Hello World! and Hi Python!\n",
      "Hello Python! and Hi World!\n"
     ]
    }
   ],
   "source": [
    "text = 'Hello {} and Hi {}'.format('World!', 'Python!')\n",
    "print(text)\n",
    "text = 'Hello {world} and Hi {python}'.format(world='World!', python='Python!')\n",
    "print(text)\n",
    "text = 'Hello {0} and Hi {1}'.format('World!', 'Python!')\n",
    "print(text)\n",
    "text = 'Hello {1} and Hi {0}'.format('World!', 'Python!')\n",
    "print(text)"
   ]
  },
  {
   "cell_type": "markdown",
   "id": "57ca5727",
   "metadata": {},
   "source": [
    "### **index() function**\n",
    "It examines the string for a certain value and returns the position of where it was found."
   ]
  },
  {
   "cell_type": "code",
   "execution_count": 71,
   "id": "e2dae244",
   "metadata": {},
   "outputs": [
    {
     "name": "stdout",
     "output_type": "stream",
     "text": [
      "7\n",
      "0\n"
     ]
    },
    {
     "ename": "ValueError",
     "evalue": "substring not found",
     "output_type": "error",
     "traceback": [
      "\u001b[1;31m---------------------------------------------------------------------------\u001b[0m",
      "\u001b[1;31mValueError\u001b[0m                                Traceback (most recent call last)",
      "\u001b[1;32m~\\AppData\\Local\\Temp/ipykernel_18660/3544138795.py\u001b[0m in \u001b[0;36m<module>\u001b[1;34m\u001b[0m\n\u001b[0;32m      2\u001b[0m \u001b[0mprint\u001b[0m\u001b[1;33m(\u001b[0m\u001b[0mtext\u001b[0m\u001b[1;33m.\u001b[0m\u001b[0mindex\u001b[0m\u001b[1;33m(\u001b[0m\u001b[1;34m'Python!'\u001b[0m\u001b[1;33m)\u001b[0m\u001b[1;33m)\u001b[0m\u001b[1;33m\u001b[0m\u001b[1;33m\u001b[0m\u001b[0m\n\u001b[0;32m      3\u001b[0m \u001b[0mprint\u001b[0m\u001b[1;33m(\u001b[0m\u001b[0mtext\u001b[0m\u001b[1;33m.\u001b[0m\u001b[0mindex\u001b[0m\u001b[1;33m(\u001b[0m\u001b[1;34m'Hello'\u001b[0m\u001b[1;33m)\u001b[0m\u001b[1;33m)\u001b[0m\u001b[1;33m\u001b[0m\u001b[1;33m\u001b[0m\u001b[0m\n\u001b[1;32m----> 4\u001b[1;33m \u001b[0mprint\u001b[0m\u001b[1;33m(\u001b[0m\u001b[0mtext\u001b[0m\u001b[1;33m.\u001b[0m\u001b[0mindex\u001b[0m\u001b[1;33m(\u001b[0m\u001b[1;34m'Hi'\u001b[0m\u001b[1;33m)\u001b[0m\u001b[1;33m)\u001b[0m     \u001b[1;31m# If the value is not found, it returns a 'ValueError'\u001b[0m\u001b[1;33m\u001b[0m\u001b[1;33m\u001b[0m\u001b[0m\n\u001b[0m",
      "\u001b[1;31mValueError\u001b[0m: substring not found"
     ]
    }
   ],
   "source": [
    "text = 'Hello, Python!'\n",
    "print(text.index('Python!'))\n",
    "print(text.index('Hello'))\n",
    "print(text.index('Hi'))     # If the value is not found, it returns a 'ValueError'"
   ]
  },
  {
   "cell_type": "markdown",
   "id": "5b4d0ded",
   "metadata": {},
   "source": [
    "### **isalnum() function**\n",
    "It returns *True* if all characters in the string are alphanumeric."
   ]
  },
  {
   "cell_type": "code",
   "execution_count": 76,
   "id": "8e596c77",
   "metadata": {},
   "outputs": [
    {
     "name": "stdout",
     "output_type": "stream",
     "text": [
      "False\n",
      "True\n"
     ]
    }
   ],
   "source": [
    "text = 'Hello, Python!'\n",
    "print(text.isalnum())\n",
    "msg = 'Hello1358'\n",
    "print(msg.isalnum())"
   ]
  },
  {
   "cell_type": "markdown",
   "id": "3f4962c7",
   "metadata": {},
   "source": [
    "### **isalpha() function**\n",
    "* It returns *True* if all characters in the string are alphabets.\n",
    "* White spaces are not considered as alphabets and thus it returns *False*."
   ]
  },
  {
   "cell_type": "code",
   "execution_count": 80,
   "id": "4d2b4c89",
   "metadata": {},
   "outputs": [
    {
     "name": "stdout",
     "output_type": "stream",
     "text": [
      "True\n",
      "False\n",
      "False\n"
     ]
    }
   ],
   "source": [
    "text = 'Hello'\n",
    "print(text.isalpha())\n",
    "text = 'Hello1358'          # The text contains numbers.\n",
    "print(text.isalpha())\n",
    "text = 'Hello Python!'      # The text contains a white space.\n",
    "print(text.isalpha())"
   ]
  },
  {
   "cell_type": "markdown",
   "id": "4b5dcc69",
   "metadata": {},
   "source": [
    "### **isdecimal() function**\n",
    "It returns *True* if all the characters in the given string are decimal numbers ( 0-9)."
   ]
  },
  {
   "cell_type": "code",
   "execution_count": 82,
   "id": "21b6e4aa",
   "metadata": {},
   "outputs": [
    {
     "name": "stdout",
     "output_type": "stream",
     "text": [
      "False\n",
      "True\n"
     ]
    }
   ],
   "source": [
    "text = 'Hello'\n",
    "print(text.isdecimal())\n",
    "numbered_text = '011235813'\n",
    "print(numbered_text.isdecimal())"
   ]
  },
  {
   "cell_type": "markdown",
   "id": "420c65f4",
   "metadata": {},
   "source": [
    "### **isdigit() function**\n",
    "This function returns *True* if all the characters in the string and the Unicode characters are digits."
   ]
  },
  {
   "cell_type": "code",
   "execution_count": 83,
   "id": "87545669",
   "metadata": {},
   "outputs": [
    {
     "name": "stdout",
     "output_type": "stream",
     "text": [
      "True\n"
     ]
    }
   ],
   "source": [
    "numbered_text = '011235813'\n",
    "print(numbered_text.isdigit())"
   ]
  },
  {
   "cell_type": "markdown",
   "id": "9c0a1b68",
   "metadata": {},
   "source": [
    "### **isidentifier() function**\n",
    "It returns *True* if the string is a valid identifier, on the contrary *False*."
   ]
  },
  {
   "cell_type": "code",
   "execution_count": 85,
   "id": "94d222d7",
   "metadata": {},
   "outputs": [
    {
     "name": "stdout",
     "output_type": "stream",
     "text": [
      "False\n",
      "True\n"
     ]
    }
   ],
   "source": [
    "numbered_text = '011235813'\n",
    "print(numbered_text.isidentifier())\n",
    "variable = 'numbered_text'\n",
    "print(variable.isidentifier())"
   ]
  },
  {
   "cell_type": "markdown",
   "id": "72809f0d",
   "metadata": {},
   "source": [
    "### **isprintable() function**\n",
    "It returns *True* if all the characters in the string are printable features. "
   ]
  },
  {
   "cell_type": "code",
   "execution_count": 89,
   "id": "da1ebcf1",
   "metadata": {},
   "outputs": [
    {
     "name": "stdout",
     "output_type": "stream",
     "text": [
      "True\n",
      "False\n",
      "True\n"
     ]
    }
   ],
   "source": [
    "text = 'Hello, Python!'\n",
    "print(text.isprintable())\n",
    "new_text = 'Hello, \\n Python!'\n",
    "print(new_text.isprintable())\n",
    "space = ' '\n",
    "print(space.isprintable())"
   ]
  },
  {
   "cell_type": "markdown",
   "id": "e37b690c",
   "metadata": {},
   "source": [
    "### **isspace() function**\n",
    "It returns *True* if all the characters in the string are whitespaces."
   ]
  },
  {
   "cell_type": "code",
   "execution_count": 90,
   "id": "6ab88ca7",
   "metadata": {},
   "outputs": [
    {
     "name": "stdout",
     "output_type": "stream",
     "text": [
      "False\n",
      "True\n"
     ]
    }
   ],
   "source": [
    "text = 'Hello, Python!'\n",
    "print(text.isspace())\n",
    "space = ' '\n",
    "print(space.isspace())"
   ]
  },
  {
   "cell_type": "markdown",
   "id": "e34360f0",
   "metadata": {},
   "source": [
    "### **islower() and lower() functions**\n",
    "* The function **islower()** returns *True* if all the characters in the string are lower case, on the contrary *False*.\n",
    "* The function **lower()** converts the certain string to lower case."
   ]
  },
  {
   "cell_type": "code",
   "execution_count": 94,
   "id": "633f0174",
   "metadata": {},
   "outputs": [
    {
     "name": "stdout",
     "output_type": "stream",
     "text": [
      "False\n",
      "True\n"
     ]
    }
   ],
   "source": [
    "text = 'Hello, Python!'\n",
    "print(text.islower())\n",
    "text = text.lower()             # It converts to lower case all the characters in the string.\n",
    "print(text.islower())           # Now, it returns True."
   ]
  },
  {
   "cell_type": "markdown",
   "id": "96cc8e89",
   "metadata": {},
   "source": [
    "### **isupper() and upper() functions**\n",
    "* The function **isupper()** returns *True* if all the characters in the string are upper case, on the contrary *False*.\n",
    "* The function **upper()** converts the string to uppercase. "
   ]
  },
  {
   "cell_type": "code",
   "execution_count": 95,
   "id": "25931cd2",
   "metadata": {},
   "outputs": [
    {
     "name": "stdout",
     "output_type": "stream",
     "text": [
      "False\n",
      "True\n"
     ]
    }
   ],
   "source": [
    "text = 'Hello, Python!'\n",
    "print(text.isupper())\n",
    "text = text.upper()             # It converts to upper case all the characters in the string.\n",
    "print(text.isupper())        # Now, it returns True."
   ]
  },
  {
   "cell_type": "markdown",
   "id": "52d99c0b",
   "metadata": {},
   "source": [
    "### **join() function**\n",
    "* It takes all items in an iterable and joins them into one string.\n",
    "* A string must be specified as the separator."
   ]
  },
  {
   "cell_type": "code",
   "execution_count": 100,
   "id": "1e166b89",
   "metadata": {},
   "outputs": [
    {
     "name": "stdout",
     "output_type": "stream",
     "text": [
      "Hello#World#Hi#Python\n",
      "Hello+World+Hi+Python\n",
      "Hello--Python--Hi--World\n",
      "val1--val2--val3--val4\n"
     ]
    }
   ],
   "source": [
    "text_list = ['Hello', 'World', 'Hi', 'Python']\n",
    "print('#'. join(text_list))\n",
    "text_tuple =  ('Hello', 'World', 'Hi', 'Python')\n",
    "print('+'. join(text_tuple))\n",
    "text_set =  {'Hello', 'World', 'Hi', 'Python'}\n",
    "print('--'. join(text_set))\n",
    "text_dict =  {'val1': 'Hello', 'val2': 'World', 'val3': 'Hi', 'val4': 'Python'}\n",
    "print('--'. join(text_dict))"
   ]
  },
  {
   "cell_type": "markdown",
   "id": "8cd02bdb",
   "metadata": {},
   "source": [
    "### **ljust() function**\n",
    "It returns the left justified version of the certain string."
   ]
  },
  {
   "cell_type": "code",
   "execution_count": 119,
   "id": "7d979d67",
   "metadata": {},
   "outputs": [
    {
     "name": "stdout",
     "output_type": "stream",
     "text": [
      "Python------------------------ is my favorite programming language.\n"
     ]
    }
   ],
   "source": [
    "text = 'Python'\n",
    "text = text.ljust(30, '-')\n",
    "print(text, 'is my favorite programming language.')"
   ]
  },
  {
   "cell_type": "markdown",
   "id": "df18f1f2",
   "metadata": {},
   "source": [
    "### **rjust() function**\n",
    "It returns the right justified version of the certain string."
   ]
  },
  {
   "cell_type": "code",
   "execution_count": 120,
   "id": "5244efeb",
   "metadata": {},
   "outputs": [
    {
     "name": "stdout",
     "output_type": "stream",
     "text": [
      "------------------------Python is my favorite programming language.\n"
     ]
    }
   ],
   "source": [
    "text = 'Python'\n",
    "text = text.rjust(30, '-')\n",
    "print(text, 'is my favorite programming language.')"
   ]
  },
  {
   "cell_type": "markdown",
   "id": "472a7fe6",
   "metadata": {},
   "source": [
    "### **lstrip() function**\n",
    "It removes characters from the left based on the argument (a string specifying the set of characters to be removed)."
   ]
  },
  {
   "cell_type": "code",
   "execution_count": 103,
   "id": "d65b5246",
   "metadata": {},
   "outputs": [
    {
     "name": "stdout",
     "output_type": "stream",
     "text": [
      "Hello Python!           \n"
     ]
    }
   ],
   "source": [
    "text = '              Hello Python!           '\n",
    "print(text.lstrip())        # It did not delete the white spaces in the right side. "
   ]
  },
  {
   "cell_type": "markdown",
   "id": "d49bfb48",
   "metadata": {},
   "source": [
    "### **rstrip() function**\n",
    "It removes characters from the right based on the argument (a string specifying the set of characters to be removed)."
   ]
  },
  {
   "cell_type": "code",
   "execution_count": 104,
   "id": "fc6d68f6",
   "metadata": {},
   "outputs": [
    {
     "name": "stdout",
     "output_type": "stream",
     "text": [
      "              Hello Python!\n"
     ]
    }
   ],
   "source": [
    "text = '              Hello Python!           '\n",
    "print(text.rstrip())        # It did not delete the white spaces in the left side. "
   ]
  },
  {
   "cell_type": "markdown",
   "id": "fc24f6d7",
   "metadata": {},
   "source": [
    "### **strip() function**\n",
    "* It removes or truncates the given characters from the beginning and the end of the original string. \n",
    "* The default behavior of the **strip()** method is to remove the whitespace from the beginning and at the end of the string."
   ]
  },
  {
   "cell_type": "code",
   "execution_count": 105,
   "id": "8a090157",
   "metadata": {},
   "outputs": [
    {
     "name": "stdout",
     "output_type": "stream",
     "text": [
      "Hello Python!\n"
     ]
    }
   ],
   "source": [
    "text = '              Hello Python!           '\n",
    "print(text.strip())        # It deleted the white spaces in the both side. "
   ]
  },
  {
   "cell_type": "markdown",
   "id": "9d1521cd",
   "metadata": {},
   "source": [
    "### **replace() function**\n",
    "\n",
    "Replaces a specified phrase with another specified phrase."
   ]
  },
  {
   "cell_type": "code",
   "execution_count": 106,
   "id": "1405ab74",
   "metadata": {},
   "outputs": [
    {
     "name": "stdout",
     "output_type": "stream",
     "text": [
      "JavaScript is a programming language.\n",
      "Python is a programming language.\n"
     ]
    }
   ],
   "source": [
    "text = 'JavaScript is a programming language.'\n",
    "print(text)\n",
    "modified_text = text.replace('JavaScript', 'Python', 1)\n",
    "print(modified_text)"
   ]
  },
  {
   "cell_type": "code",
   "execution_count": 107,
   "id": "ba58bec0",
   "metadata": {},
   "outputs": [
    {
     "name": "stdout",
     "output_type": "stream",
     "text": [
      "Jython is a programming language.\n",
      "Python is a programming language.\n"
     ]
    }
   ],
   "source": [
    "text = 'Jython is a programming language.'\n",
    "print(text)\n",
    "modified_text = text.replace('J', 'P')\n",
    "print(modified_text)"
   ]
  },
  {
   "cell_type": "markdown",
   "id": "fdde6b0b",
   "metadata": {},
   "source": [
    "### **partition() function**\n",
    "* It searches for a specified string, and splits the string into a tuple containing three elements. \n",
    "* The first element contains the part before the specified string. \n",
    "* The second element contains the specified string. \n",
    "* The third element contains the part after the string."
   ]
  },
  {
   "cell_type": "code",
   "execution_count": 114,
   "id": "f5c51aeb",
   "metadata": {},
   "outputs": [
    {
     "name": "stdout",
     "output_type": "stream",
     "text": [
      "('Hello World!, ', 'Hi', ' Python!')\n"
     ]
    }
   ],
   "source": [
    "text = 'Hello World!, Hi Python!'\n",
    "print(text.partition('Hi'))"
   ]
  },
  {
   "cell_type": "markdown",
   "id": "f7dc410b",
   "metadata": {},
   "source": [
    "### **rfind() function**\n",
    "* The **rfind()** method finds the last occurrence of the specified value. \n",
    "* The **rfind()** method returns **-1** if the value is not found. \n",
    "* The **rfind()** method is almost **the same as the rindex() method.**"
   ]
  },
  {
   "cell_type": "code",
   "execution_count": 125,
   "id": "f9c6b702",
   "metadata": {},
   "outputs": [
    {
     "name": "stdout",
     "output_type": "stream",
     "text": [
      "'Python' is in the position 7.\n",
      "'my' is in the position 17.\n",
      "'close' is in the position -1.\n"
     ]
    }
   ],
   "source": [
    "text = 'Hello, Python is my favorite programming language.'\n",
    "print(f\"'Python' is in the position {text.rfind('Python')}.\")\n",
    "print(f\"'my' is in the position {text.rfind('my')}.\")\n",
    "print(f\"'close' is in the position {text.rfind('close')}.\")"
   ]
  },
  {
   "cell_type": "markdown",
   "id": "50f5f7c0",
   "metadata": {},
   "source": [
    "### **rindex() function**\n",
    "* The **rindex()** method finds the last occurrence of the specified value. \n",
    "* The **rindex()** method raises a **ValueError** exception if the value is not found. \n",
    "* The **rindex()** method is almost **the same as the rfind() method.**"
   ]
  },
  {
   "cell_type": "code",
   "execution_count": 126,
   "id": "99f62eee",
   "metadata": {},
   "outputs": [
    {
     "name": "stdout",
     "output_type": "stream",
     "text": [
      "'Python' is in the position 7.\n",
      "'my' is in the position 17.\n"
     ]
    },
    {
     "ename": "ValueError",
     "evalue": "substring not found",
     "output_type": "error",
     "traceback": [
      "\u001b[1;31m---------------------------------------------------------------------------\u001b[0m",
      "\u001b[1;31mValueError\u001b[0m                                Traceback (most recent call last)",
      "\u001b[1;32m~\\AppData\\Local\\Temp/ipykernel_18660/2547564577.py\u001b[0m in \u001b[0;36m<module>\u001b[1;34m\u001b[0m\n\u001b[0;32m      2\u001b[0m \u001b[0mprint\u001b[0m\u001b[1;33m(\u001b[0m\u001b[1;34mf\"'Python' is in the position {text.rindex('Python')}.\"\u001b[0m\u001b[1;33m)\u001b[0m\u001b[1;33m\u001b[0m\u001b[1;33m\u001b[0m\u001b[0m\n\u001b[0;32m      3\u001b[0m \u001b[0mprint\u001b[0m\u001b[1;33m(\u001b[0m\u001b[1;34mf\"'my' is in the position {text.rindex('my')}.\"\u001b[0m\u001b[1;33m)\u001b[0m\u001b[1;33m\u001b[0m\u001b[1;33m\u001b[0m\u001b[0m\n\u001b[1;32m----> 4\u001b[1;33m \u001b[0mprint\u001b[0m\u001b[1;33m(\u001b[0m\u001b[1;34mf\"'close' is in the position {text.rindex('close')}.\"\u001b[0m\u001b[1;33m)\u001b[0m\u001b[1;33m\u001b[0m\u001b[1;33m\u001b[0m\u001b[0m\n\u001b[0m",
      "\u001b[1;31mValueError\u001b[0m: substring not found"
     ]
    }
   ],
   "source": [
    "text = 'Hello, Python is my favorite programming language.'\n",
    "print(f\"'Python' is in the position {text.rindex('Python')}.\")\n",
    "print(f\"'my' is in the position {text.rindex('my')}.\")\n",
    "print(f\"'close' is in the position {text.rindex('close')}.\")"
   ]
  },
  {
   "cell_type": "markdown",
   "id": "7142195f",
   "metadata": {},
   "source": [
    "### **swapcase() function**\n",
    "This function converts the uppercase characters into lowercase and vice versa."
   ]
  },
  {
   "cell_type": "code",
   "execution_count": 116,
   "id": "522dfc7c",
   "metadata": {},
   "outputs": [
    {
     "name": "stdout",
     "output_type": "stream",
     "text": [
      "hELLO pYTHON!\n",
      "Hello Python!\n"
     ]
    }
   ],
   "source": [
    "text = 'Hello Python!'\n",
    "print(text.swapcase())\n",
    "text = 'hELLO pYTHON!'\n",
    "print(text.swapcase())"
   ]
  },
  {
   "cell_type": "markdown",
   "id": "2e5ebbe6",
   "metadata": {},
   "source": [
    "### **title() function**\n",
    "This function converts the first character in the given string into uppercase."
   ]
  },
  {
   "cell_type": "code",
   "execution_count": 117,
   "id": "b152c1f3",
   "metadata": {},
   "outputs": [
    {
     "name": "stdout",
     "output_type": "stream",
     "text": [
      "Hello World, Hi Python!\n"
     ]
    }
   ],
   "source": [
    "text = 'hello world, hi python!'\n",
    "print(text.title())"
   ]
  }
 ],
 "metadata": {
  "interpreter": {
   "hash": "b7377f19eab4b8c2e19b4d5b732c435591579d0f123dd21b146d33dfd161e508"
  },
  "kernelspec": {
   "display_name": "Python 3 (ipykernel)",
   "language": "python",
   "name": "python3"
  },
  "language_info": {
   "codemirror_mode": {
    "name": "ipython",
    "version": 3
   },
   "file_extension": ".py",
   "mimetype": "text/x-python",
   "name": "python",
   "nbconvert_exporter": "python",
   "pygments_lexer": "ipython3",
   "version": "3.9.7"
  }
 },
 "nbformat": 4,
 "nbformat_minor": 5
}
