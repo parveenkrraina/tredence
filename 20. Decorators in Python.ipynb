{
 "cells": [
  {
   "cell_type": "markdown",
   "id": "ae195e6b",
   "metadata": {},
   "source": [
    "# **Python Tutorial**"
   ]
  },
  {
   "cell_type": "markdown",
   "id": "5d3678c6",
   "metadata": {},
   "source": [
    "## **20. Decorators in Python**\n",
    "\n",
    "* **Decorators** provide a simple syntax for calling **higher-order functions.** \n",
    "* By definition, a **decorator** is a function that takes another function and extends the behavior of the latter function without explicitly modifying it.\n",
    "* A **decorator** in Python is a function that takes another function as its argument, and returns yet another function. \n",
    "* **Decorators** can be extremely useful as they allow the extension of an existing function, without any modification to the original function source code.\n",
    "* In fact, there are **two types of decorators** in Python including **class decorators and function decorators**."
   ]
  },
  {
   "cell_type": "markdown",
   "id": "1ee6d895",
   "metadata": {},
   "source": [
    "<img src='https://miro.medium.com/max/1400/1*nphtlrDbU-l1Tlfsp_nlvg.jpeg' widtg = '400' alt='decorators' />"
   ]
  },
  {
   "cell_type": "markdown",
   "id": "1e16d342",
   "metadata": {},
   "source": [
    "### **Syntax for Decorator**"
   ]
  },
  {
   "cell_type": "code",
   "execution_count": null,
   "id": "a0e67ffa",
   "metadata": {},
   "outputs": [],
   "source": [
    "\"\"\"\n",
    "@hello_decorator\n",
    "def hi_decorator():\n",
    "    print(\"Hello\")\n",
    "\"\"\"\n",
    "\n",
    "'''\n",
    "Above code is equal to -\n",
    "\n",
    "def hi_decorator():\n",
    "    print(\"Hello\")\n",
    "    \n",
    "hi_decorator = hello_decorator(hi_decorator)\n",
    "'''"
   ]
  },
  {
   "cell_type": "code",
   "execution_count": 5,
   "id": "35899dd8",
   "metadata": {},
   "outputs": [],
   "source": [
    "# Import libraries\n",
    "import decorator\n",
    "from decorator import *\n",
    "import functools\n",
    "import math"
   ]
  },
  {
   "cell_type": "code",
   "execution_count": 26,
   "id": "11e461de",
   "metadata": {},
   "outputs": [
    {
     "name": "stdout",
     "output_type": "stream",
     "text": [
      "Help on function decorator in module decorator:\n",
      "\n",
      "decorator(caller, _func=None, kwsyntax=False)\n",
      "    decorator(caller) converts a caller function into a decorator\n",
      "\n"
     ]
    }
   ],
   "source": [
    "help(decorator)"
   ]
  },
  {
   "cell_type": "markdown",
   "id": "1e4d7420",
   "metadata": {},
   "source": [
    "### **Functions**"
   ]
  },
  {
   "cell_type": "code",
   "execution_count": 27,
   "id": "53bfe39e",
   "metadata": {},
   "outputs": [
    {
     "name": "stdout",
     "output_type": "stream",
     "text": [
      "Python is a programming language.\n",
      "Hell, Python!\n"
     ]
    }
   ],
   "source": [
    "# Define a function\n",
    "\"\"\" \n",
    "In the following function, when the code was executed, it yeilds the outputs for both functions. \n",
    "The function new_text() alluded to the function mytext() and behave as function. \n",
    "\"\"\"\n",
    "def mytext(text):\n",
    "    print(text)\n",
    "\n",
    "mytext('Python is a programming language.')\n",
    "new_text = mytext\n",
    "new_text('Hell, Python!')"
   ]
  },
  {
   "cell_type": "code",
   "execution_count": 1,
   "id": "d52a2f68",
   "metadata": {},
   "outputs": [
    {
     "data": {
      "text/plain": [
       "9.8596"
      ]
     },
     "execution_count": 1,
     "metadata": {},
     "output_type": "execute_result"
    }
   ],
   "source": [
    "def multiplication(num):\n",
    "    return num * num\n",
    "\n",
    "mult = multiplication\n",
    "mult(3.14)"
   ]
  },
  {
   "cell_type": "markdown",
   "id": "9eca8447",
   "metadata": {},
   "source": [
    "### **Nested/Inner Function**"
   ]
  },
  {
   "cell_type": "code",
   "execution_count": 28,
   "id": "4bbed126",
   "metadata": {},
   "outputs": [
    {
     "name": "stdout",
     "output_type": "stream",
     "text": [
      "Python is a programming language.\n",
      "Hello, Python!\n",
      "Hi, World!\n"
     ]
    }
   ],
   "source": [
    "# Define a function\n",
    "\"\"\" \n",
    "In the following function, it is nonsignificant how the child functions are announced. \n",
    "The implementation of the child function does influence on the output. \n",
    "These child functions are topically linked with the function mytext(), therefore they can not be called individually.\n",
    "\"\"\"\n",
    "def mytext():\n",
    "    print('Python is a programming language.')\n",
    "    def new_text():\n",
    "        print('Hello, Python!')\n",
    "    def message():\n",
    "        print('Hi, World!')\n",
    "    \n",
    "    new_text()\n",
    "    message()\n",
    "mytext()\n"
   ]
  },
  {
   "cell_type": "code",
   "execution_count": 3,
   "id": "df1abb3e",
   "metadata": {},
   "outputs": [
    {
     "name": "stdout",
     "output_type": "stream",
     "text": [
      "Python is a programming language.\n"
     ]
    }
   ],
   "source": [
    "# Define a function\n",
    "\"\"\"\n",
    "In the following example, the function text() is nesred into the function message().\n",
    "It will return each time when the function tex() is called. \n",
    "\"\"\"\n",
    "def message():\n",
    "    def text():\n",
    "        print('Python is a programming language.')\n",
    "    return text\n",
    "\n",
    "new_message = message()\n",
    "new_message()"
   ]
  },
  {
   "cell_type": "code",
   "execution_count": 4,
   "id": "c0f979dc",
   "metadata": {},
   "outputs": [
    {
     "data": {
      "text/plain": [
       "9.8596"
      ]
     },
     "execution_count": 4,
     "metadata": {},
     "output_type": "execute_result"
    }
   ],
   "source": [
    "def function(num):\n",
    "    def mult(num):\n",
    "        return num*num\n",
    "        \n",
    "    output = mult(num)\n",
    "    return output\n",
    "mult(3.14)"
   ]
  },
  {
   "cell_type": "code",
   "execution_count": 13,
   "id": "3a3864e4",
   "metadata": {},
   "outputs": [
    {
     "name": "stdout",
     "output_type": "stream",
     "text": [
      "Python is the most popular programming language.\n"
     ]
    }
   ],
   "source": [
    "def msg(text):\n",
    "    'Hello, World!'\n",
    "    def mail():\n",
    "        'Hi, Python!'\n",
    "        print(text)\n",
    "    \n",
    "    mail()\n",
    "\n",
    "msg('Python is the most popular programming language.')"
   ]
  },
  {
   "cell_type": "markdown",
   "id": "89eb083c",
   "metadata": {},
   "source": [
    "### **Passing functions**"
   ]
  },
  {
   "cell_type": "code",
   "execution_count": 29,
   "id": "06daad9c",
   "metadata": {},
   "outputs": [
    {
     "name": "stdout",
     "output_type": "stream",
     "text": [
      "8.53452\n",
      "0.5152866242038217\n"
     ]
    }
   ],
   "source": [
    "# Define a function\n",
    "\"\"\"\n",
    "In this function, the mult() and divide() functions as argument in operator() function are passed.\n",
    "\"\"\"\n",
    "def mult(x):\n",
    "    return x * 3.14\n",
    "def divide(x):\n",
    "    return x/3.14\n",
    "def operator(function, x):\n",
    "    number = function(x)\n",
    "    return number\n",
    "\n",
    "print(operator(mult, 2.718))\n",
    "print(operator(divide, 1.618))"
   ]
  },
  {
   "cell_type": "code",
   "execution_count": 7,
   "id": "98b5ba03",
   "metadata": {},
   "outputs": [
    {
     "data": {
      "text/plain": [
       "5.859874482048838"
      ]
     },
     "execution_count": 7,
     "metadata": {},
     "output_type": "execute_result"
    }
   ],
   "source": [
    "def addition(num):\n",
    "    return num + math.pi\n",
    "\n",
    "def called_function(func):\n",
    "    added_number = math.e\n",
    "    return func(added_number)\n",
    "\n",
    "called_function(addition)"
   ]
  },
  {
   "cell_type": "code",
   "execution_count": 111,
   "id": "065c5673",
   "metadata": {},
   "outputs": [
    {
     "name": "stdout",
     "output_type": "stream",
     "text": [
      "2.5217283965692467e+117\n",
      "2.5217283965692467e+117\n"
     ]
    }
   ],
   "source": [
    "def decorator_one(function):\n",
    "    def inner():\n",
    "        num = function()\n",
    "        return num * (num**num)\n",
    "    return inner\n",
    " \n",
    "def decorator_two(function):\n",
    "    def inner():\n",
    "        num = function()\n",
    "        return (num**num)/num\n",
    "    return inner\n",
    " \n",
    "@decorator_one\n",
    "@decorator_two\n",
    "def number():\n",
    "    return 4\n",
    " \n",
    "print(number())\n",
    "\n",
    " # The above decorator returns the following code\n",
    "x = pow(4, 4)/4\n",
    "print(x*(x**x))"
   ]
  },
  {
   "cell_type": "markdown",
   "id": "4beb10c1",
   "metadata": {},
   "source": [
    "### **Functions reverting other functions**"
   ]
  },
  {
   "cell_type": "code",
   "execution_count": 11,
   "id": "1118ff56",
   "metadata": {},
   "outputs": [
    {
     "name": "stdout",
     "output_type": "stream",
     "text": [
      "Python is a programming language.\n"
     ]
    }
   ],
   "source": [
    "def msg_func():\n",
    "    def text():\n",
    "        return \"Python is a programming language.\"\n",
    "    return text\n",
    "msg = msg_func()\n",
    "print(msg())"
   ]
  },
  {
   "cell_type": "markdown",
   "id": "c198524a",
   "metadata": {},
   "source": [
    "### **Decorating functions**"
   ]
  },
  {
   "cell_type": "code",
   "execution_count": 8,
   "id": "83093dd2",
   "metadata": {},
   "outputs": [
    {
     "name": "stdout",
     "output_type": "stream",
     "text": [
      "5.859874482048838\n"
     ]
    }
   ],
   "source": [
    "# Define a decorating function\n",
    "\"\"\"\n",
    "In the following example, the function outer_addition that is some voluminous is decorated.\n",
    "\"\"\"\n",
    "def addition(a, b): \n",
    "    print(a+b)\n",
    "def outer_addition(func):\n",
    "    def inner(a, b): \n",
    "        if a < b:\n",
    "            a, b = b, a\n",
    "        return func(a, b)\n",
    "    return inner\n",
    "\n",
    "result = outer_addition(addition)\n",
    "result(math.pi, math.e)"
   ]
  },
  {
   "cell_type": "code",
   "execution_count": 9,
   "id": "6272e079",
   "metadata": {},
   "outputs": [
    {
     "name": "stdout",
     "output_type": "stream",
     "text": [
      "5.859874482048838\n"
     ]
    }
   ],
   "source": [
    "\"\"\"\n",
    "Rather than above function, Python ensures to employ decorator in easy way with the symbol @ called 'pie' syntax, as below.\n",
    "\"\"\"\n",
    "def outer_addition(function):\n",
    "    def inner(a, b): \n",
    "        if a < b:\n",
    "            a, b = b, a\n",
    "        return function(a, b)\n",
    "    return inner\n",
    "\n",
    "@outer_addition         # Syntax of decorator\n",
    "def addition(a, b):\n",
    "    print(a+b)\n",
    "result = outer_addition(addition)\n",
    "result(math.pi, math.e)"
   ]
  },
  {
   "cell_type": "code",
   "execution_count": 17,
   "id": "1da08ef0",
   "metadata": {},
   "outputs": [
    {
     "name": "stdout",
     "output_type": "stream",
     "text": [
      "PYTHON IS THE MOST POPULAR PROGRAMMING LANGUAGE.\n",
      "PYTHON IS THE MOST POPULAR PROGRAMMING LANGUAGE.\n"
     ]
    }
   ],
   "source": [
    "def decorator_text_uppercase(func):\n",
    "    def wrapper():\n",
    "        function = func()\n",
    "        text_uppercase = function.upper()\n",
    "        return text_uppercase\n",
    "\n",
    "    return wrapper\n",
    "\n",
    "# Using a function\n",
    "def text():\n",
    "    return 'Python is the most popular programming language.'\n",
    "\n",
    "decorated_result = decorator_text_uppercase(text)\n",
    "print(decorated_result())\n",
    "\n",
    "# Using a decorator\n",
    "@decorator_text_uppercase\n",
    "def text():\n",
    "    return 'Python is the most popular programming language.'\n",
    "\n",
    "print(text())"
   ]
  },
  {
   "cell_type": "markdown",
   "id": "3e4cc297",
   "metadata": {},
   "source": [
    "### **Reprocessing decorator**\n",
    "* The decorator can be reused by recalling that decorator function. "
   ]
  },
  {
   "cell_type": "code",
   "execution_count": 37,
   "id": "66bb2799",
   "metadata": {},
   "outputs": [
    {
     "name": "stdout",
     "output_type": "stream",
     "text": [
      "Python is a programming language.\n",
      "Python is a programming language.\n"
     ]
    }
   ],
   "source": [
    "def do_twice(function):\n",
    "    def wrapper_do_twice():\n",
    "        function()\n",
    "        function()\n",
    "    return wrapper_do_twice\n",
    "\n",
    "@do_twice\n",
    "def text():\n",
    "    print('Python is a programming language.')\n",
    "text()"
   ]
  },
  {
   "cell_type": "markdown",
   "id": "c715df44",
   "metadata": {},
   "source": [
    "### **Decorators with Arguments**"
   ]
  },
  {
   "cell_type": "code",
   "execution_count": 39,
   "id": "47703e10",
   "metadata": {},
   "outputs": [
    {
     "name": "stdout",
     "output_type": "stream",
     "text": [
      "Python is a programming language.\n",
      "Python is a programming language.\n"
     ]
    }
   ],
   "source": [
    "def do_twice(function):\n",
    "    \"\"\"\n",
    "    The function wrapper_function() can admit any number of argument and pass them on the function.\n",
    "    \"\"\"\n",
    "    def wrapper_function(*args, **kwargs):\n",
    "        function(*args, **kwargs)\n",
    "        function(*args, **kwargs)\n",
    "    return wrapper_function\n",
    "\n",
    "@do_twice\n",
    "def text(programming_language):\n",
    "    print(f'{programming_language} is a programming language.')\n",
    "text('Python')"
   ]
  },
  {
   "cell_type": "markdown",
   "id": "8e1d02b7",
   "metadata": {},
   "source": [
    "### **Returning values from decorated function**"
   ]
  },
  {
   "cell_type": "code",
   "execution_count": 41,
   "id": "fc8ef115",
   "metadata": {},
   "outputs": [
    {
     "name": "stdout",
     "output_type": "stream",
     "text": [
      "Python is a programming language.\n",
      "Python is a programming language.\n"
     ]
    }
   ],
   "source": [
    "@do_twice\n",
    "def returning(programming_language):\n",
    "    print('Python is a programming language.')\n",
    "    return f'Hello, {programming_language}'\n",
    "\n",
    "hello_python = returning('Python')"
   ]
  },
  {
   "cell_type": "markdown",
   "id": "34f394db",
   "metadata": {},
   "source": [
    "### **Fancy decorators**\n",
    "* @propertymethod\n",
    "* @staticmethod\n",
    "* @classmethod"
   ]
  },
  {
   "cell_type": "code",
   "execution_count": 45,
   "id": "5bf9d3bf",
   "metadata": {},
   "outputs": [
    {
     "name": "stdout",
     "output_type": "stream",
     "text": [
      "Microorganism name: Aspergillus niger\n",
      "Microorganism product: inulinase\n",
      "Message: Aspergillus niger produces inulinase enzyme.\n"
     ]
    }
   ],
   "source": [
    "class Microorganism:\n",
    "    def __init__(self, name, product):\n",
    "        self.name = name\n",
    "        self.product = product\n",
    "    @property\n",
    "    def show(self):\n",
    "        return self.name + ' produces ' + self.product + ' enzyme'\n",
    "\n",
    "organism = Microorganism('Aspergillus niger', 'inulinase')\n",
    "print(f'Microorganism name: {organism.name}')\n",
    "print(f'Microorganism product: {organism.product}')\n",
    "print(f'Message: {organism.show}.')"
   ]
  },
  {
   "cell_type": "code",
   "execution_count": 46,
   "id": "93537f1c",
   "metadata": {},
   "outputs": [
    {
     "name": "stdout",
     "output_type": "stream",
     "text": [
      "Aspergillus niger is a fungus that produces inulinase enzyme.\n",
      "Aspergillus niger is a fungus that produces inulinase enzyme.\n"
     ]
    }
   ],
   "source": [
    "class Micoorganism:\n",
    "    @staticmethod\n",
    "    def name():\n",
    "        print('Aspergillus niger is a fungus that produces inulinase enzyme.')\n",
    "\n",
    "organims = Micoorganism()\n",
    "organims.name()\n",
    "Micoorganism.name()"
   ]
  },
  {
   "cell_type": "code",
   "execution_count": 97,
   "id": "682151fa",
   "metadata": {},
   "outputs": [
    {
     "name": "stdout",
     "output_type": "stream",
     "text": [
      "The fungus Aspergillus niger produces inulinase enzyme.\n"
     ]
    }
   ],
   "source": [
    "class Microorganism:\n",
    "    def __init__(self, name, product):\n",
    "        self.name = name\n",
    "        self.product = product\n",
    "    \n",
    "    @classmethod\n",
    "    def display(cls):\n",
    "        return cls('Aspergillus niger', 'inulinase')\n",
    "\n",
    "organism = Microorganism.display()\n",
    "print(f'The fungus {organism.name} produces {organism.product} enzyme.')\n"
   ]
  },
  {
   "cell_type": "markdown",
   "id": "f2e3fbe8",
   "metadata": {},
   "source": [
    "### **Decorator with arguments**"
   ]
  },
  {
   "cell_type": "code",
   "execution_count": 49,
   "id": "187d44e9",
   "metadata": {},
   "outputs": [
    {
     "name": "stdout",
     "output_type": "stream",
     "text": [
      "Python\n",
      "Python\n",
      "Python\n",
      "Python\n"
     ]
    }
   ],
   "source": [
    "\"\"\"\n",
    "In the following example, @iterate refers to a function object that can be called in another function.\n",
    "The @iterate(numbers=4) will return a function which behaves as a decorator.\n",
    "\"\"\"\n",
    "def iterate(numbers):\n",
    "    def decorator_iterate(function):\n",
    "        @functools.wraps(function)\n",
    "        def wrapper(*args, **kwargs):\n",
    "            for _ in range(numbers):\n",
    "                worth = function(*args, **kwargs)\n",
    "            return worth\n",
    "        return wrapper\n",
    "    return decorator_iterate\n",
    "\n",
    "@iterate(numbers=4)\n",
    "def function_one(name):\n",
    "    print(f'{name}')\n",
    "\n",
    "x = function_one('Python')"
   ]
  },
  {
   "cell_type": "code",
   "execution_count": 21,
   "id": "8de05763",
   "metadata": {},
   "outputs": [
    {
     "name": "stdout",
     "output_type": "stream",
     "text": [
      "The arguments are Python and R.\n",
      "My favorite programming languages are Python and R.\n"
     ]
    }
   ],
   "source": [
    "def arguments(func):\n",
    "    def wrapper_arguments(argument_1, argument_2):\n",
    "        print(f'The arguments are {argument_1} and {argument_2}.')\n",
    "        func(argument_1, argument_2)\n",
    "    return wrapper_arguments\n",
    "\n",
    "\n",
    "@arguments\n",
    "def programing_language(lang_1, lang_2):\n",
    "    print(f'My favorite programming languages are {lang_1} and {lang_2}.')\n",
    "\n",
    "programing_language(\"Python\", \"R\")"
   ]
  },
  {
   "cell_type": "markdown",
   "id": "98251e4b",
   "metadata": {},
   "source": [
    "### **Multiple decorators**"
   ]
  },
  {
   "cell_type": "code",
   "execution_count": 18,
   "id": "e92df587",
   "metadata": {},
   "outputs": [
    {
     "data": {
      "text/plain": [
       "['PYTHON', 'IS', 'THE', 'MOST', 'POPULAR', 'PROGRAMMING', 'LANGUAGE.']"
      ]
     },
     "execution_count": 18,
     "metadata": {},
     "output_type": "execute_result"
    }
   ],
   "source": [
    "def splitted_text(text):\n",
    "    def wrapper():\n",
    "        function = text()\n",
    "        text_splitting = function.split()\n",
    "        return text_splitting\n",
    "\n",
    "    return wrapper\n",
    "\n",
    "@splitted_text\n",
    "@decorator_text_uppercase       # Calling other decorator above\n",
    "def text():\n",
    "    return 'Python is the most popular programming language.'\n",
    "text()"
   ]
  },
  {
   "cell_type": "markdown",
   "id": "af86a49f",
   "metadata": {},
   "source": [
    "### **Arbitrary arguments**"
   ]
  },
  {
   "cell_type": "code",
   "execution_count": 43,
   "id": "1dc6aa04",
   "metadata": {},
   "outputs": [
    {
     "name": "stdout",
     "output_type": "stream",
     "text": [
      "1. Without arguments decorator\n",
      "These are positional arguments ().\n",
      "These are keyword arguments {}.\n",
      "There is no argument in this decorator.\n",
      "2. With positional arguments decorator\n",
      "These are positional arguments (inf, 6.283185307179586, 3.141592653589793, 2.718281828459045, nan, -inf).\n",
      "These are keyword arguments {}.\n",
      "inf 6.283185307179586 3.141592653589793 2.718281828459045 nan -inf\n",
      "3. With keyword arguments decorator\n",
      "These are positional arguments ().\n",
      "These are keyword arguments {'language_1': 'Python', 'language_2': 'R'}.\n",
      "Python and R are my favorite programming languages and keyword arguments.\n"
     ]
    }
   ],
   "source": [
    "def arbitrary_argument(func):\n",
    "    def wrapper(*args,**kwargs):\n",
    "        print(f'These are positional arguments {args}.')\n",
    "        print(f'These are keyword arguments {kwargs}.')\n",
    "        func(*args)\n",
    "    return wrapper\n",
    "\n",
    "\"\"\"1. Without arguments decorator\"\"\"\n",
    "print(__doc__)\n",
    "@arbitrary_argument\n",
    "def without_argument():\n",
    "    print(\"There is no argument in this decorator.\")\n",
    "\n",
    "without_argument()\n",
    "\n",
    "\"\"\"2. With positional arguments decorator\"\"\"\n",
    "print(__doc__)\n",
    "@arbitrary_argument\n",
    "def with_positional_argument(x1, x2, x3, x4, x5, x6):\n",
    "    print(x1, x2, x3, x4, x5, x6)\n",
    "\n",
    "with_positional_argument(math.inf, math.tau, math.pi, math.e, math.nan, -math.inf)\n",
    "\n",
    "\"\"\"3. With keyword arguments decorator\"\"\"\n",
    "print(__doc__)\n",
    "@arbitrary_argument\n",
    "def with_keyword_argument():\n",
    "    print(\"Python and R are my favorite programming languages and keyword arguments.\")\n",
    "\n",
    "with_keyword_argument(language_1=\"Python\", language_2=\"R\")"
   ]
  },
  {
   "cell_type": "markdown",
   "id": "9bf3515a",
   "metadata": {},
   "source": [
    "### **Debugging decorators**"
   ]
  },
  {
   "cell_type": "code",
   "execution_count": 69,
   "id": "53e427b2",
   "metadata": {},
   "outputs": [
    {
     "name": "stdout",
     "output_type": "stream",
     "text": [
      "Python is the most popular programming language. \n",
      "\n",
      "message\n",
      "Python is the most popular programming language.\n"
     ]
    }
   ],
   "source": [
    "def capitalize_dec(function):\n",
    "    @functools.wraps(function)\n",
    "    def wrapper():\n",
    "        return function().capitalize()\n",
    "    return wrapper\n",
    "\n",
    "@capitalize_dec\n",
    "def message():\n",
    "    \"Python is the most popular programming language.\"\n",
    "    return 'PYTHON IS THE MOST POPULAR PROGRAMMING LANGUAGE. '\n",
    "\n",
    "print(message())\n",
    "print()\n",
    "print(message.__name__)\n",
    "print(message.__doc__)"
   ]
  },
  {
   "cell_type": "markdown",
   "id": "8d335140",
   "metadata": {},
   "source": [
    "### **Preserving decorators**"
   ]
  },
  {
   "cell_type": "code",
   "execution_count": 85,
   "id": "886d70dd",
   "metadata": {},
   "outputs": [
    {
     "name": "stdout",
     "output_type": "stream",
     "text": [
      "Before calling the function, this is printed.\n",
      "Python is the most popular programming language.\n",
      "After calling the function, this is printed.\n",
      "wrapper\n",
      "None\n",
      "<class 'function'>\n",
      "__main__\n",
      "<code object wrapper at 0x0000029986F96970, file \"C:\\Users\\test\\AppData\\Local\\Temp/ipykernel_1180/3788198392.py\", line 2>\n",
      "(<cell at 0x0000029986311840: function object at 0x0000029981A03F40>,)\n",
      "{}\n",
      "<built-in method __dir__ of function object at 0x0000029986273250>\n",
      "<built-in method __format__ of function object at 0x0000029986273250>\n"
     ]
    }
   ],
   "source": [
    "def preserved_decorator(function):\n",
    "    def wrapper():\n",
    "        print('Before calling the function, this is printed.')\n",
    "        function()\n",
    "        print('After calling the function, this is printed.')\n",
    "    return wrapper\n",
    "\n",
    "@preserved_decorator\n",
    "def message():\n",
    "    \"\"\"This function prints the message when it is called.\"\"\"\n",
    "    print('Python is the most popular programming language.')\n",
    "\n",
    "message()\n",
    "print(message.__name__)\n",
    "print(message.__doc__)\n",
    "print(message.__class__)\n",
    "print(message.__module__)\n",
    "print(message.__code__)\n",
    "print(message.__closure__)\n",
    "print(message.__annotations__)\n",
    "print(message.__dir__)\n",
    "print(message.__format__)"
   ]
  }
 ],
 "metadata": {
  "kernelspec": {
   "display_name": "Python 3 (ipykernel)",
   "language": "python",
   "name": "python3"
  },
  "language_info": {
   "codemirror_mode": {
    "name": "ipython",
    "version": 3
   },
   "file_extension": ".py",
   "mimetype": "text/x-python",
   "name": "python",
   "nbconvert_exporter": "python",
   "pygments_lexer": "ipython3",
   "version": "3.9.7"
  },
  "vscode": {
   "interpreter": {
    "hash": "b7377f19eab4b8c2e19b4d5b732c435591579d0f123dd21b146d33dfd161e508"
   }
  }
 },
 "nbformat": 4,
 "nbformat_minor": 5
}
