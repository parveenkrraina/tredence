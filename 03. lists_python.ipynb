{
 "cells": [
  {
   "cell_type": "markdown",
   "id": "8a1e7ca9",
   "metadata": {},
   "source": [
    "# Python Tutorial"
   ]
  },
  {
   "cell_type": "markdown",
   "id": "c403e455",
   "metadata": {},
   "source": [
    "## 3. Lists\n",
    "\n",
    "- Lists are ordered.\n",
    "- Lists can contain any arbitrary objects.\n",
    "- List elements can be accessed by index.\n",
    "- Lists can be nested to arbitrary depth.\n",
    "- Lists are mutable.\n",
    "- Lists are dynamic."
   ]
  },
  {
   "cell_type": "markdown",
   "id": "0e8e74ab",
   "metadata": {},
   "source": [
    "<img src=\"https://files.realpython.com/media/List-Comprehensions-in-Python_Watermarked.39cf85bdd5d0.jpg\" width=\"500\" alt=\"lists\"  />"
   ]
  },
  {
   "cell_type": "markdown",
   "id": "8a11b729",
   "metadata": {},
   "source": [
    "### Indexing"
   ]
  },
  {
   "cell_type": "code",
   "execution_count": null,
   "id": "938618c9",
   "metadata": {},
   "outputs": [],
   "source": [
    "# Creating a list that contains different types of elements\n",
    "nlis = ['python', 25, 2022]  # The list contains a string, an integer, and another integer\n",
    "\n",
    "# Printing the list\n",
    "nlis\n"
   ]
  },
  {
   "cell_type": "markdown",
   "id": "3380f77f",
   "metadata": {},
   "source": [
    "### Explanation:\n",
    "\n",
    "-   **`nlis = ['python', 25, 2022]`**:\n",
    "    -   This line creates a list named `nlis` that includes three elements:\n",
    "        -   `'python'` is a string.\n",
    "        -   `25` is an integer.\n",
    "        -   `2022` is also an integer.\n",
    "-   **`nlis`**:\n",
    "    -   This line simply outputs the list when run in an interactive environment (e.g., Jupyter Notebook or Python shell).\n",
    "\n",
    "The code creates a list that can hold multiple data types, and the comment explains what each part of the code does."
   ]
  },
  {
   "cell_type": "code",
   "execution_count": null,
   "id": "0ec48d6a",
   "metadata": {},
   "outputs": [],
   "source": [
    "# Printing positive and negative indexing of the first element\n",
    "print('Positive and negative indexing of the first element: \\n - Positive index:', nlis[0], '\\n - Negative index:', nlis[-3])\n",
    "print()  # Adding a blank line for better readability\n",
    "\n",
    "# Printing positive and negative indexing of the second element\n",
    "print('Positive and negative indexing of the second element: \\n - Positive index:', nlis[1], '\\n - Negative index:', nlis[-2])\n",
    "print()  # Adding a blank line for better readability\n",
    "\n",
    "# Printing positive and negative indexing of the third element\n",
    "print('Positive and negative indexing of the third element: \\n - Positive index:', nlis[2], '\\n - Negative index:', nlis[-1])\n"
   ]
  },
  {
   "cell_type": "markdown",
   "id": "ef64f0eb",
   "metadata": {},
   "source": [
    "\n",
    "### Explanation:\n",
    "\n",
    "-   **`nlis[0]` and `nlis[-3]`**:\n",
    "    \n",
    "    -   `nlis[0]` accesses the first element of the list using positive indexing (`'python'`).\n",
    "    -   `nlis[-3]` accesses the first element of the list using negative indexing (`'python'`).\n",
    "-   **`nlis[1]` and `nlis[-2]`**:\n",
    "    \n",
    "    -   `nlis[1]` accesses the second element of the list using positive indexing (`25`).\n",
    "    -   `nlis[-2]` accesses the second element of the list using negative indexing (`25`).\n",
    "-   **`nlis[2]` and `nlis[-1]`**:\n",
    "    \n",
    "    -   `nlis[2]` accesses the third element of the list using positive indexing (`2022`).\n",
    "    -   `nlis[-1]` accesses the third element of the list using negative indexing (`2022`)."
   ]
  },
  {
   "cell_type": "markdown",
   "id": "36a59d5c",
   "metadata": {},
   "source": [
    "### What can content a list?\n",
    "\n",
    "- Strings\n",
    "- Floats\n",
    "- Integer\n",
    "- Boolean\n",
    "- Nested List\n",
    "- Nested Tuple\n",
    "- Other data structures"
   ]
  },
  {
   "cell_type": "code",
   "execution_count": null,
   "id": "f1c9fc94",
   "metadata": {},
   "outputs": [],
   "source": [
    "# Creating a list with various types of elements\n",
    "nlis = [\n",
    "    'python',                 # A string\n",
    "    3.14,                     # A float\n",
    "    2022,                     # An integer\n",
    "    [1, 1, 2, 3, 5, 8, 13, 21, 34],  # A list containing integers (Fibonacci sequence)\n",
    "    ('hello', 'python', 3, 14, 2022) # A tuple containing a mix of strings and integers\n",
    "]\n",
    "\n",
    "# Printing the list\n",
    "nlis\n"
   ]
  },
  {
   "cell_type": "markdown",
   "id": "3c62a312",
   "metadata": {},
   "source": [
    "\n",
    "### Explanation:\n",
    "\n",
    "-   **`'python'`**: A string element.\n",
    "-   **`3.14`**: A float element.\n",
    "-   **`2022`**: An integer element.\n",
    "-   **`[1, 1, 2, 3, 5, 8, 13, 21, 34]`**: A list within the list, containing integers that represent the Fibonacci sequence.\n",
    "-   **`('hello', 'python', 3, 14, 2022)`**: A tuple within the list, containing two strings and three integers."
   ]
  },
  {
   "cell_type": "markdown",
   "id": "a44adffe",
   "metadata": {},
   "source": [
    "### List operations"
   ]
  },
  {
   "cell_type": "code",
   "execution_count": null,
   "id": "547996b2",
   "metadata": {},
   "outputs": [],
   "source": [
    "# Creating a list with various types of elements\n",
    "nlis = [\n",
    "    'python',                 # A string\n",
    "    3.14,                     # A float\n",
    "    2022,                     # An integer\n",
    "    [1, 1, 2, 3, 5, 8, 13, 21, 34],  # A list containing integers (Fibonacci sequence)\n",
    "    ('hello', 'python', 3, 14, 2022) # A tuple containing a mix of strings and integers\n",
    "]\n",
    "\n",
    "# Displaying the list\n",
    "nlis"
   ]
  },
  {
   "cell_type": "markdown",
   "id": "6b97f53f",
   "metadata": {},
   "source": [
    "\n",
    "### Explanation of the List Elements:\n",
    "\n",
    "-   **`'python'`**: This is a string element.\n",
    "-   **`3.14`**: This is a float element.\n",
    "-   **`2022`**: This is an integer element.\n",
    "-   **`[1, 1, 2, 3, 5, 8, 13, 21, 34]`**: This is a nested list containing integers that follow the Fibonacci sequence.\n",
    "-   **`('hello', 'python', 3, 14, 2022)`**: This is a tuple containing a mix of strings and integers."
   ]
  },
  {
   "cell_type": "code",
   "execution_count": null,
   "id": "8e041c7e",
   "metadata": {},
   "outputs": [],
   "source": [
    "# length of the list\n",
    "len(nlis)"
   ]
  },
  {
   "cell_type": "markdown",
   "id": "71205312",
   "metadata": {},
   "source": [
    "#### Slicing\n",
    "\n",
    "Slicing allows you to access a range of elements from the list using the `start:end` notation, where the slice includes elements from the `start` index up to but not including the `end` index."
   ]
  },
  {
   "cell_type": "code",
   "execution_count": null,
   "id": "4c95d7ad",
   "metadata": {},
   "outputs": [],
   "source": [
    "# Slicing and printing the first two elements of the list\n",
    "print(nlis[0:2])\n",
    "\n",
    "# Slicing and printing the third and fourth elements of the list\n",
    "print(nlis[2:4])\n",
    "\n",
    "# Slicing and printing the fifth element of the list (there is no sixth element in the list)\n",
    "print(nlis[4:6])\n"
   ]
  },
  {
   "cell_type": "markdown",
   "id": "3dd7f87c",
   "metadata": {},
   "source": [
    "#### Extending the list\n",
    "\n",
    "- we use the **extend()** function to add a new element to the list.\n",
    "- With this function, we add more than one element to the list."
   ]
  },
  {
   "cell_type": "code",
   "execution_count": null,
   "id": "ca6ea3f0",
   "metadata": {},
   "outputs": [],
   "source": [
    "# Creating the initial list with various types of elements\n",
    "nlis = [\n",
    "    'python',                 # A string\n",
    "    3.14,                     # A float\n",
    "    2022,                     # An integer\n",
    "    [1, 1, 2, 3, 5, 8, 13, 21, 34],  # A nested list (Fibonacci sequence)\n",
    "    ('hello', 'python', 3, 14, 2022) # A tuple with mixed elements\n",
    "]\n",
    "\n",
    "# Extending the list by adding new elements\n",
    "nlis.extend(['hello world!', 1.618])\n",
    "\n",
    "# Printing the updated list\n",
    "nlis\n"
   ]
  },
  {
   "cell_type": "markdown",
   "id": "2b8bc338",
   "metadata": {},
   "source": [
    "### Explanation:\n",
    "\n",
    "-   **`nlis.extend(['hello world!', 1.618])`**:\n",
    "    -   The `extend()` method is used to add the elements of the iterable (in this case, a list with two elements) to the end of the list `nlis`.\n",
    "    -   The elements added are `'hello world!'` (a string) and `1.618` (a float)."
   ]
  },
  {
   "cell_type": "markdown",
   "id": "19b658b9",
   "metadata": {},
   "source": [
    "#### **append()** method\n",
    "\n",
    "- As different from the **extend()** method, with the **append()** method, we add only one element to the list\n",
    "- You can see the difference by comparing the above and below codes."
   ]
  },
  {
   "cell_type": "code",
   "execution_count": null,
   "id": "83eaf0eb",
   "metadata": {},
   "outputs": [],
   "source": [
    "# Creating the initial list with various types of elements\n",
    "nlis = [\n",
    "    'python',                 # A string\n",
    "    3.14,                     # A float\n",
    "    2022,                     # An integer\n",
    "    [1, 1, 2, 3, 5, 8, 13, 21, 34],  # A nested list (Fibonacci sequence)\n",
    "    ('hello', 'python', 3, 14, 2022) # A tuple with mixed elements\n",
    "]\n",
    "\n",
    "# Appending a new list as a single element to 'nlis'\n",
    "nlis.append(['hello world!', 1.618])\n",
    "\n",
    "# Printing the updated list\n",
    "nlis\n"
   ]
  },
  {
   "cell_type": "markdown",
   "id": "38f7770d",
   "metadata": {},
   "source": [
    "\n",
    "### Explanation:\n",
    "\n",
    "-   **`nlis.append(['hello world!', 1.618])`**:\n",
    "    -   The `append()` method adds the entire list `['hello world!', 1.618]` as a single element to the end of the list `nlis`.\n",
    "    -   Unlike `extend()`, which adds each element of the iterable individually, `append()` adds the entire list as a single element."
   ]
  },
  {
   "cell_type": "markdown",
   "id": "facc17b8",
   "metadata": {},
   "source": [
    "#### len(), append(), count(), index(), insert(), max(), min(), sum() functions"
   ]
  },
  {
   "cell_type": "code",
   "execution_count": null,
   "id": "2519bd0f",
   "metadata": {},
   "outputs": [],
   "source": [
    "# Initial list\n",
    "lis = [1, 2, 3, 4, 5, 6, 7]\n",
    "\n",
    "# Printing the length of the list\n",
    "print(len(lis))  # Output: 7\n",
    "\n",
    "# Appending the number 4 to the list\n",
    "lis.append(4)\n",
    "print(lis)  # Output: [1, 2, 3, 4, 5, 6, 7, 4]\n",
    "\n",
    "# Counting how many times the number 4 appears in the list\n",
    "print(lis.count(4))  # Output: 2\n",
    "\n",
    "# Finding the index of the number 2 in the list\n",
    "print(lis.index(2))  # Output: 1\n",
    "\n",
    "# Inserting the number 9 at index 8\n",
    "lis.insert(8, 9)\n",
    "print(lis)  # Output: [1, 2, 3, 4, 5, 6, 7, 4, 9]\n",
    "\n",
    "# Finding the maximum number in the list\n",
    "print(max(lis))  # Output: 9\n",
    "\n",
    "# Finding the minimum number in the list\n",
    "print(min(lis))  # Output: 1\n",
    "\n",
    "# Finding the sum of the numbers in the list\n",
    "print(sum(lis))  # Output: 41\n"
   ]
  },
  {
   "cell_type": "markdown",
   "id": "0e1f42d8",
   "metadata": {},
   "source": [
    "#### Changing the element of a list since it is **mutable**"
   ]
  },
  {
   "cell_type": "code",
   "execution_count": null,
   "id": "cd8aeab3",
   "metadata": {},
   "outputs": [],
   "source": [
    "# Initial list with various types of elements\n",
    "nlis = ['python', 3.14, 2022, [1, 1, 2, 3, 5, 8, 13, 21, 34], ('hello', 'python', 3, 14, 2022)]\n",
    "\n",
    "# Print the list before any changes\n",
    "print('Before changing:', nlis)\n",
    "\n",
    "# Change the first element (index 0) from 'python' to 'hello python!'\n",
    "nlis[0] = 'hello python!'\n",
    "print('After changing:', nlis)\n",
    "\n",
    "# Change the second element (index 1) from 3.14 to 1.618\n",
    "nlis[1] = 1.618\n",
    "print('After changing:', nlis)\n",
    "\n",
    "# Change the third element (index 2) from 2022 to the list [3.14, 2022]\n",
    "nlis[2] = [3.14, 2022]\n",
    "print('After changing:', nlis)\n"
   ]
  },
  {
   "cell_type": "markdown",
   "id": "5b89afe9",
   "metadata": {},
   "source": [
    "\n",
    "### Explanation:\n",
    "\n",
    "1.  **Initial List**:\n",
    "    \n",
    "    -   `nlis = ['python', 3.14, 2022, [1, 1, 2, 3, 5, 8, 13, 21, 34], ('hello', 'python', 3, 14, 2022)]`\n",
    "    -   The initial list contains a mix of strings, floats, an integer, a list, and a tuple.\n",
    "2.  **Changing the First Element**:\n",
    "    \n",
    "    -   `nlis[0] = 'hello python!'`\n",
    "    -   The first element (`'python'`) is replaced with the string `'hello python!'`.\n",
    "3.  **Changing the Second Element**:\n",
    "    \n",
    "    -   `nlis[1] = 1.618`\n",
    "    -   The second element (`3.14`) is replaced with the float `1.618`.\n",
    "4.  **Changing the Third Element**:\n",
    "    \n",
    "    -   `nlis[2] = [3.14, 2022]`\n",
    "    -   The third element (`2022`) is replaced with a list `[3.14, 2022]`."
   ]
  },
  {
   "cell_type": "markdown",
   "id": "705317bc",
   "metadata": {},
   "source": [
    "#### Deleting the element from the list using **del()** function"
   ]
  },
  {
   "cell_type": "code",
   "execution_count": null,
   "id": "b2b196ae",
   "metadata": {},
   "outputs": [],
   "source": [
    "# Print the list before any changes\n",
    "print('Before changing:', nlis)\n",
    "\n",
    "# Delete the first element (index 0)\n",
    "del(nlis[0])\n",
    "print('After changing:', nlis)\n",
    "\n",
    "# Delete the last element (negative index -1)\n",
    "del(nlis[-1])\n",
    "print('After changing:', nlis)\n"
   ]
  },
  {
   "cell_type": "code",
   "execution_count": null,
   "id": "17299450",
   "metadata": {},
   "outputs": [],
   "source": [
    "nlis = ['python', 3.14, 2022, [1, 1, 2, 3, 5, 8, 13, 21, 34], ('hello', 'python', 3, 14, 2022)]\n",
    "print('Before deleting:', nlis)\n",
    "\n",
    "# Delete the entire list\n",
    "del nlis\n",
    "\n",
    "# Attempting to print the list after it has been deleted\n",
    "print('After deleting:', nlis)\n"
   ]
  },
  {
   "cell_type": "markdown",
   "id": "a447951a",
   "metadata": {},
   "source": [
    "#### Conversion of a string into a list using **split()** function"
   ]
  },
  {
   "cell_type": "code",
   "execution_count": null,
   "id": "c3738e48",
   "metadata": {},
   "outputs": [],
   "source": [
    "message = 'Python is a programming language.'\n",
    "message.split()"
   ]
  },
  {
   "cell_type": "markdown",
   "id": "1233ec84",
   "metadata": {},
   "source": [
    "\n",
    "### Explanation:\n",
    "\n",
    "-   **`message.split()`**:\n",
    "    -   This splits the string `'Python is a programming language.'` at each space.\n",
    "    -   The result is a list of words that were separated by spaces in the original string."
   ]
  },
  {
   "cell_type": "markdown",
   "id": "3132aef5",
   "metadata": {},
   "source": [
    "#### Use of **split()** function with a **delimiter**"
   ]
  },
  {
   "cell_type": "code",
   "execution_count": null,
   "id": "4805b741",
   "metadata": {},
   "outputs": [],
   "source": [
    "text = 'p,y,t,h,o,n'\n",
    "text.split(\",\" )"
   ]
  },
  {
   "cell_type": "markdown",
   "id": "96d9e7ab",
   "metadata": {},
   "source": [
    "\n",
    "### Explanation:\n",
    "\n",
    "-   **`text.split(\",\")`**:\n",
    "    -   This splits the string `'p,y,t,h,o,n'` at each comma.\n",
    "    -   The result is a list of the characters that were separated by commas in the original string."
   ]
  },
  {
   "cell_type": "markdown",
   "id": "5d3a14ad",
   "metadata": {},
   "source": [
    "#### Basic operations"
   ]
  },
  {
   "cell_type": "code",
   "execution_count": null,
   "id": "a40c4efd",
   "metadata": {},
   "outputs": [],
   "source": [
    "nlis_1 = ['a', 'b', 'hello', 'Python']\n",
    "nlis_2 = [1, 2, 3, 4, 5, 6]\n",
    "\n",
    "# Print the length of nlis_1\n",
    "print(len(nlis_1))  # Output: 4\n",
    "\n",
    "# Print the length of nlis_2\n",
    "print(len(nlis_2))  # Output: 6\n",
    "\n",
    "# Concatenate nlis_1 and nlis_2\n",
    "print(nlis_1 + nlis_2)  # Output: ['a', 'b', 'hello', 'Python', 1, 2, 3, 4, 5, 6]\n",
    "\n",
    "# Repeat nlis_1 three times\n",
    "print(nlis_1 * 3)  # Output: ['a', 'b', 'hello', 'Python', 'a', 'b', 'hello', 'Python', 'a', 'b', 'hello', 'Python']\n",
    "\n",
    "# Repeat nlis_2 three times\n",
    "print(nlis_2 * 3)  # Output: [1, 2, 3, 4, 5, 6, 1, 2, 3, 4, 5, 6, 1, 2, 3, 4, 5, 6]\n",
    "\n",
    "# Iterating through nlis_1 and printing each element\n",
    "for i in nlis_1:\n",
    "    print(i)\n",
    "\n",
    "# Iterating through nlis_2 and printing each element\n",
    "for i in nlis_2:\n",
    "    print(i)\n",
    "\n",
    "# Check if 4 is in nlis_1\n",
    "print(4 in nlis_1)  # Output: False\n",
    "\n",
    "# Check if 4 is in nlis_2\n",
    "print(4 in nlis_2)  # Output: True\n"
   ]
  },
  {
   "cell_type": "markdown",
   "id": "38a6de0a",
   "metadata": {},
   "source": [
    "#### Copy the list\n"
   ]
  },
  {
   "cell_type": "code",
   "execution_count": null,
   "id": "499e618c",
   "metadata": {},
   "outputs": [],
   "source": [
    "nlis = ['python', 3.14, 2022, [1, 1, 2, 3, 5, 8, 13, 21, 34], ('hello', 'python', 3,14, 2022)]\n",
    "copy_list = nlis\n",
    "print('nlis:', nlis)\n",
    "print('copy_list:', copy_list)"
   ]
  },
  {
   "cell_type": "markdown",
   "id": "9fcdeab6",
   "metadata": {},
   "source": [
    "\n",
    "### Explanation:\n",
    "\n",
    "1.  **Creating the List `nlis`**:\n",
    "    \n",
    "    -   `nlis` is a list that contains various types of elements: a string, a float, an integer, a nested list, and a tuple.\n",
    "2.  **Assigning `nlis` to `copy_list`**:\n",
    "    \n",
    "    -   `copy_list = nlis` doesn't create a new list; it simply makes `copy_list` a reference to the same list that `nlis` points to. Both variables now point to the same object in memory.\n",
    "3.  **Printing the Lists**:\n",
    "    \n",
    "    -   When you print both `nlis` and `copy_list`, they will show the same content because they are references to the same list."
   ]
  },
  {
   "cell_type": "code",
   "execution_count": null,
   "id": "442b5784",
   "metadata": {},
   "outputs": [],
   "source": [
    "# Original list\n",
    "nlis = ['python', 3.14, 2022, [1, 1, 2, 3, 5, 8, 13, 21, 34], ('hello', 'python', 3, 14, 2022)]\n",
    "print('Original list (nlis):', nlis)\n",
    "\n",
    "# Copying the list by reference\n",
    "copy_list = nlis\n",
    "print('Copied list (copy_list):', copy_list)\n",
    "\n",
    "# Accessing the first element of the copied list\n",
    "print('copy_list[0]:', copy_list[0])\n",
    "\n",
    "# Modifying the first element of the original list\n",
    "nlis[0] = 'hello python!'\n",
    "\n",
    "# Accessing the first element of the copied list after modification\n",
    "print('copy_list[0] after modification in nlis:', copy_list[0])\n"
   ]
  },
  {
   "cell_type": "markdown",
   "id": "3dd9c527",
   "metadata": {},
   "source": [
    "\n",
    "### Explanation:\n",
    "\n",
    "1.  **Initial Assignment**:\n",
    "    \n",
    "    -   When you do `copy_list = nlis`, you're not creating a new list but merely pointing `copy_list` to the same object that `nlis` refers to. Both `nlis` and `copy_list` now reference the same list in memory.\n",
    "2.  **Changing `nlis[0]`**:\n",
    "    \n",
    "    -   When you modify `nlis[0] = 'hello python!'`, this change is reflected in `copy_list` because they both point to the same list."
   ]
  },
  {
   "cell_type": "markdown",
   "id": "ba03960b",
   "metadata": {},
   "source": [
    "#### Clone the list"
   ]
  },
  {
   "cell_type": "code",
   "execution_count": null,
   "id": "2752e027",
   "metadata": {},
   "outputs": [],
   "source": [
    "nlis = ['python', 3.14, 2022, [1, 1, 2, 3, 5, 8, 13, 21, 34], ('hello', 'python', 3, 14, 2022)]\n",
    "clone_lis = nlis[:]  # Cloning the original list\n",
    "\n",
    "# Printing the cloned list\n",
    "clone_lis\n"
   ]
  },
  {
   "cell_type": "code",
   "execution_count": null,
   "id": "4ecae682",
   "metadata": {},
   "outputs": [],
   "source": [
    "nlis = ['python', 3.14, 2022, [1, 1, 2, 3, 5, 8, 13, 21, 34], ('hello', 'python', 3, 14, 2022)]\n",
    "print('Original list (nlis):', nlis)\n",
    "\n",
    "# Cloning the original list\n",
    "clone_list = nlis[:]\n",
    "print('Cloned list (clone_list):', clone_list)\n",
    "\n",
    "# Accessing the first element of the cloned list\n",
    "print('clone_list[0]:', clone_list[0])\n",
    "\n",
    "# Modifying the first element of the original list\n",
    "nlis[0] = 'hello, python!'\n",
    "\n",
    "# Printing the modified original list\n",
    "print('Modified original list (nlis):', nlis)\n",
    "\n",
    "# Accessing the first element of the cloned list after the original list was modified\n",
    "print('clone_list[0] after modification in nlis:', clone_list[0])\n"
   ]
  },
  {
   "cell_type": "markdown",
   "id": "4676d7be",
   "metadata": {},
   "source": [
    "#### Concatenate the list"
   ]
  },
  {
   "cell_type": "code",
   "execution_count": null,
   "id": "3962af16",
   "metadata": {},
   "outputs": [],
   "source": [
    "a_list = ['a', 'b', ['c', 'd'], 'e']\n",
    "b_list = [1,2,3,4,5,(6,7), True, False]\n",
    "new_list = a_list + b_list\n",
    "print(new_list)"
   ]
  },
  {
   "cell_type": "markdown",
   "id": "0afd8f9e",
   "metadata": {},
   "source": [
    "\n",
    "### Explanation:\n",
    "\n",
    "-   **`a_list`** contains:\n",
    "    \n",
    "    -   `'a'`: A string.\n",
    "    -   `'b'`: Another string.\n",
    "    -   `['c', 'd']`: A nested list.\n",
    "    -   `'e'`: Another string.\n",
    "-   **`b_list`** contains:\n",
    "    \n",
    "    -   `1, 2, 3, 4, 5`: Integers.\n",
    "    -   `(6, 7)`: A tuple.\n",
    "    -   `True, False`: Boolean values.\n",
    "-   **Concatenation**:\n",
    "    \n",
    "    -   The `+` operator is used to concatenate `a_list` and `b_list`, resulting in a single list `new_list` that contains all the elements from both lists in their original order."
   ]
  },
  {
   "cell_type": "markdown",
   "id": "b47ebce1",
   "metadata": {},
   "source": [
    "### As different from the **list**, I also find significant the following information. "
   ]
  },
  {
   "cell_type": "markdown",
   "id": "02ce8e52",
   "metadata": {},
   "source": [
    "### **input()** function\n",
    "\n",
    "- **input()** function in Python provides a user of a program supply inputs to the program at runtime."
   ]
  },
  {
   "cell_type": "code",
   "execution_count": null,
   "id": "d8aca996",
   "metadata": {},
   "outputs": [],
   "source": [
    "text = input('Enter a string:')\n",
    "print('The text is', text)\n",
    "print(type(text))"
   ]
  },
  {
   "cell_type": "markdown",
   "id": "af5f6ff7",
   "metadata": {},
   "source": [
    "\n",
    "### Explanation:\n",
    "\n",
    "1.  **`input('Enter a string:')`**:\n",
    "    \n",
    "    -   This line prompts the user to enter some text. The `input()` function reads the user's input and returns it as a string.\n",
    "    -   Whatever the user types in response to the prompt is stored in the variable `text`.\n",
    "2.  **`print('The text is', text)`**:\n",
    "    \n",
    "    -   This prints the message `\"The text is\"` followed by the string that the user entered.\n",
    "3.  **`print(type(text))`**:\n",
    "    \n",
    "    -   This prints the type of the variable `text`. Since the `input()` function always returns a string, the type will be `<class 'str'>`."
   ]
  },
  {
   "cell_type": "code",
   "execution_count": null,
   "id": "8f4f3d32",
   "metadata": {},
   "outputs": [],
   "source": [
    "# Although the function wants an integer, the type of the entered number is a string.\n",
    "number = input('Enter an integer: ')\n",
    "print('The number is', number)\n",
    "print(type(number))"
   ]
  },
  {
   "cell_type": "code",
   "execution_count": null,
   "id": "bd038686",
   "metadata": {},
   "outputs": [],
   "source": [
    "number = int(input('Enter an integer:'))\n",
    "print('The number is', number)\n",
    "print(type(number))"
   ]
  },
  {
   "cell_type": "markdown",
   "id": "6e1adde7",
   "metadata": {},
   "source": [
    "\n",
    "### Explanation:\n",
    "\n",
    "1.  **`input('Enter an integer:')`**:\n",
    "    \n",
    "    -   This line prompts the user to enter some text. The `input()` function reads the user's input and returns it as a string.\n",
    "2.  **`int(input('Enter an integer:'))`**:\n",
    "    \n",
    "    -   The `int()` function converts the string returned by `input()` into an integer. If the user enters something that cannot be converted to an integer (like a non-numeric string), it will raise a `ValueError`.\n",
    "3.  **`print('The number is', number)`**:\n",
    "    \n",
    "    -   This prints the message `\"The number is\"` followed by the integer that the user entered.\n",
    "4.  **`print(type(number))`**:\n",
    "    \n",
    "    -   This prints the type of the variable `number`. Since the `int()` function is used to convert the input, the type will be `<class 'int'>`."
   ]
  },
  {
   "cell_type": "code",
   "execution_count": null,
   "id": "cee65fe5",
   "metadata": {},
   "outputs": [],
   "source": [
    "number = float(input('Enter an integer:'))\n",
    "print('The number is', number)\n",
    "print(type(number))"
   ]
  },
  {
   "cell_type": "markdown",
   "id": "2063199d",
   "metadata": {},
   "source": [
    "#### **eval()** functions\n",
    "\n",
    "- This function serves the aim of converting a string to an integer or a float"
   ]
  },
  {
   "cell_type": "code",
   "execution_count": null,
   "id": "3c5cff5d",
   "metadata": {},
   "outputs": [],
   "source": [
    "expression = '8+7'\n",
    "total = eval(expression)\n",
    "print('Sum of the expression is', total)\n",
    "print(type(expression))\n",
    "print(type(total))"
   ]
  },
  {
   "cell_type": "markdown",
   "id": "1793342b",
   "metadata": {},
   "source": [
    "\n",
    "### Explanation:\n",
    "\n",
    "1.  **`expression = '8+7'`**:\n",
    "    \n",
    "    -   The variable `expression` is a string containing the mathematical expression `\"8+7\"`.\n",
    "2.  **`total = eval(expression)`**:\n",
    "    \n",
    "    -   The `eval()` function takes the string `expression` and evaluates it as a Python expression. In this case, it calculates the sum of `8 + 7`.\n",
    "    -   The result of this evaluation is stored in the variable `total`.\n",
    "3.  **`print('Sum of the expression is', total)`**:\n",
    "    \n",
    "    -   This prints the result of the evaluated expression, which is the sum of `8 + 7`.\n",
    "4.  **`print(type(expression))`**:\n",
    "    \n",
    "    -   This prints the type of the variable `expression`, which is a string (`<class 'str'>`).\n",
    "5.  **`print(type(total))`**:\n",
    "    \n",
    "    -   This prints the type of the variable `total`, which is an integer (`<class 'int'>`), since the result of the evaluated expression is an integer."
   ]
  },
  {
   "cell_type": "markdown",
   "id": "f540f579",
   "metadata": {},
   "source": [
    "#### **format()** function\n",
    "\n",
    "- This function helps to format the output printed on the secreen with good look and attractive."
   ]
  },
  {
   "cell_type": "code",
   "execution_count": null,
   "id": "17f3d5fd",
   "metadata": {},
   "outputs": [],
   "source": [
    "a = float(input('Enter the pi number:'))\n",
    "b = float(input('Enter the golden ratio:'))\n",
    "total = a + b\n",
    "print('Sum of {} and {} is {}.'.format(a, b, total))"
   ]
  },
  {
   "cell_type": "markdown",
   "id": "676d8264",
   "metadata": {},
   "source": [
    "\n",
    "### Explanation:\n",
    "\n",
    "1.  **`a = float(input('Enter the pi number:'))`**:\n",
    "    \n",
    "    -   The code prompts the user to enter a value for π (pi).\n",
    "    -   The `input()` function captures the input as a string, and the `float()` function converts it to a floating-point number.\n",
    "    -   The resulting float is stored in the variable `a`.\n",
    "2.  **`b = float(input('Enter the golden ratio:'))`**:\n",
    "    \n",
    "    -   Similarly, the code prompts the user to enter a value for the golden ratio.\n",
    "    -   The `input()` function captures the input as a string, and the `float()` function converts it to a floating-point number.\n",
    "    -   The resulting float is stored in the variable `b`.\n",
    "3.  **`total = a + b`**:\n",
    "    \n",
    "    -   This line adds the two floating-point numbers (`a` and `b`) and stores the result in the variable `total`.\n",
    "4.  **`print('Sum of {} and {} is {}.'.format(a, b, total))`**:\n",
    "    \n",
    "    -   The `print()` function outputs a formatted string that includes the values of `a`, `b`, and `total`.\n",
    "    -   The `format()` method is used to insert these values into the string."
   ]
  },
  {
   "cell_type": "code",
   "execution_count": null,
   "id": "bb5af4e1",
   "metadata": {},
   "outputs": [],
   "source": [
    "a = input('Enter your favorite fruit:')\n",
    "b = input('Enter your favorite food:')\n",
    "print('I like {} and {}.'.format(a, b))\n",
    "print('I like {0} and {1}.'.format(a, b))\n",
    "print('I like {1} and {0}.'.format(a, b))"
   ]
  },
  {
   "cell_type": "markdown",
   "id": "b4c77c62",
   "metadata": {},
   "source": [
    "#### Comparison operators\n",
    "\n",
    "- The operators such as **<, >, <=, >=, ==, and !=** compare the certain two operands and return *True* or *False*."
   ]
  },
  {
   "cell_type": "code",
   "execution_count": null,
   "id": "cf1104f3",
   "metadata": {},
   "outputs": [],
   "source": [
    "a = 3.14\n",
    "b = 1.618\n",
    "print('a>b is:', a>b)\n",
    "print('a<b is:', a<b)\n",
    "print('a<=b is:', a<=b)\n",
    "print('a>=b is:', a>=b)\n",
    "print('a==b is:', a==b)\n",
    "print('a!=b is:', a!=b)"
   ]
  },
  {
   "cell_type": "markdown",
   "id": "8cf1b5b1",
   "metadata": {},
   "source": [
    "\n",
    "### Explanation:\n",
    "\n",
    "1.  **Variables `a` and `b`**:\n",
    "    \n",
    "    -   `a` is assigned the value `3.14` (approximately the value of π).\n",
    "    -   `b` is assigned the value `1.618` (approximately the value of the golden ratio).\n",
    "2.  **Comparison Operations**:\n",
    "    \n",
    "    -   **`a > b`**: Checks if `a` is greater than `b`.\n",
    "    -   **`a < b`**: Checks if `a` is less than `b`.\n",
    "    -   **`a <= b`**: Checks if `a` is less than or equal to `b`.\n",
    "    -   **`a >= b`**: Checks if `a` is greater than or equal to `b`.\n",
    "    -   **`a == b`**: Checks if `a` is equal to `b`.\n",
    "    -   **`a != b`**: Checks if `a` is not equal to `b`.\n",
    "3.  **`print()` Statements**:\n",
    "    \n",
    "    -   Each `print()` statement outputs the result of the comparison, which will be either `True` or `False`."
   ]
  },
  {
   "cell_type": "markdown",
   "id": "d5978626",
   "metadata": {},
   "source": [
    "#### Logical operators\n",
    "\n",
    "- The operators including **and, or, not** are utilized to bring two conditions together and assess them. The output returns *True* or *False*"
   ]
  },
  {
   "cell_type": "code",
   "execution_count": null,
   "id": "111e3d94",
   "metadata": {},
   "outputs": [],
   "source": [
    "a = 3.14\n",
    "b = 1.618\n",
    "c = 12\n",
    "d = 3.14\n",
    "print(a>b and c>a)\n",
    "print(b>c and d>a)\n",
    "print(b<c or d>a)\n",
    "print( not a==b)\n",
    "print(not a==d)"
   ]
  },
  {
   "cell_type": "markdown",
   "id": "f11fbe18",
   "metadata": {},
   "source": [
    "\n",
    "### Explanation:\n",
    "\n",
    "1.  **Variables**:\n",
    "    \n",
    "    -   `a = 3.14` (approximately the value of π)\n",
    "    -   `b = 1.618` (approximately the value of the golden ratio)\n",
    "    -   `c = 12`\n",
    "    -   `d = 3.14` (same as `a`)\n",
    "2.  **Logical Operations**:\n",
    "    \n",
    "    -   **`a > b and c > a`**:\n",
    "        \n",
    "        -   This checks if both `a > b` (`3.14 > 1.618`, which is `True`) and `c > a` (`12 > 3.14`, which is `True`) are `True`.\n",
    "        -   Since both conditions are `True`, the result is `True`.\n",
    "    -   **`b > c and d > a`**:\n",
    "        \n",
    "        -   This checks if both `b > c` (`1.618 > 12`, which is `False`) and `d > a` (`3.14 > 3.14`, which is `False`) are `True`.\n",
    "        -   Since both conditions are `False`, the result is `False`.\n",
    "    -   **`b < c or d > a`**:\n",
    "        \n",
    "        -   This checks if either `b < c` (`1.618 < 12`, which is `True`) or `d > a` (`3.14 > 3.14`, which is `False`) is `True`.\n",
    "        -   Since one of the conditions is `True`, the result is `True`.\n",
    "    -   **`not a == b`**:\n",
    "        \n",
    "        -   This checks if `a` is not equal to `b` (`3.14 != 1.618`, which is `True`).\n",
    "        -   The `not` operator negates the result, so it remains `True`.\n",
    "    -   **`not a == d`**:\n",
    "        \n",
    "        -   This checks if `a` is not equal to `d` (`3.14 != 3.14`, which is `False`).\n",
    "        -   The `not` operator negates the result, so it becomes `False`."
   ]
  },
  {
   "cell_type": "markdown",
   "id": "eb2ec73f",
   "metadata": {},
   "source": [
    "#### Assignment operators\n",
    "\n",
    "- The operators including =, +=, -=, *=, /=, %=, //=, **=, &=, |=, ^=, >>=, and <<= are employed to evaluate a value to a variable."
   ]
  },
  {
   "cell_type": "code",
   "execution_count": null,
   "id": "5979153a",
   "metadata": {},
   "outputs": [],
   "source": [
    "# Initialize the variable x with the value 3.14\n",
    "x = 3.14\n",
    "\n",
    "# Add 5 to the current value of x and assign the result back to x\n",
    "# This is equivalent to: x = x + 5\n",
    "x += 5\n",
    "\n",
    "# Print the updated value of x\n",
    "print(x)  # Output will be 8.14\n"
   ]
  },
  {
   "cell_type": "code",
   "execution_count": null,
   "id": "f215bc37",
   "metadata": {},
   "outputs": [],
   "source": [
    "# Initialize the variable x with the value 3.14\n",
    "x = 3.14\n",
    "\n",
    "# Subtract 5 from the current value of x and assign the result back to x\n",
    "# This is equivalent to: x = x - 5\n",
    "x -= 5\n",
    "\n",
    "# Print the updated value of x\n",
    "print(x)  # Output will be -1.86\n"
   ]
  },
  {
   "cell_type": "code",
   "execution_count": null,
   "id": "5845ab08",
   "metadata": {},
   "outputs": [],
   "source": [
    "# Initialize the variable x with the value 3.14\n",
    "x = 3.14\n",
    "\n",
    "# Multiply the current value of x by 5 and assign the result back to x\n",
    "# This is equivalent to: x = x * 5\n",
    "x *= 5\n",
    "\n",
    "# Print the updated value of x\n",
    "print(x)  # Output will be 15.7\n"
   ]
  },
  {
   "cell_type": "code",
   "execution_count": null,
   "id": "6ea3e6ce",
   "metadata": {},
   "outputs": [],
   "source": [
    "# Initialize the variable x with the value 3.14\n",
    "x = 3.14\n",
    "\n",
    "# Divide the current value of x by 5 and assign the result back to x\n",
    "# This is equivalent to: x = x / 5\n",
    "x /= 5\n",
    "\n",
    "# Print the updated value of x\n",
    "print(x)  # Output will be 0.628\n"
   ]
  },
  {
   "cell_type": "code",
   "execution_count": null,
   "id": "9ee726df",
   "metadata": {},
   "outputs": [],
   "source": [
    "# Initialize the variable x with the value 3.14\n",
    "x = 3.14\n",
    "\n",
    "# Calculate the remainder of x divided by 5 and assign the result back to x\n",
    "# This is equivalent to: x = x % 5\n",
    "x %= 5\n",
    "\n",
    "# Print the updated value of x\n",
    "print(x)  # Output will be 3.14\n"
   ]
  },
  {
   "cell_type": "code",
   "execution_count": null,
   "id": "c30ab48b",
   "metadata": {},
   "outputs": [],
   "source": [
    "# Initialize the variable x with the value 3.14\n",
    "x = 3.14\n",
    "\n",
    "# Perform floor division of x by 5 and assign the result back to x\n",
    "# This is equivalent to: x = x // 5\n",
    "x //= 5\n",
    "\n",
    "# Print the updated value of x\n",
    "print(x)  # Output will be 0.0\n"
   ]
  },
  {
   "cell_type": "code",
   "execution_count": null,
   "id": "5d8887af",
   "metadata": {},
   "outputs": [],
   "source": [
    "# Initialize the variable x with the value 3.14\n",
    "x = 3.14\n",
    "\n",
    "# Raise x to the power of 5 and assign the result back to x\n",
    "# This is equivalent to: x = x ** 5\n",
    "x **= 5\n",
    "\n",
    "# Print the updated value of x\n",
    "print(x)  # Output will be approximately 908.1856"
   ]
  },
  {
   "cell_type": "markdown",
   "id": "a77744ee",
   "metadata": {},
   "source": [
    "#### Identity operators\n",
    "\n",
    "- The operators **is** or **is not** are employed to control if the operands or objects to the left and right of these operators are referring to a value stored in the same momory location and return *True* or *False*."
   ]
  },
  {
   "cell_type": "code",
   "execution_count": null,
   "id": "64326b4f",
   "metadata": {},
   "outputs": [],
   "source": [
    "a = 3.14\n",
    "b = 1.618\n",
    "print(a is b)            # Compares if a and b are the same object in memory\n",
    "print(a is not b)        # Compares if a and b are not the same object in memory\n",
    "\n",
    "msg1 = 'Hello, Python!'\n",
    "msg2 = 'Hello, World!'\n",
    "print(msg1 is msg2)      # Compares if msg1 and msg2 are the same object in memory\n",
    "print(msg1 is not msg2)  # Compares if msg1 and msg2 are not the same object in memory\n",
    "\n",
    "lis1 = [3.14, 1.618]\n",
    "lis2 = [3.14, 1.618]\n",
    "print(lis1 is lis2)      # Compares if lis1 and lis2 are the same object in memory\n",
    "print(lis1 is not lis2)  # Compares if lis1 and lis2 are not the same object in memory\n"
   ]
  },
  {
   "cell_type": "markdown",
   "id": "cef91a7e",
   "metadata": {},
   "source": [
    "#### Membership operators\n",
    "\n",
    "- These operators inclusing **in** and **not in** are employed to check if the certain value is available in the sequence of values and return *True* or *False*."
   ]
  },
  {
   "cell_type": "code",
   "execution_count": null,
   "id": "c802f3a4",
   "metadata": {},
   "outputs": [],
   "source": [
    "# Define a list with various types of elements\n",
    "nlis = [4, 6, 7, 8, 'hello', (4, 5), {'name': 'Python'}, {1, 2, 3}, [1, 2, 3]]\n",
    "\n",
    "# Check if the number 5 is in the list\n",
    "print(5 in nlis)  # Output will be False, because 5 is not a standalone element in the list\n",
    "\n",
    "# Check if the number 4 is not in the list\n",
    "print(4 not in nlis)  # Output will be False, because 4 is an element in the list\n",
    "\n",
    "# Check if the tuple (4, 5) is in the list\n",
    "print((4, 5) in nlis)  # Output will be True, because the tuple (4, 5) is an element in the list\n",
    "\n",
    "# Check if the number 9 is not in the list\n",
    "print(9 not in nlis)  # Output will be True, because 9 is not an element in the list\n"
   ]
  }
 ],
 "metadata": {
  "interpreter": {
   "hash": "b7377f19eab4b8c2e19b4d5b732c435591579d0f123dd21b146d33dfd161e508"
  },
  "kernelspec": {
   "display_name": "Python 3 (ipykernel)",
   "language": "python",
   "name": "python3"
  },
  "language_info": {
   "codemirror_mode": {
    "name": "ipython",
    "version": 3
   },
   "file_extension": ".py",
   "mimetype": "text/x-python",
   "name": "python",
   "nbconvert_exporter": "python",
   "pygments_lexer": "ipython3",
   "version": "3.12.3"
  }
 },
 "nbformat": 4,
 "nbformat_minor": 5
}
