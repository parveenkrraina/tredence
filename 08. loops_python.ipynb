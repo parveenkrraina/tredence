{
 "cells": [
  {
   "cell_type": "markdown",
   "id": "370a0981",
   "metadata": {},
   "source": [
    "# Python Tutorial"
   ]
  },
  {
   "cell_type": "markdown",
   "id": "525a5cde",
   "metadata": {},
   "source": [
    "## 8. Loops in Python\n",
    "\n",
    "* A **for** loop is used for iterating over a sequence (that is either a list, a tuple, a dictionary, a set, or a string).\n",
    "* This is less like the **for** keyword in other programming languages, and works more like an iterator method as found in other object-orientated programming languages.\n",
    "* With the **for** loop we can execute a set of statements, once for each item in a list, tuple, set etc.\n",
    "* The **for** loop does not require an indexing variable to set beforehand.\n",
    "* With the **while** loop we can execute a set of statements as long as a condition is true.\n",
    "* Note: remember to increment **i**, or else the loop will continue forever.\n",
    "* The **while** loop requires relevant variables to be ready, in this example we need to define an indexing variable, i, which we set to 1."
   ]
  },
  {
   "cell_type": "markdown",
   "id": "c8189668",
   "metadata": {},
   "source": [
    "### **range()** function\n",
    "\n",
    "- It is helpful to think of the range object as an ordered list.\n",
    "- To loop through a set of code a specified number of times, we can use the range() function,\n",
    "- The range() function returns a sequence of numbers, starting from 0 by default, and increments by 1 (by default), and ends at a specified number."
   ]
  },
  {
   "cell_type": "code",
   "execution_count": 3,
   "id": "043fcac5",
   "metadata": {},
   "outputs": [
    {
     "name": "stdout",
     "output_type": "stream",
     "text": [
      "range(0, 5)\n",
      "range(0, 10)\n"
     ]
    }
   ],
   "source": [
    "# Take a range() function\n",
    "print(range(5))\n",
    "print(range(10))"
   ]
  },
  {
   "cell_type": "markdown",
   "id": "fd75d37a",
   "metadata": {},
   "source": [
    "### **for** loop\n",
    "\n",
    "The **for** loop enables you to execute a code block multiple times."
   ]
  },
  {
   "cell_type": "markdown",
   "id": "9d6b5c89",
   "metadata": {},
   "source": [
    "<img src=\"https://www.learnbyexample.org/wp-content/uploads/python/Python-for-Loop-Syntax.png\" width=\"500\" alt=\"for_loop\"  />"
   ]
  },
  {
   "cell_type": "code",
   "execution_count": 4,
   "id": "92820d57",
   "metadata": {},
   "outputs": [
    {
     "name": "stdout",
     "output_type": "stream",
     "text": [
      "2005\n",
      "2006\n",
      "2007\n",
      "2008\n",
      "2009\n",
      "2010\n"
     ]
    }
   ],
   "source": [
    "# Take an example\n",
    "# Diectly accessing to the elements in the list\n",
    "\n",
    "years = [2005, 2006, 2007, 2008, 2009, 2010]\n",
    "\n",
    "for i in years:\n",
    "    print(i)"
   ]
  },
  {
   "cell_type": "code",
   "execution_count": 10,
   "id": "47f49d9c",
   "metadata": {},
   "outputs": [
    {
     "name": "stdout",
     "output_type": "stream",
     "text": [
      "2005\n",
      "2006\n",
      "2007\n",
      "2008\n",
      "2009\n",
      "2010\n"
     ]
    }
   ],
   "source": [
    "# Again, directly accessing to the elements in the list\n",
    "years = [2005, 2006, 2007, 2008, 2009, 2010]\n",
    "\n",
    "for year in years:\n",
    "    print(year)"
   ]
  },
  {
   "cell_type": "code",
   "execution_count": 6,
   "id": "ffa5d68e",
   "metadata": {},
   "outputs": [
    {
     "name": "stdout",
     "output_type": "stream",
     "text": [
      "2005\n",
      "2006\n",
      "2007\n",
      "2008\n",
      "2009\n",
      "2010\n"
     ]
    }
   ],
   "source": [
    "# Take an example\n",
    "years = [2005, 2006, 2007, 2008, 2009, 2010]\n",
    "\n",
    "for i in range(len(years)):\n",
    "    print(years[i])"
   ]
  },
  {
   "cell_type": "code",
   "execution_count": 8,
   "id": "16b27a11",
   "metadata": {},
   "outputs": [
    {
     "name": "stdout",
     "output_type": "stream",
     "text": [
      "2\n",
      "3\n",
      "4\n",
      "5\n",
      "6\n",
      "7\n",
      "8\n",
      "9\n",
      "10\n",
      "11\n"
     ]
    }
   ],
   "source": [
    "# Another for loop example\n",
    "for i in range(2, 12):\n",
    "    print(i)"
   ]
  },
  {
   "cell_type": "code",
   "execution_count": 16,
   "id": "df23f7a7",
   "metadata": {},
   "outputs": [
    {
     "name": "stdout",
     "output_type": "stream",
     "text": [
      "2\n",
      "5\n",
      "8\n",
      "11\n"
     ]
    }
   ],
   "source": [
    "# Striding in for loop\n",
    "for i in range(2, 12, 3):\n",
    "    print(i)"
   ]
  },
  {
   "cell_type": "code",
   "execution_count": 12,
   "id": "1960ba38",
   "metadata": {},
   "outputs": [
    {
     "name": "stdout",
     "output_type": "stream",
     "text": [
      "Before language 0 is Java\n",
      "After language 0 is Python\n",
      "Before language 1 is JavaScript\n",
      "After language 1 is Python\n",
      "Before language 2 is C\n",
      "After language 2 is Python\n",
      "Before language 3 is C++\n",
      "After language 3 is Python\n",
      "Before language 4 is PHP\n",
      "After language 4 is Python\n"
     ]
    }
   ],
   "source": [
    "# Changing the elements in the list\n",
    "languages = ['Java', 'JavaScript', 'C', 'C++', 'PHP']\n",
    "\n",
    "for i in range(len(languages)):\n",
    "    print('Before language', i, 'is', languages[i])\n",
    "    languages[i] = 'Python'\n",
    "    print('After language', i, 'is', languages[i])"
   ]
  },
  {
   "cell_type": "code",
   "execution_count": 14,
   "id": "1de2733e",
   "metadata": {},
   "outputs": [
    {
     "name": "stdout",
     "output_type": "stream",
     "text": [
      "0 Python\n",
      "1 Java\n",
      "2 JavaScript\n",
      "3 C\n",
      "4 C++\n",
      "5 PHP\n"
     ]
    }
   ],
   "source": [
    "# Enumaeration of the elements in the list\n",
    "languages = ['Python', 'Java', 'JavaScript', 'C', 'C++', 'PHP']\n",
    "\n",
    "for index, language in enumerate(languages):\n",
    "    print(index, language)"
   ]
  },
  {
   "cell_type": "code",
   "execution_count": 30,
   "id": "45c71c8f",
   "metadata": {},
   "outputs": [
    {
     "name": "stdout",
     "output_type": "stream",
     "text": [
      "-3\n",
      "-2\n",
      "-1\n",
      "0\n",
      "1\n",
      "2\n",
      "3\n",
      "4\n",
      "5\n",
      "6\n"
     ]
    }
   ],
   "source": [
    "# Take the numbers between -3 and 6 using for loop\n",
    "# Use range() function\n",
    "\n",
    "for i in range(-3, 7):\n",
    "    print(i)"
   ]
  },
  {
   "cell_type": "code",
   "execution_count": 31,
   "id": "22b2eb82",
   "metadata": {},
   "outputs": [
    {
     "name": "stdout",
     "output_type": "stream",
     "text": [
      "0 Python\n",
      "1 Java\n",
      "2 JavaScript\n",
      "3 C\n",
      "4 C++\n",
      "5 PHP\n"
     ]
    }
   ],
   "source": [
    "# Take a list and print the elements using for loop\n",
    "languages = ['Python', 'Java', 'JavaScript', 'C', 'C++', 'PHP']\n",
    "\n",
    "for i in range(len(languages)):\n",
    "    print(i, languages[i])"
   ]
  },
  {
   "cell_type": "code",
   "execution_count": 120,
   "id": "4e8eefc0",
   "metadata": {},
   "outputs": [
    {
     "name": "stdout",
     "output_type": "stream",
     "text": [
      "The entered numbers are 7 and 9.\n",
      "7 x 0 = 0 , 9 x 0 = 0\n",
      "7 x 1 = 7 , 9 x 1 = 9\n",
      "7 x 2 = 14 , 9 x 2 = 18\n",
      "7 x 3 = 21 , 9 x 3 = 27\n",
      "7 x 4 = 28 , 9 x 4 = 36\n",
      "7 x 5 = 35 , 9 x 5 = 45\n",
      "7 x 6 = 42 , 9 x 6 = 54\n",
      "7 x 7 = 49 , 9 x 7 = 63\n",
      "7 x 8 = 56 , 9 x 8 = 72\n",
      "7 x 9 = 63 , 9 x 9 = 81\n",
      "7 x 10 = 70 , 9 x 10 = 90\n"
     ]
    }
   ],
   "source": [
    "number1 = int(input('Enter a number:'))\n",
    "number2 = int(input('Enter a number:'))\n",
    "print(f'The entered numbers are {number1} and {number2}.')\n",
    "for i in range(0, 11):\n",
    "    print(('%d x %d = %d' %(number1, i, number1*i)), ',', ('%d x %d = %d' %(number2, i, number2*i )))"
   ]
  },
  {
   "cell_type": "markdown",
   "id": "015c9da1",
   "metadata": {},
   "source": [
    "#### Addition and average calculation in for loop"
   ]
  },
  {
   "cell_type": "code",
   "execution_count": 2,
   "id": "3f5eaf49",
   "metadata": {},
   "outputs": [
    {
     "name": "stdout",
     "output_type": "stream",
     "text": [
      "The total value of the numbers in the list is 1780.053\n",
      "The total value of the numbers in the list is 254.29328571428573\n"
     ]
    }
   ],
   "source": [
    "# Take a list\n",
    "nlis = [0.577, 2.718, 3.14, 1.618, 1729, 6, 37]\n",
    "\n",
    "# Write a for loop for addition\n",
    "count = 0\n",
    "for i in nlis:\n",
    "    count+=i\n",
    "print('The total value of the numbers in the list is', count)\n",
    "\n",
    "# Calculate the average using len() function\n",
    "print('The avearge value of the numbers in the list is', count/len(nlis))"
   ]
  },
  {
   "cell_type": "markdown",
   "id": "8da97017",
   "metadata": {},
   "source": [
    "### **for-else** statement"
   ]
  },
  {
   "cell_type": "code",
   "execution_count": 19,
   "id": "62e4da21",
   "metadata": {},
   "outputs": [
    {
     "name": "stdout",
     "output_type": "stream",
     "text": [
      "1, 2, 3, 4, 5, These are numbers from 1 to 5.\n"
     ]
    }
   ],
   "source": [
    "for i in range(1,6):\n",
    "    print(i, end=\", \")\n",
    "else:\n",
    "    print('These are numbers from 1 to 5.')"
   ]
  },
  {
   "cell_type": "markdown",
   "id": "ada46267",
   "metadata": {},
   "source": [
    "### **nested for** loop"
   ]
  },
  {
   "cell_type": "code",
   "execution_count": 112,
   "id": "dc51d0e6",
   "metadata": {},
   "outputs": [
    {
     "name": "stdout",
     "output_type": "stream",
     "text": [
      "The entered the number is 10.\n",
      "\n",
      "+\n",
      "++\n",
      "+++\n",
      "++++\n",
      "+++++\n",
      "++++++\n",
      "+++++++\n",
      "++++++++\n",
      "+++++++++\n",
      "++++++++++"
     ]
    }
   ],
   "source": [
    "num = int(input('Enter a number:'))\n",
    "\n",
    "print(f'The entered the number is {num}.')\n",
    "i, j = 0, 0\n",
    "for i in range(0, num):\n",
    "    print()\n",
    "    for j in range(0, i+1):\n",
    "        print('+', end='')"
   ]
  },
  {
   "cell_type": "markdown",
   "id": "e1eee52a",
   "metadata": {},
   "source": [
    "### **continue** in **for** loop"
   ]
  },
  {
   "cell_type": "code",
   "execution_count": 116,
   "id": "80f0f502",
   "metadata": {},
   "outputs": [
    {
     "name": "stdout",
     "output_type": "stream",
     "text": [
      "1\n",
      "2\n",
      "4\n",
      "6\n",
      "7\n",
      "8\n",
      "9\n",
      "10\n",
      "11\n",
      "12\n",
      "13\n",
      "14\n"
     ]
    },
    {
     "data": {
      "text/plain": [
       "'\\nYou see that the output includes the numbers without 5. \\nThe continue function jumps when it meets with the reference.\\n'"
      ]
     },
     "execution_count": 116,
     "metadata": {},
     "output_type": "execute_result"
    }
   ],
   "source": [
    "# Take a list\n",
    "nlis = [1,2,4,5,6,7,8,9,10,11,12,13,14]\n",
    "for i in nlis:\n",
    "    if i == 5:\n",
    "        continue\n",
    "    print(i)\n",
    "    \n",
    "\"\"\"\n",
    "You see that the output includes the numbers without 5. \n",
    "The continue function jumps when it meets with the reference.\n",
    "\"\"\""
   ]
  },
  {
   "cell_type": "markdown",
   "id": "eec2e89b",
   "metadata": {},
   "source": [
    "### **break** in **for** loop"
   ]
  },
  {
   "cell_type": "code",
   "execution_count": 118,
   "id": "3e7fbd9f",
   "metadata": {},
   "outputs": [
    {
     "name": "stdout",
     "output_type": "stream",
     "text": [
      "1\n",
      "2\n",
      "4\n"
     ]
    },
    {
     "data": {
      "text/plain": [
       "'\\nYou see that the output includes the numbers before 5. \\nThe break function terminate the loop when it meets with the reference.\\n'"
      ]
     },
     "execution_count": 118,
     "metadata": {},
     "output_type": "execute_result"
    }
   ],
   "source": [
    "# Take a list\n",
    "nlis = [1,2,4,5,6,7,8,9,10,11,12,13,14]\n",
    "for i in nlis:\n",
    "    if i == 5:\n",
    "        break\n",
    "    print(i)\n",
    "    \n",
    "\"\"\"\n",
    "You see that the output includes the numbers before 5. \n",
    "The break function terminate the loop when it meets with the reference.\n",
    "\"\"\""
   ]
  },
  {
   "cell_type": "markdown",
   "id": "c5885d67",
   "metadata": {},
   "source": [
    "### **while** loop\n",
    "The **while** loop exists as a tool for repeated execution based on a condition. The code block will keep being executed until the given logical condition returns a *False* boolean value."
   ]
  },
  {
   "cell_type": "markdown",
   "id": "051e746b",
   "metadata": {},
   "source": [
    "<img src=\"https://www.learnbyexample.org/wp-content/uploads/python/Python-while-Loop-Syntax.png\" width=\"500\" alt=\"while_loop\"  />\n"
   ]
  },
  {
   "cell_type": "code",
   "execution_count": 21,
   "id": "6c96204d",
   "metadata": {},
   "outputs": [
    {
     "name": "stdout",
     "output_type": "stream",
     "text": [
      "22\n",
      "23\n",
      "24\n",
      "25\n",
      "26\n"
     ]
    }
   ],
   "source": [
    "# Take an example\n",
    "i = 22\n",
    "while i<27:\n",
    "    print(i)\n",
    "    i+=1"
   ]
  },
  {
   "cell_type": "code",
   "execution_count": 22,
   "id": "13625309",
   "metadata": {},
   "outputs": [
    {
     "name": "stdout",
     "output_type": "stream",
     "text": [
      "22\n",
      "21\n",
      "20\n",
      "19\n",
      "18\n",
      "17\n"
     ]
    }
   ],
   "source": [
    "#Take an example\n",
    "i = 22\n",
    "while i>=17:\n",
    "    print(i)\n",
    "    i-=1"
   ]
  },
  {
   "cell_type": "code",
   "execution_count": 25,
   "id": "7dd199a4",
   "metadata": {},
   "outputs": [
    {
     "name": "stdout",
     "output_type": "stream",
     "text": [
      "2005\n",
      "2006\n",
      "2007\n",
      "It gives us only 3 repetititons to get out of loop\n"
     ]
    }
   ],
   "source": [
    "# Take an example\n",
    "years = [2005, 2006, 2007, 2008, 2009, 2010]\n",
    "\n",
    "index = 0\n",
    "\n",
    "year = years[0]\n",
    "\n",
    "while year !=2008:\n",
    "    print(year)\n",
    "    index+=1\n",
    "    year = years[index]\n",
    "print('It gives us only', index, 'repetititons to get out of loop')\n"
   ]
  },
  {
   "cell_type": "code",
   "execution_count": 37,
   "id": "26565666",
   "metadata": {},
   "outputs": [
    {
     "name": "stdout",
     "output_type": "stream",
     "text": [
      "8.0\n",
      "7.5\n",
      "There is only 2 movie rating, because the loop stops when it meets with the number lower than 6.\n"
     ]
    }
   ],
   "source": [
    "# Print the movie ratings gretater than 6.\n",
    "movie_rating = [8.0, 7.5, 5.4, 9.1, 6.3, 6.5, 2.1, 4.8, 3.3]\n",
    "\n",
    "index = 0\n",
    "rating = movie_rating[0]\n",
    "\n",
    "while rating>=6:\n",
    "    print(rating)\n",
    "    index += 1\n",
    "    rating = movie_rating[index]\n",
    "print('There is only', index, 'movie rating, because the loop stops when it meets with the number lower than 6.')"
   ]
  },
  {
   "cell_type": "code",
   "execution_count": 83,
   "id": "2e673a4d",
   "metadata": {},
   "outputs": [
    {
     "name": "stdout",
     "output_type": "stream",
     "text": [
      "1 8.0\n",
      "2 7.5\n",
      "3 9.1\n",
      "4 6.3\n",
      "5 6.5\n",
      "There is only 5 films gretater than movie rating 6\n"
     ]
    }
   ],
   "source": [
    "# Print the movie ratings gretater than 6.\n",
    "movie_rating = [8.0, 7.5, 5.4, 9.1, 6.3, 6.5, 2.1, 4.8, 3.3]\n",
    "\n",
    "index = 0\n",
    "for i in range(len(movie_rating)):\n",
    "    if movie_rating[i] >= 6:\n",
    "        index += 1\n",
    "        print(index, movie_rating[i])\n",
    "print('There is only', index, 'films gretater than movie rating 6')"
   ]
  },
  {
   "cell_type": "code",
   "execution_count": 91,
   "id": "ca59d81a",
   "metadata": {},
   "outputs": [
    {
     "name": "stdout",
     "output_type": "stream",
     "text": [
      "['banana']\n"
     ]
    }
   ],
   "source": [
    "# Adding the element in a list to a new list \n",
    "fruits = ['banana', 'apple', 'banana', 'orange', 'kiwi', 'banana', 'Cherry', 'Grapes']\n",
    "\n",
    "new_fruits = []\n",
    "\n",
    "index = 0\n",
    "while fruits[index] == 'banana':\n",
    "    new_fruits.append(fruits[index])\n",
    "    index += 1\n",
    "print(new_fruits)"
   ]
  },
  {
   "cell_type": "code",
   "execution_count": 119,
   "id": "570e3e18",
   "metadata": {},
   "outputs": [
    {
     "name": "stdout",
     "output_type": "stream",
     "text": [
      "The entered numbers are 8 and 9.\n",
      "8 x 0 = 0 , 9 x 0 = 0\n",
      "8 x 1 = 8 , 9 x 1 = 9\n",
      "8 x 2 = 16 , 9 x 2 = 18\n",
      "8 x 3 = 24 , 9 x 3 = 27\n",
      "8 x 4 = 32 , 9 x 4 = 36\n",
      "8 x 5 = 40 , 9 x 5 = 45\n",
      "8 x 6 = 48 , 9 x 6 = 54\n",
      "8 x 7 = 56 , 9 x 7 = 63\n",
      "8 x 8 = 64 , 9 x 8 = 72\n",
      "8 x 9 = 72 , 9 x 9 = 81\n",
      "8 x 10 = 80 , 9 x 10 = 90\n"
     ]
    }
   ],
   "source": [
    "number1 = int(input('Enter a number:'))\n",
    "number2 = int(input('Enter a number:'))\n",
    "print(f'The entered numbers are {number1} and {number2}.')\n",
    "\n",
    "i = 0\n",
    "while i<=10:\n",
    "    print(('%d x %d = %d' %(number1, i, number1*i)), ',', ('%d x %d = %d' %(number2, i, number2*i )))\n",
    "    i+=1\n"
   ]
  },
  {
   "cell_type": "markdown",
   "id": "5b2a4ca7",
   "metadata": {},
   "source": [
    "### **while-else** statement"
   ]
  },
  {
   "cell_type": "code",
   "execution_count": 29,
   "id": "6dfa92d7",
   "metadata": {},
   "outputs": [
    {
     "name": "stdout",
     "output_type": "stream",
     "text": [
      "0 1 2 3 4 5 It gives us the numbers between 0 and 5.\n"
     ]
    }
   ],
   "source": [
    "index = 0\n",
    "while index <=5:\n",
    "    print(index, end=' ')\n",
    "    index += 1\n",
    "else:\n",
    "    print('It gives us the numbers between 0 and 5.')"
   ]
  },
  {
   "cell_type": "markdown",
   "id": "a74dd875",
   "metadata": {},
   "source": [
    "### **continue** in **while** loop"
   ]
  },
  {
   "cell_type": "code",
   "execution_count": 122,
   "id": "0f2decf3",
   "metadata": {},
   "outputs": [
    {
     "name": "stdout",
     "output_type": "stream",
     "text": [
      "0\n",
      "1\n",
      "2\n",
      "3\n",
      "4\n",
      "5\n"
     ]
    }
   ],
   "source": [
    "i = 0\n",
    "\n",
    "while i<=5:\n",
    "    print(i)\n",
    "    i+=1\n",
    "    if i == 3:\n",
    "        continue"
   ]
  },
  {
   "cell_type": "markdown",
   "id": "5f440d83",
   "metadata": {},
   "source": [
    "### **break** in **while** loop"
   ]
  },
  {
   "cell_type": "code",
   "execution_count": 121,
   "id": "1a9b223b",
   "metadata": {},
   "outputs": [
    {
     "name": "stdout",
     "output_type": "stream",
     "text": [
      "0\n",
      "1\n",
      "2\n"
     ]
    }
   ],
   "source": [
    "i = 0\n",
    "\n",
    "while i<=5:\n",
    "    print(i)\n",
    "    i+=1\n",
    "    if i == 3:\n",
    "        break"
   ]
  }
 ],
 "metadata": {
  "interpreter": {
   "hash": "b7377f19eab4b8c2e19b4d5b732c435591579d0f123dd21b146d33dfd161e508"
  },
  "kernelspec": {
   "display_name": "Python 3 (ipykernel)",
   "language": "python",
   "name": "python3"
  },
  "language_info": {
   "codemirror_mode": {
    "name": "ipython",
    "version": 3
   },
   "file_extension": ".py",
   "mimetype": "text/x-python",
   "name": "python",
   "nbconvert_exporter": "python",
   "pygments_lexer": "ipython3",
   "version": "3.9.7"
  }
 },
 "nbformat": 4,
 "nbformat_minor": 5
}
