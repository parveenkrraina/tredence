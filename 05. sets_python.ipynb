{
 "cells": [
  {
   "cell_type": "markdown",
   "metadata": {},
   "source": [
    "# Python Tutorial"
   ]
  },
  {
   "cell_type": "markdown",
   "metadata": {},
   "source": [
    "## 5. Sets in Python\n",
    "\n",
    "* Set is one of 4 built-in data types in Python used to store collections of data including List, Tuple, and Dictionary\n",
    "* Sets are unordered, but you can remove items and add new items.\n",
    "* Set elements are unique. Duplicate elements are not allowed.\n",
    "* A set itself may be modified, but the elements contained in the set must be of an immutable type.\n",
    "* Sets are used to store multiple items in a single variable.\n",
    "* You can denote a set with a pair of curly brackets **{}**."
   ]
  },
  {
   "cell_type": "markdown",
   "metadata": {},
   "source": [
    "<img src=\"https://www.learnbyexample.org/wp-content/uploads/python/Python-Set-Operatioons.png\" width=\"500\" alt=\"sets\"  />"
   ]
  },
  {
   "cell_type": "code",
   "execution_count": 47,
   "metadata": {},
   "outputs": [
    {
     "name": "stdout",
     "output_type": "stream",
     "text": [
      "<class 'dict'>\n"
     ]
    }
   ],
   "source": [
    "# The empty set of curly braces denotes the empty dictionary, not empty set\n",
    "x = {}\n",
    "print(type(x))"
   ]
  },
  {
   "cell_type": "code",
   "execution_count": 46,
   "metadata": {},
   "outputs": [
    {
     "name": "stdout",
     "output_type": "stream",
     "text": [
      "<class 'set'>\n"
     ]
    }
   ],
   "source": [
    "# To take a set without elements, use set() function without any items\n",
    "y = set()\n",
    "print(type(y))"
   ]
  },
  {
   "cell_type": "code",
   "execution_count": 2,
   "metadata": {},
   "outputs": [
    {
     "data": {
      "text/plain": [
       "{1.618, 2022, 3.14, False, 'Hello Python!', 'Hello World!', True}"
      ]
     },
     "execution_count": 2,
     "metadata": {},
     "output_type": "execute_result"
    }
   ],
   "source": [
    "# Take a set\n",
    "set1 = {'Hello Python!', 3.14, 1.618, 'Hello World!', 3.14, 1.618, True, False, 2022}\n",
    "set1"
   ]
  },
  {
   "cell_type": "markdown",
   "metadata": {},
   "source": [
    "### Converting list to set"
   ]
  },
  {
   "cell_type": "code",
   "execution_count": 4,
   "metadata": {},
   "outputs": [
    {
     "data": {
      "text/plain": [
       "{1.618, 2022, 3.14, False, 'Hello Python!', 'Hello World!', True}"
      ]
     },
     "execution_count": 4,
     "metadata": {},
     "output_type": "execute_result"
    }
   ],
   "source": [
    "# A list can convert to a set\n",
    "# Take a list\n",
    "nlis = ['Hello Python!', 3.14, 1.618, 'Hello World!', 3.14, 1.618, True, False, 2022]\n",
    "\n",
    "# Convert the list to a set\n",
    "set2 = set(nlis)\n",
    "set2"
   ]
  },
  {
   "cell_type": "markdown",
   "metadata": {},
   "source": [
    "### Set operations"
   ]
  },
  {
   "cell_type": "code",
   "execution_count": 5,
   "metadata": {},
   "outputs": [
    {
     "data": {
      "text/plain": [
       "{1.618, 2022, 3.14, False, 'Hello Python!', 'Hello World!', True}"
      ]
     },
     "execution_count": 5,
     "metadata": {},
     "output_type": "execute_result"
    }
   ],
   "source": [
    "# Take a set\n",
    "set3 = set(['Hello Python!', 3.14, 1.618, 'Hello World!', 3.14, 1.618, True, False, 2022])\n",
    "set3"
   ]
  },
  {
   "cell_type": "markdown",
   "metadata": {},
   "source": [
    "#### **add()** function\n",
    "\n",
    "To add an element into a set, we use the function **add()**. If the same element is added to the set, nothing will happen because the set accepts no duplicates. "
   ]
  },
  {
   "cell_type": "code",
   "execution_count": 6,
   "metadata": {},
   "outputs": [
    {
     "data": {
      "text/plain": [
       "{1.618,\n",
       " 2022,\n",
       " 3.14,\n",
       " False,\n",
       " 'Hello Python!',\n",
       " 'Hello World!',\n",
       " 'Hi, Python!',\n",
       " True}"
      ]
     },
     "execution_count": 6,
     "metadata": {},
     "output_type": "execute_result"
    }
   ],
   "source": [
    "# Addition of an element to a set\n",
    "set3 = set(['Hello Python!', 3.14, 1.618, 'Hello World!', 3.14, 1.618, True, False, 2022])\n",
    "set3.add('Hi, Python!')\n",
    "set3"
   ]
  },
  {
   "cell_type": "code",
   "execution_count": 7,
   "metadata": {},
   "outputs": [
    {
     "data": {
      "text/plain": [
       "{1.618,\n",
       " 2022,\n",
       " 3.14,\n",
       " False,\n",
       " 'Hello Python!',\n",
       " 'Hello World!',\n",
       " 'Hi, Python!',\n",
       " True}"
      ]
     },
     "execution_count": 7,
     "metadata": {},
     "output_type": "execute_result"
    }
   ],
   "source": [
    "# Addition of the same element\n",
    "set3.add('Hi, Python!')\n",
    "set3\n",
    "\n",
    "# As you see that there is only one from the added element 'Hi, Python!'"
   ]
  },
  {
   "cell_type": "markdown",
   "metadata": {},
   "source": [
    "#### **update()** function\n",
    "To add multiple elements into the set"
   ]
  },
  {
   "cell_type": "code",
   "execution_count": 49,
   "metadata": {},
   "outputs": [
    {
     "name": "stdout",
     "output_type": "stream",
     "text": [
      "{8, 9, 6, 7}\n",
      "{3, 4, 5, 6, 7, 8, 9}\n"
     ]
    }
   ],
   "source": [
    "x_set = {6,7,8,9}\n",
    "print(x_set)\n",
    "x_set.update({3,4,5})\n",
    "print(x_set)"
   ]
  },
  {
   "cell_type": "markdown",
   "metadata": {},
   "source": [
    "#### **remove()** function\n",
    "\n",
    "To **remove** an element from the set"
   ]
  },
  {
   "cell_type": "code",
   "execution_count": 16,
   "metadata": {},
   "outputs": [
    {
     "data": {
      "text/plain": [
       "{1.618, 2022, 3.14, False, 'Hello World!', True}"
      ]
     },
     "execution_count": 16,
     "metadata": {},
     "output_type": "execute_result"
    }
   ],
   "source": [
    "set3.remove('Hello Python!')\n",
    "set3\n"
   ]
  },
  {
   "cell_type": "markdown",
   "metadata": {},
   "source": [
    "#### **discard()** function\n",
    "It leaves the set unchanged if the element to be deleted is not available in the set."
   ]
  },
  {
   "cell_type": "code",
   "execution_count": 50,
   "metadata": {},
   "outputs": [
    {
     "data": {
      "text/plain": [
       "{1.618, 2022, False, 'Hello World!', True}"
      ]
     },
     "execution_count": 50,
     "metadata": {},
     "output_type": "execute_result"
    }
   ],
   "source": [
    "set3.discard(3.14)\n",
    "set3"
   ]
  },
  {
   "cell_type": "code",
   "execution_count": 17,
   "metadata": {},
   "outputs": [
    {
     "data": {
      "text/plain": [
       "True"
      ]
     },
     "execution_count": 17,
     "metadata": {},
     "output_type": "execute_result"
    }
   ],
   "source": [
    "# To verify if the element is in the set\n",
    "1.618 in set3"
   ]
  },
  {
   "cell_type": "markdown",
   "metadata": {},
   "source": [
    "### Logic operations in Sets"
   ]
  },
  {
   "cell_type": "code",
   "execution_count": 18,
   "metadata": {},
   "outputs": [
    {
     "data": {
      "text/plain": [
       "({1.618, 3.14, 'Hello Python!', 'Hello World!'},\n",
       " {False, True, 1.618, 3.14, 2022})"
      ]
     },
     "execution_count": 18,
     "metadata": {},
     "output_type": "execute_result"
    }
   ],
   "source": [
    "# Take two sets\n",
    "set4 = set(['Hello Python!', 3.14, 1.618, 'Hello World!'])\n",
    "set5 = set([3.14, 1.618, True, False, 2022])\n",
    "\n",
    "# Printing two sets\n",
    "set4, set5"
   ]
  },
  {
   "cell_type": "markdown",
   "metadata": {},
   "source": [
    "#### To find the intersect of two sets using **&**"
   ]
  },
  {
   "cell_type": "code",
   "execution_count": 19,
   "metadata": {},
   "outputs": [
    {
     "data": {
      "text/plain": [
       "{1.618, 3.14}"
      ]
     },
     "execution_count": 19,
     "metadata": {},
     "output_type": "execute_result"
    }
   ],
   "source": [
    "intersection = set4 & set5\n",
    "intersection"
   ]
  },
  {
   "cell_type": "markdown",
   "metadata": {},
   "source": [
    "#### To find the intersect of two sets, use **intersection()** function"
   ]
  },
  {
   "cell_type": "code",
   "execution_count": 21,
   "metadata": {},
   "outputs": [
    {
     "data": {
      "text/plain": [
       "{1.618, 3.14}"
      ]
     },
     "execution_count": 21,
     "metadata": {},
     "output_type": "execute_result"
    }
   ],
   "source": [
    "set4.intersection(set5)         # The output is the same as that of above"
   ]
  },
  {
   "cell_type": "markdown",
   "metadata": {},
   "source": [
    "#### **difference()** function\n",
    "To find the difference between two sets"
   ]
  },
  {
   "cell_type": "code",
   "execution_count": 61,
   "metadata": {},
   "outputs": [
    {
     "name": "stdout",
     "output_type": "stream",
     "text": [
      "{'Hello Python!', 'Hello World!'}\n",
      "{False, True, 2022}\n",
      "{'Hello Python!', 'Hello World!'}\n",
      "{False, True, 2022}\n"
     ]
    }
   ],
   "source": [
    "print(set4.difference(set5))\n",
    "print(set5.difference(set4))\n",
    "\n",
    "# The same process can make using subtraction operator as follows:\n",
    "print(set4-set5)\n",
    "print(set5-set4)"
   ]
  },
  {
   "cell_type": "markdown",
   "metadata": {},
   "source": [
    "#### Set comparison"
   ]
  },
  {
   "cell_type": "code",
   "execution_count": 62,
   "metadata": {},
   "outputs": [
    {
     "name": "stdout",
     "output_type": "stream",
     "text": [
      "False\n",
      "False\n",
      "False\n"
     ]
    }
   ],
   "source": [
    "print(set4>set5)\n",
    "print(set5>set4)\n",
    "print(set4==set5)"
   ]
  },
  {
   "cell_type": "markdown",
   "metadata": {},
   "source": [
    "#### **union()** function\n",
    "it corresponds to all the elements in both sets"
   ]
  },
  {
   "cell_type": "code",
   "execution_count": 24,
   "metadata": {},
   "outputs": [
    {
     "data": {
      "text/plain": [
       "{1.618, 2022, 3.14, False, 'Hello Python!', 'Hello World!', True}"
      ]
     },
     "execution_count": 24,
     "metadata": {},
     "output_type": "execute_result"
    }
   ],
   "source": [
    "set4.union(set5)"
   ]
  },
  {
   "cell_type": "markdown",
   "metadata": {},
   "source": [
    "#### **issuperset()** and **issubset()** functions\n",
    "To control if a set is a superset or a subset of another set"
   ]
  },
  {
   "cell_type": "code",
   "execution_count": 25,
   "metadata": {},
   "outputs": [
    {
     "data": {
      "text/plain": [
       "False"
      ]
     },
     "execution_count": 25,
     "metadata": {},
     "output_type": "execute_result"
    }
   ],
   "source": [
    "set(set4).issuperset(set5)"
   ]
  },
  {
   "cell_type": "code",
   "execution_count": 27,
   "metadata": {},
   "outputs": [
    {
     "data": {
      "text/plain": [
       "False"
      ]
     },
     "execution_count": 27,
     "metadata": {},
     "output_type": "execute_result"
    }
   ],
   "source": [
    "set(set4).issubset(set5)"
   ]
  },
  {
   "cell_type": "code",
   "execution_count": 34,
   "metadata": {},
   "outputs": [
    {
     "name": "stdout",
     "output_type": "stream",
     "text": [
      "True\n",
      "True\n",
      "True\n",
      "True\n"
     ]
    }
   ],
   "source": [
    "print(set([3.14, 1.618]).issubset(set5))\n",
    "print(set([3.14, 1.618]).issubset(set4))\n",
    "print(set4.issuperset([3.14, 1.618]))\n",
    "print(set5.issuperset([3.14, 1.618]))"
   ]
  },
  {
   "cell_type": "markdown",
   "metadata": {},
   "source": [
    "#### **min(), max() and sum()** functions"
   ]
  },
  {
   "cell_type": "code",
   "execution_count": 36,
   "metadata": {},
   "outputs": [
    {
     "name": "stdout",
     "output_type": "stream",
     "text": [
      "The minimum number of A is 1\n",
      "The minimum number of B is 1\n",
      "The maximum number of A is 5\n",
      "The maximum number of B is 5\n",
      "The sum of A is 30\n",
      "The sum of B is 15\n"
     ]
    }
   ],
   "source": [
    "A = [1,1,2,2,3,3,4,4,5,5]       # Take a list\n",
    "B = {1,1,2,2,3,3,4,4,5,5}       # Take a set\n",
    "\n",
    "print('The minimum number of A is', min(A))\n",
    "print('The minimum number of B is', min(B))\n",
    "print('The maximum number of A is', max(A))\n",
    "print('The maximum number of B is', max(B))\n",
    "print('The sum of A is', sum(A))\n",
    "print('The sum of B is', sum(B))\n",
    "\n",
    "# As you see that the sum of A and B is different. Because the set takes no duplicate. "
   ]
  },
  {
   "cell_type": "markdown",
   "metadata": {},
   "source": [
    "#### No mutable sequence in a set\n",
    "A set can not have mutable elements such as list or dictionary in it. If any, it returns error as follows:"
   ]
  },
  {
   "cell_type": "code",
   "execution_count": 39,
   "metadata": {},
   "outputs": [
    {
     "ename": "TypeError",
     "evalue": "unhashable type: 'list'",
     "output_type": "error",
     "traceback": [
      "\u001b[1;31m---------------------------------------------------------------------------\u001b[0m",
      "\u001b[1;31mTypeError\u001b[0m                                 Traceback (most recent call last)",
      "\u001b[1;32m~\\AppData\\Local\\Temp/ipykernel_10540/2974310107.py\u001b[0m in \u001b[0;36m<module>\u001b[1;34m\u001b[0m\n\u001b[1;32m----> 1\u001b[1;33m \u001b[0mset6\u001b[0m \u001b[1;33m=\u001b[0m \u001b[1;33m{\u001b[0m\u001b[1;34m'Python'\u001b[0m\u001b[1;33m,\u001b[0m \u001b[1;36m1\u001b[0m\u001b[1;33m,\u001b[0m\u001b[1;36m2\u001b[0m\u001b[1;33m,\u001b[0m\u001b[1;36m3\u001b[0m\u001b[1;33m,\u001b[0m \u001b[1;33m[\u001b[0m\u001b[1;36m1\u001b[0m\u001b[1;33m,\u001b[0m\u001b[1;36m2\u001b[0m\u001b[1;33m,\u001b[0m\u001b[1;36m3\u001b[0m\u001b[1;33m]\u001b[0m\u001b[1;33m}\u001b[0m\u001b[1;33m\u001b[0m\u001b[1;33m\u001b[0m\u001b[0m\n\u001b[0m\u001b[0;32m      2\u001b[0m \u001b[0mset6\u001b[0m\u001b[1;33m\u001b[0m\u001b[1;33m\u001b[0m\u001b[0m\n",
      "\u001b[1;31mTypeError\u001b[0m: unhashable type: 'list'"
     ]
    }
   ],
   "source": [
    "set6 = {'Python', 1,2,3, [1,2,3]}\n",
    "set6"
   ]
  },
  {
   "cell_type": "markdown",
   "metadata": {},
   "source": [
    "#### **index()** function\n",
    "This function does not work in set since the set is unordered collection"
   ]
  },
  {
   "cell_type": "code",
   "execution_count": 48,
   "metadata": {},
   "outputs": [
    {
     "ename": "TypeError",
     "evalue": "'set' object is not subscriptable",
     "output_type": "error",
     "traceback": [
      "\u001b[1;31m---------------------------------------------------------------------------\u001b[0m",
      "\u001b[1;31mTypeError\u001b[0m                                 Traceback (most recent call last)",
      "\u001b[1;32m~\\AppData\\Local\\Temp/ipykernel_10540/893084458.py\u001b[0m in \u001b[0;36m<module>\u001b[1;34m\u001b[0m\n\u001b[0;32m      1\u001b[0m \u001b[0mset7\u001b[0m \u001b[1;33m=\u001b[0m \u001b[1;33m{\u001b[0m\u001b[1;36m1\u001b[0m\u001b[1;33m,\u001b[0m\u001b[1;36m2\u001b[0m\u001b[1;33m,\u001b[0m\u001b[1;36m3\u001b[0m\u001b[1;33m,\u001b[0m\u001b[1;36m4\u001b[0m\u001b[1;33m}\u001b[0m\u001b[1;33m\u001b[0m\u001b[1;33m\u001b[0m\u001b[0m\n\u001b[1;32m----> 2\u001b[1;33m \u001b[0mset7\u001b[0m\u001b[1;33m[\u001b[0m\u001b[1;36m1\u001b[0m\u001b[1;33m]\u001b[0m\u001b[1;33m\u001b[0m\u001b[1;33m\u001b[0m\u001b[0m\n\u001b[0m",
      "\u001b[1;31mTypeError\u001b[0m: 'set' object is not subscriptable"
     ]
    }
   ],
   "source": [
    "set7 = {1,2,3,4}\n",
    "set7[1]"
   ]
  },
  {
   "cell_type": "markdown",
   "metadata": {},
   "source": [
    "#### Copy the set"
   ]
  },
  {
   "cell_type": "code",
   "execution_count": 54,
   "metadata": {},
   "outputs": [
    {
     "name": "stdout",
     "output_type": "stream",
     "text": [
      "{1, 3, 5, 7, 9}\n",
      "{1, 3, 5, 7, 9}\n",
      "{1, 3, 5, 7, 9, 11}\n",
      "{1, 3, 5, 7, 9, 11}\n"
     ]
    }
   ],
   "source": [
    "set8 = {1,3,5,7,9}\n",
    "print(set8)\n",
    "set9 = set8\n",
    "print(set9)\n",
    "set8.add(11)\n",
    "print(set8)\n",
    "print(set9)\n",
    "\n",
    "\"\"\"\n",
    "As you see that although the number 8 is added into the set 'set8', the added number\n",
    "is also added into the set 'set9'\n",
    "\"\"\""
   ]
  },
  {
   "cell_type": "markdown",
   "metadata": {},
   "source": [
    "#### **copy()** function\n",
    "it returns a shallow copy of the original set."
   ]
  },
  {
   "cell_type": "code",
   "execution_count": 56,
   "metadata": {},
   "outputs": [
    {
     "name": "stdout",
     "output_type": "stream",
     "text": [
      "{1, 3, 5, 7, 9}\n",
      "{1, 3, 5, 7, 9}\n",
      "{1, 3, 5, 7, 9, 11}\n",
      "{1, 3, 5, 7, 9}\n"
     ]
    },
    {
     "data": {
      "text/plain": [
       "\"\\nWhen this function is used, the original set stays unmodified.\\nA new copy stored in another set of memory locations is created.\\nThe change made in one copy won't reflect in another.\\n\""
      ]
     },
     "execution_count": 56,
     "metadata": {},
     "output_type": "execute_result"
    }
   ],
   "source": [
    "set8 = {1,3,5,7,9}\n",
    "print(set8)\n",
    "set9 = set8.copy()\n",
    "print(set9)\n",
    "set8.add(11)\n",
    "print(set8)\n",
    "print(set9)\n",
    "\n",
    "\"\"\"\n",
    "When this function is used, the original set stays unmodified.\n",
    "A new copy stored in another set of memory locations is created.\n",
    "The change made in one copy won't reflect in another.\n",
    "\"\"\""
   ]
  },
  {
   "cell_type": "markdown",
   "metadata": {},
   "source": [
    "#### **celar()** function\n",
    "it removes all elements in the set and then do the set empty."
   ]
  },
  {
   "cell_type": "code",
   "execution_count": 57,
   "metadata": {},
   "outputs": [
    {
     "name": "stdout",
     "output_type": "stream",
     "text": [
      "{0, 1, 2, 3, 34, 5, 8, 13, 21}\n",
      "set()\n"
     ]
    }
   ],
   "source": [
    "x  = {0, 1,1,2,3,5,8,13, 21,34}\n",
    "print( x)\n",
    "x.clear()\n",
    "print(x)"
   ]
  },
  {
   "cell_type": "markdown",
   "metadata": {},
   "source": [
    "#### **pop()** function\n",
    "It removes and returns an arbitrary set element."
   ]
  },
  {
   "cell_type": "code",
   "execution_count": 60,
   "metadata": {},
   "outputs": [
    {
     "name": "stdout",
     "output_type": "stream",
     "text": [
      "{0, 1, 2, 3, 34, 5, 8, 13, 21}\n",
      "{1, 2, 3, 34, 5, 8, 13, 21}\n"
     ]
    }
   ],
   "source": [
    "x  = {0, 1,1,2,3,5,8,13,21,34}\n",
    "print(x)\n",
    "x.pop()\n",
    "print(x)"
   ]
  }
 ],
 "metadata": {
  "interpreter": {
   "hash": "b7377f19eab4b8c2e19b4d5b732c435591579d0f123dd21b146d33dfd161e508"
  },
  "kernelspec": {
   "display_name": "Python 3 (ipykernel)",
   "language": "python",
   "name": "python3"
  },
  "language_info": {
   "codemirror_mode": {
    "name": "ipython",
    "version": 3
   },
   "file_extension": ".py",
   "mimetype": "text/x-python",
   "name": "python",
   "nbconvert_exporter": "python",
   "pygments_lexer": "ipython3",
   "version": "3.9.7"
  }
 },
 "nbformat": 4,
 "nbformat_minor": 2
}
