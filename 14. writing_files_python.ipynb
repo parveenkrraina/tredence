{
 "cells": [
  {
   "cell_type": "markdown",
   "id": "d1871e28",
   "metadata": {},
   "source": [
    "# **Python Tutorial**"
   ]
  },
  {
   "cell_type": "markdown",
   "id": "61972cc7",
   "metadata": {},
   "source": [
    "## **14. Writing Files in Python**\n",
    "\n",
    "To write to a text file in Python, you follow these steps:\n",
    "<ul>\n",
    "<li>First, open the text file for writing (or appending) using the <b>open()</b> function.</li>\n",
    "<li>Second, write to the text file using the <b>write()</b> or <b>writelines()</b> method.</li>\n",
    "<li>Third, close the file using the <b>close()</b> method.</li>\n",
    "</ul>\n",
    "\n",
    "\n",
    "\n",
    "\n",
    "\n"
   ]
  },
  {
   "cell_type": "markdown",
   "id": "e36f5c8d",
   "metadata": {},
   "source": [
    "<img src=\"https://d1e4pidl3fu268.cloudfront.net/28930cee-30fd-408f-97cd-4f3c26d63c34/Capture.crop_697x523_0,3.preview.JPG\" alt=\"Capture.crop\">"
   ]
  },
  {
   "cell_type": "markdown",
   "id": "aaf0c969",
   "metadata": {},
   "source": [
    "<img src='https://res.cloudinary.com/dyd911kmh/image/upload/f_auto,q_auto:best/v1590365454/read2_tdryms.png' alt='open_parameters'/>"
   ]
  },
  {
   "cell_type": "markdown",
   "id": "92a5a55c",
   "metadata": {},
   "source": [
    "### **Writing files**"
   ]
  },
  {
   "cell_type": "code",
   "execution_count": 17,
   "id": "fa9ecc12",
   "metadata": {},
   "outputs": [],
   "source": [
    "# Writing lines to a file.\n",
    "fname = 'pcr_file.txt'\n",
    "with open(fname, 'w') as f:\n",
    "    f.write(\"I dedicate this book to Nancy Lier Cosgrove Mullis.\\n\")\n",
    "    f.write(\"Jean-Paul Sartre somewhere observed that we each of us make our own hell out of the people around us. Had Jean-Paul known Nancy, he may have noted that at least one man, someday, might get very lucky, and make his own heaven out of one of the people around him. She will be his morning and his evening star, shining with the brightest and the softest light in his heaven. She will be the end of his wanderings, and their love will arouse the daffodils in the spring to follow the crocuses and precede the irises. Their faith in one another will be deeper than time and their eternal spirit will be seamless once again.\\n\")\n",
    "    f.write(\"Or maybe he would have just said, 'If I would had a woman like that, my books would not have been about despair.\\n'\")\n",
    "    f.write(\"This book is not about despair. It is about a little bit of a lot of things, and, if not a single one of them is wet with sadness, it is not due to my lack of depth; it is due to a year of Nancy, and the prospect of never again being without her.\\n\")\n",
    "    f.write(\"A feedback from Elle on the book\\n\")\n",
    "    f.write(\"This bona-fide wild card of the scientific community writes with eccentric gusto.… Mullis has created a free-wheeling adventure yarn that just happens to be the story of his life.\\n\")"
   ]
  },
  {
   "cell_type": "code",
   "execution_count": 18,
   "id": "88a62ad9",
   "metadata": {},
   "outputs": [
    {
     "name": "stdout",
     "output_type": "stream",
     "text": [
      "I dedicate this book to Nancy Lier Cosgrove Mullis.\n",
      "Jean-Paul Sartre somewhere observed that we each of us make our own hell out of the people around us. Had Jean-Paul known Nancy, he may have noted that at least one man, someday, might get very lucky, and make his own heaven out of one of the people around him. She will be his morning and his evening star, shining with the brightest and the softest light in his heaven. She will be the end of his wanderings, and their love will arouse the daffodils in the spring to follow the crocuses and precede the irises. Their faith in one another will be deeper than time and their eternal spirit will be seamless once again.\n",
      "Or maybe he would have just said, 'If I would had a woman like that, my books would not have been about despair.\n",
      "'This book is not about despair. It is about a little bit of a lot of things, and, if not a single one of them is wet with sadness, it is not due to my lack of depth; it is due to a year of Nancy, and the prospect of never again being without her.\n",
      "A feedback from Elle on the book\n",
      "This bona-fide wild card of the scientific community writes with eccentric gusto.… Mullis has created a free-wheeling adventure yarn that just happens to be the story of his life.\n",
      "\n"
     ]
    }
   ],
   "source": [
    "# Checking the file whether it was written or not\n",
    "with open(fname, 'r') as f: \n",
    "    content = f.read()\n",
    "    print(content)"
   ]
  },
  {
   "cell_type": "markdown",
   "id": "1920e294",
   "metadata": {},
   "source": [
    "\n",
    "\n",
    "\n",
    "\n",
    "\n",
    "\n"
   ]
  },
  {
   "cell_type": "code",
   "execution_count": 20,
   "id": "58dda1ed",
   "metadata": {},
   "outputs": [
    {
     "name": "stdout",
     "output_type": "stream",
     "text": [
      "From The New Yorker\n",
      "\n",
      "Entertaini ng … [Mullis is] usefully cranky and combative, raising provocative questions about received truths from the scientific establishment.\n",
      "\n",
      "From Chicago Sun-Times\n",
      "\n",
      "One of the most unusual scientists of our times, a man who would be a joy to put under a microscope.\n",
      "\n",
      "From Andrew Weil, M.D.\n",
      "\n",
      "In this entertaining romp through diverse fields of inquiry, [Mullis] displays the openmindedness, eccentricity, brilliance, and general curmudgeonliness that make him the colorful chracter he is. His stories are engaging, informative, and fun.\n",
      "\n"
     ]
    }
   ],
   "source": [
    "# Writing a list to a file\n",
    "added_text = [\"From The New Yorker\\n\",\n",
    "                            \"Entertaini ng … [Mullis is] usefully cranky and combative, raising provocative questions about received truths from the scientific establishment.\\n\",\n",
    "                            \"From Chicago Sun-Times\\n\",\n",
    "                            \"One of the most unusual scientists of our times, a man who would be a joy to put under a microscope.\\n\",\n",
    "                            \"From Andrew Weil, M.D.\\n\",\n",
    "                            \"In this entertaining romp through diverse fields of inquiry, [Mullis] displays the openmindedness, eccentricity, brilliance, and general curmudgeonliness that make him the colorful chracter he is. His stories are engaging, informative, and fun.\\n\"\n",
    "                        ]\n",
    "\n",
    "fname = 'sample.txt'\n",
    "with open(fname, 'w') as f:\n",
    "    for line in added_text:\n",
    "        print(line)\n",
    "        f.write(line)"
   ]
  },
  {
   "cell_type": "markdown",
   "id": "410346dd",
   "metadata": {},
   "source": [
    "### **Appending files**"
   ]
  },
  {
   "cell_type": "code",
   "execution_count": 24,
   "id": "ff3e56d4",
   "metadata": {},
   "outputs": [
    {
     "name": "stdout",
     "output_type": "stream",
     "text": [
      "Overright\n",
      "\n"
     ]
    }
   ],
   "source": [
    "# Wrting and tehn reading the file\n",
    "new_file = 'pcr_file.txt'\n",
    "with open(new_file, 'w') as f:\n",
    "    f.write('Overright\\n')\n",
    "with open(new_file, 'r') as f:\n",
    "    print(f.read())"
   ]
  },
  {
   "cell_type": "code",
   "execution_count": 25,
   "id": "dd64624e",
   "metadata": {},
   "outputs": [
    {
     "name": "stdout",
     "output_type": "stream",
     "text": [
      "Overright\n",
      "I dedicate this book to Nancy Lier Cosgrove Mullis.\n",
      "Jean-Paul Sartre somewhere observed that we each of us make our own hell out of the people around us. Had Jean-Paul known Nancy, he may have noted that at least one man, someday, might get very lucky, and make his own heaven out of one of the people around him. She will be his morning and his evening star, shining with the brightest and the softest light in his heaven. She will be the end of his wanderings, and their love will arouse the daffodils in the spring to follow the crocuses and precede the irises. Their faith in one another will be deeper than time and their eternal spirit will be seamless once again.\n",
      "Or maybe he would have just said, 'If I would had a woman like that, my books would not have been about despair.\n",
      "'This book is not about despair. It is about a little bit of a lot of things, and, if not a single one of them is wet with sadness, it is not due to my lack of depth; it is due to a year of Nancy, and the prospect of never again being without her.\n",
      "A feedback from Elle on the book\n",
      "This bona-fide wild card of the scientific community writes with eccentric gusto.… Mullis has created a free-wheeling adventure yarn that just happens to be the story of his life.\n",
      "\n"
     ]
    }
   ],
   "source": [
    "# Writing a new line to the text file\n",
    "with open(new_file, 'a') as f:          # To append a new line to the text file, use 'a' in the syntax string\n",
    "    f.write(\"I dedicate this book to Nancy Lier Cosgrove Mullis.\\n\")\n",
    "    f.write(\"Jean-Paul Sartre somewhere observed that we each of us make our own hell out of the people around us. Had Jean-Paul known Nancy, he may have noted that at least one man, someday, might get very lucky, and make his own heaven out of one of the people around him. She will be his morning and his evening star, shining with the brightest and the softest light in his heaven. She will be the end of his wanderings, and their love will arouse the daffodils in the spring to follow the crocuses and precede the irises. Their faith in one another will be deeper than time and their eternal spirit will be seamless once again.\\n\")\n",
    "    f.write(\"Or maybe he would have just said, 'If I would had a woman like that, my books would not have been about despair.\\n'\")\n",
    "    f.write(\"This book is not about despair. It is about a little bit of a lot of things, and, if not a single one of them is wet with sadness, it is not due to my lack of depth; it is due to a year of Nancy, and the prospect of never again being without her.\\n\")\n",
    "    f.write(\"A feedback from Elle on the book\\n\")\n",
    "    f.write(\"This bona-fide wild card of the scientific community writes with eccentric gusto.… Mullis has created a free-wheeling adventure yarn that just happens to be the story of his life.\\n\")\n",
    "\n",
    "# Verification of the new lines in the text file\n",
    "with open(new_file, 'r') as f:\n",
    "    print(f.read())"
   ]
  },
  {
   "cell_type": "markdown",
   "id": "49eee7b6",
   "metadata": {},
   "source": [
    "### **Other modes**"
   ]
  },
  {
   "cell_type": "markdown",
   "id": "d281ec38",
   "metadata": {},
   "source": [
    "#### **a+**\n",
    "Appending and Reading. Creates a new file, if none exists."
   ]
  },
  {
   "cell_type": "code",
   "execution_count": 8,
   "id": "4978d042",
   "metadata": {},
   "outputs": [
    {
     "name": "stdout",
     "output_type": "stream",
     "text": [
      "\n"
     ]
    }
   ],
   "source": [
    "fname = 'pcr_file.txt'\n",
    "with open(fname, 'a+') as f:\n",
    "    f.write(\"From F. Lee Bailey\\n\")\n",
    "    f.write(\"A very good book by a fascinating man.… [Mullis] enjoys an almost frighteningly brilliant mind and yet somehow manages to keep his feet firmly on the ground.… This guy cuts through the nonsense to the quick, tells it like it is, and manages to do so with insouciance [and] occasional puckishness.… But lighter moments aside, what he has to say is important.\\n\")\n",
    "    print(f.read())"
   ]
  },
  {
   "cell_type": "code",
   "execution_count": 9,
   "id": "e637be88",
   "metadata": {},
   "outputs": [
    {
     "name": "stdout",
     "output_type": "stream",
     "text": [
      "Overright\n",
      "I dedicate this book to Nancy Lier Cosgrove Mullis.\n",
      "Jean-Paul Sartre somewhere observed that we each of us make our own hell out of the people around us. Had Jean-Paul known Nancy, he may have noted that at least one man, someday, might get very lucky, and make his own heaven out of one of the people around him. She will be his morning and his evening star, shining with the brightest and the softest light in his heaven. She will be the end of his wanderings, and their love will arouse the daffodils in the spring to follow the crocuses and precede the irises. Their faith in one another will be deeper than time and their eternal spirit will be seamless once again.\n",
      "Or maybe he would have just said, 'If I would had a woman like that, my books would not have been about despair.\n",
      "'This book is not about despair. It is about a little bit of a lot of things, and, if not a single one of them is wet with sadness, it is not due to my lack of depth; it is due to a year of Nancy, and the prospect of never again being without her.\n",
      "A feedback from Elle on the book\n",
      "This bona-fide wild card of the scientific community writes with eccentric gusto.… Mullis has created a free-wheeling adventure yarn that just happens to be the story of his life.\n",
      "From F. Lee Bailey\n",
      "A very good book by a fascinating man.… [Mullis] enjoys an almost frighteningly brilliant mind and yet somehow manages to keep his feet firmly on the ground.… This guy cuts through the nonsense to the quick, tells it like it is, and manages to do so with insouciance [and] occasional puckishness.… But lighter moments aside, what he has to say is important.\n",
      "\n"
     ]
    }
   ],
   "source": [
    "# To verify the text file whether it is added or not\n",
    "with open(fname, 'r') as f:\n",
    "    print(f.read())"
   ]
  },
  {
   "cell_type": "markdown",
   "id": "b8901273",
   "metadata": {},
   "source": [
    "#### **tell() and seek() functions with a+**"
   ]
  },
  {
   "cell_type": "code",
   "execution_count": 10,
   "id": "e1658d5b",
   "metadata": {},
   "outputs": [
    {
     "name": "stdout",
     "output_type": "stream",
     "text": [
      "First location: 1641\n",
      "Read nothing.\n",
      "\n",
      "Second location: 0\n",
      "Overright\n",
      "I dedicate this book to Nancy Lier Cosgrove Mullis.\n",
      "Jean-Paul Sartre somewhere observed that we each of us make our own hell out of the people around us. Had Jean-Paul known Nancy, he may have noted that at least one man, someday, might get very lucky, and make his own heaven out of one of the people around him. She will be his morning and his evening star, shining with the brightest and the softest light in his heaven. She will be the end of his wanderings, and their love will arouse the daffodils in the spring to follow the crocuses and precede the irises. Their faith in one another will be deeper than time and their eternal spirit will be seamless once again.\n",
      "Or maybe he would have just said, 'If I would had a woman like that, my books would not have been about despair.\n",
      "'This book is not about despair. It is about a little bit of a lot of things, and, if not a single one of them is wet with sadness, it is not due to my lack of depth; it is due to a year of Nancy, and the prospect of never again being without her.\n",
      "A feedback from Elle on the book\n",
      "This bona-fide wild card of the scientific community writes with eccentric gusto.… Mullis has created a free-wheeling adventure yarn that just happens to be the story of his life.\n",
      "From F. Lee Bailey\n",
      "A very good book by a fascinating man.… [Mullis] enjoys an almost frighteningly brilliant mind and yet somehow manages to keep his feet firmly on the ground.… This guy cuts through the nonsense to the quick, tells it like it is, and manages to do so with insouciance [and] occasional puckishness.… But lighter moments aside, what he has to say is important.\n",
      "\n",
      "Location after reading: 1641\n"
     ]
    }
   ],
   "source": [
    "with open(fname, 'a+') as f:\n",
    "    print(\"First location: {}\".format(f.tell()))        # it returns the current position in bytes\n",
    "\n",
    "    content = f.read()\n",
    "    if not content:\n",
    "        print('Read nothing.')\n",
    "    else:\n",
    "        print(f.read())\n",
    "    \n",
    "    f.seek(0, 0)\n",
    "    \"\"\"\n",
    "    seek() function is used to change the position of the File Handle to a given specific position. \n",
    "    File handle is like a cursor, which defines from where the data has to be read or written in the file. \n",
    "    Syntax: f.seek(offset, from_what), where f is file pointer\n",
    "    Parameters: \n",
    "    Offset: Number of positions to move forward \n",
    "    from_what: It defines point of reference.\n",
    "    Returns: Return the new absolute position.\n",
    "    The reference point is selected by the from_what argument. It accepts three values: \n",
    "            0: sets the reference point at the beginning of the file \n",
    "            1: sets the reference point at the current file position \n",
    "            2: sets the reference point at the end of the file\n",
    "    \"\"\"\n",
    "    print('\\nSecond location: {}'.format(f.tell()))\n",
    "    content = f.read()\n",
    "    if not content:\n",
    "        print('Read nothing.')\n",
    "    else:\n",
    "        print(content)\n",
    "    print('Location after reading: {}'.format(f.tell()))"
   ]
  },
  {
   "cell_type": "markdown",
   "id": "8bc18576",
   "metadata": {},
   "source": [
    "#### **r+**\n",
    "Reading and writing. Cannot truncate the file."
   ]
  },
  {
   "cell_type": "code",
   "execution_count": 13,
   "id": "ffcb5ac0",
   "metadata": {},
   "outputs": [
    {
     "name": "stdout",
     "output_type": "stream",
     "text": [
      "From The San Diego Union-Tribune\n",
      "Refreshing … brashly confident … indisputably entertaining.\n",
      "To my family...\n",
      "...\n",
      "s make our own hell out of the people around us. Had Jean-Paul known Nancy, he may have noted that at least one man, someday, might get very lucky, and make his own heaven out of one of the people around him. She will be his morning and his evening star, shining with the brightest and the softest light in his heaven. She will be the end of his wanderings, and their love will arouse the daffodils in the spring to follow the crocuses and precede the irises. Their faith in one another will be deeper than time and their eternal spirit will be seamless once again.\n",
      "Or maybe he would have just said, 'If I would had a woman like that, my books would not have been about despair.\n",
      "'This book is not about despair. It is about a little bit of a lot of things, and, if not a single one of them is wet with sadness, it is not due to my lack of depth; it is due to a year of Nancy, and the prospect of never again being without her.\n",
      "A feedback from Elle on the book\n",
      "This bona-fide wild card of the scientific community writes with eccentric gusto.… Mullis has created a free-wheeling adventure yarn that just happens to be the story of his life.\n",
      "From F. Lee Bailey\n",
      "A very good book by a fascinating man.… [Mullis] enjoys an almost frighteningly brilliant mind and yet somehow manages to keep his feet firmly on the ground.… This guy cuts through the nonsense to the quick, tells it like it is, and manages to do so with insouciance [and] occasional puckishness.… But lighter moments aside, what he has to say is important.\n",
      "\n"
     ]
    }
   ],
   "source": [
    "with open(fname, 'r+') as f:\n",
    "    content=f.readlines()\n",
    "    f.seek(0,0)         # writing at the beginning of the file\n",
    "    f.write('From The San Diego Union-Tribune' + '\\n')\n",
    "    f.write(\"Refreshing … brashly confident … indisputably entertaining.\" + \"\\n\")\n",
    "    f.write(\"To my family...\" + '\\n')\n",
    "    f.seek(0,0)\n",
    "    print(f.read())"
   ]
  },
  {
   "cell_type": "markdown",
   "id": "7947600b",
   "metadata": {},
   "source": [
    "### **Copy the file**"
   ]
  },
  {
   "cell_type": "code",
   "execution_count": 14,
   "id": "2175e9b8",
   "metadata": {},
   "outputs": [],
   "source": [
    "# Let's copy the text file 'pcr_file.txt' to another one 'pcr_file_1.txt'\n",
    "fname = 'pcr_file.txt'\n",
    "with open(fname, 'r') as f_reading:\n",
    "    with open('pcr_file_1.txt', 'w') as f_writing:\n",
    "        for line in f_reading:\n",
    "            f_writing.write(line)"
   ]
  },
  {
   "cell_type": "code",
   "execution_count": 15,
   "id": "83c92f71",
   "metadata": {},
   "outputs": [
    {
     "name": "stdout",
     "output_type": "stream",
     "text": [
      "From The San Diego Union-Tribune\n",
      "Refreshing … brashly confident … indisputably entertaining.\n",
      "To my family...\n",
      "...\n",
      "s make our own hell out of the people around us. Had Jean-Paul known Nancy, he may have noted that at least one man, someday, might get very lucky, and make his own heaven out of one of the people around him. She will be his morning and his evening star, shining with the brightest and the softest light in his heaven. She will be the end of his wanderings, and their love will arouse the daffodils in the spring to follow the crocuses and precede the irises. Their faith in one another will be deeper than time and their eternal spirit will be seamless once again.\n",
      "Or maybe he would have just said, 'If I would had a woman like that, my books would not have been about despair.\n",
      "'This book is not about despair. It is about a little bit of a lot of things, and, if not a single one of them is wet with sadness, it is not due to my lack of depth; it is due to a year of Nancy, and the prospect of never again being without her.\n",
      "A feedback from Elle on the book\n",
      "This bona-fide wild card of the scientific community writes with eccentric gusto.… Mullis has created a free-wheeling adventure yarn that just happens to be the story of his life.\n",
      "From F. Lee Bailey\n",
      "A very good book by a fascinating man.… [Mullis] enjoys an almost frighteningly brilliant mind and yet somehow manages to keep his feet firmly on the ground.… This guy cuts through the nonsense to the quick, tells it like it is, and manages to do so with insouciance [and] occasional puckishness.… But lighter moments aside, what he has to say is important.\n",
      "\n"
     ]
    }
   ],
   "source": [
    "# For the verification, execute the following codes\n",
    "fname = 'pcr_file_1.txt'\n",
    "with open(fname, 'r') as f:\n",
    "    print(f.read())\n",
    "\n",
    "# Now, there are 2 files from the same file content. "
   ]
  },
  {
   "cell_type": "markdown",
   "id": "7989baaa",
   "metadata": {},
   "source": [
    "### **Some examples**"
   ]
  },
  {
   "cell_type": "code",
   "execution_count": 36,
   "id": "0662a413",
   "metadata": {},
   "outputs": [
    {
     "name": "stdout",
     "output_type": "stream",
     "text": [
      "Daniela\n",
      "\n",
      "Axel\n",
      "\n",
      "Leonardo\n",
      "\n"
     ]
    }
   ],
   "source": [
    "# Writing the student names into a file\n",
    "fname = open(r'student_name.txt', 'w')\n",
    "for i in range(3):\n",
    "        name = input('Enter a student name: ')\n",
    "        fname.write(name)\n",
    "        fname.write('\\n')              # To write names as a new line\n",
    "fname = open(r'student_name.txt', 'r')\n",
    "for line in fname:\n",
    "    print(line)\n",
    "fname.close()"
   ]
  },
  {
   "cell_type": "code",
   "execution_count": 40,
   "id": "1666dfb6",
   "metadata": {},
   "outputs": [
    {
     "name": "stdout",
     "output_type": "stream",
     "text": [
      "Daniel\n",
      "\n",
      "Axel\n",
      "\n",
      "Leonardo\n",
      "\n"
     ]
    }
   ],
   "source": [
    "# To write the file\n",
    "fname = open(r'student_name.txt', 'w')\n",
    "name_list = []\n",
    "for i in range(3):\n",
    "    name = input('Enter a student name: ')\n",
    "    name_list.append(name + '\\n')\n",
    "fname.writelines(name_list)\n",
    "\n",
    "# To read the file\n",
    "fname = open(r'student_name.txt', 'r')\n",
    "for line in fname:\n",
    "    print(line)\n",
    "fname.close()"
   ]
  },
  {
   "cell_type": "code",
   "execution_count": 41,
   "id": "d7aa5885",
   "metadata": {},
   "outputs": [
    {
     "name": "stdout",
     "output_type": "stream",
     "text": [
      "Hello, World!\n",
      "Hi, Python!\n",
      "\n"
     ]
    }
   ],
   "source": [
    "lines = ['Hello, World!', 'Hi, Python!']\n",
    "with open('new_file.txt', 'w') as f:\n",
    "    for line in lines:\n",
    "        f.write(line)\n",
    "        f.write('\\n')\n",
    "\n",
    "with open('new_file.txt', 'r') as f:\n",
    "    print(f.read())"
   ]
  },
  {
   "cell_type": "code",
   "execution_count": 43,
   "id": "464542de",
   "metadata": {},
   "outputs": [
    {
     "name": "stdout",
     "output_type": "stream",
     "text": [
      "Hello, World!\n",
      "Hi, Python!\n",
      "Hi, Sun!\n",
      "Hello, Summer!\n",
      "Hi, See!Hi, Sun!\n",
      "Hello, Summer!\n",
      "Hi, See!\n"
     ]
    }
   ],
   "source": [
    "# Add more lines into the file\n",
    "more_lines = ['Hi, Sun!', 'Hello, Summer!', 'Hi, See!']\n",
    "with open('new_file.txt', 'a') as f:\n",
    "    f.writelines('\\n' .join(more_lines))\n",
    "\n",
    "with open('new_file.txt', 'r') as f:\n",
    "    print(f.read())\n",
    "\n",
    "f.close()"
   ]
  }
 ],
 "metadata": {
  "interpreter": {
   "hash": "b7377f19eab4b8c2e19b4d5b732c435591579d0f123dd21b146d33dfd161e508"
  },
  "kernelspec": {
   "display_name": "Python 3 (ipykernel)",
   "language": "python",
   "name": "python3"
  },
  "language_info": {
   "codemirror_mode": {
    "name": "ipython",
    "version": 3
   },
   "file_extension": ".py",
   "mimetype": "text/x-python",
   "name": "python",
   "nbconvert_exporter": "python",
   "pygments_lexer": "ipython3",
   "version": "3.9.7"
  }
 },
 "nbformat": 4,
 "nbformat_minor": 5
}
