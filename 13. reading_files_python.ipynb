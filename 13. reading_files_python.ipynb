{
 "cells": [
  {
   "cell_type": "markdown",
   "id": "d234b226",
   "metadata": {},
   "source": [
    "# **Python Tutorial**"
   ]
  },
  {
   "cell_type": "markdown",
   "id": "ebba1641",
   "metadata": {},
   "source": [
    "## **13. Reading Files in Python**\n",
    "To read a text file in Python, you follow these steps:\n",
    "<ul>\n",
    "<li>First, open a text file for reading by using the <b>open()</b> function</li>\n",
    "<li>Second, read text from the text file using the file <b>read()</b>, <b>readline()</b>, or <b>readlines()</b> method of the file object.</li>\n",
    "<li>Third, close the file using the file <b>close()</b> method. This frees up resources and ensures consistency across different python versions.</li>\n",
    "</ul>"
   ]
  },
  {
   "cell_type": "markdown",
   "id": "31061a35",
   "metadata": {},
   "source": [
    "<img src=\"https://www.freecodecamp.org/news/content/images/2020/05/image-48.png\" alt=\"image\">"
   ]
  },
  {
   "cell_type": "markdown",
   "id": "df649dd5",
   "metadata": {},
   "source": [
    "<img src='https://1.bp.blogspot.com/-9oKW02LzERc/Xt6PR_h92fI/AAAAAAAAHVc/9P8LTd39kx0ODq6uO7oTCHQfOO2nu3XsgCLcBGAsYHQ/s1600/File%2BObject%2BMethods.PNG' alt='file_handling'>"
   ]
  },
  {
   "cell_type": "markdown",
   "id": "761f9d53",
   "metadata": {},
   "source": [
    "### **Reading file**"
   ]
  },
  {
   "cell_type": "code",
   "execution_count": 2,
   "id": "6e06b269",
   "metadata": {},
   "outputs": [
    {
     "data": {
      "text/plain": [
       "'I dedicate this book to Nancy Lier Cosgrove Mullis.\\nJean-Paul Sartre somewhere observed that we each of us make our own hell out of the people around us. Had Jean-Paul known Nancy, he may have noted that at least one man, someday, might get very lucky, and make his own heaven out of one of the people around him. She will be his morning and his evening star, shining with the brightest and the softest light in his heaven. She will be the end of his wanderings, and their love will arouse the daffodils in the spring to follow the crocuses and precede the irises. Their faith in one another will be deeper than time and their eternal spirit will be seamless once again.\\nOr maybe he would have just said, “If I’d had a woman like that, my books would not have been about despair.”\\nThis book is not about despair. It is about a little bit of a lot of things, and, if not a single one of them is wet with sadness, it is not due to my lack of depth; it is due to a year of Nancy, and the prospect of never again being without her.\\n\\n'"
      ]
     },
     "execution_count": 2,
     "metadata": {},
     "output_type": "execute_result"
    }
   ],
   "source": [
    "# Reading the txt file\n",
    "file_name = \"pcr_file.txt\"\n",
    "file = open(file_name, \"r\")\n",
    "content = file.read()\n",
    "content"
   ]
  },
  {
   "cell_type": "code",
   "execution_count": 3,
   "id": "88800911",
   "metadata": {},
   "outputs": [
    {
     "name": "stdout",
     "output_type": "stream",
     "text": [
      "pcr_file.txt\n",
      "r\n",
      "I dedicate this book to Nancy Lier Cosgrove Mullis.\n",
      "Jean-Paul Sartre somewhere observed that we each of us make our own hell out of the people around us. Had Jean-Paul known Nancy, he may have noted that at least one man, someday, might get very lucky, and make his own heaven out of one of the people around him. She will be his morning and his evening star, shining with the brightest and the softest light in his heaven. She will be the end of his wanderings, and their love will arouse the daffodils in the spring to follow the crocuses and precede the irises. Their faith in one another will be deeper than time and their eternal spirit will be seamless once again.\n",
      "Or maybe he would have just said, “If I’d had a woman like that, my books would not have been about despair.”\n",
      "This book is not about despair. It is about a little bit of a lot of things, and, if not a single one of them is wet with sadness, it is not due to my lack of depth; it is due to a year of Nancy, and the prospect of never again being without her.\n",
      "\n",
      "\n",
      "<class 'str'>\n"
     ]
    }
   ],
   "source": [
    "# Printing the path of file\n",
    "print(file.name)\n",
    "# Printing the mode of file\n",
    "print(file.mode)\n",
    "# Printing the file with '\\n' as a new file\n",
    "print(content)\n",
    "# Printing the type of file\n",
    "print(type(content))"
   ]
  },
  {
   "cell_type": "code",
   "execution_count": 4,
   "id": "eaa4d228",
   "metadata": {},
   "outputs": [],
   "source": [
    "# Close the file\n",
    "file.close()"
   ]
  },
  {
   "cell_type": "code",
   "execution_count": 5,
   "id": "aacfafc3",
   "metadata": {},
   "outputs": [
    {
     "data": {
      "text/plain": [
       "True"
      ]
     },
     "execution_count": 5,
     "metadata": {},
     "output_type": "execute_result"
    }
   ],
   "source": [
    "# Verification of the closed file \n",
    "file.closed"
   ]
  },
  {
   "cell_type": "markdown",
   "id": "eae2994e",
   "metadata": {},
   "source": [
    "### **Another way to read a file**"
   ]
  },
  {
   "cell_type": "markdown",
   "id": "bdf0210a",
   "metadata": {},
   "source": [
    "<img src='https://www.freecodecamp.org/news/content/images/2020/05/image-33.png' alt='with_open'>"
   ]
  },
  {
   "cell_type": "code",
   "execution_count": 6,
   "id": "0f19bb80",
   "metadata": {},
   "outputs": [
    {
     "name": "stdout",
     "output_type": "stream",
     "text": [
      "I dedicate this book to Nancy Lier Cosgrove Mullis.\n",
      "Jean-Paul Sartre somewhere observed that we each of us make our own hell out of the people around us. Had Jean-Paul known Nancy, he may have noted that at least one man, someday, might get very lucky, and make his own heaven out of one of the people around him. She will be his morning and his evening star, shining with the brightest and the softest light in his heaven. She will be the end of his wanderings, and their love will arouse the daffodils in the spring to follow the crocuses and precede the irises. Their faith in one another will be deeper than time and their eternal spirit will be seamless once again.\n",
      "Or maybe he would have just said, “If I’d had a woman like that, my books would not have been about despair.”\n",
      "This book is not about despair. It is about a little bit of a lot of things, and, if not a single one of them is wet with sadness, it is not due to my lack of depth; it is due to a year of Nancy, and the prospect of never again being without her.\n",
      "\n",
      "\n"
     ]
    }
   ],
   "source": [
    "fname = 'pcr_file.txt'\n",
    "with open(fname, 'r') as f:\n",
    "    content = f.read()\n",
    "    print(content)"
   ]
  },
  {
   "cell_type": "code",
   "execution_count": 7,
   "id": "5e163a32",
   "metadata": {},
   "outputs": [
    {
     "data": {
      "text/plain": [
       "True"
      ]
     },
     "execution_count": 7,
     "metadata": {},
     "output_type": "execute_result"
    }
   ],
   "source": [
    "# Verification of the closed file\n",
    "f.closed"
   ]
  },
  {
   "cell_type": "code",
   "execution_count": 8,
   "id": "519ece9c",
   "metadata": {},
   "outputs": [
    {
     "name": "stdout",
     "output_type": "stream",
     "text": [
      "I dedicate this book to Nancy Lier Cosgrove Mullis.\n",
      "Jean-Paul Sartre somewhere observed that we each of us make our own hell out of the people around us. Had Jean-Paul known Nancy, he may have noted that at least one man, someday, might get very lucky, and make his own heaven out of one of the people around him. She will be his morning and his evening star, shining with the brightest and the softest light in his heaven. She will be the end of his wanderings, and their love will arouse the daffodils in the spring to follow the crocuses and precede the irises. Their faith in one another will be deeper than time and their eternal spirit will be seamless once again.\n",
      "Or maybe he would have just said, “If I’d had a woman like that, my books would not have been about despair.”\n",
      "This book is not about despair. It is about a little bit of a lot of things, and, if not a single one of them is wet with sadness, it is not due to my lack of depth; it is due to a year of Nancy, and the prospect of never again being without her.\n",
      "\n",
      "\n"
     ]
    }
   ],
   "source": [
    "# See the content of the file\n",
    "print(content)"
   ]
  },
  {
   "cell_type": "code",
   "execution_count": 9,
   "id": "b5c5978e",
   "metadata": {},
   "outputs": [
    {
     "name": "stdout",
     "output_type": "stream",
     "text": [
      "I dedicate this book\n"
     ]
    }
   ],
   "source": [
    "# Reading the first 20 characters in the text file\n",
    "with open(fname, 'r') as f:\n",
    "    print(f.read(20))"
   ]
  },
  {
   "cell_type": "code",
   "execution_count": 10,
   "id": "29df43a4",
   "metadata": {},
   "outputs": [
    {
     "name": "stdout",
     "output_type": "stream",
     "text": [
      "I dedicate this book\n",
      " to Nancy Lier Cosgr\n",
      "ove Mullis.\n",
      "Jean-Paul Sartre somewhere observed th\n",
      "at we each of us make our own hell out of the people around us. Had Jean-Paul known Nancy, he may ha\n"
     ]
    }
   ],
   "source": [
    "# Reading certain amount of characters in the file\n",
    "with open(fname, 'r') as f:\n",
    "    print(f.read(20))\n",
    "    print(f.read(20))\n",
    "    print(f.read(50))\n",
    "    print(f.read(100))"
   ]
  },
  {
   "cell_type": "code",
   "execution_count": 11,
   "id": "f839433d",
   "metadata": {},
   "outputs": [
    {
     "name": "stdout",
     "output_type": "stream",
     "text": [
      "The first line is:  I dedicate this book to Nancy Lier Cosgrove Mullis.\n",
      "\n"
     ]
    }
   ],
   "source": [
    "# Reading first line in the text file\n",
    "with open(fname, 'r') as f:\n",
    "    print('The first line is: ', f.readline())"
   ]
  },
  {
   "cell_type": "code",
   "execution_count": 12,
   "id": "898d0a54",
   "metadata": {},
   "outputs": [
    {
     "name": "stdout",
     "output_type": "stream",
     "text": [
      "I dedicate this book\n",
      " to Nancy Lier Cosgr\n"
     ]
    }
   ],
   "source": [
    "# Difference between read() and readline()\n",
    "with open(fname, 'r') as f:\n",
    "    print(f.readline(20))\n",
    "    print(f.read(20))       # This code returns the next 20 characters in the line."
   ]
  },
  {
   "cell_type": "markdown",
   "id": "77ca4389",
   "metadata": {},
   "source": [
    "#### Loop usage in the text file"
   ]
  },
  {
   "cell_type": "code",
   "execution_count": 13,
   "id": "ec7b8c7c",
   "metadata": {},
   "outputs": [
    {
     "name": "stdout",
     "output_type": "stream",
     "text": [
      "Line number 1 : I dedicate this book to Nancy Lier Cosgrove Mullis.\n",
      "\n",
      "Line number 2 : Jean-Paul Sartre somewhere observed that we each of us make our own hell out of the people around us. Had Jean-Paul known Nancy, he may have noted that at least one man, someday, might get very lucky, and make his own heaven out of one of the people around him. She will be his morning and his evening star, shining with the brightest and the softest light in his heaven. She will be the end of his wanderings, and their love will arouse the daffodils in the spring to follow the crocuses and precede the irises. Their faith in one another will be deeper than time and their eternal spirit will be seamless once again.\n",
      "\n",
      "Line number 3 : Or maybe he would have just said, “If I’d had a woman like that, my books would not have been about despair.”\n",
      "\n",
      "Line number 4 : This book is not about despair. It is about a little bit of a lot of things, and, if not a single one of them is wet with sadness, it is not due to my lack of depth; it is due to a year of Nancy, and the prospect of never again being without her.\n",
      "\n",
      "Line number 5 : \n",
      "\n"
     ]
    }
   ],
   "source": [
    "with open(fname, 'r') as f:\n",
    "    line_number = 1\n",
    "    for line in f:\n",
    "        print('Line number', str(line_number), ':', line)\n",
    "        line_number+=1"
   ]
  },
  {
   "cell_type": "markdown",
   "id": "55d7b159",
   "metadata": {},
   "source": [
    "### **Methods**"
   ]
  },
  {
   "cell_type": "markdown",
   "id": "038e211c",
   "metadata": {},
   "source": [
    "#### **read(n) function**\n",
    "* Reads atmost **n** bytes from the file if **n** is specified, else reads the entire file.\n",
    "* Returns the retrieved bytes in the form of a string."
   ]
  },
  {
   "cell_type": "code",
   "execution_count": 14,
   "id": "4249c36e",
   "metadata": {},
   "outputs": [
    {
     "name": "stdout",
     "output_type": "stream",
     "text": [
      "I dedicate this book to Nancy Lier Cosgrove Mullis.\n",
      "Jean-Paul Sartre somewhere observed that we each of us make our own hell out of the people around us. Had Jean-Paul known Nancy, he may have noted that at least one man, someday, might get very lucky, and make his own heaven out of one of the people around him. She will be his morning and his evening star, shining with the brightest and the softest light in his heaven. She will be the end of his wanderings, and their love will arouse the daffodils in the spring to follow the crocuses and precede the irises. Their faith in one another will be deeper than time and their eternal spirit will be seamless once again.\n",
      "Or maybe he would have just said, “If I’d had a woman like that, my books would not have been about despair.”\n",
      "This book is not about despair. It is about a little bit of a lot of things, and, if not a single one of them is wet with sadness, it is not due to my lack of depth; it is due to a year of Nancy, and the prospect of never again being without her.\n",
      "\n",
      "\n"
     ]
    }
   ],
   "source": [
    "with open(fname, 'r') as f:\n",
    "    print(f.read())"
   ]
  },
  {
   "cell_type": "code",
   "execution_count": 15,
   "id": "fa3946df",
   "metadata": {},
   "outputs": [
    {
     "name": "stdout",
     "output_type": "stream",
     "text": [
      "I dedicate this book to Nancy \n"
     ]
    }
   ],
   "source": [
    "with open(fname, 'r') as f:\n",
    "    print(f.read(30))"
   ]
  },
  {
   "cell_type": "markdown",
   "id": "82dd7c05",
   "metadata": {},
   "source": [
    "#### **readline() function**\n",
    "Reads one line at a time from the file in the form of string"
   ]
  },
  {
   "cell_type": "code",
   "execution_count": 16,
   "id": "cf3b1589",
   "metadata": {},
   "outputs": [
    {
     "name": "stdout",
     "output_type": "stream",
     "text": [
      "I dedicate this book to Nancy Lier Cosgrove Mullis.\n",
      "\n",
      "Jean-Paul Sartre somewhere observed that we each of us make our own hell out of the people around us. Had Jean-Paul known Nancy, he may have noted that at least one man, someday, might get very lucky, and make his own heaven out of one of the people around him. She will be his morning and his evening star, shining with the brightest and the softest light in his heaven. She will be the end of his wanderings, and their love will arouse the daffodils in the spring to follow the crocuses and precede the irises. Their faith in one another will be deeper than time and their eternal spirit will be seamless once again.\n",
      "\n",
      "Or maybe he would have just said, “If I’d had a woman like that, my books would not have been about despair.”\n",
      "\n",
      "This book is not about despair. It is about a little bit of a lot of things, and, if not a single one of them is wet with sadness, it is not due to my lack of depth; it is due to a year of Nancy, and the prospect of never again being without her.\n",
      "\n"
     ]
    }
   ],
   "source": [
    "with open(fname, 'r') as f:\n",
    "    file_list = f.readlines()\n",
    "    # Printing the first line\n",
    "    print(file_list[0])\n",
    "    # Printing the second line\n",
    "    print(file_list[1])\n",
    "    # Printing the third line\n",
    "    print(file_list[2])\n",
    "    # Printing the fourth line\n",
    "    print(file_list[3])"
   ]
  },
  {
   "cell_type": "markdown",
   "id": "d32d9c40",
   "metadata": {},
   "source": [
    "#### **readlines() function**\n",
    "Reads all the lines from the file and returns a list of lines."
   ]
  },
  {
   "cell_type": "code",
   "execution_count": 17,
   "id": "ba3c5f96",
   "metadata": {},
   "outputs": [
    {
     "name": "stdout",
     "output_type": "stream",
     "text": [
      "['I dedicate this book to Nancy Lier Cosgrove Mullis.\\n', 'Jean-Paul Sartre somewhere observed that we each of us make our own hell out of the people around us. Had Jean-Paul known Nancy, he may have noted that at least one man, someday, might get very lucky, and make his own heaven out of one of the people around him. She will be his morning and his evening star, shining with the brightest and the softest light in his heaven. She will be the end of his wanderings, and their love will arouse the daffodils in the spring to follow the crocuses and precede the irises. Their faith in one another will be deeper than time and their eternal spirit will be seamless once again.\\n', 'Or maybe he would have just said, “If I’d had a woman like that, my books would not have been about despair.”\\n', 'This book is not about despair. It is about a little bit of a lot of things, and, if not a single one of them is wet with sadness, it is not due to my lack of depth; it is due to a year of Nancy, and the prospect of never again being without her.\\n', '\\n']\n"
     ]
    }
   ],
   "source": [
    "fname = r'C:/Users/test/Desktop/PROGRAMMING_WEB DEVELOPMENT/PYTHON_TUTORIAL/01. python_files_for_sharing/jupyter_notebook_files/pcr_file.txt'\n",
    "with open(fname, 'r') as f:\n",
    "    content=f.readlines()\n",
    "    print(content)"
   ]
  },
  {
   "cell_type": "markdown",
   "id": "4f23a436",
   "metadata": {},
   "source": [
    "#### **strip() function**\n",
    "Removes the leading and trailing spaces from the given string."
   ]
  },
  {
   "cell_type": "code",
   "execution_count": 18,
   "id": "7e2cfd74",
   "metadata": {},
   "outputs": [
    {
     "name": "stdout",
     "output_type": "stream",
     "text": [
      "Total lenght of the line is 1029.\n",
      "The length of the line after removing leading and trailing spaces is 1024.\n"
     ]
    }
   ],
   "source": [
    "with open(fname, 'r') as f:\n",
    "    len_file = 0\n",
    "    total_len_file = 0\n",
    "    for line in f:\n",
    "        # Total length of line in the text file\n",
    "        total_len_file = total_len_file+len(line)\n",
    "\n",
    "        # Lenght of the line after removing leading and trailing spaces\n",
    "        len_file = len_file+len(line.strip()) \n",
    "    print(f'Total lenght of the line is {total_len_file}.')\n",
    "    print(f'The length of the line after removing leading and trailing spaces is {len_file}.')\n",
    "  "
   ]
  },
  {
   "cell_type": "markdown",
   "id": "9fb3b6b2",
   "metadata": {},
   "source": [
    "#### **Size of the text file**"
   ]
  },
  {
   "cell_type": "code",
   "execution_count": 19,
   "id": "a32fcd99",
   "metadata": {},
   "outputs": [
    {
     "name": "stdout",
     "output_type": "stream",
     "text": [
      "The size of the text file is 1029.\n"
     ]
    }
   ],
   "source": [
    "with open(fname, 'r') as f:\n",
    "    str = \"\"\n",
    "    for line in f:\n",
    "        str+=line\n",
    "    print(f'The size of the text file is {len(str)}.')"
   ]
  },
  {
   "cell_type": "markdown",
   "id": "754dbc99",
   "metadata": {},
   "source": [
    "#### **Number of lines in the text**"
   ]
  },
  {
   "cell_type": "code",
   "execution_count": 20,
   "id": "260ac9fa",
   "metadata": {},
   "outputs": [
    {
     "name": "stdout",
     "output_type": "stream",
     "text": [
      "The number of lines in the text file is 5.\n"
     ]
    }
   ],
   "source": [
    "with open(fname, 'r') as f:\n",
    "    count = 0\n",
    "    for line in f:\n",
    "        count = count + 1\n",
    "    print(f'The number of lines in the text file is {count}.')"
   ]
  }
 ],
 "metadata": {
  "interpreter": {
   "hash": "b7377f19eab4b8c2e19b4d5b732c435591579d0f123dd21b146d33dfd161e508"
  },
  "kernelspec": {
   "display_name": "Python 3 (ipykernel)",
   "language": "python",
   "name": "python3"
  },
  "language_info": {
   "codemirror_mode": {
    "name": "ipython",
    "version": 3
   },
   "file_extension": ".py",
   "mimetype": "text/x-python",
   "name": "python",
   "nbconvert_exporter": "python",
   "pygments_lexer": "ipython3",
   "version": "3.9.7"
  }
 },
 "nbformat": 4,
 "nbformat_minor": 5
}
