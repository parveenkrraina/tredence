{
 "cells": [
  {
   "cell_type": "markdown",
   "id": "3c4335f1",
   "metadata": {},
   "source": [
    "# Python Tutorial"
   ]
  },
  {
   "cell_type": "markdown",
   "id": "eb29cdcb",
   "metadata": {},
   "source": [
    "## 2. Strings"
   ]
  },
  {
   "cell_type": "markdown",
   "id": "a6149d70",
   "metadata": {},
   "source": [
    "<img src=\"https://files.realpython.com/media/Strings-and-Character-Data-in-Python_Watermarked.296b2b518ae5.jpg\" width=\"500\" alt=\"strings\"  />"
   ]
  },
  {
   "cell_type": "code",
   "execution_count": 1,
   "id": "5f6178a1",
   "metadata": {},
   "outputs": [
    {
     "data": {
      "text/plain": [
       "'Hello World!'"
      ]
     },
     "execution_count": 1,
     "metadata": {},
     "output_type": "execute_result"
    }
   ],
   "source": [
    "# Employ double quotation marks for describing a string\n",
    "\"Hello World!\""
   ]
  },
  {
   "cell_type": "code",
   "execution_count": 2,
   "id": "ae17263d",
   "metadata": {},
   "outputs": [
    {
     "data": {
      "text/plain": [
       "'Hello World!'"
      ]
     },
     "execution_count": 2,
     "metadata": {},
     "output_type": "execute_result"
    }
   ],
   "source": [
    "# Employ single quotation marks for describing a string\n",
    "'Hello World!'"
   ]
  },
  {
   "cell_type": "code",
   "execution_count": 3,
   "id": "62ee2038",
   "metadata": {},
   "outputs": [
    {
     "data": {
      "text/plain": [
       "'3 6 9 2 6 8'"
      ]
     },
     "execution_count": 3,
     "metadata": {},
     "output_type": "execute_result"
    }
   ],
   "source": [
    "# Digitals and spaces in a string\n",
    "'3 6 9 2 6 8'"
   ]
  },
  {
   "cell_type": "code",
   "execution_count": 4,
   "id": "955a7bf4",
   "metadata": {},
   "outputs": [
    {
     "data": {
      "text/plain": [
       "'@#5_]*$%^&'"
      ]
     },
     "execution_count": 4,
     "metadata": {},
     "output_type": "execute_result"
    }
   ],
   "source": [
    "# Specific characters in a string\n",
    "'@#5_]*$%^&'"
   ]
  },
  {
   "cell_type": "code",
   "execution_count": 5,
   "id": "05933c0f",
   "metadata": {},
   "outputs": [
    {
     "name": "stdout",
     "output_type": "stream",
     "text": [
      "Hello World!\n"
     ]
    }
   ],
   "source": [
    "# printing a string\n",
    "print('Hello World!')"
   ]
  },
  {
   "cell_type": "code",
   "execution_count": 6,
   "id": "15dd8058",
   "metadata": {},
   "outputs": [
    {
     "name": "stdout",
     "output_type": "stream",
     "text": [
      "Hello World!\n"
     ]
    },
    {
     "data": {
      "text/plain": [
       "'Hello World!'"
      ]
     },
     "execution_count": 6,
     "metadata": {},
     "output_type": "execute_result"
    }
   ],
   "source": [
    "# Assigning a string to a variable 'message'\n",
    "message = 'Hello World!'\n",
    "print(message)\n",
    "message"
   ]
  },
  {
   "cell_type": "markdown",
   "id": "2f6986d6",
   "metadata": {},
   "source": [
    "### Indexing of a string"
   ]
  },
  {
   "cell_type": "code",
   "execution_count": 7,
   "id": "0effe3cc",
   "metadata": {},
   "outputs": [
    {
     "name": "stdout",
     "output_type": "stream",
     "text": [
      "H\n"
     ]
    }
   ],
   "source": [
    "# printing the first element in a string\n",
    "\n",
    "message = 'Hello World!'\n",
    "print(message[0])"
   ]
  },
  {
   "cell_type": "code",
   "execution_count": 8,
   "id": "1ea1987e",
   "metadata": {},
   "outputs": [
    {
     "name": "stdout",
     "output_type": "stream",
     "text": [
      "r\n"
     ]
    }
   ],
   "source": [
    "# Printing the element on index 8 in a string\n",
    "print(message[8])"
   ]
  },
  {
   "cell_type": "code",
   "execution_count": 9,
   "id": "4f32ca1e",
   "metadata": {},
   "outputs": [
    {
     "data": {
      "text/plain": [
       "12"
      ]
     },
     "execution_count": 9,
     "metadata": {},
     "output_type": "execute_result"
    }
   ],
   "source": [
    "# lenght of a string includign spaces\n",
    "\n",
    "len(message)"
   ]
  },
  {
   "cell_type": "code",
   "execution_count": 10,
   "id": "911e68ec",
   "metadata": {},
   "outputs": [
    {
     "name": "stdout",
     "output_type": "stream",
     "text": [
      "!\n"
     ]
    },
    {
     "data": {
      "text/plain": [
       "'\\nAlthough the length of the string is 12, since the indexing in Python starts with 0, \\nthe number of the last element is therefore 11.\\n'"
      ]
     },
     "execution_count": 10,
     "metadata": {},
     "output_type": "execute_result"
    }
   ],
   "source": [
    "# Printing the last element in a string\n",
    "print(message[11])\n",
    "\n",
    "# Another comment writing type is as follows using triple quotes.\n",
    "\n",
    "\"\"\"\n",
    "Although the length of the string is 12, since the indexing in Python starts with 0, \n",
    "the number of the last element is therefore 11.\n",
    "\"\"\""
   ]
  },
  {
   "cell_type": "markdown",
   "id": "f68abf50",
   "metadata": {},
   "source": [
    "### Negative indexing of a string"
   ]
  },
  {
   "cell_type": "code",
   "execution_count": 11,
   "id": "04fc7295",
   "metadata": {},
   "outputs": [
    {
     "data": {
      "text/plain": [
       "'!'"
      ]
     },
     "execution_count": 11,
     "metadata": {},
     "output_type": "execute_result"
    }
   ],
   "source": [
    "# printing the last element of a string\n",
    "\n",
    "message[-1]"
   ]
  },
  {
   "cell_type": "code",
   "execution_count": 12,
   "id": "7344d230",
   "metadata": {},
   "outputs": [
    {
     "data": {
      "text/plain": [
       "'\\nSince the negative indexing starts with -1, in this case, the negative index number \\nof the first element is equal to -12.\\n'"
      ]
     },
     "execution_count": 12,
     "metadata": {},
     "output_type": "execute_result"
    }
   ],
   "source": [
    "# printing the first element of a string\n",
    "\n",
    "message[-12]\n",
    "\n",
    "\"\"\"\n",
    "Since the negative indexing starts with -1, in this case, the negative index number \n",
    "of the first element is equal to -12.\n",
    "\"\"\""
   ]
  },
  {
   "cell_type": "code",
   "execution_count": 13,
   "id": "6cf540e9",
   "metadata": {},
   "outputs": [
    {
     "name": "stdout",
     "output_type": "stream",
     "text": [
      "12\n"
     ]
    },
    {
     "data": {
      "text/plain": [
       "12"
      ]
     },
     "execution_count": 13,
     "metadata": {},
     "output_type": "execute_result"
    }
   ],
   "source": [
    "print(len(message))\n",
    "len(message)"
   ]
  },
  {
   "cell_type": "code",
   "execution_count": 14,
   "id": "8e07dec7",
   "metadata": {},
   "outputs": [
    {
     "data": {
      "text/plain": [
       "12"
      ]
     },
     "execution_count": 14,
     "metadata": {},
     "output_type": "execute_result"
    }
   ],
   "source": [
    "len('Hello World!')"
   ]
  },
  {
   "cell_type": "markdown",
   "id": "288223e6",
   "metadata": {},
   "source": [
    "### Slicing of a string"
   ]
  },
  {
   "cell_type": "code",
   "execution_count": 15,
   "id": "f9a3a19a",
   "metadata": {},
   "outputs": [
    {
     "data": {
      "text/plain": [
       "'Hello'"
      ]
     },
     "execution_count": 15,
     "metadata": {},
     "output_type": "execute_result"
    }
   ],
   "source": [
    "# Slicing on the variable 'message' with only index 0 to index 5\n",
    "message[0:5]"
   ]
  },
  {
   "cell_type": "code",
   "execution_count": 16,
   "id": "0598ecdd",
   "metadata": {},
   "outputs": [
    {
     "data": {
      "text/plain": [
       "'World!'"
      ]
     },
     "execution_count": 16,
     "metadata": {},
     "output_type": "execute_result"
    }
   ],
   "source": [
    "# Slicing on the variable 'message' with only index 6 to index 12\n",
    "message[6:12]"
   ]
  },
  {
   "cell_type": "markdown",
   "id": "b983bb55",
   "metadata": {},
   "source": [
    "### Striding in a string"
   ]
  },
  {
   "cell_type": "code",
   "execution_count": 17,
   "id": "29c648e9",
   "metadata": {},
   "outputs": [
    {
     "data": {
      "text/plain": [
       "'HloWrd'"
      ]
     },
     "execution_count": 17,
     "metadata": {},
     "output_type": "execute_result"
    }
   ],
   "source": [
    "# to select every second element in the variable 'message'\n",
    "\n",
    "message[::2]"
   ]
  },
  {
   "cell_type": "code",
   "execution_count": 18,
   "id": "43b487a5",
   "metadata": {},
   "outputs": [
    {
     "data": {
      "text/plain": [
       "'Hlo'"
      ]
     },
     "execution_count": 18,
     "metadata": {},
     "output_type": "execute_result"
    }
   ],
   "source": [
    "# corporation of slicing and striding\n",
    "# get every second element in range from index 0 to index 6\n",
    "\n",
    "message[0:6:2]"
   ]
  },
  {
   "cell_type": "markdown",
   "id": "15a940e2",
   "metadata": {},
   "source": [
    "### Concatenate of strings"
   ]
  },
  {
   "cell_type": "code",
   "execution_count": 19,
   "id": "8b332d5f",
   "metadata": {},
   "outputs": [
    {
     "data": {
      "text/plain": [
       "'Hello World! How many people are living on the earth?'"
      ]
     },
     "execution_count": 19,
     "metadata": {},
     "output_type": "execute_result"
    }
   ],
   "source": [
    "message = 'Hello World!'\n",
    "question = ' How many people are living on the earth?'\n",
    "statement = message+question\n",
    "statement"
   ]
  },
  {
   "cell_type": "code",
   "execution_count": 20,
   "id": "f8c0ae9b",
   "metadata": {},
   "outputs": [
    {
     "data": {
      "text/plain": [
       "' Hello World! Hello World! Hello World! Hello World!'"
      ]
     },
     "execution_count": 20,
     "metadata": {},
     "output_type": "execute_result"
    }
   ],
   "source": [
    "# printing a string for 4 times\n",
    "4*\" Hello World!\""
   ]
  },
  {
   "cell_type": "markdown",
   "id": "84240600",
   "metadata": {},
   "source": [
    "### Escape sequences"
   ]
  },
  {
   "cell_type": "code",
   "execution_count": 21,
   "id": "c6729e83",
   "metadata": {},
   "outputs": [
    {
     "name": "stdout",
     "output_type": "stream",
     "text": [
      "Hello World! \n",
      "How many people are living on the earth?\n"
     ]
    }
   ],
   "source": [
    "# New line escape sequence\n",
    "print('Hello World! \\nHow many people are living on the earth?')"
   ]
  },
  {
   "cell_type": "code",
   "execution_count": 22,
   "id": "2f1f2799",
   "metadata": {},
   "outputs": [
    {
     "name": "stdout",
     "output_type": "stream",
     "text": [
      "Hello World! \tHow many people are living on the earth?\n"
     ]
    }
   ],
   "source": [
    "# Tab escape sequence\n",
    "print('Hello World! \\tHow many people are living on the earth?')"
   ]
  },
  {
   "cell_type": "code",
   "execution_count": 23,
   "id": "4bad80dd",
   "metadata": {},
   "outputs": [
    {
     "name": "stdout",
     "output_type": "stream",
     "text": [
      "Hello World! \\ How many people are living on the earth?\n",
      "Hello World! \\ How many people are living on the earth?\n"
     ]
    }
   ],
   "source": [
    "# back slash in a string\n",
    "print('Hello World! \\\\ How many people are living on the earth?')\n",
    "\n",
    "# r will say python that a string will be show as a raw string\n",
    "print(r'Hello World! \\ How many people are living on the earth?')"
   ]
  },
  {
   "cell_type": "markdown",
   "id": "bc28bbc0",
   "metadata": {},
   "source": [
    "### String operations"
   ]
  },
  {
   "cell_type": "code",
   "execution_count": 24,
   "id": "81111838",
   "metadata": {},
   "outputs": [
    {
     "name": "stdout",
     "output_type": "stream",
     "text": [
      "Before uppercase:  hello python!\n",
      "After uppercase:  HELLO PYTHON!\n",
      "Again lowercase:  hello python!\n",
      "The first element of the string is uppercase:  Hello Python!\n"
     ]
    }
   ],
   "source": [
    "message = 'hello python!'\n",
    "print('Before uppercase: ', message )\n",
    "\n",
    "# convert uppercase the elements in a string\n",
    "message_upper = message.upper()\n",
    "print('After uppercase: ', message_upper)\n",
    "\n",
    "# convert lowercase the elements in a string\n",
    "message_lower = message.lower()\n",
    "print('Again lowercase: ', message_lower)\n",
    "\n",
    "# convert first letter of string to uppercase\n",
    "message_title = message.title()\n",
    "print('The first element of the string is uppercase: ', message_title)"
   ]
  },
  {
   "cell_type": "code",
   "execution_count": 25,
   "id": "739630f6",
   "metadata": {},
   "outputs": [
    {
     "name": "stdout",
     "output_type": "stream",
     "text": [
      "Hi Python!\n",
      "Hello World!\n"
     ]
    }
   ],
   "source": [
    "# replace() method in a string\n",
    "message = 'Hello Python!'\n",
    "message_hi = message.replace('Hello', 'Hi')\n",
    "message_python = message.replace('Python', 'World')\n",
    "print(message_hi)\n",
    "print(message_python)"
   ]
  },
  {
   "cell_type": "code",
   "execution_count": 26,
   "id": "f34d3295",
   "metadata": {},
   "outputs": [
    {
     "name": "stdout",
     "output_type": "stream",
     "text": [
      "6\n"
     ]
    }
   ],
   "source": [
    "# find() method application in a string\n",
    "message = 'Hello World!'\n",
    "print(message.find('Wo'))\n",
    "\n",
    "# the output is the index number of the first element of the substring"
   ]
  },
  {
   "cell_type": "code",
   "execution_count": 27,
   "id": "cb7104e0",
   "metadata": {},
   "outputs": [
    {
     "data": {
      "text/plain": [
       "6"
      ]
     },
     "execution_count": 27,
     "metadata": {},
     "output_type": "execute_result"
    }
   ],
   "source": [
    "# find() method application to obtain a  substring in a string\n",
    "message.find('World!')"
   ]
  },
  {
   "cell_type": "code",
   "execution_count": 28,
   "id": "2bff47a4",
   "metadata": {},
   "outputs": [
    {
     "data": {
      "text/plain": [
       "-1"
      ]
     },
     "execution_count": 28,
     "metadata": {},
     "output_type": "execute_result"
    }
   ],
   "source": [
    "# if cannot find the substring in a string, the output is -1.\n",
    "message.find('cndsjnd')"
   ]
  },
  {
   "cell_type": "code",
   "execution_count": 30,
   "id": "04e484ce",
   "metadata": {},
   "outputs": [
    {
     "data": {
      "text/plain": [
       "122"
      ]
     },
     "execution_count": 30,
     "metadata": {},
     "output_type": "execute_result"
    }
   ],
   "source": [
    "text = 'Jean-Paul Sartre somewhere observed that we each of us make our own hell out of the people around us. Had Jean-Paul known Nancy, he may have noted that at least one man, someday, might get very lucky, and make his own heaven out of one of the people around him. She will be his morning and his evening star, shining with the brightest and the softest light in his heaven. She will be the end of his wanderings, and their love will arouse the daffodils in the spring to follow the crocuses and precede the irises. Their faith in one another will be deeper than time and their eternal spirit will be seamless once again.'\n",
    "\n",
    "# find the first index of the substring 'Nancy'\n",
    "text.find('Nancy')"
   ]
  },
  {
   "cell_type": "code",
   "execution_count": 31,
   "id": "30fb66dd",
   "metadata": {},
   "outputs": [
    {
     "data": {
      "text/plain": [
       "'Jean-Paul Sartre somewhere observed that we each of us make our own hell out of the people around us. Had Jean-Paul known Nancy Lier Cosgrove Mullis, he may have noted that at least one man, someday, might get very lucky, and make his own heaven out of one of the people around him. She will be his morning and his evening star, shining with the brightest and the softest light in his heaven. She will be the end of his wanderings, and their love will arouse the daffodils in the spring to follow the crocuses and precede the irises. Their faith in one another will be deeper than time and their eternal spirit will be seamless once again.'"
      ]
     },
     "execution_count": 31,
     "metadata": {},
     "output_type": "execute_result"
    }
   ],
   "source": [
    "# replace the substring 'Nancy' with 'Nancy Lier Cosgrove Mullis'\n",
    "text.replace('Nancy', 'Nancy Lier Cosgrove Mullis')"
   ]
  },
  {
   "cell_type": "code",
   "execution_count": 32,
   "id": "f31fa821",
   "metadata": {},
   "outputs": [
    {
     "data": {
      "text/plain": [
       "'jean-paul sartre somewhere observed that we each of us make our own hell out of the people around us. had jean-paul known nancy, he may have noted that at least one man, someday, might get very lucky, and make his own heaven out of one of the people around him. she will be his morning and his evening star, shining with the brightest and the softest light in his heaven. she will be the end of his wanderings, and their love will arouse the daffodils in the spring to follow the crocuses and precede the irises. their faith in one another will be deeper than time and their eternal spirit will be seamless once again.'"
      ]
     },
     "execution_count": 32,
     "metadata": {},
     "output_type": "execute_result"
    }
   ],
   "source": [
    "# convet the text to lower case\n",
    "text.lower()"
   ]
  },
  {
   "cell_type": "code",
   "execution_count": 33,
   "id": "33fcc929",
   "metadata": {},
   "outputs": [
    {
     "data": {
      "text/plain": [
       "'Jean-paul sartre somewhere observed that we each of us make our own hell out of the people around us. had jean-paul known nancy, he may have noted that at least one man, someday, might get very lucky, and make his own heaven out of one of the people around him. she will be his morning and his evening star, shining with the brightest and the softest light in his heaven. she will be the end of his wanderings, and their love will arouse the daffodils in the spring to follow the crocuses and precede the irises. their faith in one another will be deeper than time and their eternal spirit will be seamless once again.'"
      ]
     },
     "execution_count": 33,
     "metadata": {},
     "output_type": "execute_result"
    }
   ],
   "source": [
    "# convert the first letter of the text to capital letter\n",
    "text.capitalize()"
   ]
  },
  {
   "cell_type": "code",
   "execution_count": 34,
   "id": "4e7a8c13",
   "metadata": {},
   "outputs": [
    {
     "data": {
      "text/plain": [
       "'jean-paul sartre somewhere observed that we each of us make our own hell out of the people around us. had jean-paul known nancy, he may have noted that at least one man, someday, might get very lucky, and make his own heaven out of one of the people around him. she will be his morning and his evening star, shining with the brightest and the softest light in his heaven. she will be the end of his wanderings, and their love will arouse the daffodils in the spring to follow the crocuses and precede the irises. their faith in one another will be deeper than time and their eternal spirit will be seamless once again.'"
      ]
     },
     "execution_count": 34,
     "metadata": {},
     "output_type": "execute_result"
    }
   ],
   "source": [
    "# casefold() method returns a string where all the characters are in lower case\n",
    "text.casefold()"
   ]
  },
  {
   "cell_type": "code",
   "execution_count": 35,
   "id": "42bf3671",
   "metadata": {},
   "outputs": [
    {
     "data": {
      "text/plain": [
       "'-------------------Hallo Leute!-------------------'"
      ]
     },
     "execution_count": 35,
     "metadata": {},
     "output_type": "execute_result"
    }
   ],
   "source": [
    "# center() method will center align the string, using a specified character (space is the default) as the fill character.\n",
    "message = 'Hallo Leute!'\n",
    "message.center(50, '-')"
   ]
  },
  {
   "cell_type": "code",
   "execution_count": 36,
   "id": "a48af244",
   "metadata": {},
   "outputs": [
    {
     "data": {
      "text/plain": [
       "7"
      ]
     },
     "execution_count": 36,
     "metadata": {},
     "output_type": "execute_result"
    }
   ],
   "source": [
    "# count() method returns the number of elements with the specified value\n",
    "text.count('and')"
   ]
  },
  {
   "cell_type": "code",
   "execution_count": 37,
   "id": "eb1bba77",
   "metadata": {},
   "outputs": [
    {
     "name": "stdout",
     "output_type": "stream",
     "text": [
      "Hello World!\n",
      "Hi, My name is Bob and I am 36 years old.\n",
      "Hi, My name is Bob and I am 36 years old.\n",
      "Hi, My name is Bob and I am 36 years old.\n"
     ]
    }
   ],
   "source": [
    "# format() method\n",
    "\"\"\"\n",
    "The format() method formats the specified value(s) and insert them inside the string's placeholder. \n",
    "The placeholder is defined using curly brackets: {}.\n",
    "\"\"\"\n",
    "\n",
    "txt = \"Hello {word}\"\n",
    "print(txt.format(word = 'World!'))\n",
    "\n",
    "message1 = 'Hi, My name is {} and I am {} years old.'\n",
    "print(message1.format('Bob', 36))\n",
    "\n",
    "message2 = 'Hi, My name is {name} and I am {number} years old.'\n",
    "print(message2.format(name ='Bob', number = 36))\n",
    "\n",
    "message3 = 'Hi, My name is {0} and I am {1} years old.'\n",
    "print(message3.format('Bob', 36))"
   ]
  }
 ],
 "metadata": {
  "kernelspec": {
   "display_name": "Python 3 (ipykernel)",
   "language": "python",
   "name": "python3"
  },
  "language_info": {
   "codemirror_mode": {
    "name": "ipython",
    "version": 3
   },
   "file_extension": ".py",
   "mimetype": "text/x-python",
   "name": "python",
   "nbconvert_exporter": "python",
   "pygments_lexer": "ipython3",
   "version": "3.9.7"
  }
 },
 "nbformat": 4,
 "nbformat_minor": 5
}
