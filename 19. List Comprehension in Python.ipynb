{
 "cells": [
  {
   "cell_type": "markdown",
   "id": "1a714853",
   "metadata": {},
   "source": [
    "# **Python Tutorial**"
   ]
  },
  {
   "cell_type": "markdown",
   "id": "db3c1d61",
   "metadata": {},
   "source": [
    "## **19. List Comprehension in Python**\n",
    "\n",
    "* **List comprehension** in Python is an easy and compact syntax for creating a list from a string or another list. \n",
    "* It is a very concise way to create a new list by performing an operation on each item in the existing list. \n",
    "* **List comprehension** is considerably **faster** than processing a list using the for loop."
   ]
  },
  {
   "cell_type": "markdown",
   "id": "b8154cab",
   "metadata": {},
   "source": [
    "<img src='https://e6v4p8w2.rocketcdn.me/wp-content/uploads/2020/05/Python-List-Comprehensions-Syntax.png' width='600' alt='list_comprehension' />"
   ]
  },
  {
   "cell_type": "markdown",
   "id": "8d489cdd",
   "metadata": {},
   "source": [
    "### **Examples**"
   ]
  },
  {
   "cell_type": "code",
   "execution_count": 3,
   "id": "3f989d64",
   "metadata": {},
   "outputs": [],
   "source": [
    "import math\n",
    "from math import *"
   ]
  },
  {
   "cell_type": "code",
   "execution_count": 24,
   "id": "e0cf7f6c",
   "metadata": {},
   "outputs": [
    {
     "name": "stdout",
     "output_type": "stream",
     "text": [
      "[0, 1, 8, 27, 64]\n",
      "[0, 1, 8, 27, 64]\n",
      "[0.0, 1.0, 8.0, 27.0, 64.0]\n"
     ]
    }
   ],
   "source": [
    "# Using for loop\n",
    "cubic_nums = []\n",
    "for i in range(5):\n",
    "    i**=3\n",
    "    cubic_nums.append(i)\n",
    "print(cubic_nums)\n",
    "\n",
    "# Using list comprehension\n",
    "cubic_nums = [i**3 for i in range(5)]\n",
    "print(cubic_nums)\n",
    "\n",
    "# Using list comprehension\n",
    "cubic_nums = [math.pow(i, 3) for i in range(5)] \n",
    "print(cubic_nums)"
   ]
  },
  {
   "cell_type": "code",
   "execution_count": 90,
   "id": "920c265a",
   "metadata": {},
   "outputs": [
    {
     "name": "stdout",
     "output_type": "stream",
     "text": [
      "[0, 2, 4, 6, 8, 10, 12, 14, 16, 18, 20]\n",
      "[0, 2, 4, 6, 8, 10, 12, 14, 16, 18, 20]\n"
     ]
    }
   ],
   "source": [
    "# Using for loop\n",
    "even_numbers = []\n",
    "for i in range(21):\n",
    "    if i%2 == 0:\n",
    "        even_numbers.append(i)\n",
    "print(even_numbers)\n",
    "\n",
    "# Using list comprehension\n",
    "even_numbers = [i for i in range(21) if i%2==0]\n",
    "print(even_numbers)"
   ]
  },
  {
   "cell_type": "markdown",
   "id": "481194b6",
   "metadata": {},
   "source": [
    "**Example:** The number of insexts in a lab doubles in size every month. Take the initial number of insects as input and output a list, showing the number of insects for each of the next 12 months, starting with 0, which is the initial value. So the resulting list should contain 12 items, each showing the number of insects at the beginning of that month."
   ]
  },
  {
   "cell_type": "code",
   "execution_count": 31,
   "id": "6804180e",
   "metadata": {},
   "outputs": [
    {
     "name": "stdout",
     "output_type": "stream",
     "text": [
      "The entered number is 10.\n",
      "[10, 20, 40, 80, 160, 320, 640, 1280, 2560, 5120, 10240, 20480]\n",
      "[10, 20, 40, 80, 160, 320, 640, 1280, 2560, 5120, 10240, 20480]\n"
     ]
    }
   ],
   "source": [
    "# Using for loop\n",
    "n = int(input('Enter a number: '))\n",
    "print(f'The entered number is {n}.')\n",
    "insect_nums = []\n",
    "for i in range(12):\n",
    "    i = n*(2**i)\n",
    "    insect_nums.append(i)\n",
    "print(insect_nums)\n",
    "    \n",
    "# Using list comprehension\n",
    "insect_nums = [n*(2**i) for i in range(0, 12)]\n",
    "print(insect_nums)"
   ]
  },
  {
   "cell_type": "code",
   "execution_count": 20,
   "id": "906cfea8",
   "metadata": {},
   "outputs": [
    {
     "name": "stdout",
     "output_type": "stream",
     "text": [
      "[0, 3, 6, 9, 12, 15, 18, 21, 24, 27]\n",
      "[0, 3, 6, 9, 12, 15, 18, 21, 24, 27]\n"
     ]
    }
   ],
   "source": [
    "# Create a list of multiplies of three from 0 to 30\n",
    "# Using for loop\n",
    "nlis =[]\n",
    "for i in range(30):\n",
    "    if i%3 == 0:\n",
    "        nlis.append(i)\n",
    "print(nlis)\n",
    "\n",
    "# Using list comprehension\n",
    "nlis = [i for i in range(30) if i%3==0]\n",
    "print(nlis)"
   ]
  },
  {
   "cell_type": "code",
   "execution_count": 19,
   "id": "8403fdb7",
   "metadata": {},
   "outputs": [
    {
     "name": "stdout",
     "output_type": "stream",
     "text": [
      "['P', 'y', 't', 'h', 'o', 'n', ' ', 'i', 's', ' ', 'a', ' ', 'p', 'r', 'o', 'g', 'r', 'a', 'm', 'm', 'i', 'n', 'g', ' ', 'l', 'a', 'n', 'g', 'u', 'a', 'g', 'e']\n",
      "['P', 'y', 't', 'h', 'o', 'n', ' ', 'i', 's', ' ', 'a', ' ', 'p', 'r', 'o', 'g', 'r', 'a', 'm', 'm', 'i', 'n', 'g', ' ', 'l', 'a', 'n', 'g', 'u', 'a', 'g', 'e']\n"
     ]
    }
   ],
   "source": [
    "# Using for loop\n",
    "text = []\n",
    "for i in 'Python is a programming language':\n",
    "    text.append(i)\n",
    "print(text)\n",
    "\n",
    "# Using list comprehension\n",
    "text = [i for i in 'Python is a programming language']\n",
    "print(text)"
   ]
  },
  {
   "cell_type": "code",
   "execution_count": 33,
   "id": "3318661a",
   "metadata": {},
   "outputs": [
    {
     "name": "stdout",
     "output_type": "stream",
     "text": [
      "[1.7309999999999999, 4.854, 8.154, 9.42, 18, 84, 111, 5187]\n",
      "[1.7309999999999999, 4.854, 8.154, 9.42, 18, 84, 111, 5187]\n"
     ]
    }
   ],
   "source": [
    "special_nums = [0.577, 1.618, 2.718, 3.14, 6, 28, 37, 1729]\n",
    "\n",
    "#Using for loop\n",
    "three_times = []\n",
    "for i in special_nums:\n",
    "    i*=3\n",
    "    three_times.append(i)\n",
    "print(three_times)\n",
    "\n",
    "# Using list comprehension\n",
    "three_times = [x*3 for x in special_nums]\n",
    "print(three_times)"
   ]
  },
  {
   "cell_type": "code",
   "execution_count": 39,
   "id": "967c7cc8",
   "metadata": {},
   "outputs": [
    {
     "name": "stdout",
     "output_type": "stream",
     "text": [
      "['Python', 'JavaScript']\n",
      "['Python', 'JavaScript']\n"
     ]
    }
   ],
   "source": [
    "# Using for loop\n",
    "languages = ['Python', 'Java', 'JavaScript', 'C', 'C++', 'PHP']\n",
    "lang_lis = []\n",
    "for i in languages:\n",
    "    if 't' in i:\n",
    "        lang_lis.append(i)\n",
    "print(lang_lis)\n",
    "\n",
    "#Using list comprehension\n",
    "lang_lis = [i for i in languages if 't' in i]\n",
    "print(lang_lis)"
   ]
  },
  {
   "cell_type": "code",
   "execution_count": 46,
   "id": "85178bd2",
   "metadata": {},
   "outputs": [
    {
     "name": "stdout",
     "output_type": "stream",
     "text": [
      "['Python', 'Java', 'JavaScript', 'C++', 'PHP']\n",
      "['Python', 'Java', 'JavaScript', 'C++', 'PHP']\n"
     ]
    }
   ],
   "source": [
    "languages = ['Python', 'Java', 'JavaScript', 'C', 'C++', 'PHP']\n",
    "# Using for loop\n",
    "lang_lis = []\n",
    "for i in languages:\n",
    "    if i != 'C':\n",
    "        lang_lis.append(i)\n",
    "print(lang_lis)\n",
    "\n",
    "#Using list comprehension\n",
    "lang_lis = [i for i in languages if i != 'C']\n",
    "print(lang_lis)"
   ]
  },
  {
   "cell_type": "code",
   "execution_count": 48,
   "id": "f702d94b",
   "metadata": {},
   "outputs": [
    {
     "name": "stdout",
     "output_type": "stream",
     "text": [
      "[0.577, 1.618, 2.718, 3.14]\n",
      "[0.577, 1.618, 2.718, 3.14]\n"
     ]
    }
   ],
   "source": [
    "special_nums = [0.577, 1.618, 2.718, 3.14, 6, 28, 37, 1729]\n",
    "\n",
    "# Using for loop\n",
    "new_lis = []\n",
    "for i in special_nums:\n",
    "    if i < 5:\n",
    "        new_lis.append(i)\n",
    "print(new_lis)\n",
    "\n",
    "# Using list comprehension\n",
    "new_lis = [i for i in special_nums if i < 5]\n",
    "print(new_lis)"
   ]
  },
  {
   "cell_type": "code",
   "execution_count": 51,
   "id": "a9abfca3",
   "metadata": {},
   "outputs": [
    {
     "name": "stdout",
     "output_type": "stream",
     "text": [
      "['Python', 'Python', 'Python', 'Python', 'Python']\n",
      "['Python', 'Python', 'Python', 'Python', 'Python']\n"
     ]
    }
   ],
   "source": [
    "languages = ['Java', 'JavaScript', 'C', 'C++', 'PHP']\n",
    "# Using for loop\n",
    "lang_lis = []\n",
    "for i in languages:\n",
    "    i = 'Python'\n",
    "    lang_lis.append(i)\n",
    "print(lang_lis)\n",
    "\n",
    "#Using list comprehension\n",
    "lang_lis = ['Python' for i in languages]\n",
    "print(lang_lis)"
   ]
  },
  {
   "cell_type": "code",
   "execution_count": 53,
   "id": "45ce3fd1",
   "metadata": {},
   "outputs": [
    {
     "name": "stdout",
     "output_type": "stream",
     "text": [
      "['Python', 'JavaScript', 'C', 'C++', 'PHP']\n",
      "['Python', 'JavaScript', 'C', 'C++', 'PHP']\n"
     ]
    }
   ],
   "source": [
    "languages = ['Java', 'JavaScript', 'C', 'C++', 'PHP']\n",
    "# Using for loop\n",
    "lang_lis = []\n",
    "for i in languages:\n",
    "    if i != 'Java':\n",
    "        lang_lis.append(i)\n",
    "    else:\n",
    "        lang_lis.append('Python')\n",
    "print(lang_lis)\n",
    "\n",
    "\n",
    "#Using list comprehension\n",
    "lang_lis = [i if i != 'Java' else 'Python' for i in languages]\n",
    "print(lang_lis)"
   ]
  },
  {
   "cell_type": "code",
   "execution_count": 56,
   "id": "fb5a659c",
   "metadata": {},
   "outputs": [
    {
     "name": "stdout",
     "output_type": "stream",
     "text": [
      "['PYTHON', 'JAVA', 'JAVASCRIPT', 'C', 'C++', 'PHP']\n",
      "['PYTHON', 'JAVA', 'JAVASCRIPT', 'C', 'C++', 'PHP']\n"
     ]
    }
   ],
   "source": [
    "languages = ['Python', 'Java', 'JavaScript', 'C', 'C++', 'PHP']\n",
    "# Using for loop\n",
    "lang_lis = []\n",
    "for i in languages:\n",
    "    i = i.upper()\n",
    "    lang_lis.append(i)\n",
    "print(lang_lis)\n",
    "\n",
    "#Using list comprehension\n",
    "lang_lis = [i.upper() for i in languages]\n",
    "print(lang_lis)"
   ]
  },
  {
   "cell_type": "code",
   "execution_count": 59,
   "id": "87a4ce38",
   "metadata": {},
   "outputs": [
    {
     "name": "stdout",
     "output_type": "stream",
     "text": [
      "['P', 'y', 't', 'h', 'o', 'n']\n",
      "['P', 'y', 't', 'h', 'o', 'n']\n",
      "['P', 'y', 't', 'h', 'o', 'n']\n"
     ]
    }
   ],
   "source": [
    "# Using for loop\n",
    "python = []\n",
    "for i in 'Python':\n",
    "    python.append(i)\n",
    "print(python)\n",
    "\n",
    "# Using list comprehension\n",
    "python = [i for i in 'Python']\n",
    "print(python)\n",
    "\n",
    "# Using lambda function\n",
    "python = list(map(lambda i: i, 'Python'))\n",
    "print(python)"
   ]
  },
  {
   "cell_type": "code",
   "execution_count": 85,
   "id": "79c630db",
   "metadata": {},
   "outputs": [
    {
     "name": "stdout",
     "output_type": "stream",
     "text": [
      "For loop: ['Even', 'Odd', 'Even', 'Odd', 'Even', 'Odd', 'Even', 'Odd', 'Even', 'Odd', 'Even']\n",
      "List comprehension: ['Even', 'Odd', 'Even', 'Odd', 'Even', 'Odd', 'Even', 'Odd', 'Even', 'Odd', 'Even']\n",
      "Lambda: ['Even', 'Odd', 'Even', 'Odd', 'Even', 'Odd', 'Even', 'Odd', 'Even', 'Odd', 'Even']\n"
     ]
    }
   ],
   "source": [
    "# Using for loop\n",
    "numbers = []\n",
    "for i in range(11):\n",
    "    if i%2 == 0:\n",
    "        numbers.append('Even')\n",
    "    else:\n",
    "        numbers.append('Odd')\n",
    "print(f'For loop: {numbers}')\n",
    "\n",
    "# Using list comprehension\n",
    "numbers = ['Even' if i%2==0  else 'Odd' for i in range(11)]\n",
    "print(f'List comprehension: {numbers}')\n",
    "\n",
    "# Using lambda function\n",
    "numbers = list(map(lambda i: i, ['Even' if i%2==0  else 'Odd' for i in range(11)]))\n",
    "print(f'Lambda: {numbers}')"
   ]
  },
  {
   "cell_type": "code",
   "execution_count": 79,
   "id": "d8ca8820",
   "metadata": {},
   "outputs": [
    {
     "name": "stdout",
     "output_type": "stream",
     "text": [
      "[[0.577, 6], [1.618, 28], [2.718, 37], [3.14, 1729]]\n",
      "[[0.577, 6], [1.618, 28], [2.718, 37], [3.14, 1729]]\n"
     ]
    }
   ],
   "source": [
    "# Using nested for loop\n",
    "empty_list = []\n",
    "matrix_list = [[0.577, 1.618, 2.718, 3.14], [6, 28, 37, 1729]]\n",
    "\n",
    "for i in range(len(matrix_list[0])):\n",
    "    T_row = []\n",
    "    for row in matrix_list:\n",
    "        T_row.append(row[i])\n",
    "    empty_list.append(T_row)\n",
    "print(empty_list)\n",
    "\n",
    "# Using list comprehension\n",
    "empty_list = [[row[i] for row in matrix_list] for i in range(4)]\n",
    "print(empty_list)"
   ]
  },
  {
   "cell_type": "code",
   "execution_count": 82,
   "id": "d29e2073",
   "metadata": {},
   "outputs": [
    {
     "name": "stdout",
     "output_type": "stream",
     "text": [
      "[[0, 1, 2, 3, 4], [0, 1, 2, 3, 4], [0, 1, 2, 3, 4], [0, 1, 2, 3, 4], [0, 1, 2, 3, 4]]\n",
      "[[0, 1, 2, 3, 4], [0, 1, 2, 3, 4], [0, 1, 2, 3, 4], [0, 1, 2, 3, 4], [0, 1, 2, 3, 4]]\n"
     ]
    }
   ],
   "source": [
    "# Using nested for loop\n",
    "empty_matrix = []\n",
    "for i in range(5):\n",
    "    empty_matrix.append([])\n",
    "    for j in range(5):\n",
    "        empty_matrix[i].append(j)\n",
    "print(empty_matrix)\n",
    "\n",
    "# Using list comprehension\n",
    "empty_matrix = [[j for j in range(5)] for i in range(5)]\n",
    "print(empty_matrix)"
   ]
  },
  {
   "cell_type": "code",
   "execution_count": 89,
   "id": "6f770230",
   "metadata": {},
   "outputs": [
    {
     "name": "stdout",
     "output_type": "stream",
     "text": [
      "[[0.577, 2.718, 6], [1.618, 3.14, 28], [0, 1, 28]]\n"
     ]
    }
   ],
   "source": [
    "# Transpose of 2D matrix\n",
    "matrix = [[0.577, 1.618, 0],\n",
    "                [2.718, 3.14, 1],\n",
    "                [6, 28, 28]]\n",
    "transpose_matrix = [[i[j] for i in matrix] for j in range(len(matrix))]\n",
    "print(transpose_matrix)"
   ]
  }
 ],
 "metadata": {
  "kernelspec": {
   "display_name": "Python 3 (ipykernel)",
   "language": "python",
   "name": "python3"
  },
  "language_info": {
   "codemirror_mode": {
    "name": "ipython",
    "version": 3
   },
   "file_extension": ".py",
   "mimetype": "text/x-python",
   "name": "python",
   "nbconvert_exporter": "python",
   "pygments_lexer": "ipython3",
   "version": "3.9.7"
  },
  "vscode": {
   "interpreter": {
    "hash": "b7377f19eab4b8c2e19b4d5b732c435591579d0f123dd21b146d33dfd161e508"
   }
  }
 },
 "nbformat": 4,
 "nbformat_minor": 5
}
