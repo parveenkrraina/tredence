{
 "cells": [
  {
   "cell_type": "markdown",
   "metadata": {},
   "source": [
    "# Python Tutorial"
   ]
  },
  {
   "cell_type": "markdown",
   "metadata": {},
   "source": [
    "## 10. Exception Handling in Python\n",
    "* An exception is an event, which occurs during the execution of a program that disrupts the normal flow of the program's instructions. \n",
    "* In general, when a Python script encounters a situation that it cannot cope with, it raises an exception. \n",
    "* An exception is a Python object that represents an error.\n",
    "* When a Python script raises an exception, it must either handle the exception immediately otherwise it terminates and quits.\n",
    "* If you have some **suspicious** code that may raise an exception, you can defend your program by placing the **suspicious** code in a **try:** block. \n",
    "* After the **try**: block, include an **except:** statement, followed by a block of code which handles the problem as elegantly as possible.\n",
    "* **Common exceptions**\n",
    "<ul>\n",
    "    <li>ZeroDivisionError</li>\n",
    "    <li>NameError</li>\n",
    "    <li>ValueError</li>\n",
    "    <li>IOError</li>\n",
    "    <li>EOFError</li>\n",
    "    <li>IdentationError</li>\n",
    "</ul>"
   ]
  },
  {
   "cell_type": "markdown",
   "metadata": {},
   "source": [
    "#### **ZeroDivisionError**"
   ]
  },
  {
   "cell_type": "code",
   "execution_count": null,
   "metadata": {},
   "outputs": [],
   "source": [
    "# If a number is divided by 0, it gives a ZeroDivisionError.\n",
    "try: \n",
    "    1/0\n",
    "except ZeroDivisionError:\n",
    "    print('This code gives a ZeroDivisionError.')\n",
    "\n",
    "print(1/0)"
   ]
  },
  {
   "cell_type": "code",
   "execution_count": null,
   "metadata": {},
   "outputs": [],
   "source": [
    "nlis = []\n",
    "count = 0\n",
    "try:\n",
    "    mean = count/len(nlis)\n",
    "    print('The mean value is', mean)\n",
    "except ZeroDivisionError:\n",
    "    print('This code gives a ZeroDivisionError')\n",
    "\n",
    "print(count/len(nlis))"
   ]
  },
  {
   "cell_type": "code",
   "execution_count": null,
   "metadata": {},
   "outputs": [],
   "source": [
    "# The following code is like 1/0.\n",
    "try: \n",
    "    True/False\n",
    "except ZeroDivisionError:\n",
    "    print('The code gives a ZeroDivisionError.')\n",
    "\n",
    "print(True/False)"
   ]
  },
  {
   "cell_type": "markdown",
   "metadata": {},
   "source": [
    "#### **NameError**"
   ]
  },
  {
   "cell_type": "code",
   "execution_count": null,
   "metadata": {},
   "outputs": [],
   "source": [
    "nlis = []\n",
    "count = 0\n",
    "try:\n",
    "    mean = count/len(nlis)\n",
    "    print('The mean value is', mean)\n",
    "except ZeroDivisionError:\n",
    "    print('This code gives a ZeroDivisionError')\n",
    "\n",
    "# Since the variable 'mean' is not defined, it gives us a 'NameError\n",
    "print(mean)"
   ]
  },
  {
   "cell_type": "code",
   "execution_count": null,
   "metadata": {},
   "outputs": [],
   "source": [
    "try:\n",
    "    y = x+5\n",
    "except NameError:\n",
    "    print('This code gives a NameError.')\n",
    "\n",
    "print(y)"
   ]
  },
  {
   "cell_type": "code",
   "execution_count": null,
   "metadata": {},
   "outputs": [],
   "source": [
    "# Define a function giving a NameError\n",
    "def addition(x, y):\n",
    "    z = x + y\n",
    "    return z\n",
    "\n",
    "print('This function gives a NameError.')\n",
    "total = add(3.14, 1.618)\n",
    "print(total)"
   ]
  },
  {
   "cell_type": "code",
   "execution_count": null,
   "metadata": {},
   "outputs": [],
   "source": [
    "# Since 'MyName' is not defined, the following code gives us a 'NameError.'\n",
    "try:\n",
    "    name = (MyName)\n",
    "    print(name, 'today is your wedding day.')\n",
    "except NameError:\n",
    "    print('This code gives a NameError.')\n",
    "\n",
    "name = (MyName)\n",
    "print(name, 'today is your wedding day.')"
   ]
  },
  {
   "cell_type": "markdown",
   "metadata": {},
   "source": [
    "#### **IndexError**"
   ]
  },
  {
   "cell_type": "code",
   "execution_count": null,
   "metadata": {},
   "outputs": [],
   "source": [
    "nlis = [0.577, 1.618, 2.718, 3.14, 6, 28, 37, 1729]\n",
    "try:\n",
    "    nlis[10]\n",
    "except IndexError:\n",
    "    print('This code gives us a IndexError.')\n",
    "\n",
    "print(nlis[10])"
   ]
  },
  {
   "cell_type": "code",
   "execution_count": null,
   "metadata": {},
   "outputs": [],
   "source": [
    "# You can also supplytake this error type with tuple\n",
    "tuple_sample = (0.577, 1.618, 2.718, 3.14, 6, 28, 37, 1729)\n",
    "try:\n",
    "    tuple_sample[10]\n",
    "except IndexError:\n",
    "    print('This code gives us a IndexError.')\n",
    "\n",
    "print(tuple_sample[10])"
   ]
  },
  {
   "cell_type": "markdown",
   "metadata": {},
   "source": [
    "#### **KeyError**"
   ]
  },
  {
   "cell_type": "code",
   "execution_count": null,
   "metadata": {},
   "outputs": [],
   "source": [
    "dictionary = {'euler_constant': 0.577, 'golden_ratio': 1.618}\n",
    "try:\n",
    "    dictonary = dictionary['euler_number']\n",
    "except KeyError:\n",
    "    print('This code gives us a KeyError.')\n",
    "\n",
    "dictonary = dictionary['euler_number']\n",
    "print(dictonary)"
   ]
  },
  {
   "cell_type": "markdown",
   "metadata": {},
   "source": [
    "You can find more <a href='https://docs.python.org/3/library/exceptions.html?utm_medium=Exinfluencer&utm_source=Exinfluencer&utm_content=000026UJ&utm_term=10006555&utm_id=NA-SkillsNetwork-Channel-SkillsNetworkCoursesIBMDeveloperSkillsNetworkPY0101ENSkillsNetwork19487395-2021-01-01'> Error Types</a> from this connection.\n"
   ]
  },
  {
   "cell_type": "markdown",
   "metadata": {},
   "source": [
    "### **Exception Handling**"
   ]
  },
  {
   "cell_type": "markdown",
   "metadata": {},
   "source": [
    "#### **try/except**"
   ]
  },
  {
   "cell_type": "markdown",
   "metadata": {},
   "source": [
    "<center>\n",
    "    <img src=\"https://www.learnbyexample.org/wp-content/uploads/python/Python-try-except-Syntax.png\" width=\"500\" alt=\"try/except syntax\"  />\n",
    "</center>"
   ]
  },
  {
   "cell_type": "code",
   "execution_count": null,
   "metadata": {},
   "outputs": [],
   "source": [
    "try:\n",
    "    print(name)\n",
    "except NameError:\n",
    "    print('Since the variable name is not defined, the function gives a NameError.')"
   ]
  },
  {
   "cell_type": "code",
   "execution_count": null,
   "metadata": {},
   "outputs": [],
   "source": [
    "num1 = float(input('Enter a number:'))\n",
    "print('The entered value is', num1)\n",
    "try:\n",
    "    num2 = float(input('Enter a number:'))\n",
    "    print('The entered value is', num2)\n",
    "    value = num1/num2\n",
    "    print('This process is running with value = ', value)\n",
    "except:\n",
    "    print('This process is not running.')"
   ]
  },
  {
   "cell_type": "markdown",
   "metadata": {},
   "source": [
    "#### **Multiple Except Blocks**\n"
   ]
  },
  {
   "cell_type": "markdown",
   "metadata": {},
   "source": [
    "##### **try/except/except** etc."
   ]
  },
  {
   "cell_type": "code",
   "execution_count": null,
   "metadata": {},
   "outputs": [],
   "source": [
    "num1 = float(input('Enter a number:'))\n",
    "print('The entered value is', num1)\n",
    "try:\n",
    "    num2 = float(input('Enter a number:'))\n",
    "    print('The entered value is', num2)\n",
    "    value = num1/num2\n",
    "    print('This process is running with value = ', value)\n",
    "except ZeroDivisionError:\n",
    "    print('This function gives a ZeroDivisionError since a number cannot divide by 0.')\n",
    "except ValueError:\n",
    "    print('You should provide a number.')\n",
    "except:\n",
    "    print('Soething went wrong!')"
   ]
  },
  {
   "cell_type": "markdown",
   "metadata": {},
   "source": [
    "##### **try/except/else**"
   ]
  },
  {
   "cell_type": "markdown",
   "metadata": {},
   "source": [
    "<center>\n",
    "    <img src=\"https://www.learnbyexample.org/wp-content/uploads/python/Python-try-except-else-Syntax.png\" width=\"500\" alt=\"try/except/else syntax\"  />\n",
    "</center>"
   ]
  },
  {
   "cell_type": "code",
   "execution_count": null,
   "metadata": {},
   "outputs": [],
   "source": [
    "num1 = float(input('Enter a number:'))\n",
    "print('The entered value is', num1)\n",
    "try:\n",
    "    num2 = float(input('Enter a number:'))\n",
    "    print('The entered value is', num2)\n",
    "    value = num1/num2\n",
    "except ZeroDivisionError:\n",
    "    print('This function gives a ZeroDivisionError since a number cannot divide by 0.')\n",
    "except ValueError:\n",
    "    print('You should provide a number.')\n",
    "except:\n",
    "    print('Soething went wrong!')\n",
    "else:\n",
    "    print('This process is running with value = ', value)"
   ]
  },
  {
   "cell_type": "markdown",
   "metadata": {},
   "source": [
    "##### **try/except/else/finally**"
   ]
  },
  {
   "cell_type": "markdown",
   "metadata": {},
   "source": [
    "<center>\n",
    "    <img src=\"https://www.learnbyexample.org/wp-content/uploads/python/Python-Exception-try-except-else-finally-Syntax.png\" width=\"500\" alt=\"try/except/else/finally syntax\"  />\n",
    "</center>"
   ]
  },
  {
   "cell_type": "code",
   "execution_count": null,
   "metadata": {},
   "outputs": [],
   "source": [
    "num1 = float(input('Enter a number:'))\n",
    "print('The entered value is', num1)\n",
    "try:\n",
    "    num2 = float(input('Enter a number:'))\n",
    "    print('The entered value is', num2)\n",
    "    value = num1/num2\n",
    "except ZeroDivisionError:\n",
    "    print('This function gives a ZeroDivisionError since a number cannot divide by 0.')\n",
    "except ValueError:\n",
    "    print('You should provide a number.')\n",
    "except:\n",
    "    print('Soething went wrong!')\n",
    "else:\n",
    "    print('This process is running with value = ', value)\n",
    "finally:\n",
    "    print('The process is completed.')"
   ]
  },
  {
   "cell_type": "markdown",
   "metadata": {},
   "source": [
    "##### Multiple **except** clauses"
   ]
  },
  {
   "cell_type": "code",
   "execution_count": null,
   "metadata": {},
   "outputs": [],
   "source": [
    "num1 = float(input('Enter a number:'))\n",
    "print('The entered value is', num1)\n",
    "try:\n",
    "    num2 = float(input('Enter a number:'))\n",
    "    print('The entered value is', num2)\n",
    "    value = num1/num2\n",
    "except (ZeroDivisionError, NameError, ValueError):  #Multiple except clauses\n",
    "    print('This function gives a ZeroDivisionError, NameError or ValueError.')\n",
    "except:\n",
    "    print('Soething went wrong!')\n",
    "else:\n",
    "    print('This process is running with value = ', value)\n",
    "finally:\n",
    "    print('The process is completed.')"
   ]
  },
  {
   "cell_type": "markdown",
   "metadata": {},
   "source": [
    "##### **Raising** in exception\n",
    "\n",
    "Using the 'raise' keyword, the programmer can throw an exception when a certain condition is reached."
   ]
  },
  {
   "cell_type": "code",
   "execution_count": null,
   "metadata": {},
   "outputs": [],
   "source": [
    "num = int(input('Enter a number:'))\n",
    "print('The entered value is', num)\n",
    "try:\n",
    "    if num>1000 and num %2 == 0 or num %2 !=0:\n",
    "        raise Exception('Do not allow to the even numbers higher than 1000.')\n",
    "except:\n",
    "    print('Even or odd numbers higher than 1000 are not allowed!')\n",
    "else:\n",
    "    print('This process is running with value = ', num)\n",
    "finally:\n",
    "    print('The process is completed.')"
   ]
  }
 ],
 "metadata": {
  "interpreter": {
   "hash": "b7377f19eab4b8c2e19b4d5b732c435591579d0f123dd21b146d33dfd161e508"
  },
  "kernelspec": {
   "display_name": "Python 3 (ipykernel)",
   "language": "python",
   "name": "python3"
  },
  "language_info": {
   "codemirror_mode": {
    "name": "ipython",
    "version": 3
   },
   "file_extension": ".py",
   "mimetype": "text/x-python",
   "name": "python",
   "nbconvert_exporter": "python",
   "pygments_lexer": "ipython3",
   "version": "3.9.7"
  }
 },
 "nbformat": 4,
 "nbformat_minor": 2
}
