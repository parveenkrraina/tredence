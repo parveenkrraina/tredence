{
 "cells": [
  {
   "cell_type": "markdown",
   "id": "1f43131f",
   "metadata": {},
   "source": [
    "# **Python Tutorial**"
   ]
  },
  {
   "cell_type": "markdown",
   "id": "72326841",
   "metadata": {},
   "source": [
    "## **12. Classes and Objects in Python**\n",
    "* Python is an **object-oriented programming language**. \n",
    "* Unlike procedure-oriented programming, where the main emphasis is on functions, object-oriented programming stresses on objects.\n",
    "* An **object** is simply a collection of data (variables) and methods (functions) that act on those data. \n",
    "* Similarly, a **class** is a blueprint for that object.\n",
    "* Like function definitions begin with the **def** keyword in Python, class definitions begin with a **class** keyword.\n",
    "* The first string inside the class is called **docstring** and has a brief description of the class. \n",
    "* Although not mandatory, this is highly recommended."
   ]
  },
  {
   "cell_type": "markdown",
   "id": "5be3797e",
   "metadata": {},
   "source": [
    "<img src='https://pynative.com/wp-content/uploads/2021/08/class_method.png' width='700' alt='Class Method' />"
   ]
  },
  {
   "cell_type": "markdown",
   "id": "77852cdc",
   "metadata": {},
   "source": [
    "### **Create a class**"
   ]
  },
  {
   "cell_type": "code",
   "execution_count": 40,
   "id": "cfda7898",
   "metadata": {},
   "outputs": [
    {
     "name": "stdout",
     "output_type": "stream",
     "text": [
      "<class '__main__.Data'>\n"
     ]
    }
   ],
   "source": [
    "class Data:\n",
    "    num = 3.14\n",
    "\n",
    "print(Data)"
   ]
  },
  {
   "cell_type": "markdown",
   "id": "0f9e9fc0",
   "metadata": {},
   "source": [
    "### **Create an object**"
   ]
  },
  {
   "cell_type": "code",
   "execution_count": 41,
   "id": "f4a8ec34",
   "metadata": {},
   "outputs": [
    {
     "name": "stdout",
     "output_type": "stream",
     "text": [
      "3.14\n"
     ]
    }
   ],
   "source": [
    "class Data:\n",
    "    num = 3.14\n",
    "\n",
    "var = Data()\n",
    "print(var.num)"
   ]
  },
  {
   "cell_type": "markdown",
   "id": "95ef4abb",
   "metadata": {},
   "source": [
    "### **Function __init__()**"
   ]
  },
  {
   "cell_type": "code",
   "execution_count": 43,
   "id": "03281803",
   "metadata": {},
   "outputs": [
    {
     "name": "stdout",
     "output_type": "stream",
     "text": [
      "2.718\n",
      "1.618\n",
      "3.14\n"
     ]
    }
   ],
   "source": [
    "class Data:\n",
    "    def __init__(self, euler_number, pi_number, golden_ratio):\n",
    "        self.euler_number = euler_number\n",
    "        self.pi_number = pi_number\n",
    "        self.golden_ratio = golden_ratio\n",
    "\n",
    "val = Data(2.718, 3.14, 1.618)\n",
    "\n",
    "print(val.euler_number)\n",
    "print(val.golden_ratio)\n",
    "print(val.pi_number)"
   ]
  },
  {
   "cell_type": "markdown",
   "id": "da4fe649",
   "metadata": {},
   "source": [
    "### **Methods**"
   ]
  },
  {
   "cell_type": "code",
   "execution_count": 45,
   "id": "17f3b8ec",
   "metadata": {},
   "outputs": [
    {
     "name": "stdout",
     "output_type": "stream",
     "text": [
      "The euler number is 2.718\n",
      "The golden ratio is 1.618\n",
      "The pi number is 3.14\n"
     ]
    }
   ],
   "source": [
    "class Data:\n",
    "    def __init__(self, euler_number, pi_number, golden_ratio):\n",
    "        self.euler_number = euler_number\n",
    "        self.pi_number = pi_number\n",
    "        self.golden_ratio = golden_ratio\n",
    "    def msg_function(self):\n",
    "        print(\"The euler number is\", self.euler_number)\n",
    "        print(\"The golden ratio is\", self.golden_ratio)\n",
    "        print(\"The pi number is\", self.pi_number)\n",
    "\n",
    "val = Data(2.718, 3.14, 1.618)\n",
    "val.msg_function()"
   ]
  },
  {
   "cell_type": "markdown",
   "id": "f370b725",
   "metadata": {},
   "source": [
    "### **Self parameter**\n",
    "- The **self parameter** is a reference to the current instance of the class, and is used to access variables that belongs to the class.\n",
    "- It does not have to be named **self**, you can call it whatever you like, but it has to be the **first parameter** of any function in the **class**.\n",
    "- Check the following example:"
   ]
  },
  {
   "cell_type": "code",
   "execution_count": 46,
   "id": "09ad0453",
   "metadata": {},
   "outputs": [
    {
     "name": "stdout",
     "output_type": "stream",
     "text": [
      "The euler number is 2.718\n",
      "The golden ratio is 1.618\n",
      "The pi number is 3.14\n"
     ]
    }
   ],
   "source": [
    "\"\"\"\n",
    "The following codes are the same as the above codes under the title 'Methods'.\n",
    "You see that the output is the same, but this codes contain 'classFirstParameter' instead of 'self'. \n",
    "\"\"\"\n",
    "class Data:\n",
    "    def __init__(classFirstParameter, euler_number, pi_number, golden_ratio):\n",
    "        classFirstParameter.euler_number = euler_number\n",
    "        classFirstParameter.pi_number = pi_number\n",
    "        classFirstParameter.golden_ratio = golden_ratio\n",
    "\n",
    "    def msg_function(classFirstParameter):\n",
    "        print(\"The euler number is\", classFirstParameter.euler_number)\n",
    "        print(\"The golden ratio is\", classFirstParameter.golden_ratio)\n",
    "        print(\"The pi number is\", classFirstParameter.pi_number)\n",
    "\n",
    "val = Data(2.718, 3.14, 1.618)\n",
    "val.msg_function()"
   ]
  },
  {
   "cell_type": "markdown",
   "id": "3c11ddb6",
   "metadata": {},
   "source": [
    "### **Creating a Class to draw a Rectangle**"
   ]
  },
  {
   "cell_type": "code",
   "execution_count": 1,
   "id": "7b9b6695",
   "metadata": {},
   "outputs": [
    {
     "name": "stdout",
     "output_type": "stream",
     "text": [
      "20\n",
      "10\n"
     ]
    },
    {
     "data": {
      "image/png": "[encoded data removed]",
      "text/plain": [
       "<Figure size 432x288 with 1 Axes>"
      ]
     },
     "metadata": {
      "needs_background": "light"
     },
     "output_type": "display_data"
    },
    {
     "name": "stdout",
     "output_type": "stream",
     "text": [
      "['__class__', '__delattr__', '__dict__', '__dir__', '__doc__', '__eq__', '__format__', '__ge__', '__getattribute__', '__gt__', '__hash__', '__init__', '__init_subclass__', '__le__', '__lt__', '__module__', '__ne__', '__new__', '__reduce__', '__reduce_ex__', '__repr__', '__setattr__', '__sizeof__', '__str__', '__subclasshook__', '__weakref__', 'color', 'drawRectangle', 'height', 'width']\n"
     ]
    },
    {
     "data": {
      "image/png": "[encoded data removed]",
      "text/plain": [
       "<Figure size 432x288 with 1 Axes>"
      ]
     },
     "metadata": {
      "needs_background": "light"
     },
     "output_type": "display_data"
    },
    {
     "data": {
      "image/png": "[encoded data removed]",
      "text/plain": [
       "<Figure size 432x288 with 1 Axes>"
      ]
     },
     "metadata": {
      "needs_background": "light"
     },
     "output_type": "display_data"
    }
   ],
   "source": [
    "# Creating a class to draw a rectangle\n",
    "class Rectangle(object):\n",
    "\n",
    "    # Contructor\n",
    "    def __init__(self, width, height, color):\n",
    "        self.width = width\n",
    "        self.height = height\n",
    "        self.color = color\n",
    "\n",
    "    # Method\n",
    "    def drawRectangle(self):\n",
    "        plt.gca().add_patch(plt.Rectangle((0, 0), self.width, self.height, fc=self.color))\n",
    "        plt.axis('scaled')\n",
    "        plt.show()\n",
    "\n",
    "# import library to draw the Rectangle\n",
    "import matplotlib.pyplot as plt\n",
    "%matplotlib inline\n",
    "\n",
    "# creating an object blue rectangle\n",
    "one_Rectangle = Rectangle(20, 10, 'blue')\n",
    "\n",
    "# Printing the object attribute width\n",
    "print(one_Rectangle.width)\n",
    "\n",
    "# Printing the object attribute height\n",
    "print(one_Rectangle.height)\n",
    "\n",
    "# Printing the object attribute color\n",
    "print(one_Rectangle.color)\n",
    "\n",
    "# Drawing the object\n",
    "one_Rectangle.drawRectangle()\n",
    "\n",
    "# Learning the methods that can be utilized on the object 'one_rectangle'\n",
    "print(dir(one_Rectangle))\n",
    "\n",
    "# We can change the properties of the rectangle\n",
    "one_Rectangle.width = 15\n",
    "one_Rectangle.height = 15\n",
    "one_Rectangle.color = 'green'\n",
    "one_Rectangle.drawRectangle()\n",
    "\n",
    "# Using new variables, we can change the properties of the rectangle\n",
    "two_Rectangle = Rectangle(100, 50, 'yellow')\n",
    "two_Rectangle.drawRectangle()\n",
    "\n"
   ]
  },
  {
   "cell_type": "markdown",
   "id": "ecad44ce",
   "metadata": {},
   "source": [
    "### **Creating a class to draw a circle**"
   ]
  },
  {
   "cell_type": "code",
   "execution_count": 3,
   "id": "fb7f9214",
   "metadata": {
    "scrolled": false
   },
   "outputs": [
    {
     "name": "stdout",
     "output_type": "stream",
     "text": [
      "3.14\n",
      "blue\n"
     ]
    },
    {
     "data": {
      "image/png": "[encoded data removed]",
      "text/plain": [
       "<Figure size 432x288 with 1 Axes>"
      ]
     },
     "metadata": {
      "needs_background": "light"
     },
     "output_type": "display_data"
    },
    {
     "name": "stdout",
     "output_type": "stream",
     "text": [
      "['__class__', '__delattr__', '__dict__', '__dir__', '__doc__', '__eq__', '__format__', '__ge__', '__getattribute__', '__gt__', '__hash__', '__init__', '__init_subclass__', '__le__', '__lt__', '__module__', '__ne__', '__new__', '__reduce__', '__reduce_ex__', '__repr__', '__setattr__', '__sizeof__', '__str__', '__subclasshook__', '__weakref__', 'color', 'drawCircle', 'increase_radius', 'radius']\n"
     ]
    },
    {
     "data": {
      "image/png": "[encoded data removed]",
      "text/plain": [
       "<Figure size 432x288 with 1 Axes>"
      ]
     },
     "metadata": {
      "needs_background": "light"
     },
     "output_type": "display_data"
    },
    {
     "name": "stdout",
     "output_type": "stream",
     "text": [
      "100\n",
      "yellow\n"
     ]
    },
    {
     "data": {
      "image/png": "[encoded data removed]",
      "text/plain": [
       "<Figure size 432x288 with 1 Axes>"
      ]
     },
     "metadata": {
      "needs_background": "light"
     },
     "output_type": "display_data"
    },
    {
     "name": "stdout",
     "output_type": "stream",
     "text": [
      "Before increment:  15\n"
     ]
    },
    {
     "data": {
      "image/png": "[encoded data removed]",
      "text/plain": [
       "<Figure size 432x288 with 1 Axes>"
      ]
     },
     "metadata": {
      "needs_background": "light"
     },
     "output_type": "display_data"
    },
    {
     "name": "stdout",
     "output_type": "stream",
     "text": [
      "Increase the radius by 15 units:  30\n"
     ]
    },
    {
     "data": {
      "image/png": "[encoded data removed]",
      "text/plain": [
       "<Figure size 432x288 with 1 Axes>"
      ]
     },
     "metadata": {
      "needs_background": "light"
     },
     "output_type": "display_data"
    },
    {
     "name": "stdout",
     "output_type": "stream",
     "text": [
      "Increase the radius by 30 units:  60\n"
     ]
    },
    {
     "data": {
      "image/png": "[encoded data removed]",
      "text/plain": [
       "<Figure size 432x288 with 1 Axes>"
      ]
     },
     "metadata": {
      "needs_background": "light"
     },
     "output_type": "display_data"
    }
   ],
   "source": [
    "# Creating a class to draw a circle\n",
    "class Circle(object):\n",
    "\n",
    "    # Contructor\n",
    "    def __init__(self, radius, color):\n",
    "        self.radius = radius\n",
    "        self.color = color\n",
    "\n",
    "    # Method\n",
    "    def increase_radius(self, r):\n",
    "        self.radius = self.radius + r\n",
    "        return self.radius\n",
    "\n",
    "    # Method\n",
    "    def drawCircle(self):\n",
    "        plt.gca().add_patch(plt.Circle((0, 0), self.radius, fc=self.color))\n",
    "        plt.axis('scaled')\n",
    "        plt.show()\n",
    "\n",
    "# import library to draw the circle\n",
    "import matplotlib.pyplot as plt\n",
    "%matplotlib inline\n",
    "\n",
    "# creating an object blue circle\n",
    "one_Circle = Circle(3.14, 'blue')\n",
    "\n",
    "# Printing the object attribute radius\n",
    "print(one_Circle.radius)\n",
    "\n",
    "# Printing the object attribute color\n",
    "print(one_Circle.color)\n",
    "\n",
    "# Drawing the object\n",
    "one_Circle.drawCircle()\n",
    "\n",
    "# Learning the methods that can be utilized on the object 'one_rectangle'\n",
    "print(dir(one_Circle))\n",
    "\n",
    "# We can change the properties of the rectangle\n",
    "one_Circle.radius = 15\n",
    "one_Circle.color = 'green'\n",
    "one_Circle.drawCircle()\n",
    "\n",
    "# Using new variables, we can change the properties of the rectangle\n",
    "two_Circle = Circle(100, 'yellow')\n",
    "print(two_Circle.radius)\n",
    "print(two_Circle.color)\n",
    "two_Circle.drawCircle()\n",
    "\n",
    "# Changing the radius of the object\n",
    "print('Before increment: ',one_Circle.radius)\n",
    "one_Circle.drawCircle()\n",
    "\n",
    "# Increment by 15 units\n",
    "one_Circle.increase_radius(15)\n",
    "print('Increase the radius by 15 units: ', one_Circle.radius)\n",
    "one_Circle.drawCircle()\n",
    "\n",
    "# Increment by 30 units\n",
    "one_Circle.increase_radius(30)\n",
    "print('Increase the radius by 30 units: ', one_Circle.radius)\n",
    "one_Circle.drawCircle()"
   ]
  },
  {
   "cell_type": "markdown",
   "id": "cab621eb",
   "metadata": {},
   "source": [
    "### **Some examples**"
   ]
  },
  {
   "cell_type": "code",
   "execution_count": 36,
   "id": "f9a238ce",
   "metadata": {},
   "outputs": [
    {
     "name": "stdout",
     "output_type": "stream",
     "text": [
      "The euler number is 2.718\n",
      "The golden ratio is 1.618\n",
      "The pi number is 3.14\n",
      "The message is  These numbers are special.\n"
     ]
    }
   ],
   "source": [
    "class SpecialNumbers:\n",
    "    euler_constant = 0.577\n",
    "    euler_number = 2.718\n",
    "    pi_number = 3.14\n",
    "    golden_ratio = 1.618\n",
    "    msg = 'These numbers are special.'\n",
    "\n",
    "special_numbers = SpecialNumbers()\n",
    "print('The euler number is', getattr(special_numbers, 'euler_number'))\n",
    "print('The golden ratio is', special_numbers.golden_ratio)\n",
    "print('The pi number is', getattr(special_numbers, 'pi_number'))\n",
    "print('The message is ', getattr(special_numbers, 'msg'))"
   ]
  },
  {
   "cell_type": "code",
   "execution_count": 37,
   "id": "993fe512",
   "metadata": {},
   "outputs": [
    {
     "name": "stdout",
     "output_type": "stream",
     "text": [
      "0.577 2.718 3.14 1.618 These numbers are special.\n"
     ]
    },
    {
     "ename": "AttributeError",
     "evalue": "'SpecialNumbers' object has no attribute 'msg'",
     "output_type": "error",
     "traceback": [
      "\u001b[1;31m---------------------------------------------------------------------------\u001b[0m",
      "\u001b[1;31mAttributeError\u001b[0m                            Traceback (most recent call last)",
      "\u001b[1;32m~\\AppData\\Local\\Temp/ipykernel_15364/3719874998.py\u001b[0m in \u001b[0;36m<module>\u001b[1;34m\u001b[0m\n\u001b[0;32m     12\u001b[0m \u001b[0mspecial_numbers\u001b[0m\u001b[1;33m.\u001b[0m\u001b[0mparameter\u001b[0m\u001b[1;33m(\u001b[0m\u001b[1;33m)\u001b[0m\u001b[1;33m\u001b[0m\u001b[1;33m\u001b[0m\u001b[0m\n\u001b[0;32m     13\u001b[0m \u001b[0mdelattr\u001b[0m\u001b[1;33m(\u001b[0m\u001b[0mSpecialNumbers\u001b[0m\u001b[1;33m,\u001b[0m \u001b[1;34m'msg'\u001b[0m\u001b[1;33m)\u001b[0m      \u001b[1;31m# The code deleted the 'msg'.\u001b[0m\u001b[1;33m\u001b[0m\u001b[1;33m\u001b[0m\u001b[0m\n\u001b[1;32m---> 14\u001b[1;33m \u001b[0mspecial_numbers\u001b[0m\u001b[1;33m.\u001b[0m\u001b[0mparameter\u001b[0m\u001b[1;33m(\u001b[0m\u001b[1;33m)\u001b[0m         \u001b[1;31m# Since the code deleted the 'msg', it returns an AttributeError.\u001b[0m\u001b[1;33m\u001b[0m\u001b[1;33m\u001b[0m\u001b[0m\n\u001b[0m",
      "\u001b[1;32m~\\AppData\\Local\\Temp/ipykernel_15364/3719874998.py\u001b[0m in \u001b[0;36mparameter\u001b[1;34m(self)\u001b[0m\n\u001b[0;32m      7\u001b[0m \u001b[1;33m\u001b[0m\u001b[0m\n\u001b[0;32m      8\u001b[0m     \u001b[1;32mdef\u001b[0m \u001b[0mparameter\u001b[0m\u001b[1;33m(\u001b[0m\u001b[0mself\u001b[0m\u001b[1;33m)\u001b[0m\u001b[1;33m:\u001b[0m\u001b[1;33m\u001b[0m\u001b[1;33m\u001b[0m\u001b[0m\n\u001b[1;32m----> 9\u001b[1;33m         \u001b[0mprint\u001b[0m\u001b[1;33m(\u001b[0m\u001b[0mself\u001b[0m\u001b[1;33m.\u001b[0m\u001b[0meuler_constant\u001b[0m\u001b[1;33m,\u001b[0m \u001b[0mself\u001b[0m\u001b[1;33m.\u001b[0m\u001b[0meuler_number\u001b[0m\u001b[1;33m,\u001b[0m \u001b[0mself\u001b[0m\u001b[1;33m.\u001b[0m\u001b[0mpi\u001b[0m\u001b[1;33m,\u001b[0m \u001b[0mself\u001b[0m\u001b[1;33m.\u001b[0m\u001b[0mgolden_ratio\u001b[0m\u001b[1;33m,\u001b[0m \u001b[0mself\u001b[0m\u001b[1;33m.\u001b[0m\u001b[0mmsg\u001b[0m\u001b[1;33m)\u001b[0m\u001b[1;33m\u001b[0m\u001b[1;33m\u001b[0m\u001b[0m\n\u001b[0m\u001b[0;32m     10\u001b[0m \u001b[1;33m\u001b[0m\u001b[0m\n\u001b[0;32m     11\u001b[0m \u001b[0mspecial_numbers\u001b[0m \u001b[1;33m=\u001b[0m \u001b[0mSpecialNumbers\u001b[0m\u001b[1;33m(\u001b[0m\u001b[1;33m)\u001b[0m\u001b[1;33m\u001b[0m\u001b[1;33m\u001b[0m\u001b[0m\n",
      "\u001b[1;31mAttributeError\u001b[0m: 'SpecialNumbers' object has no attribute 'msg'"
     ]
    }
   ],
   "source": [
    "class SpecialNumbers:\n",
    "    euler_constant = 0.577\n",
    "    euler_number = 2.718\n",
    "    pi = 3.14\n",
    "    golden_ratio = 1.618\n",
    "    msg = 'These numbers are special.'\n",
    "    \n",
    "    def parameter(self):\n",
    "        print(self.euler_constant, self.euler_number, self.pi, self.golden_ratio, self.msg)\n",
    "\n",
    "special_numbers = SpecialNumbers()\n",
    "special_numbers.parameter()\n",
    "delattr(SpecialNumbers, 'msg')      # The code deleted the 'msg'.\n",
    "special_numbers.parameter()         # Since the code deleted the 'msg', it returns an AttributeError."
   ]
  },
  {
   "cell_type": "code",
   "execution_count": 39,
   "id": "55bc6166",
   "metadata": {},
   "outputs": [
    {
     "name": "stdout",
     "output_type": "stream",
     "text": [
      "3.14-1.618j\n"
     ]
    }
   ],
   "source": [
    "class ComplexNum:\n",
    "    def __init__(self, a, b):\n",
    "        self.a = a\n",
    "        self.b = b\n",
    "\n",
    "    def data(self):\n",
    "        print(f'{self.a}-{self.b}j')\n",
    "\n",
    "var = ComplexNum(3.14, 1.618)\n",
    "var.data()"
   ]
  },
  {
   "cell_type": "markdown",
   "id": "e7ce9187",
   "metadata": {},
   "source": [
    "### **Create a Data Classs**"
   ]
  },
  {
   "cell_type": "code",
   "execution_count": 54,
   "id": "b0cead3f",
   "metadata": {},
   "outputs": [
    {
     "name": "stdout",
     "output_type": "stream",
     "text": [
      "The name of a microorganism is in the form of Aspergillus niger.\n"
     ]
    }
   ],
   "source": [
    "class Data:\n",
    "    def __init__(self, genus, species):\n",
    "        self.genus = genus\n",
    "        self.species = species\n",
    "        \n",
    "    def microorganism(self):\n",
    "        print(f'The name of a microorganism is in the form of {self.genus} {self.species}.')\n",
    "\n",
    "#Use the Data class to create an object, and then execute the microorganism method\n",
    "value = Data('Aspergillus', 'niger')\n",
    "value.microorganism()"
   ]
  },
  {
   "cell_type": "markdown",
   "id": "6ee8bfa3",
   "metadata": {},
   "source": [
    "### **Create a Child Class in Data Class**"
   ]
  },
  {
   "cell_type": "code",
   "execution_count": 56,
   "id": "28a8d7d6",
   "metadata": {},
   "outputs": [
    {
     "name": "stdout",
     "output_type": "stream",
     "text": [
      "The name of a microorganism is in the form of Aspergillus sojae.\n"
     ]
    }
   ],
   "source": [
    "class Data:\n",
    "    def __init__(self, genus, species):\n",
    "        self.genus = genus\n",
    "        self.species = species\n",
    "\n",
    "    def microorganism(self):\n",
    "        print(f'The name of a microorganism is in the form of {self.genus} {self.species}.')\n",
    "\n",
    "class Recombinant(Data):\n",
    "    pass\n",
    "\n",
    "value = Recombinant('Aspergillus', 'sojae')\n",
    "value.microorganism()"
   ]
  },
  {
   "cell_type": "markdown",
   "id": "29dfc58e",
   "metadata": {},
   "source": [
    "### **Addition of __init__() Functions**"
   ]
  },
  {
   "cell_type": "code",
   "execution_count": 4,
   "id": "569bd578",
   "metadata": {},
   "outputs": [
    {
     "name": "stdout",
     "output_type": "stream",
     "text": [
      "The name of a microorganism is in the form of Aspergillus sojae.\n"
     ]
    }
   ],
   "source": [
    "class Data:\n",
    "    def __init__(self, genus, species):\n",
    "        self.genus = genus\n",
    "        self.species = species\n",
    "\n",
    "    def microorganism(self):\n",
    "        print(f'The name of a microorganism is in the form of {self.genus} {self.species}.')\n",
    "\n",
    "class Recombinant(Data):\n",
    "    def __init__(self, genus, species):\n",
    "        Data.__init__(self, genus, species)\n",
    "\n",
    "value = Recombinant('Aspergillus', 'sojae')\n",
    "value.microorganism()"
   ]
  },
  {
   "cell_type": "markdown",
   "id": "bc959de2",
   "metadata": {},
   "source": [
    "### **Addition of super() Function**"
   ]
  },
  {
   "cell_type": "code",
   "execution_count": 68,
   "id": "caedc811",
   "metadata": {},
   "outputs": [
    {
     "name": "stdout",
     "output_type": "stream",
     "text": [
      "6 and 28 are perfect numbers.\n",
      "These numbers are very special in mathematik.\n"
     ]
    }
   ],
   "source": [
    "class SpecialNumbers(object):\n",
    "    def __init__(self, special_numbers):\n",
    "        print('6 and 28 are', special_numbers)\n",
    "\n",
    "class PerfectNumbers(SpecialNumbers): \n",
    "    def __init__(self):\n",
    "        \n",
    "        # call superclass\n",
    "        super().__init__('perfect numbers.')\n",
    "        print('These numbers are very special in mathematik.')\n",
    "\n",
    "nums = PerfectNumbers()"
   ]
  },
  {
   "cell_type": "code",
   "execution_count": 71,
   "id": "6fc4d7a7",
   "metadata": {},
   "outputs": [
    {
     "name": "stdout",
     "output_type": "stream",
     "text": [
      "Cow gives us milk.\n",
      "Cow lives in a farm.\n"
     ]
    }
   ],
   "source": [
    "class Animal(object):\n",
    "    def __init__(self, AnimalName):\n",
    "        print(AnimalName, 'lives in a farm.')\n",
    "    \n",
    "class Cow(Animal):\n",
    "    def __init__(self):\n",
    "        print('Cow gives us milk.')\n",
    "        super().__init__('Cow')\n",
    "    \n",
    "result = Cow()"
   ]
  },
  {
   "cell_type": "code",
   "execution_count": 60,
   "id": "bc7b4d89",
   "metadata": {},
   "outputs": [
    {
     "name": "stdout",
     "output_type": "stream",
     "text": [
      "The name of a microorganism is in the form of Aspergillus sojae.\n"
     ]
    }
   ],
   "source": [
    "class Data:\n",
    "    def __init__(self, genus, species):\n",
    "        self.genus = genus\n",
    "        self.species = species\n",
    "\n",
    "    def microorganism(self):\n",
    "        print(f'The name of a microorganism is in the form of {self.genus} {self.species}.')\n",
    "\n",
    "class Recombinant(Data):\n",
    "    def __init__(self, genus, species):\n",
    "        super().__init__(genus, species)          # 'self' statement in this line was deleted as different from the above codes\n",
    "\n",
    "value = Recombinant('Aspergillus', 'sojae')\n",
    "value.microorganism()"
   ]
  },
  {
   "cell_type": "markdown",
   "id": "9cd9a48c",
   "metadata": {},
   "source": [
    "### **Addition of Properties under the super() Function** "
   ]
  },
  {
   "cell_type": "code",
   "execution_count": 65,
   "id": "f724d882",
   "metadata": {},
   "outputs": [
    {
     "name": "stdout",
     "output_type": "stream",
     "text": [
      "The enzyme activity increased to 2500 U/mL.\n"
     ]
    }
   ],
   "source": [
    "class Data:\n",
    "    def __init__(self, genus, species):\n",
    "        self.genus = genus\n",
    "        self.species = species\n",
    "\n",
    "    def microorganism(self):\n",
    "        print(f'The name of a microorganism is in the form of {self.genus} {self.species}.')\n",
    "\n",
    "class Recombinant(Data):\n",
    "    def __init__(self, genus, species):\n",
    "        super().__init__(genus, species)\n",
    "        self.activity = 2500          # This information was adedd as a Property\n",
    "\n",
    "value = Recombinant('Aspergillus', 'sojae')\n",
    "print(f'The enzyme activity increased to {value.activity} U/mL.')"
   ]
  },
  {
   "cell_type": "code",
   "execution_count": 66,
   "id": "3569b79b",
   "metadata": {},
   "outputs": [
    {
     "name": "stdout",
     "output_type": "stream",
     "text": [
      "The enzyme activity increased to 2500 U/mL.\n"
     ]
    }
   ],
   "source": [
    "class Data:\n",
    "    def __init__(self, genus, species):\n",
    "        self.genus = genus\n",
    "        self.species = species\n",
    "\n",
    "    def microorganism(self):\n",
    "        print(f'The name of a microorganism is in the form of {self.genus} {self.species}.')\n",
    "\n",
    "class Recombinant(Data):\n",
    "    def __init__(self, genus, species, activity):\n",
    "        super().__init__(genus, species)\n",
    "        self.activity = activity          # This information was adedd as a Property\n",
    "\n",
    "value = Recombinant('Aspergillus', 'sojae', 2500)\n",
    "print(f'The enzyme activity increased to {value.activity} U/mL.')"
   ]
  },
  {
   "cell_type": "markdown",
   "id": "0d6a5c50",
   "metadata": {},
   "source": [
    "### **Addition of Methods under the Child Class**"
   ]
  },
  {
   "cell_type": "code",
   "execution_count": 67,
   "id": "a11e3f80",
   "metadata": {},
   "outputs": [
    {
     "name": "stdout",
     "output_type": "stream",
     "text": [
      "With this new recombinant Aspergillus sojae strain, the enzyme activity increased 2-times with 2500 U/mL.\n"
     ]
    }
   ],
   "source": [
    "class Data:\n",
    "    def __init__(self, genus, species):\n",
    "        self.genus = genus\n",
    "        self.species = species\n",
    "\n",
    "    def microorganism(self):\n",
    "        print(f'The name of a microorganism is in the form of {self.genus} {self.species}.')\n",
    "\n",
    "class Recombinant(Data):\n",
    "    def __init__(self, genus, species, activity):\n",
    "        super().__init__(genus, species)\n",
    "        self.activity = activity          # This information was adedd as a Property\n",
    "    \n",
    "    def increment(self):\n",
    "        print(f'With this new recombinant {self.genus} {self.species} strain, the enzyme activity increased 2-times with {self.activity} U/mL.')\n",
    "\n",
    "value = Recombinant('Aspergillus', 'sojae', 2500)\n",
    "value.increment()"
   ]
  }
 ],
 "metadata": {
  "interpreter": {
   "hash": "b7377f19eab4b8c2e19b4d5b732c435591579d0f123dd21b146d33dfd161e508"
  },
  "kernelspec": {
   "display_name": "Python 3 (ipykernel)",
   "language": "python",
   "name": "python3"
  },
  "language_info": {
   "codemirror_mode": {
    "name": "ipython",
    "version": 3
   },
   "file_extension": ".py",
   "mimetype": "text/x-python",
   "name": "python",
   "nbconvert_exporter": "python",
   "pygments_lexer": "ipython3",
   "version": "3.9.7"
  }
 },
 "nbformat": 4,
 "nbformat_minor": 5
}
