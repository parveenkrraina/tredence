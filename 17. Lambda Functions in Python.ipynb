{
 "cells": [
  {
   "cell_type": "markdown",
   "id": "c4a2b752",
   "metadata": {},
   "source": [
    "# **Python Tutorial**"
   ]
  },
  {
   "cell_type": "markdown",
   "id": "1ee16ad7",
   "metadata": {},
   "source": [
    "## **17. Lambda Functions in Python**\n",
    "\n",
    "* A **lambda** function is a small anonymous function. \n",
    "* A **lambda** function can take any number of arguments, but can only have **one expression**.\n",
    "* The expression is evaluated and returned. \n",
    "* **Lambda** functions can be used wherever function objects are required.\n",
    "* Lambda expressions (or lambda functions) are essentially blocks of code that can be assigned to variables, passed as an argument, or returned from a function call, in languages that support high-order functions. \n",
    "* They have been part of programming languages for quite some time.\n",
    "* The **main role of the lambda function** is better described in the scenarios when we employ them anonymously inside another function.\n",
    "* In Python, **the lambda function** can be utilized as an argument to the higher order functions as arguments."
   ]
  },
  {
   "cell_type": "markdown",
   "id": "30d167e6",
   "metadata": {},
   "source": [
    "<img src = 'https://encrypted-tbn0.gstatic.com/images?q=tbn:ANd9GcSl_1GZFY2lD39NCrGJIWXW9jsjq4qI5IDiYw&usqp=CAU' width = '800' alt='lambda'>"
   ]
  },
  {
   "cell_type": "markdown",
   "id": "1f7a08ac",
   "metadata": {},
   "source": [
    "<img src='https://miro.medium.com/max/1400/1*lqk_tWTr13ncxgYfetdexg.png' alt='lambda_functions'>"
   ]
  },
  {
   "cell_type": "code",
   "execution_count": 1,
   "id": "ffa321d1",
   "metadata": {},
   "outputs": [
    {
     "name": "stdout",
     "output_type": "stream",
     "text": [
      "9.14\n"
     ]
    },
    {
     "data": {
      "text/plain": [
       "9.14"
      ]
     },
     "execution_count": 1,
     "metadata": {},
     "output_type": "execute_result"
    }
   ],
   "source": [
    "# Define a function using 'def'\n",
    "def f(x):\n",
    "    return x + 6\n",
    "print(f(3.14))\n",
    "\n",
    "# Define the same function using 'lambda'\n",
    "(lambda x: x+6) (3.14)"
   ]
  },
  {
   "cell_type": "code",
   "execution_count": 2,
   "id": "8decb3ee",
   "metadata": {},
   "outputs": [
    {
     "name": "stdout",
     "output_type": "stream",
     "text": [
      "The sum of 3.14 and 2.718 is 5.8580000000000005\n",
      "The sum of pi number and euler number is 5.8580000000000005.\n"
     ]
    }
   ],
   "source": [
    "# Define a function using 'def'\n",
    "def f(x, y):\n",
    "    return x + y\n",
    "    \n",
    "print('The sum of {} and {} is'.format(3.14, 2.718), f(3.14, 2.718))\n",
    "\n",
    "# Define the same function using 'lambda\n",
    "print(f'The sum of pi number and euler number is {(lambda x, y: x+y)(3.14, 2.718)}.')"
   ]
  },
  {
   "cell_type": "code",
   "execution_count": 3,
   "id": "ec5668ec",
   "metadata": {},
   "outputs": [
    {
     "name": "stdout",
     "output_type": "stream",
     "text": [
      "The volume of a cube using def function is 30.959144000000002.\n",
      "The volume of a cube using lambda function is 30.959144000000002.\n"
     ]
    }
   ],
   "source": [
    "# Calculate the volume of a cube using def and lambda functions\n",
    "# def function\n",
    "def cube_volume_def(a):\n",
    "    return a*a*a\n",
    "\n",
    "print(f'The volume of a cube using def function is {cube_volume_def(3.14)}.')\n",
    "\n",
    "# lambda function\n",
    "print(f'The volume of a cube using lambda function is {(lambda a: a*a*a)(3.14)}.')"
   ]
  },
  {
   "cell_type": "markdown",
   "id": "b0765187",
   "metadata": {},
   "source": [
    "### **Multiplication table**"
   ]
  },
  {
   "cell_type": "code",
   "execution_count": 4,
   "id": "2730e40c",
   "metadata": {},
   "outputs": [
    {
     "name": "stdout",
     "output_type": "stream",
     "text": [
      "Enter a number: 6\n",
      "The entered number is 6.\n",
      "6 x 0 = 0\n",
      "6 x 1 = 6\n",
      "6 x 2 = 12\n",
      "6 x 3 = 18\n",
      "6 x 4 = 24\n",
      "6 x 5 = 30\n",
      "6 x 6 = 36\n",
      "6 x 7 = 42\n",
      "6 x 8 = 48\n",
      "6 x 9 = 54\n",
      "6 x 10 = 60\n"
     ]
    }
   ],
   "source": [
    "def mult_table(n):\n",
    "    return lambda x:x*n\n",
    "\n",
    "n = int(input('Enter a number: '))\n",
    "y = mult_table(n)\n",
    "\n",
    "print(f'The entered number is {n}.')\n",
    "for i in range(11):\n",
    "    print(('%d x %d = %d' %(n, i, y(i))))"
   ]
  },
  {
   "cell_type": "markdown",
   "id": "af412763",
   "metadata": {},
   "source": [
    "### **filter()**"
   ]
  },
  {
   "cell_type": "code",
   "execution_count": 5,
   "id": "1fac4f07",
   "metadata": {},
   "outputs": [
    {
     "data": {
      "text/plain": [
       "[6, 28]"
      ]
     },
     "execution_count": 5,
     "metadata": {},
     "output_type": "execute_result"
    }
   ],
   "source": [
    "# This program returns a new list when the special numbers in the list are divided by 2 and the remainder is equal to 0.\n",
    "special_nums = [0.577, 1.618, 2.718, 3.14, 6, 28, 37, 1729]\n",
    "list(filter(lambda x:(x%2==0), special_nums))"
   ]
  },
  {
   "cell_type": "markdown",
   "id": "2445c33e",
   "metadata": {},
   "source": [
    "### **map()**"
   ]
  },
  {
   "cell_type": "code",
   "execution_count": 6,
   "id": "b12b0f41",
   "metadata": {},
   "outputs": [
    {
     "name": "stdout",
     "output_type": "stream",
     "text": [
      "Non special numbers are [2.885, 8.09, 13.59, 15.700000000000001, 30, 140, 185, 8645]\n",
      "Non special numbers list is [0.332929, 2.6179240000000004, 7.387524, 9.8596, 36, 784, 1369, 2989441]\n"
     ]
    }
   ],
   "source": [
    "# This program will multiplicate each element of the list with 5 and followed by power of 2.\n",
    "special_nums = [0.577, 1.618, 2.718, 3.14, 6, 28, 37, 1729]\n",
    "print(f'Non special numbers are {list(map(lambda x: x*5, special_nums))}')\n",
    "print(f'Non special numbers list is {list(map(lambda x: pow(x, 2), special_nums))}')"
   ]
  },
  {
   "cell_type": "markdown",
   "id": "a09a8ce7",
   "metadata": {},
   "source": [
    "### **List comprehensions**"
   ]
  },
  {
   "cell_type": "code",
   "execution_count": 7,
   "id": "3e08ed0d",
   "metadata": {},
   "outputs": [
    {
     "name": "stdout",
     "output_type": "stream",
     "text": [
      "[3.14, 4.140000000000001, 5.140000000000001, 6.140000000000001, 7.140000000000001]\n"
     ]
    }
   ],
   "source": [
    "nums = [lambda a=a:a+3.14 for a in range(5)]\n",
    "nlis = []\n",
    "for num in nums:\n",
    "    nlis.append(num())\n",
    "print(nlis)"
   ]
  },
  {
   "cell_type": "markdown",
   "id": "856fc853",
   "metadata": {},
   "source": [
    "### **lambda function with if/else**"
   ]
  },
  {
   "cell_type": "code",
   "execution_count": 8,
   "id": "fecde933",
   "metadata": {},
   "outputs": [
    {
     "name": "stdout",
     "output_type": "stream",
     "text": [
      "Enter an age: 18\n",
      "The entered age is 18.\n",
      "Therefore, you can use a vote.\n"
     ]
    }
   ],
   "source": [
    "age = int(input('Enter an age: '))\n",
    "print(f'The entered age is {age}.')\n",
    "(lambda age: print('Therefore, you can use a vote.') if (age>=18) else print('Therefore, you do not use a vote.'))(age)"
   ]
  },
  {
   "cell_type": "markdown",
   "id": "ed4b0802",
   "metadata": {},
   "source": [
    "### **lambda function usage with multiple statements**"
   ]
  },
  {
   "cell_type": "code",
   "execution_count": 9,
   "id": "b50bfba6",
   "metadata": {},
   "outputs": [
    {
     "name": "stdout",
     "output_type": "stream",
     "text": [
      "The maximum of special numbers in each list is [3.14, 1729].\n",
      "The minimum of special numbers in each list is [0.577, 6].\n",
      "The second maximum of special numbers in each list is [2.718, 37].\n"
     ]
    }
   ],
   "source": [
    "special_nums = [[0.577, 1.618, 2.718, 3.14], [6, 28, 37, 1729]]\n",
    "special_nums_sorted = lambda a: (sorted(i) for i in a)\n",
    "\n",
    "# Get the maximum of special numbers in the list\n",
    "special_nums_max = lambda a, f: [y[len(y)-1] for y in f(a)]\n",
    "print(f'The maximum of special numbers in each list is {special_nums_max(special_nums, special_nums_sorted)}.')\n",
    "\n",
    "# Get the minimum of special numbers in the list\n",
    "special_nums_min = lambda a, f: [y[len(y)-len(y)] for y in f(a)]\n",
    "print(f'The minimum of special numbers in each list is {special_nums_min(special_nums, special_nums_sorted)}.')\n",
    "\n",
    "# Get the second maximum of special numbers in the list\n",
    "special_nums_second_max = lambda a, f: [y[len(y)-2] for y in f(a)]\n",
    "print(f'The second maximum of special numbers in each list is {special_nums_second_max(special_nums, special_nums_sorted)}.')"
   ]
  },
  {
   "cell_type": "markdown",
   "id": "3ec4c44f",
   "metadata": {},
   "source": [
    "### **Some examples**"
   ]
  },
  {
   "cell_type": "code",
   "execution_count": 10,
   "id": "ffdf3611",
   "metadata": {},
   "outputs": [
    {
     "name": "stdout",
     "output_type": "stream",
     "text": [
      "The multiplication of euler number and pi number is equal to 8.53452.\n",
      "The multiplication of euler number and euler constant is equal to 1.5682859999999998.\n"
     ]
    }
   ],
   "source": [
    "def func(n):\n",
    "    return lambda x: x*n\n",
    "\n",
    "mult_pi_number = func(3.14)\n",
    "mult_euler_constant = func(0.577)\n",
    "\n",
    "print(f'The multiplication of euler number and pi number is equal to {mult_pi_number(2.718)}.')\n",
    "print(f'The multiplication of euler number and euler constant is equal to {mult_euler_constant(2.718)}.')"
   ]
  },
  {
   "cell_type": "code",
   "execution_count": 11,
   "id": "9741eda1",
   "metadata": {},
   "outputs": [
    {
     "name": "stdout",
     "output_type": "stream",
     "text": [
      "<function <lambda> at 0x00000210C5812820>\n"
     ]
    }
   ],
   "source": [
    "text = 'Python is a programming language.'\n",
    "print(lambda text: text)"
   ]
  },
  {
   "cell_type": "code",
   "execution_count": 12,
   "id": "f164d0fb",
   "metadata": {},
   "outputs": [
    {
     "name": "stdout",
     "output_type": "stream",
     "text": [
      "Python is a programming language.\n"
     ]
    }
   ],
   "source": [
    "text = 'Python is a programming language.'\n",
    "(lambda text: print(text))(text)"
   ]
  },
  {
   "cell_type": "code",
   "execution_count": 13,
   "id": "b9bbe846",
   "metadata": {},
   "outputs": [
    {
     "name": "stdout",
     "output_type": "stream",
     "text": [
      "[37.68, 3.821656050955414, 15.14, 8.86, 2.5799999999999996, 3.0, 2446.972635086879]\n"
     ]
    }
   ],
   "source": [
    "lambda_list = []\n",
    "# Multiplication of pi number and 12 in one line using lambda function\n",
    "lambda_list.append((lambda x:x*3.14) (12))\n",
    "# Division of pi number and 12 in one line using lambda function\n",
    "lambda_list.append((lambda x: x/3.14) (12))\n",
    "# Addition of pi number and 12 in one line using lambda function\n",
    "lambda_list.append((lambda x: x+3.14) (12))\n",
    "# Subtraction of pi number and 12 in one line using lambda function\n",
    "lambda_list.append((lambda x: x-3.14) (12))\n",
    "# Remainder of pi number and 12 in one line using lambda function\n",
    "lambda_list.append((lambda x: x%3.14) (12))\n",
    "# Floor division of pi number and 12 in one line using lambda function\n",
    "lambda_list.append((lambda x: x//3.14) (12))\n",
    "# Exponential of pi number and 12 in one line using lambda function\n",
    "lambda_list.append((lambda x: x**3.14) (12))\n",
    "\n",
    "# Printing the list\n",
    "print(lambda_list)"
   ]
  },
  {
   "cell_type": "code",
   "execution_count": 14,
   "id": "c0e4fb9c",
   "metadata": {},
   "outputs": [
    {
     "name": "stdout",
     "output_type": "stream",
     "text": [
      "The sum and average of the numbers in the list are 1808.0529999999999 and 226.00662499999999, respectively.\n"
     ]
    }
   ],
   "source": [
    "# Using the function reduce() with lambda to get the sum abd average of the list.\n",
    "# You should import the library 'functools' first. \n",
    "import functools\n",
    "from functools import *\n",
    "special_nums = [0.577, 1.618, 2.718, 3.14, 6, 28, 37, 1729]\n",
    "print(f'The sum and average of the numbers in the list are {reduce((lambda a, b: a+b), special_nums)} and {reduce((lambda a, b: a+b), special_nums)/len(special_nums)}, respectively.')"
   ]
  },
  {
   "cell_type": "code",
   "execution_count": 15,
   "id": "d3a38b41",
   "metadata": {},
   "outputs": [
    {
     "name": "stdout",
     "output_type": "stream",
     "text": [
      "[(1, 1, 2), (2, 1, 2), (3, 1, 2)]\n",
      "[1.4142135623730951, 2.23606797749979, 3.1622776601683795]\n"
     ]
    }
   ],
   "source": [
    "import itertools \n",
    "from itertools import product\n",
    "from numpy import sqrt \n",
    "X=[1]\n",
    "X1=[2]\n",
    "Y=[1,2,3]\n",
    "print(list(product(Y,X,X1)))\n",
    "print(list(map(lambda x: sqrt(x[1]+x[0]**x[2]),product(Y,X,X1))))"
   ]
  },
  {
   "cell_type": "code",
   "execution_count": 16,
   "id": "8386026b",
   "metadata": {},
   "outputs": [
    {
     "name": "stdout",
     "output_type": "stream",
     "text": [
      "Help on module functools:\n",
      "\n",
      "NAME\n",
      "    functools - functools.py - Tools for working with functions and callable objects\n",
      "\n",
      "MODULE REFERENCE\n",
      "    https://docs.python.org/3.9/library/functools\n",
      "    \n",
      "    The following documentation is automatically generated from the Python\n",
      "    source files.  It may be incomplete, incorrect or include features that\n",
      "    are considered implementation detail and may vary between Python\n",
      "    implementations.  When in doubt, consult the module reference at the\n",
      "    location listed above.\n",
      "\n",
      "CLASSES\n",
      "    builtins.object\n",
      "        cached_property\n",
      "        partial\n",
      "        partialmethod\n",
      "        singledispatchmethod\n",
      "    \n",
      "    class cached_property(builtins.object)\n",
      "     |  cached_property(func)\n",
      "     |  \n",
      "     |  Methods defined here:\n",
      "     |  \n",
      "     |  __get__(self, instance, owner=None)\n",
      "     |  \n",
      "     |  __init__(self, func)\n",
      "     |      Initialize self.  See help(type(self)) for accurate signature.\n",
      "     |  \n",
      "     |  __set_name__(self, owner, name)\n",
      "     |  \n",
      "     |  ----------------------------------------------------------------------\n",
      "     |  Class methods defined here:\n",
      "     |  \n",
      "     |  __class_getitem__ = GenericAlias(...) from builtins.type\n",
      "     |      Represent a PEP 585 generic type\n",
      "     |      \n",
      "     |      E.g. for t = list[int], t.__origin__ is list and t.__args__ is (int,).\n",
      "     |  \n",
      "     |  ----------------------------------------------------------------------\n",
      "     |  Data descriptors defined here:\n",
      "     |  \n",
      "     |  __dict__\n",
      "     |      dictionary for instance variables (if defined)\n",
      "     |  \n",
      "     |  __weakref__\n",
      "     |      list of weak references to the object (if defined)\n",
      "    \n",
      "    class partial(builtins.object)\n",
      "     |  partial(func, *args, **keywords) - new function with partial application\n",
      "     |  of the given arguments and keywords.\n",
      "     |  \n",
      "     |  Methods defined here:\n",
      "     |  \n",
      "     |  __call__(self, /, *args, **kwargs)\n",
      "     |      Call self as a function.\n",
      "     |  \n",
      "     |  __delattr__(self, name, /)\n",
      "     |      Implement delattr(self, name).\n",
      "     |  \n",
      "     |  __getattribute__(self, name, /)\n",
      "     |      Return getattr(self, name).\n",
      "     |  \n",
      "     |  __reduce__(...)\n",
      "     |      Helper for pickle.\n",
      "     |  \n",
      "     |  __repr__(self, /)\n",
      "     |      Return repr(self).\n",
      "     |  \n",
      "     |  __setattr__(self, name, value, /)\n",
      "     |      Implement setattr(self, name, value).\n",
      "     |  \n",
      "     |  __setstate__(...)\n",
      "     |  \n",
      "     |  ----------------------------------------------------------------------\n",
      "     |  Class methods defined here:\n",
      "     |  \n",
      "     |  __class_getitem__(...) from builtins.type\n",
      "     |      See PEP 585\n",
      "     |  \n",
      "     |  ----------------------------------------------------------------------\n",
      "     |  Static methods defined here:\n",
      "     |  \n",
      "     |  __new__(*args, **kwargs) from builtins.type\n",
      "     |      Create and return a new object.  See help(type) for accurate signature.\n",
      "     |  \n",
      "     |  ----------------------------------------------------------------------\n",
      "     |  Data descriptors defined here:\n",
      "     |  \n",
      "     |  __dict__\n",
      "     |  \n",
      "     |  args\n",
      "     |      tuple of arguments to future partial calls\n",
      "     |  \n",
      "     |  func\n",
      "     |      function object to use in future partial calls\n",
      "     |  \n",
      "     |  keywords\n",
      "     |      dictionary of keyword arguments to future partial calls\n",
      "    \n",
      "    class partialmethod(builtins.object)\n",
      "     |  partialmethod(func, /, *args, **keywords)\n",
      "     |  \n",
      "     |  Method descriptor with partial application of the given arguments\n",
      "     |  and keywords.\n",
      "     |  \n",
      "     |  Supports wrapping existing descriptors and handles non-descriptor\n",
      "     |  callables as instance methods.\n",
      "     |  \n",
      "     |  Methods defined here:\n",
      "     |  \n",
      "     |  __get__(self, obj, cls=None)\n",
      "     |  \n",
      "     |  __init__(self, func, /, *args, **keywords)\n",
      "     |      Initialize self.  See help(type(self)) for accurate signature.\n",
      "     |  \n",
      "     |  __repr__(self)\n",
      "     |      Return repr(self).\n",
      "     |  \n",
      "     |  ----------------------------------------------------------------------\n",
      "     |  Class methods defined here:\n",
      "     |  \n",
      "     |  __class_getitem__ = GenericAlias(...) from builtins.type\n",
      "     |      Represent a PEP 585 generic type\n",
      "     |      \n",
      "     |      E.g. for t = list[int], t.__origin__ is list and t.__args__ is (int,).\n",
      "     |  \n",
      "     |  ----------------------------------------------------------------------\n",
      "     |  Readonly properties defined here:\n",
      "     |  \n",
      "     |  __isabstractmethod__\n",
      "     |  \n",
      "     |  ----------------------------------------------------------------------\n",
      "     |  Data descriptors defined here:\n",
      "     |  \n",
      "     |  __dict__\n",
      "     |      dictionary for instance variables (if defined)\n",
      "     |  \n",
      "     |  __weakref__\n",
      "     |      list of weak references to the object (if defined)\n",
      "    \n",
      "    class singledispatchmethod(builtins.object)\n",
      "     |  singledispatchmethod(func)\n",
      "     |  \n",
      "     |  Single-dispatch generic method descriptor.\n",
      "     |  \n",
      "     |  Supports wrapping existing descriptors and handles non-descriptor\n",
      "     |  callables as instance methods.\n",
      "     |  \n",
      "     |  Methods defined here:\n",
      "     |  \n",
      "     |  __get__(self, obj, cls=None)\n",
      "     |  \n",
      "     |  __init__(self, func)\n",
      "     |      Initialize self.  See help(type(self)) for accurate signature.\n",
      "     |  \n",
      "     |  register(self, cls, method=None)\n",
      "     |      generic_method.register(cls, func) -> func\n",
      "     |      \n",
      "     |      Registers a new implementation for the given *cls* on a *generic_method*.\n",
      "     |  \n",
      "     |  ----------------------------------------------------------------------\n",
      "     |  Readonly properties defined here:\n",
      "     |  \n",
      "     |  __isabstractmethod__\n",
      "     |  \n",
      "     |  ----------------------------------------------------------------------\n",
      "     |  Data descriptors defined here:\n",
      "     |  \n",
      "     |  __dict__\n",
      "     |      dictionary for instance variables (if defined)\n",
      "     |  \n",
      "     |  __weakref__\n",
      "     |      list of weak references to the object (if defined)\n",
      "\n",
      "FUNCTIONS\n",
      "    cache(user_function, /)\n",
      "        Simple lightweight unbounded cache.  Sometimes called \"memoize\".\n",
      "    \n",
      "    cmp_to_key(...)\n",
      "        Convert a cmp= function into a key= function.\n",
      "    \n",
      "    lru_cache(maxsize=128, typed=False)\n",
      "        Least-recently-used cache decorator.\n",
      "        \n",
      "        If *maxsize* is set to None, the LRU features are disabled and the cache\n",
      "        can grow without bound.\n",
      "        \n",
      "        If *typed* is True, arguments of different types will be cached separately.\n",
      "        For example, f(3.0) and f(3) will be treated as distinct calls with\n",
      "        distinct results.\n",
      "        \n",
      "        Arguments to the cached function must be hashable.\n",
      "        \n",
      "        View the cache statistics named tuple (hits, misses, maxsize, currsize)\n",
      "        with f.cache_info().  Clear the cache and statistics with f.cache_clear().\n",
      "        Access the underlying function with f.__wrapped__.\n",
      "        \n",
      "        See:  https://en.wikipedia.org/wiki/Cache_replacement_policies#Least_recently_used_(LRU)\n",
      "    \n",
      "    reduce(...)\n",
      "        reduce(function, sequence[, initial]) -> value\n",
      "        \n",
      "        Apply a function of two arguments cumulatively to the items of a sequence,\n",
      "        from left to right, so as to reduce the sequence to a single value.\n",
      "        For example, reduce(lambda x, y: x+y, [1, 2, 3, 4, 5]) calculates\n",
      "        ((((1+2)+3)+4)+5).  If initial is present, it is placed before the items\n",
      "        of the sequence in the calculation, and serves as a default when the\n",
      "        sequence is empty.\n",
      "    \n",
      "    singledispatch(func)\n",
      "        Single-dispatch generic function decorator.\n",
      "        \n",
      "        Transforms a function into a generic function, which can have different\n",
      "        behaviours depending upon the type of its first argument. The decorated\n",
      "        function acts as the default implementation, and additional\n",
      "        implementations can be registered using the register() attribute of the\n",
      "        generic function.\n",
      "    \n",
      "    total_ordering(cls)\n",
      "        Class decorator that fills in missing ordering methods\n",
      "    \n",
      "    update_wrapper(wrapper, wrapped, assigned=('__module__', '__name__', '__qualname__', '__doc__', '__annotations__'), updated=('__dict__',))\n",
      "        Update a wrapper function to look like the wrapped function\n",
      "        \n",
      "        wrapper is the function to be updated\n",
      "        wrapped is the original function\n",
      "        assigned is a tuple naming the attributes assigned directly\n",
      "        from the wrapped function to the wrapper function (defaults to\n",
      "        functools.WRAPPER_ASSIGNMENTS)\n",
      "        updated is a tuple naming the attributes of the wrapper that\n",
      "        are updated with the corresponding attribute from the wrapped\n",
      "        function (defaults to functools.WRAPPER_UPDATES)\n",
      "    \n",
      "    wraps(wrapped, assigned=('__module__', '__name__', '__qualname__', '__doc__', '__annotations__'), updated=('__dict__',))\n",
      "        Decorator factory to apply update_wrapper() to a wrapper function\n",
      "        \n",
      "        Returns a decorator that invokes update_wrapper() with the decorated\n",
      "        function as the wrapper argument and the arguments to wraps() as the\n",
      "        remaining arguments. Default arguments are as for update_wrapper().\n",
      "        This is a convenience function to simplify applying partial() to\n",
      "        update_wrapper().\n",
      "\n",
      "DATA\n",
      "    WRAPPER_ASSIGNMENTS = ('__module__', '__name__', '__qualname__', '__do...\n",
      "    WRAPPER_UPDATES = ('__dict__',)\n",
      "    __all__ = ['update_wrapper', 'wraps', 'WRAPPER_ASSIGNMENTS', 'WRAPPER_...\n",
      "\n",
      "FILE\n",
      "    c:\\users\\test\\anaconda3\\lib\\functools.py\n",
      "\n",
      "\n"
     ]
    }
   ],
   "source": [
    "help(functools)"
   ]
  }
 ],
 "metadata": {
  "kernelspec": {
   "display_name": "Python 3 (ipykernel)",
   "language": "python",
   "name": "python3"
  },
  "language_info": {
   "codemirror_mode": {
    "name": "ipython",
    "version": 3
   },
   "file_extension": ".py",
   "mimetype": "text/x-python",
   "name": "python",
   "nbconvert_exporter": "python",
   "pygments_lexer": "ipython3",
   "version": "3.9.7"
  },
  "vscode": {
   "interpreter": {
    "hash": "b7377f19eab4b8c2e19b4d5b732c435591579d0f123dd21b146d33dfd161e508"
   }
  }
 },
 "nbformat": 4,
 "nbformat_minor": 5
}
