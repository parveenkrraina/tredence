{
 "cells": [
  {
   "cell_type": "markdown",
   "id": "796246d2",
   "metadata": {},
   "source": [
    "# **Math Module Functions in Python**"
   ]
  },
  {
   "cell_type": "markdown",
   "id": "3d7c96ad",
   "metadata": {},
   "source": [
    "## **18. Math Module Functions in Python**\n",
    "\n",
    "* Python **math module** is defined as the most famous mathematical functions, which includes **trigonometric functions, representation functions, logarithmic functions**, etc. \n",
    "* Furthermore, it also defines two mathematical constants, i.e., **Pie and Euler number**, etc.\n",
    "* **Pie (n):** It is a well-known mathematical constant and defined as the ratio of circumstance to the diameter of a circle. Its value is 3.141592653589793.\n",
    "* **Euler's number(e):**It is defined as the base of the natural logarithmic, and its value is 2.718281828459045.\n",
    "* The **math** module has a set of methods and constants."
   ]
  },
  {
   "cell_type": "code",
   "execution_count": 1,
   "id": "0aa9f42f",
   "metadata": {},
   "outputs": [],
   "source": [
    "# Import math module and functions\n",
    "import math\n",
    "from math import *"
   ]
  },
  {
   "cell_type": "code",
   "execution_count": 2,
   "id": "58cea9cd",
   "metadata": {},
   "outputs": [
    {
     "name": "stdout",
     "output_type": "stream",
     "text": [
      "Help on built-in module math:\n",
      "\n",
      "NAME\n",
      "    math\n",
      "\n",
      "DESCRIPTION\n",
      "    This module provides access to the mathematical functions\n",
      "    defined by the C standard.\n",
      "\n",
      "FUNCTIONS\n",
      "    acos(x, /)\n",
      "        Return the arc cosine (measured in radians) of x.\n",
      "        \n",
      "        The result is between 0 and pi.\n",
      "    \n",
      "    acosh(x, /)\n",
      "        Return the inverse hyperbolic cosine of x.\n",
      "    \n",
      "    asin(x, /)\n",
      "        Return the arc sine (measured in radians) of x.\n",
      "        \n",
      "        The result is between -pi/2 and pi/2.\n",
      "    \n",
      "    asinh(x, /)\n",
      "        Return the inverse hyperbolic sine of x.\n",
      "    \n",
      "    atan(x, /)\n",
      "        Return the arc tangent (measured in radians) of x.\n",
      "        \n",
      "        The result is between -pi/2 and pi/2.\n",
      "    \n",
      "    atan2(y, x, /)\n",
      "        Return the arc tangent (measured in radians) of y/x.\n",
      "        \n",
      "        Unlike atan(y/x), the signs of both x and y are considered.\n",
      "    \n",
      "    atanh(x, /)\n",
      "        Return the inverse hyperbolic tangent of x.\n",
      "    \n",
      "    ceil(x, /)\n",
      "        Return the ceiling of x as an Integral.\n",
      "        \n",
      "        This is the smallest integer >= x.\n",
      "    \n",
      "    comb(n, k, /)\n",
      "        Number of ways to choose k items from n items without repetition and without order.\n",
      "        \n",
      "        Evaluates to n! / (k! * (n - k)!) when k <= n and evaluates\n",
      "        to zero when k > n.\n",
      "        \n",
      "        Also called the binomial coefficient because it is equivalent\n",
      "        to the coefficient of k-th term in polynomial expansion of the\n",
      "        expression (1 + x)**n.\n",
      "        \n",
      "        Raises TypeError if either of the arguments are not integers.\n",
      "        Raises ValueError if either of the arguments are negative.\n",
      "    \n",
      "    copysign(x, y, /)\n",
      "        Return a float with the magnitude (absolute value) of x but the sign of y.\n",
      "        \n",
      "        On platforms that support signed zeros, copysign(1.0, -0.0)\n",
      "        returns -1.0.\n",
      "    \n",
      "    cos(x, /)\n",
      "        Return the cosine of x (measured in radians).\n",
      "    \n",
      "    cosh(x, /)\n",
      "        Return the hyperbolic cosine of x.\n",
      "    \n",
      "    degrees(x, /)\n",
      "        Convert angle x from radians to degrees.\n",
      "    \n",
      "    dist(p, q, /)\n",
      "        Return the Euclidean distance between two points p and q.\n",
      "        \n",
      "        The points should be specified as sequences (or iterables) of\n",
      "        coordinates.  Both inputs must have the same dimension.\n",
      "        \n",
      "        Roughly equivalent to:\n",
      "            sqrt(sum((px - qx) ** 2.0 for px, qx in zip(p, q)))\n",
      "    \n",
      "    erf(x, /)\n",
      "        Error function at x.\n",
      "    \n",
      "    erfc(x, /)\n",
      "        Complementary error function at x.\n",
      "    \n",
      "    exp(x, /)\n",
      "        Return e raised to the power of x.\n",
      "    \n",
      "    expm1(x, /)\n",
      "        Return exp(x)-1.\n",
      "        \n",
      "        This function avoids the loss of precision involved in the direct evaluation of exp(x)-1 for small x.\n",
      "    \n",
      "    fabs(x, /)\n",
      "        Return the absolute value of the float x.\n",
      "    \n",
      "    factorial(x, /)\n",
      "        Find x!.\n",
      "        \n",
      "        Raise a ValueError if x is negative or non-integral.\n",
      "    \n",
      "    floor(x, /)\n",
      "        Return the floor of x as an Integral.\n",
      "        \n",
      "        This is the largest integer <= x.\n",
      "    \n",
      "    fmod(x, y, /)\n",
      "        Return fmod(x, y), according to platform C.\n",
      "        \n",
      "        x % y may differ.\n",
      "    \n",
      "    frexp(x, /)\n",
      "        Return the mantissa and exponent of x, as pair (m, e).\n",
      "        \n",
      "        m is a float and e is an int, such that x = m * 2.**e.\n",
      "        If x is 0, m and e are both 0.  Else 0.5 <= abs(m) < 1.0.\n",
      "    \n",
      "    fsum(seq, /)\n",
      "        Return an accurate floating point sum of values in the iterable seq.\n",
      "        \n",
      "        Assumes IEEE-754 floating point arithmetic.\n",
      "    \n",
      "    gamma(x, /)\n",
      "        Gamma function at x.\n",
      "    \n",
      "    gcd(*integers)\n",
      "        Greatest Common Divisor.\n",
      "    \n",
      "    hypot(...)\n",
      "        hypot(*coordinates) -> value\n",
      "        \n",
      "        Multidimensional Euclidean distance from the origin to a point.\n",
      "        \n",
      "        Roughly equivalent to:\n",
      "            sqrt(sum(x**2 for x in coordinates))\n",
      "        \n",
      "        For a two dimensional point (x, y), gives the hypotenuse\n",
      "        using the Pythagorean theorem:  sqrt(x*x + y*y).\n",
      "        \n",
      "        For example, the hypotenuse of a 3/4/5 right triangle is:\n",
      "        \n",
      "            >>> hypot(3.0, 4.0)\n",
      "            5.0\n",
      "    \n",
      "    isclose(a, b, *, rel_tol=1e-09, abs_tol=0.0)\n",
      "        Determine whether two floating point numbers are close in value.\n",
      "        \n",
      "          rel_tol\n",
      "            maximum difference for being considered \"close\", relative to the\n",
      "            magnitude of the input values\n",
      "          abs_tol\n",
      "            maximum difference for being considered \"close\", regardless of the\n",
      "            magnitude of the input values\n",
      "        \n",
      "        Return True if a is close in value to b, and False otherwise.\n",
      "        \n",
      "        For the values to be considered close, the difference between them\n",
      "        must be smaller than at least one of the tolerances.\n",
      "        \n",
      "        -inf, inf and NaN behave similarly to the IEEE 754 Standard.  That\n",
      "        is, NaN is not close to anything, even itself.  inf and -inf are\n",
      "        only close to themselves.\n",
      "    \n",
      "    isfinite(x, /)\n",
      "        Return True if x is neither an infinity nor a NaN, and False otherwise.\n",
      "    \n",
      "    isinf(x, /)\n",
      "        Return True if x is a positive or negative infinity, and False otherwise.\n",
      "    \n",
      "    isnan(x, /)\n",
      "        Return True if x is a NaN (not a number), and False otherwise.\n",
      "    \n",
      "    isqrt(n, /)\n",
      "        Return the integer part of the square root of the input.\n",
      "    \n",
      "    lcm(*integers)\n",
      "        Least Common Multiple.\n",
      "    \n",
      "    ldexp(x, i, /)\n",
      "        Return x * (2**i).\n",
      "        \n",
      "        This is essentially the inverse of frexp().\n",
      "    \n",
      "    lgamma(x, /)\n",
      "        Natural logarithm of absolute value of Gamma function at x.\n",
      "    \n",
      "    log(...)\n",
      "        log(x, [base=math.e])\n",
      "        Return the logarithm of x to the given base.\n",
      "        \n",
      "        If the base not specified, returns the natural logarithm (base e) of x.\n",
      "    \n",
      "    log10(x, /)\n",
      "        Return the base 10 logarithm of x.\n",
      "    \n",
      "    log1p(x, /)\n",
      "        Return the natural logarithm of 1+x (base e).\n",
      "        \n",
      "        The result is computed in a way which is accurate for x near zero.\n",
      "    \n",
      "    log2(x, /)\n",
      "        Return the base 2 logarithm of x.\n",
      "    \n",
      "    modf(x, /)\n",
      "        Return the fractional and integer parts of x.\n",
      "        \n",
      "        Both results carry the sign of x and are floats.\n",
      "    \n",
      "    nextafter(x, y, /)\n",
      "        Return the next floating-point value after x towards y.\n",
      "    \n",
      "    perm(n, k=None, /)\n",
      "        Number of ways to choose k items from n items without repetition and with order.\n",
      "        \n",
      "        Evaluates to n! / (n - k)! when k <= n and evaluates\n",
      "        to zero when k > n.\n",
      "        \n",
      "        If k is not specified or is None, then k defaults to n\n",
      "        and the function returns n!.\n",
      "        \n",
      "        Raises TypeError if either of the arguments are not integers.\n",
      "        Raises ValueError if either of the arguments are negative.\n",
      "    \n",
      "    pow(x, y, /)\n",
      "        Return x**y (x to the power of y).\n",
      "    \n",
      "    prod(iterable, /, *, start=1)\n",
      "        Calculate the product of all the elements in the input iterable.\n",
      "        \n",
      "        The default start value for the product is 1.\n",
      "        \n",
      "        When the iterable is empty, return the start value.  This function is\n",
      "        intended specifically for use with numeric values and may reject\n",
      "        non-numeric types.\n",
      "    \n",
      "    radians(x, /)\n",
      "        Convert angle x from degrees to radians.\n",
      "    \n",
      "    remainder(x, y, /)\n",
      "        Difference between x and the closest integer multiple of y.\n",
      "        \n",
      "        Return x - n*y where n*y is the closest integer multiple of y.\n",
      "        In the case where x is exactly halfway between two multiples of\n",
      "        y, the nearest even value of n is used. The result is always exact.\n",
      "    \n",
      "    sin(x, /)\n",
      "        Return the sine of x (measured in radians).\n",
      "    \n",
      "    sinh(x, /)\n",
      "        Return the hyperbolic sine of x.\n",
      "    \n",
      "    sqrt(x, /)\n",
      "        Return the square root of x.\n",
      "    \n",
      "    tan(x, /)\n",
      "        Return the tangent of x (measured in radians).\n",
      "    \n",
      "    tanh(x, /)\n",
      "        Return the hyperbolic tangent of x.\n",
      "    \n",
      "    trunc(x, /)\n",
      "        Truncates the Real x to the nearest Integral toward 0.\n",
      "        \n",
      "        Uses the __trunc__ magic method.\n",
      "    \n",
      "    ulp(x, /)\n",
      "        Return the value of the least significant bit of the float x.\n",
      "\n",
      "DATA\n",
      "    e = 2.718281828459045\n",
      "    inf = inf\n",
      "    nan = nan\n",
      "    pi = 3.141592653589793\n",
      "    tau = 6.283185307179586\n",
      "\n",
      "FILE\n",
      "    (built-in)\n",
      "\n",
      "\n"
     ]
    }
   ],
   "source": [
    "# Many functions regarding math modules in python can be find using helf(math) method.\n",
    "help(math)"
   ]
  },
  {
   "cell_type": "markdown",
   "id": "ed34b5ed",
   "metadata": {},
   "source": [
    "### **acos() function**\n",
    "* Return the arc cosine (measured in radians) of x.\n",
    "* The result is between 0 and pi.\n",
    "* The parameter must be a double value between -1 and 1."
   ]
  },
  {
   "cell_type": "code",
   "execution_count": 54,
   "id": "21f0ff81",
   "metadata": {},
   "outputs": [
    {
     "name": "stdout",
     "output_type": "stream",
     "text": [
      "[0.0, 3.141592653589793]\n"
     ]
    }
   ],
   "source": [
    "nlis = []\n",
    "nlis.append(math.acos(1))\n",
    "nlis.append(math.acos(-1))\n",
    "print(nlis)"
   ]
  },
  {
   "cell_type": "markdown",
   "id": "061f2faf",
   "metadata": {},
   "source": [
    "### **acosh() function**\n",
    "* It is a built-in method defined under the math module to calculate the hyperbolic arc cosine of the given parameter in radians. \n",
    "* For example, if x is passed as an acosh function (acosh(x)) parameter, it returns the hyperbolic arc cosine value."
   ]
  },
  {
   "cell_type": "code",
   "execution_count": 56,
   "id": "7f082d7b",
   "metadata": {},
   "outputs": [
    {
     "name": "stdout",
     "output_type": "stream",
     "text": [
      "8.148445582615551\n"
     ]
    }
   ],
   "source": [
    "print(math.acosh(1729))"
   ]
  },
  {
   "cell_type": "markdown",
   "id": "4824a8ab",
   "metadata": {},
   "source": [
    "### **asin() function**\n",
    "* Return the arc sine (measured in radians) of x.\n",
    "* The result is between -pi/2 and pi/2."
   ]
  },
  {
   "cell_type": "code",
   "execution_count": 52,
   "id": "63defc8e",
   "metadata": {},
   "outputs": [
    {
     "name": "stdout",
     "output_type": "stream",
     "text": [
      "[1.5707963267948966, -1.5707963267948966]\n"
     ]
    }
   ],
   "source": [
    "nlis = []\n",
    "nlis.append(math.asin(1))\n",
    "nlis.append(math.asin(-1))\n",
    "print(nlis)\n"
   ]
  },
  {
   "cell_type": "markdown",
   "id": "8e995706",
   "metadata": {},
   "source": [
    "### **asinh() function**\n",
    "* Return the inverse hyperbolic sine of x."
   ]
  },
  {
   "cell_type": "code",
   "execution_count": 55,
   "id": "88f0cac2",
   "metadata": {},
   "outputs": [
    {
     "name": "stdout",
     "output_type": "stream",
     "text": [
      "8.1484457498709\n"
     ]
    }
   ],
   "source": [
    "print(math.asinh(1729))"
   ]
  },
  {
   "cell_type": "markdown",
   "id": "1fc70c6c",
   "metadata": {},
   "source": [
    "### **atan() function**\n",
    "* Return the arc tangent (measured in radians) of x.\n",
    "* The result is between -pi/2 and pi/2."
   ]
  },
  {
   "cell_type": "code",
   "execution_count": 66,
   "id": "803cc2c6",
   "metadata": {},
   "outputs": [
    {
     "name": "stdout",
     "output_type": "stream",
     "text": [
      "[1.5707963267948966, -1.5707963267948966]\n"
     ]
    }
   ],
   "source": [
    "nlis = []\n",
    "nlis.append(math.atan(math.inf))        # pozitive infinite\n",
    "nlis.append(math.atan(-math.inf))       # negative infinite\n",
    "print(nlis)"
   ]
  },
  {
   "cell_type": "markdown",
   "id": "34534c8a",
   "metadata": {},
   "source": [
    "### **atan2() function**\n",
    "* Return the arc tangent (measured in radians) of y/x.\n",
    "* Unlike atan(y/x), the signs of both x and y are considered."
   ]
  },
  {
   "cell_type": "code",
   "execution_count": 74,
   "id": "5d23d489",
   "metadata": {},
   "outputs": [
    {
     "name": "stdout",
     "output_type": "stream",
     "text": [
      "1.5493999395414435\n",
      "1.5921927140483498\n",
      "-1.5921927140483498\n",
      "-1.5493999395414435\n",
      "0.0\n",
      "1.5707963267948966\n",
      "1.1071487177940904\n"
     ]
    }
   ],
   "source": [
    "print(math.atan2(1729, 37))\n",
    "print(math.atan2(1729, -37))\n",
    "print(math.atan2(-1729, -37))\n",
    "print(math.atan2(-1729, 37))\n",
    "print(math.atan2(math.pi, math.inf))\n",
    "print(math.atan2(math.inf, math.e))\n",
    "print(math.atan2(math.tau, math.pi))"
   ]
  },
  {
   "cell_type": "markdown",
   "id": "d2bc4609",
   "metadata": {},
   "source": [
    "### **atanh() function**\n",
    "* Return the inverse hyperbolic tangent of x."
   ]
  },
  {
   "cell_type": "code",
   "execution_count": 91,
   "id": "4934beae",
   "metadata": {},
   "outputs": [
    {
     "name": "stdout",
     "output_type": "stream",
     "text": [
      "[-4.951718775643098, 0.0, 4.951718775643098]\n"
     ]
    }
   ],
   "source": [
    "nlis=[]\n",
    "nlis.append(math.atanh(-0.9999))\n",
    "nlis.append(math.atanh(0))\n",
    "nlis.append(math.atanh(0.9999))\n",
    "print(nlis)\n"
   ]
  },
  {
   "cell_type": "markdown",
   "id": "d208e54a",
   "metadata": {},
   "source": [
    "### **ceil() function**\n",
    "* Rounds a number up to the nearest integer\n",
    "* Returns the smalles integer greater than or equal to variable."
   ]
  },
  {
   "cell_type": "code",
   "execution_count": 22,
   "id": "c8919fef",
   "metadata": {},
   "outputs": [
    {
     "name": "stdout",
     "output_type": "stream",
     "text": [
      "The nearest integer greater than pi number is 4.\n"
     ]
    }
   ],
   "source": [
    "pi_number = math.pi         # math.pi is equal to pi_number 3.14.\n",
    "print(f'The nearest integer greater than pi number is {math.ceil(pi_number)}.')"
   ]
  },
  {
   "cell_type": "markdown",
   "id": "63c32129",
   "metadata": {},
   "source": [
    "### **comb() function**\n",
    "* Number of ways to choose k items from n items without repetition and without order.\n",
    "* Evaluates to **n!/(k!*(n - k)!)** when **k <= n** and evaluates to zero when **k>n**.\n",
    "*  Also called the binomial coefficient because it is equivalent to the coefficient of k-th term in polynomial expansion of the expression (1 + x)**n.\n",
    "* Raises **TypeError** if either of the arguments are not integers.\n",
    "* Raises **ValueError** if either of the arguments are negative."
   ]
  },
  {
   "cell_type": "code",
   "execution_count": 19,
   "id": "5cab5c8e",
   "metadata": {},
   "outputs": [
    {
     "name": "stdout",
     "output_type": "stream",
     "text": [
      "The combination of 6 with 2 is 15.\n"
     ]
    },
    {
     "ename": "TypeError",
     "evalue": "'float' object cannot be interpreted as an integer",
     "output_type": "error",
     "traceback": [
      "\u001b[1;31m---------------------------------------------------------------------------\u001b[0m",
      "\u001b[1;31mTypeError\u001b[0m                                 Traceback (most recent call last)",
      "\u001b[1;32m~\\AppData\\Local\\Temp/ipykernel_9084/1573976203.py\u001b[0m in \u001b[0;36m<module>\u001b[1;34m\u001b[0m\n\u001b[0;32m      1\u001b[0m \u001b[0mprint\u001b[0m\u001b[1;33m(\u001b[0m\u001b[1;34mf'The combination of 6 with 2 is {math.comb(6, 2)}.'\u001b[0m\u001b[1;33m)\u001b[0m\u001b[1;33m\u001b[0m\u001b[1;33m\u001b[0m\u001b[0m\n\u001b[1;32m----> 2\u001b[1;33m \u001b[0mprint\u001b[0m\u001b[1;33m(\u001b[0m\u001b[0mmath\u001b[0m\u001b[1;33m.\u001b[0m\u001b[0mcomb\u001b[0m\u001b[1;33m(\u001b[0m\u001b[1;36m10\u001b[0m\u001b[1;33m,\u001b[0m \u001b[1;36m3.14\u001b[0m\u001b[1;33m)\u001b[0m\u001b[1;33m)\u001b[0m          \u001b[1;31m# It returns a TypeError\u001b[0m\u001b[1;33m\u001b[0m\u001b[1;33m\u001b[0m\u001b[0m\n\u001b[0m",
      "\u001b[1;31mTypeError\u001b[0m: 'float' object cannot be interpreted as an integer"
     ]
    }
   ],
   "source": [
    "print(f'The combination of 6 with 2 is {math.comb(6, 2)}.')\n",
    "print(math.comb(10, 3.14))          # It returns a TypeError"
   ]
  },
  {
   "cell_type": "markdown",
   "id": "408e7da5",
   "metadata": {},
   "source": [
    "### **copysign() function**\n",
    "* Returns a float consisting of the value of the first parameter and the sign of the second parameter."
   ]
  },
  {
   "cell_type": "code",
   "execution_count": 18,
   "id": "851e7c6b",
   "metadata": {},
   "outputs": [
    {
     "name": "stdout",
     "output_type": "stream",
     "text": [
      "The copysign of thes two numbers -3.14 and 2.718 is 3.14.\n",
      "The copysign of thes two numbers 1729 and -0.577 is -1729.0.\n"
     ]
    }
   ],
   "source": [
    "print(f'The copysign of thes two numbers -3.14 and 2.718 is {math.copysign(-3.14, 2.718)}.')\n",
    "print(f'The copysign of thes two numbers 1729 and -0.577 is {math.copysign(1729, -0.577)}.')"
   ]
  },
  {
   "cell_type": "markdown",
   "id": "d0e363f8",
   "metadata": {},
   "source": [
    "### **cos() function**\n",
    "* Return the cosine of x (measured in radians)."
   ]
  },
  {
   "cell_type": "code",
   "execution_count": 105,
   "id": "3be1d2f8",
   "metadata": {},
   "outputs": [
    {
     "name": "stdout",
     "output_type": "stream",
     "text": [
      "1.0\n",
      "0.8660254037844387\n",
      "0.5403023058681398\n",
      "0.5403023058681398\n",
      "0.43204202084333315\n",
      "-0.4480736161291701\n"
     ]
    }
   ],
   "source": [
    "print(math.cos(0))\n",
    "print(math.cos(math.pi/6))\n",
    "print(math.cos(-1))\n",
    "print(math.cos(1))\n",
    "print(math.cos(1729))\n",
    "print(math.cos(90))"
   ]
  },
  {
   "cell_type": "markdown",
   "id": "52f8c4f1",
   "metadata": {},
   "source": [
    "### **cosh() function**\n",
    "* Return the hyperbolic cosine of x."
   ]
  },
  {
   "cell_type": "code",
   "execution_count": 114,
   "id": "8b147ced",
   "metadata": {},
   "outputs": [
    {
     "name": "stdout",
     "output_type": "stream",
     "text": [
      "[1.5430806348152437, 1.0, 74.20994852478785]\n"
     ]
    }
   ],
   "source": [
    "nlis = []\n",
    "nlis.append(math.cosh(1))\n",
    "nlis.append(math.cosh(0))\n",
    "nlis.append(math.cosh(-5))\n",
    "print(nlis)"
   ]
  },
  {
   "cell_type": "markdown",
   "id": "2cd90baa",
   "metadata": {},
   "source": [
    "### **degrees() function**\n",
    "* Convert angle x from radians to degrees."
   ]
  },
  {
   "cell_type": "code",
   "execution_count": 122,
   "id": "de9fbc32",
   "metadata": {},
   "outputs": [
    {
     "name": "stdout",
     "output_type": "stream",
     "text": [
      "[90.0, 180.0, 45.0, -180.0]\n"
     ]
    }
   ],
   "source": [
    "nlis = []\n",
    "nlis.append(math.degrees(math.pi/2))\n",
    "nlis.append(math.degrees(math.pi))\n",
    "nlis.append(math.degrees(math.pi/4))\n",
    "nlis.append(math.degrees(-math.pi))\n",
    "print(nlis)"
   ]
  },
  {
   "cell_type": "markdown",
   "id": "9d5eaffb",
   "metadata": {},
   "source": [
    "### **dist() function**\n",
    "* Return the Euclidean distance between two points p and q.\n",
    "* The points should be specified as sequences (or iterables) of coordinates.  \n",
    "* Both inputs must have the same dimension.\n",
    "* Roughly equivalent to: **sqrt(sum((px - qx) ** 2.0 for px, qx in zip(p, q)))**"
   ]
  },
  {
   "cell_type": "code",
   "execution_count": 127,
   "id": "9d968362",
   "metadata": {},
   "outputs": [
    {
     "name": "stdout",
     "output_type": "stream",
     "text": [
      "30.0\n",
      "2.7890803143688783\n",
      "43.59672438383416\n"
     ]
    }
   ],
   "source": [
    "print(math.dist([30], [60]))\n",
    "print(math.dist([0.577, 1.618], [3.14, 2.718]))\n",
    "x = [0.577, 1.618, 2.718]\n",
    "y = [6, 28, 37]\n",
    "print(math.dist(x, y))"
   ]
  },
  {
   "cell_type": "markdown",
   "id": "3e5ed638",
   "metadata": {},
   "source": [
    "### **erf() function**\n",
    "* Error function at x.\n",
    "* This method accepts a value between - inf and + inf, and returns a value between - 1 to + 1."
   ]
  },
  {
   "cell_type": "code",
   "execution_count": 136,
   "id": "f3f23f42",
   "metadata": {},
   "outputs": [
    {
     "name": "stdout",
     "output_type": "stream",
     "text": [
      "[1.0, 0.9999911238536323, 0.9998790689599072, 1.0, 0.0, 1.0, 0.9778739803135315, 0.5855005651943818, -1.0]\n"
     ]
    }
   ],
   "source": [
    "nlis = []\n",
    "nlis.append(math.erf(math.inf))\n",
    "nlis.append(math.erf(math.pi))\n",
    "nlis.append(math.erf(math.e))\n",
    "nlis.append(math.erf(math.tau))\n",
    "nlis.append(math.erf(0))\n",
    "nlis.append(math.erf(6))\n",
    "nlis.append(math.erf(1.618))\n",
    "nlis.append(math.erf(0.577))\n",
    "nlis.append(math.erf(-math.inf))\n",
    "print(nlis)"
   ]
  },
  {
   "cell_type": "markdown",
   "id": "ea563a35",
   "metadata": {},
   "source": [
    "### **erfc() function**\n",
    "* Complementary error function at x.\n",
    "* This method accepts a value between - inf and + inf, and returns a value between 0 and 2."
   ]
  },
  {
   "cell_type": "code",
   "execution_count": 137,
   "id": "96b52557",
   "metadata": {},
   "outputs": [
    {
     "name": "stdout",
     "output_type": "stream",
     "text": [
      "[0.0, 8.876146367641612e-06, 0.00012093104009276267, 6.348191705159502e-19, 1.0, 2.1519736712498913e-17, 0.022126019686468514, 0.41449943480561824, 2.0]\n"
     ]
    }
   ],
   "source": [
    "nlis = []\n",
    "nlis.append(math.erfc(math.inf))\n",
    "nlis.append(math.erfc(math.pi))\n",
    "nlis.append(math.erfc(math.e))\n",
    "nlis.append(math.erfc(math.tau))\n",
    "nlis.append(math.erfc(0))\n",
    "nlis.append(math.erfc(6))\n",
    "nlis.append(math.erfc(1.618))\n",
    "nlis.append(math.erfc(0.577))\n",
    "nlis.append(math.erfc(-math.inf))\n",
    "print(nlis)"
   ]
  },
  {
   "cell_type": "markdown",
   "id": "c31c407c",
   "metadata": {},
   "source": [
    "### **exp() function**\n",
    "* The **math.exp()** method returns **E** raised to the power of x (Ex).\n",
    "* **E** is the base of the natural system of logarithms (approximately 2.718282) and x is the number passed to it."
   ]
  },
  {
   "cell_type": "code",
   "execution_count": 139,
   "id": "af6abf2f",
   "metadata": {},
   "outputs": [
    {
     "name": "stdout",
     "output_type": "stream",
     "text": [
      "[inf, 23.140692632779267, 15.154262241479262, 535.4916555247646, 1.0, 403.4287934927351, 5.042994235377287, 1.780688344599613, 0.0]\n"
     ]
    }
   ],
   "source": [
    "nlis = []\n",
    "nlis.append(math.exp(math.inf))\n",
    "nlis.append(math.exp(math.pi))\n",
    "nlis.append(math.exp(math.e))\n",
    "nlis.append(math.exp(math.tau))\n",
    "nlis.append(math.exp(0))\n",
    "nlis.append(math.exp(6))\n",
    "nlis.append(math.exp(1.618))\n",
    "nlis.append(math.exp(0.577))\n",
    "nlis.append(math.exp(-math.inf))\n",
    "print(nlis)"
   ]
  },
  {
   "cell_type": "markdown",
   "id": "81e01be7",
   "metadata": {},
   "source": [
    "### **expm1() function**\n",
    "* Return exp(x)-1.\n",
    "* This function avoids the loss of precision involved in the direct evaluation of exp(x)-1 for small x."
   ]
  },
  {
   "cell_type": "code",
   "execution_count": 141,
   "id": "92260b8f",
   "metadata": {},
   "outputs": [
    {
     "name": "stdout",
     "output_type": "stream",
     "text": [
      "[inf, 22.140692632779267, 14.154262241479262, 534.4916555247646, 0.0, 402.4287934927351, 4.042994235377287, 0.7806883445996128, 6.38905609893065, -1.0]\n"
     ]
    }
   ],
   "source": [
    "nlis = []\n",
    "nlis.append(math.expm1(math.inf))\n",
    "nlis.append(math.expm1(math.pi))\n",
    "nlis.append(math.expm1(math.e))\n",
    "nlis.append(math.expm1(math.tau))\n",
    "nlis.append(math.expm1(0))\n",
    "nlis.append(math.expm1(6))\n",
    "nlis.append(math.expm1(1.618))\n",
    "nlis.append(math.expm1(0.577))\n",
    "nlis.append(math.expm1(-math.inf))\n",
    "print(nlis)"
   ]
  },
  {
   "cell_type": "markdown",
   "id": "1e096663",
   "metadata": {},
   "source": [
    "### **fabs() function**\n",
    "* Returns the absolute value of a number"
   ]
  },
  {
   "cell_type": "code",
   "execution_count": 14,
   "id": "4c75574e",
   "metadata": {},
   "outputs": [
    {
     "name": "stdout",
     "output_type": "stream",
     "text": [
      "The absolute value of the number -1.618 is 1.618.\n"
     ]
    }
   ],
   "source": [
    "print(f'The absolute value of the number -1.618 is {math.fabs(-1.618)}.')"
   ]
  },
  {
   "cell_type": "markdown",
   "id": "a432afb9",
   "metadata": {},
   "source": [
    "### **factorial() function**\n",
    "* Returns the factorial of a number.\n"
   ]
  },
  {
   "cell_type": "code",
   "execution_count": 28,
   "id": "18ac44ce",
   "metadata": {},
   "outputs": [
    {
     "name": "stdout",
     "output_type": "stream",
     "text": [
      "The factorial of the number 6 is 720.\n"
     ]
    }
   ],
   "source": [
    "print(f'The factorial of the number 6 is {math.factorial(6)}.')"
   ]
  },
  {
   "cell_type": "code",
   "execution_count": 29,
   "id": "bc191da7",
   "metadata": {},
   "outputs": [
    {
     "ename": "ValueError",
     "evalue": "factorial() not defined for negative values",
     "output_type": "error",
     "traceback": [
      "\u001b[1;31m---------------------------------------------------------------------------\u001b[0m",
      "\u001b[1;31mValueError\u001b[0m                                Traceback (most recent call last)",
      "\u001b[1;32m~\\AppData\\Local\\Temp/ipykernel_9084/3052214312.py\u001b[0m in \u001b[0;36m<module>\u001b[1;34m\u001b[0m\n\u001b[0;32m      1\u001b[0m \u001b[1;31m# Factorial of negative numbers returns a ValueError.\u001b[0m\u001b[1;33m\u001b[0m\u001b[1;33m\u001b[0m\u001b[0m\n\u001b[1;32m----> 2\u001b[1;33m \u001b[0mprint\u001b[0m\u001b[1;33m(\u001b[0m\u001b[0mmath\u001b[0m\u001b[1;33m.\u001b[0m\u001b[0mfactorial\u001b[0m\u001b[1;33m(\u001b[0m\u001b[1;33m-\u001b[0m\u001b[1;36m6\u001b[0m\u001b[1;33m)\u001b[0m\u001b[1;33m)\u001b[0m\u001b[1;33m\u001b[0m\u001b[1;33m\u001b[0m\u001b[0m\n\u001b[0m",
      "\u001b[1;31mValueError\u001b[0m: factorial() not defined for negative values"
     ]
    }
   ],
   "source": [
    "# Factorial of negative numbers returns a ValueError.\n",
    "print(math.factorial(-6))"
   ]
  },
  {
   "cell_type": "code",
   "execution_count": 30,
   "id": "168821f9",
   "metadata": {},
   "outputs": [
    {
     "ename": "TypeError",
     "evalue": "'float' object cannot be interpreted as an integer",
     "output_type": "error",
     "traceback": [
      "\u001b[1;31m---------------------------------------------------------------------------\u001b[0m",
      "\u001b[1;31mTypeError\u001b[0m                                 Traceback (most recent call last)",
      "\u001b[1;32m~\\AppData\\Local\\Temp/ipykernel_9084/3264451390.py\u001b[0m in \u001b[0;36m<module>\u001b[1;34m\u001b[0m\n\u001b[0;32m      1\u001b[0m \u001b[1;31m# Factorial of non-unteger numbers returns a TypeError.\u001b[0m\u001b[1;33m\u001b[0m\u001b[1;33m\u001b[0m\u001b[0m\n\u001b[1;32m----> 2\u001b[1;33m \u001b[0mprint\u001b[0m\u001b[1;33m(\u001b[0m\u001b[0mmath\u001b[0m\u001b[1;33m.\u001b[0m\u001b[0mfactorial\u001b[0m\u001b[1;33m(\u001b[0m\u001b[1;36m3.14\u001b[0m\u001b[1;33m)\u001b[0m\u001b[1;33m)\u001b[0m\u001b[1;33m\u001b[0m\u001b[1;33m\u001b[0m\u001b[0m\n\u001b[0m",
      "\u001b[1;31mTypeError\u001b[0m: 'float' object cannot be interpreted as an integer"
     ]
    }
   ],
   "source": [
    "# Factorial of non-unteger numbers returns a TypeError.\n",
    "print(math.factorial(3.14))"
   ]
  },
  {
   "cell_type": "markdown",
   "id": "09ee39d8",
   "metadata": {},
   "source": [
    "### **floor() functions:**\n",
    "* Rounds a number down to the nearest integer"
   ]
  },
  {
   "cell_type": "code",
   "execution_count": 34,
   "id": "14434e5b",
   "metadata": {},
   "outputs": [
    {
     "name": "stdout",
     "output_type": "stream",
     "text": [
      "3\n"
     ]
    }
   ],
   "source": [
    "print(math.floor(3.14))"
   ]
  },
  {
   "cell_type": "markdown",
   "id": "d577dc09",
   "metadata": {},
   "source": [
    "### **fmod() function**\n",
    "* Returns the remainder of x/y"
   ]
  },
  {
   "cell_type": "code",
   "execution_count": 37,
   "id": "2523e325",
   "metadata": {},
   "outputs": [
    {
     "name": "stdout",
     "output_type": "stream",
     "text": [
      "1.0\n",
      "26.0\n"
     ]
    }
   ],
   "source": [
    "print(math.fmod(37, 6))\n",
    "print(math.fmod(1728, 37))"
   ]
  },
  {
   "cell_type": "markdown",
   "id": "808bf11d",
   "metadata": {},
   "source": [
    "### **frexp() function**\n",
    "* Returns the mantissa and the exponent, of a specified number"
   ]
  },
  {
   "cell_type": "code",
   "execution_count": 31,
   "id": "b96512b3",
   "metadata": {},
   "outputs": [
    {
     "name": "stdout",
     "output_type": "stream",
     "text": [
      "(0.6795, 2)\n"
     ]
    }
   ],
   "source": [
    "print(math.frexp(2.718))"
   ]
  },
  {
   "cell_type": "markdown",
   "id": "234149d2",
   "metadata": {},
   "source": [
    "### **fsum() function**\n",
    "* Returns the sum of all items in any iterable (tuples, arrays, lists, etc.)"
   ]
  },
  {
   "cell_type": "code",
   "execution_count": 142,
   "id": "fb1985fd",
   "metadata": {},
   "outputs": [
    {
     "name": "stdout",
     "output_type": "stream",
     "text": [
      "1808.053\n"
     ]
    }
   ],
   "source": [
    "special_nums = [0.577, 1.618, 2.718, 3.14, 6, 28, 37, 1729]\n",
    "print(math.fsum(special_nums))"
   ]
  },
  {
   "cell_type": "markdown",
   "id": "7f09af41",
   "metadata": {},
   "source": [
    "### **gamma() function**\n",
    "* Returns the gamma function at x.\n",
    "*  You can find more information about **gamma function** from this <a href='https://en.wikipedia.org/wiki/Gamma_function'>Link.</a>"
   ]
  },
  {
   "cell_type": "code",
   "execution_count": 143,
   "id": "093889fa",
   "metadata": {},
   "outputs": [
    {
     "name": "stdout",
     "output_type": "stream",
     "text": [
      "2.2844806338178008\n",
      "120.0\n",
      "1.5671127417668826\n"
     ]
    }
   ],
   "source": [
    "print(math.gamma(3.14))\n",
    "print(math.gamma(6))\n",
    "print(math.gamma(2.718))"
   ]
  },
  {
   "cell_type": "markdown",
   "id": "0c57bf13",
   "metadata": {},
   "source": [
    "### **gcd() function**\n",
    "* Returns the greatest common divisor of two integers"
   ]
  },
  {
   "cell_type": "code",
   "execution_count": 144,
   "id": "de50d5fd",
   "metadata": {},
   "outputs": [
    {
     "name": "stdout",
     "output_type": "stream",
     "text": [
      "1\n",
      "4\n",
      "0\n"
     ]
    }
   ],
   "source": [
    "print(math.gcd(3, 10))\n",
    "print(math.gcd(4, 8))\n",
    "print(math.gcd(0, 0))"
   ]
  },
  {
   "cell_type": "markdown",
   "id": "b1a9459c",
   "metadata": {},
   "source": [
    "### **hypot() function**\n",
    "* Returns the Euclidean norm.\n",
    "* Multidimensional Euclidean distance from the origin to a point.\n",
    "* Roughly equivalent to: sqrt(sum(x**2 for x in coordinates))\n",
    "* For a two dimensional point (x, y), gives the hypotenuse using the Pythagorean theorem:  sqrt(x*x + y*y)."
   ]
  },
  {
   "cell_type": "code",
   "execution_count": 148,
   "id": "1bbd1468",
   "metadata": {},
   "outputs": [
    {
     "name": "stdout",
     "output_type": "stream",
     "text": [
      "5.0\n",
      "13.0\n",
      "17.0\n"
     ]
    }
   ],
   "source": [
    "print(math.hypot(3, 4))\n",
    "print(math.hypot(5, 12))\n",
    "print(math.hypot(8, 15))"
   ]
  },
  {
   "cell_type": "markdown",
   "id": "49453648",
   "metadata": {},
   "source": [
    "### **isclose() function**\n",
    "* It checks whether two values are close to each other, or not. \n",
    "* Returns True if the values are close, otherwise False.\n",
    "* This method uses a relative or absolute tolerance, to see if the values are close.\n",
    "* **Tip:** It uses the following formula to compare the values: abs(a-b) <= max(rel_tol * max(abs(a), abs(b)), abs_tol)"
   ]
  },
  {
   "cell_type": "code",
   "execution_count": 11,
   "id": "5965868d",
   "metadata": {},
   "outputs": [
    {
     "name": "stdout",
     "output_type": "stream",
     "text": [
      "False\n",
      "False\n",
      "False\n",
      "True\n",
      "True\n"
     ]
    }
   ],
   "source": [
    "print(math.isclose(math.pi, math.tau))      # tau number is 2 times higher than pi number\n",
    "print(math.isclose(3.14, 2.718))\n",
    "print(math.isclose(3.14, 1.618))\n",
    "print(math.isclose(10, 5, rel_tol = 3, abs_tol=0))\n",
    "print(math.isclose(3.14, 3.1400000000001))"
   ]
  },
  {
   "cell_type": "markdown",
   "id": "8761c2dd",
   "metadata": {},
   "source": [
    "### **isfinite() function**\n",
    "* Return *True* if x is neither an **infinity** nor a **NaN**, and *False* otherwise."
   ]
  },
  {
   "cell_type": "code",
   "execution_count": 155,
   "id": "b1263289",
   "metadata": {},
   "outputs": [
    {
     "name": "stdout",
     "output_type": "stream",
     "text": [
      "[False, True, True, True, True, True, True, True, False, False, False]\n"
     ]
    }
   ],
   "source": [
    "nlis = []\n",
    "nlis.append(math.isfinite(math.inf))\n",
    "nlis.append(math.isfinite(math.pi))\n",
    "nlis.append(math.isfinite(math.e))\n",
    "nlis.append(math.isfinite(math.tau))\n",
    "nlis.append(math.isfinite(0))\n",
    "nlis.append(math.isfinite(6))\n",
    "nlis.append(math.isfinite(1.618))\n",
    "nlis.append(math.isfinite(0.577))\n",
    "nlis.append(math.isfinite(-math.inf))\n",
    "nlis.append(math.isfinite(float('NaN')))\n",
    "nlis.append(math.isfinite(float('inf')))\n",
    "print(nlis)"
   ]
  },
  {
   "cell_type": "markdown",
   "id": "8497b653",
   "metadata": {},
   "source": [
    "### **isinf() function**\n",
    "* Return *True* if x is a **positive or negative infinity**, and *False* otherwise."
   ]
  },
  {
   "cell_type": "code",
   "execution_count": 161,
   "id": "37e03dd2",
   "metadata": {},
   "outputs": [
    {
     "name": "stdout",
     "output_type": "stream",
     "text": [
      "[True, False, False, False, False, False, False, False, True]\n"
     ]
    }
   ],
   "source": [
    "nlis = []\n",
    "nlis.append(math.isinf(math.inf))\n",
    "nlis.append(math.isinf(math.pi))\n",
    "nlis.append(math.isinf(math.e))\n",
    "nlis.append(math.isinf(math.tau))\n",
    "nlis.append(math.isinf(0))\n",
    "nlis.append(math.isinf(6))\n",
    "nlis.append(math.isinf(1.618))\n",
    "nlis.append(math.isinf(0.577))\n",
    "nlis.append(math.isinf(-math.inf))\n",
    "print(nlis)"
   ]
  },
  {
   "cell_type": "markdown",
   "id": "d520e79a",
   "metadata": {},
   "source": [
    "### **isnan() function**\n",
    "* Return *True* if x is a **NaN (not a number)**, and *False* otherwise."
   ]
  },
  {
   "cell_type": "code",
   "execution_count": 162,
   "id": "da6fb8d8",
   "metadata": {},
   "outputs": [
    {
     "name": "stdout",
     "output_type": "stream",
     "text": [
      "[True, False, False, False, False, False, False, False, False, False, True]\n"
     ]
    }
   ],
   "source": [
    "nlis = []\n",
    "nlis.append(math.isnan(float('NaN')))\n",
    "nlis.append(math.isnan(math.inf))\n",
    "nlis.append(math.isnan(math.pi))\n",
    "nlis.append(math.isnan(math.e))\n",
    "nlis.append(math.isnan(math.tau))\n",
    "nlis.append(math.isnan(0))\n",
    "nlis.append(math.isnan(6))\n",
    "nlis.append(math.isnan(1.618))\n",
    "nlis.append(math.isnan(0.577))\n",
    "nlis.append(math.isnan(-math.inf))\n",
    "nlis.append(math.isnan(math.nan))\n",
    "print(nlis)"
   ]
  },
  {
   "cell_type": "markdown",
   "id": "9ab832a2",
   "metadata": {},
   "source": [
    "### **isqrt() function**\n",
    "* Rounds a square root number downwards to the nearest integer.\n",
    "* The returned square root value is the floor value of square root of a non-negative integer number.\n",
    "* It gives a **ValueError** and **TypeError** when **a negative integer number** and **a float number** are used, respectively."
   ]
  },
  {
   "cell_type": "code",
   "execution_count": 15,
   "id": "671c92c5",
   "metadata": {},
   "outputs": [
    {
     "name": "stdout",
     "output_type": "stream",
     "text": [
      "2\n",
      "2\n"
     ]
    },
    {
     "ename": "ValueError",
     "evalue": "isqrt() argument must be nonnegative",
     "output_type": "error",
     "traceback": [
      "\u001b[1;31m---------------------------------------------------------------------------\u001b[0m",
      "\u001b[1;31mValueError\u001b[0m                                Traceback (most recent call last)",
      "\u001b[1;32m~\\AppData\\Local\\Temp/ipykernel_20068/2393595883.py\u001b[0m in \u001b[0;36m<module>\u001b[1;34m\u001b[0m\n\u001b[0;32m      1\u001b[0m \u001b[0mprint\u001b[0m\u001b[1;33m(\u001b[0m\u001b[0mmath\u001b[0m\u001b[1;33m.\u001b[0m\u001b[0misqrt\u001b[0m\u001b[1;33m(\u001b[0m\u001b[1;36m4\u001b[0m\u001b[1;33m)\u001b[0m\u001b[1;33m)\u001b[0m\u001b[1;33m\u001b[0m\u001b[1;33m\u001b[0m\u001b[0m\n\u001b[0;32m      2\u001b[0m \u001b[0mprint\u001b[0m\u001b[1;33m(\u001b[0m\u001b[0mmath\u001b[0m\u001b[1;33m.\u001b[0m\u001b[0misqrt\u001b[0m\u001b[1;33m(\u001b[0m\u001b[1;36m5\u001b[0m\u001b[1;33m)\u001b[0m\u001b[1;33m)\u001b[0m\u001b[1;33m\u001b[0m\u001b[1;33m\u001b[0m\u001b[0m\n\u001b[1;32m----> 3\u001b[1;33m \u001b[0mprint\u001b[0m\u001b[1;33m(\u001b[0m\u001b[0mmath\u001b[0m\u001b[1;33m.\u001b[0m\u001b[0misqrt\u001b[0m\u001b[1;33m(\u001b[0m\u001b[1;33m-\u001b[0m\u001b[1;36m5\u001b[0m\u001b[1;33m)\u001b[0m\u001b[1;33m)\u001b[0m\u001b[1;33m\u001b[0m\u001b[1;33m\u001b[0m\u001b[0m\n\u001b[0m",
      "\u001b[1;31mValueError\u001b[0m: isqrt() argument must be nonnegative"
     ]
    }
   ],
   "source": [
    "print(math.isqrt(4))\n",
    "print(math.isqrt(5))\n",
    "print(math.isqrt(-5))"
   ]
  },
  {
   "cell_type": "code",
   "execution_count": 16,
   "id": "55a5dd80",
   "metadata": {},
   "outputs": [
    {
     "ename": "TypeError",
     "evalue": "'float' object cannot be interpreted as an integer",
     "output_type": "error",
     "traceback": [
      "\u001b[1;31m---------------------------------------------------------------------------\u001b[0m",
      "\u001b[1;31mTypeError\u001b[0m                                 Traceback (most recent call last)",
      "\u001b[1;32m~\\AppData\\Local\\Temp/ipykernel_20068/4116779010.py\u001b[0m in \u001b[0;36m<module>\u001b[1;34m\u001b[0m\n\u001b[1;32m----> 1\u001b[1;33m \u001b[0mprint\u001b[0m\u001b[1;33m(\u001b[0m\u001b[0mmath\u001b[0m\u001b[1;33m.\u001b[0m\u001b[0misqrt\u001b[0m\u001b[1;33m(\u001b[0m\u001b[1;36m3.14\u001b[0m\u001b[1;33m)\u001b[0m\u001b[1;33m)\u001b[0m\u001b[1;33m\u001b[0m\u001b[1;33m\u001b[0m\u001b[0m\n\u001b[0m",
      "\u001b[1;31mTypeError\u001b[0m: 'float' object cannot be interpreted as an integer"
     ]
    }
   ],
   "source": [
    "print(math.isqrt(3.14))"
   ]
  },
  {
   "cell_type": "markdown",
   "id": "fe6e5676",
   "metadata": {},
   "source": [
    "### **lcm() function**\n",
    "* Least Common Multiple."
   ]
  },
  {
   "cell_type": "code",
   "execution_count": 168,
   "id": "fcfedfb2",
   "metadata": {},
   "outputs": [
    {
     "name": "stdout",
     "output_type": "stream",
     "text": [
      "[75, 54, 378]\n"
     ]
    }
   ],
   "source": [
    "nlis = []\n",
    "nlis.append(math.lcm(3, 5, 25))\n",
    "nlis.append(math.lcm(9, 6, 27))\n",
    "nlis.append(math.lcm(21, 27, 54))\n",
    "print(nlis)"
   ]
  },
  {
   "cell_type": "markdown",
   "id": "c8e52f3d",
   "metadata": {},
   "source": [
    "### **ldexp() function**\n",
    "* Returns the inverse of **math.frexp()** which is x*(2^i) of the given numbers x and i"
   ]
  },
  {
   "cell_type": "code",
   "execution_count": 19,
   "id": "01ac7e83",
   "metadata": {},
   "outputs": [
    {
     "name": "stdout",
     "output_type": "stream",
     "text": [
      "320.0\n",
      "320\n"
     ]
    }
   ],
   "source": [
    "print(math.ldexp(20, 4))\n",
    "print(20*(2**4))"
   ]
  },
  {
   "cell_type": "markdown",
   "id": "b7374ce8",
   "metadata": {},
   "source": [
    "### **lgamma() function**\n",
    "* Returns the log gamma value of x"
   ]
  },
  {
   "cell_type": "code",
   "execution_count": 26,
   "id": "6ed6e244",
   "metadata": {},
   "outputs": [
    {
     "name": "stdout",
     "output_type": "stream",
     "text": [
      "120.0\n",
      "4.787491742782047\n",
      "4.787491742782046\n"
     ]
    }
   ],
   "source": [
    "print(math.gamma(6))\n",
    "print(math.lgamma(6))\n",
    "print(math.log(120))        # print(math.gamma(6)) = 120"
   ]
  },
  {
   "cell_type": "markdown",
   "id": "0caf6185",
   "metadata": {},
   "source": [
    "### **log() function**\n",
    "* log(x, [base=math.e])\n",
    "* Return the logarithm of x to the given base."
   ]
  },
  {
   "cell_type": "code",
   "execution_count": 174,
   "id": "536e3206",
   "metadata": {},
   "outputs": [
    {
     "name": "stdout",
     "output_type": "stream",
     "text": [
      "[4.499809670330265, 0.0, 1.0, 1.1447298858494002, 1.8378770664093453, inf, nan]\n"
     ]
    }
   ],
   "source": [
    "nlis = []\n",
    "nlis.append(math.log(90))\n",
    "nlis.append(math.log(1))\n",
    "nlis.append(math.log(math.e))\n",
    "nlis.append(math.log(math.pi))\n",
    "nlis.append(math.log(math.tau))\n",
    "nlis.append(math.log(math.inf))\n",
    "nlis.append(math.log(math.nan))\n",
    "print(nlis)"
   ]
  },
  {
   "cell_type": "markdown",
   "id": "35a43153",
   "metadata": {},
   "source": [
    "### **log10() function**\n",
    "* Return the base 10 logarithm of x."
   ]
  },
  {
   "cell_type": "code",
   "execution_count": 177,
   "id": "6cde1803",
   "metadata": {},
   "outputs": [
    {
     "name": "stdout",
     "output_type": "stream",
     "text": [
      "[1.954242509439325, 0.0, 0.4342944819032518, 0.49714987269413385, 0.798179868358115, inf, nan]\n"
     ]
    }
   ],
   "source": [
    "nlis = []\n",
    "nlis.append(math.log10(90))\n",
    "nlis.append(math.log10(1))\n",
    "nlis.append(math.log10(math.e))\n",
    "nlis.append(math.log10(math.pi))\n",
    "nlis.append(math.log10(math.tau))\n",
    "nlis.append(math.log10(math.inf))\n",
    "nlis.append(math.log10(math.nan))\n",
    "print(nlis)"
   ]
  },
  {
   "cell_type": "markdown",
   "id": "5e0c0315",
   "metadata": {},
   "source": [
    "### **log1p() function**\n",
    "* Return the natural logarithm of 1+x (base e)."
   ]
  },
  {
   "cell_type": "code",
   "execution_count": 179,
   "id": "49f9237d",
   "metadata": {},
   "outputs": [
    {
     "name": "stdout",
     "output_type": "stream",
     "text": [
      "[4.51085950651685, 0.6931471805599453, 1.3132616875182228, 1.4210804127942926, 1.9855683087099187, inf, nan]\n"
     ]
    }
   ],
   "source": [
    "nlis = []\n",
    "nlis.append(math.log1p(90))\n",
    "nlis.append(math.log1p(1))\n",
    "nlis.append(math.log1p(math.e))\n",
    "nlis.append(math.log1p(math.pi))\n",
    "nlis.append(math.log1p(math.tau))\n",
    "nlis.append(math.log1p(math.inf))\n",
    "nlis.append(math.log1p(math.nan))\n",
    "print(nlis)"
   ]
  },
  {
   "cell_type": "markdown",
   "id": "e58f4c24",
   "metadata": {},
   "source": [
    "### **log2() function**\n",
    "* Return the base 2 logarithm of x."
   ]
  },
  {
   "cell_type": "code",
   "execution_count": 183,
   "id": "faa12ba9",
   "metadata": {},
   "outputs": [
    {
     "name": "stdout",
     "output_type": "stream",
     "text": [
      "[6.491853096329675, 1.0, 0.0, 1.4426950408889634, 1.6514961294723187, 2.651496129472319, inf, nan]\n"
     ]
    }
   ],
   "source": [
    "nlis = []\n",
    "nlis.append(math.log2(90))\n",
    "nlis.append(math.log2(2))\n",
    "nlis.append(math.log2(1))\n",
    "nlis.append(math.log2(math.e))\n",
    "nlis.append(math.log2(math.pi))\n",
    "nlis.append(math.log2(math.tau))\n",
    "nlis.append(math.log2(math.inf))\n",
    "nlis.append(math.log2(math.nan))\n",
    "print(nlis)"
   ]
  },
  {
   "cell_type": "markdown",
   "id": "d3f70f62",
   "metadata": {},
   "source": [
    "### **modf() function**\n",
    "* It returns the frwactional and integer parts of the certain number. Both the outputs carry the sign of x and are of type float."
   ]
  },
  {
   "cell_type": "code",
   "execution_count": 29,
   "id": "374fe550",
   "metadata": {},
   "outputs": [
    {
     "name": "stdout",
     "output_type": "stream",
     "text": [
      "(0.14159265358979312, 3.0)\n",
      "(0.7182818284590451, 2.0)\n",
      "(0.6180000000000001, 1.0)\n"
     ]
    }
   ],
   "source": [
    "print(math.modf(math.pi))\n",
    "print(math.modf(math.e))\n",
    "print(math.modf(1.618))"
   ]
  },
  {
   "cell_type": "markdown",
   "id": "919f1ee1",
   "metadata": {},
   "source": [
    "### **nextafter() function**\n",
    "* Return the next floating-point value after x towards y.\n",
    "* if x is equal to y then y is returned."
   ]
  },
  {
   "cell_type": "code",
   "execution_count": 191,
   "id": "853ad47c",
   "metadata": {},
   "outputs": [
    {
     "name": "stdout",
     "output_type": "stream",
     "text": [
      "[3.1400000000000006, 5.999999999999999, 2.9999999999999996, 28.000000000000004, nan, 1.0, 0.0]\n"
     ]
    }
   ],
   "source": [
    "nlis = []\n",
    "nlis.append(math.nextafter(3.14, 90))\n",
    "nlis.append(math.nextafter(6, 2.718))\n",
    "nlis.append(math.nextafter(3, math.e))\n",
    "nlis.append(math.nextafter(28, math.inf))\n",
    "nlis.append(math.nextafter(1.618, math.nan))\n",
    "nlis.append(math.nextafter(1, 1))\n",
    "nlis.append(math.nextafter(0, 0))\n",
    "print(nlis)"
   ]
  },
  {
   "cell_type": "markdown",
   "id": "7e22e851",
   "metadata": {},
   "source": [
    "### **perm() function**\n",
    "* Returns the number of ways to choose k items from n items with order and without repetition."
   ]
  },
  {
   "cell_type": "code",
   "execution_count": 31,
   "id": "236661c6",
   "metadata": {},
   "outputs": [
    {
     "name": "stdout",
     "output_type": "stream",
     "text": [
      "30\n",
      "720\n"
     ]
    }
   ],
   "source": [
    "print(math.perm(6, 2))\n",
    "print(math.perm(6, 6))"
   ]
  },
  {
   "cell_type": "markdown",
   "id": "fbcbc2f7",
   "metadata": {},
   "source": [
    "### **pow() function**\n",
    "* Returns the value of x to the power of y."
   ]
  },
  {
   "cell_type": "code",
   "execution_count": 34,
   "id": "60ca7f8f",
   "metadata": {},
   "outputs": [
    {
     "name": "stdout",
     "output_type": "stream",
     "text": [
      "100.0\n",
      "22.45915771836104\n"
     ]
    }
   ],
   "source": [
    "print(math.pow(10, 2))\n",
    "print(math.pow(math.pi, math.e))"
   ]
  },
  {
   "cell_type": "markdown",
   "id": "078478a7",
   "metadata": {},
   "source": [
    "### **prod() function**\n",
    "* Returns the product of all the elements in an iterable"
   ]
  },
  {
   "cell_type": "code",
   "execution_count": 32,
   "id": "c36dbe95",
   "metadata": {},
   "outputs": [
    {
     "name": "stdout",
     "output_type": "stream",
     "text": [
      "85632659.07026622\n"
     ]
    }
   ],
   "source": [
    "special_nums = [0.577, 1.618, 2.718, 3.14, 6, 28, 37, 1729]\n",
    "print(math.prod(special_nums))"
   ]
  },
  {
   "cell_type": "markdown",
   "id": "2d439db7",
   "metadata": {},
   "source": [
    "### **radians() function**\n",
    "* Convert angle x from degrees to radians."
   ]
  },
  {
   "cell_type": "code",
   "execution_count": 193,
   "id": "c5b6a711",
   "metadata": {},
   "outputs": [
    {
     "name": "stdout",
     "output_type": "stream",
     "text": [
      "[0.0, 0.5235987755982988, 0.7853981633974483, 1.0471975511965976, 1.5707963267948966, 2.0943951023931953, 3.141592653589793, 4.71238898038469, 6.283185307179586]\n"
     ]
    }
   ],
   "source": [
    "nlis = []\n",
    "nlis.append(math.radians(0))\n",
    "nlis.append(math.radians(30))\n",
    "nlis.append(math.radians(45))\n",
    "nlis.append(math.radians(60))\n",
    "nlis.append(math.radians(90))\n",
    "nlis.append(math.radians(120))\n",
    "nlis.append(math.radians(180))\n",
    "nlis.append(math.radians(270))\n",
    "nlis.append(math.radians(360))\n",
    "print(nlis)"
   ]
  },
  {
   "cell_type": "markdown",
   "id": "50189834",
   "metadata": {},
   "source": [
    "### **remainder() function**\n",
    "* Difference between x and the closest integer multiple of y.\n",
    "* Return x - n*y where n*y is the closest integer multiple of y.\n",
    "* ReturnIn the case where x is exactly halfway between two multiples of\n",
    "* y, the nearest even value of n is used. The result is always exact."
   ]
  },
  {
   "cell_type": "code",
   "execution_count": 196,
   "id": "f2095e42",
   "metadata": {},
   "outputs": [
    {
     "name": "stdout",
     "output_type": "stream",
     "text": [
      "[0.42200000000000015, 6.0, -1.0, -10.0]\n"
     ]
    }
   ],
   "source": [
    "nlis = []\n",
    "nlis.append(math.remainder(3.14, 2.718))\n",
    "nlis.append(math.remainder(6, 28))\n",
    "nlis.append(math.remainder(5, 3))\n",
    "nlis.append(math.remainder(1729, 37))\n",
    "print(nlis)"
   ]
  },
  {
   "cell_type": "markdown",
   "id": "e7a73390",
   "metadata": {},
   "source": [
    "### **sin() function**\n",
    "* Return the sine of x (measured in radians).\n",
    "* **Note:** To find the sine of degrees, it must first be converted into radians with the **math.radians() method.**"
   ]
  },
  {
   "cell_type": "code",
   "execution_count": 204,
   "id": "d81a39ae",
   "metadata": {},
   "outputs": [
    {
     "name": "stdout",
     "output_type": "stream",
     "text": [
      "[1.2246467991473532e-16, 1.0, 0.41078129050290885, nan, -2.4492935982947064e-16, -0.9880316240928618, 0.9589242746631385, -0.6435381333569995]\n"
     ]
    }
   ],
   "source": [
    "nlis = []\n",
    "nlis.append(math.sin(math.pi))\n",
    "nlis.append(math.sin(math.pi/2))\n",
    "nlis.append(math.sin(math.e))\n",
    "nlis.append(math.sin(math.nan))\n",
    "nlis.append(math.sin(math.tau))\n",
    "nlis.append(math.sin(30))\n",
    "nlis.append(math.sin(-5))\n",
    "nlis.append(math.sin(37))\n",
    "print(nlis)"
   ]
  },
  {
   "cell_type": "markdown",
   "id": "9d8f7aec",
   "metadata": {},
   "source": [
    "### **sinh() function**\n",
    "* Return the hyperbolic sine of x."
   ]
  },
  {
   "cell_type": "code",
   "execution_count": 213,
   "id": "88b41170",
   "metadata": {},
   "outputs": [
    {
     "name": "stdout",
     "output_type": "stream",
     "text": [
      "[1.1752011936438014, 0.0, -74.20321057778875, 11.548739357257746, 7.544137102816975, 267.74489404101644, nan, inf]\n"
     ]
    }
   ],
   "source": [
    "nlis = []\n",
    "nlis.append(math.sinh(1))\n",
    "nlis.append(math.sinh(0))\n",
    "nlis.append(math.sinh(-5))\n",
    "nlis.append(math.sinh(math.pi))\n",
    "nlis.append(math.sinh(math.e))\n",
    "nlis.append(math.sinh(math.tau))\n",
    "nlis.append(math.sinh(math.nan))\n",
    "nlis.append(math.sinh(math.inf))\n",
    "print(nlis)"
   ]
  },
  {
   "cell_type": "markdown",
   "id": "99b6d7e3",
   "metadata": {},
   "source": [
    "### **sqrt() function**\n",
    "* Return the square root of x."
   ]
  },
  {
   "cell_type": "code",
   "execution_count": 210,
   "id": "d072ab2f",
   "metadata": {},
   "outputs": [
    {
     "name": "stdout",
     "output_type": "stream",
     "text": [
      "[1.0, 0.0, 6.082762530298219, 1.7724538509055159, 1.6487212707001282, 2.5066282746310002, nan, inf]\n"
     ]
    }
   ],
   "source": [
    "nlis = []\n",
    "nlis.append(math.sqrt(1))\n",
    "nlis.append(math.sqrt(0))\n",
    "nlis.append(math.sqrt(37))\n",
    "nlis.append(math.sqrt(math.pi))\n",
    "nlis.append(math.sqrt(math.e))\n",
    "nlis.append(math.sqrt(math.tau))\n",
    "nlis.append(math.sqrt(math.nan))\n",
    "nlis.append(math.sqrt(math.inf))\n",
    "print(nlis)"
   ]
  },
  {
   "cell_type": "markdown",
   "id": "049523b1",
   "metadata": {},
   "source": [
    "### **tan() function**\n",
    "* Return the tangent of x (measured in radians)."
   ]
  },
  {
   "cell_type": "code",
   "execution_count": 212,
   "id": "66e180e1",
   "metadata": {},
   "outputs": [
    {
     "name": "stdout",
     "output_type": "stream",
     "text": [
      "[0.0, -6.405331196646276, 1.6197751905438615, 0.320040389379563, -1.995200412208242, 0.7131230097859091, 1.3386902103511544, -0.17883906379845224, -3.380140413960958]\n"
     ]
    }
   ],
   "source": [
    "nlis = []\n",
    "nlis.append(math.tan(0))\n",
    "nlis.append(math.tan(30))\n",
    "nlis.append(math.tan(45))\n",
    "nlis.append(math.tan(60))\n",
    "nlis.append(math.tan(90))\n",
    "nlis.append(math.tan(120))\n",
    "nlis.append(math.tan(180))\n",
    "nlis.append(math.tan(270))\n",
    "nlis.append(math.tan(360))\n",
    "print(nlis)"
   ]
  },
  {
   "cell_type": "markdown",
   "id": "a491d98d",
   "metadata": {},
   "source": [
    "### **tanh() function**\n",
    "* Return the hyperbolic tangent of x."
   ]
  },
  {
   "cell_type": "code",
   "execution_count": 214,
   "id": "d154c443",
   "metadata": {},
   "outputs": [
    {
     "name": "stdout",
     "output_type": "stream",
     "text": [
      "[0.7615941559557649, 0.0, -0.9999092042625951, 0.99627207622075, 0.9913289158005998, 0.9999930253396107, nan, 1.0]\n"
     ]
    }
   ],
   "source": [
    "nlis = []\n",
    "nlis.append(math.tanh(1))\n",
    "nlis.append(math.tanh(0))\n",
    "nlis.append(math.tanh(-5))\n",
    "nlis.append(math.tanh(math.pi))\n",
    "nlis.append(math.tanh(math.e))\n",
    "nlis.append(math.tanh(math.tau))\n",
    "nlis.append(math.tanh(math.nan))\n",
    "nlis.append(math.tanh(math.inf))\n",
    "print(nlis)"
   ]
  },
  {
   "cell_type": "markdown",
   "id": "603988d1",
   "metadata": {},
   "source": [
    "### **trunc() function**\n",
    "* Truncates the Real x to the nearest Integral toward 0.\n",
    "* Returns the truncated integer parts of different numbers"
   ]
  },
  {
   "cell_type": "code",
   "execution_count": 218,
   "id": "a8821deb",
   "metadata": {},
   "outputs": [
    {
     "name": "stdout",
     "output_type": "stream",
     "text": [
      "[1, 0, -5, 0, 1, 3, 2, 6]\n"
     ]
    }
   ],
   "source": [
    "nlis = []\n",
    "nlis.append(math.trunc(1))\n",
    "nlis.append(math.trunc(0))\n",
    "nlis.append(math.trunc(-5))\n",
    "nlis.append(math.trunc(0.577))\n",
    "nlis.append(math.trunc(1.618))\n",
    "nlis.append(math.trunc(math.pi))\n",
    "nlis.append(math.trunc(math.e))\n",
    "nlis.append(math.trunc(math.tau))\n",
    "print(nlis)"
   ]
  },
  {
   "cell_type": "markdown",
   "id": "bc417131",
   "metadata": {},
   "source": [
    "### **ulp() function**\n",
    "* Return the value of the least significant bit of the float x."
   ]
  },
  {
   "cell_type": "code",
   "execution_count": 224,
   "id": "6298db56",
   "metadata": {},
   "outputs": [
    {
     "name": "stdout",
     "output_type": "stream",
     "text": [
      "[2.220446049250313e-16, 5e-324, 8.881784197001252e-16, 1.1102230246251565e-16, 2.220446049250313e-16, 4.440892098500626e-16, 4.440892098500626e-16, 8.881784197001252e-16, nan, inf, inf, nan, inf, 1.99584030953472e+292]\n"
     ]
    }
   ],
   "source": [
    "import sys\n",
    "nlis = []\n",
    "nlis.append(math.ulp(1))\n",
    "nlis.append(math.ulp(0))\n",
    "nlis.append(math.ulp(-5))\n",
    "nlis.append(math.ulp(0.577))\n",
    "nlis.append(math.ulp(1.618))\n",
    "nlis.append(math.ulp(math.pi))\n",
    "nlis.append(math.ulp(math.e))\n",
    "nlis.append(math.ulp(math.tau))\n",
    "nlis.append(math.ulp(math.nan))\n",
    "nlis.append(math.ulp(math.inf))\n",
    "nlis.append(math.ulp(-math.inf))\n",
    "nlis.append(math.ulp(float('nan')))\n",
    "nlis.append(math.ulp(float('inf'))) \n",
    "x = sys.float_info.max\n",
    "nlis.append(math.ulp(x))\n",
    "print(nlis)"
   ]
  }
 ],
 "metadata": {
  "kernelspec": {
   "display_name": "Python 3 (ipykernel)",
   "language": "python",
   "name": "python3"
  },
  "language_info": {
   "codemirror_mode": {
    "name": "ipython",
    "version": 3
   },
   "file_extension": ".py",
   "mimetype": "text/x-python",
   "name": "python",
   "nbconvert_exporter": "python",
   "pygments_lexer": "ipython3",
   "version": "3.9.7"
  },
  "vscode": {
   "interpreter": {
    "hash": "b7377f19eab4b8c2e19b4d5b732c435591579d0f123dd21b146d33dfd161e508"
   }
  }
 },
 "nbformat": 4,
 "nbformat_minor": 5
}
